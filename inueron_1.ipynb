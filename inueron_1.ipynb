{
 "cells": [
  {
   "cell_type": "code",
   "execution_count": 1,
   "id": "furnished-disclaimer",
   "metadata": {},
   "outputs": [],
   "source": [
    "a='lalit'"
   ]
  },
  {
   "cell_type": "code",
   "execution_count": 2,
   "id": "iraqi-norwegian",
   "metadata": {},
   "outputs": [],
   "source": [
    "b=12"
   ]
  },
  {
   "cell_type": "code",
   "execution_count": 3,
   "id": "sized-recipe",
   "metadata": {},
   "outputs": [
    {
     "data": {
      "text/plain": [
       "int"
      ]
     },
     "execution_count": 3,
     "metadata": {},
     "output_type": "execute_result"
    }
   ],
   "source": [
    "type(b)"
   ]
  },
  {
   "cell_type": "code",
   "execution_count": 4,
   "id": "opening-prevention",
   "metadata": {},
   "outputs": [
    {
     "data": {
      "text/plain": [
       "str"
      ]
     },
     "execution_count": 4,
     "metadata": {},
     "output_type": "execute_result"
    }
   ],
   "source": [
    "type(a)"
   ]
  },
  {
   "cell_type": "code",
   "execution_count": 5,
   "id": "sealed-reggae",
   "metadata": {},
   "outputs": [],
   "source": [
    "f=223.34"
   ]
  },
  {
   "cell_type": "code",
   "execution_count": 6,
   "id": "synthetic-apparatus",
   "metadata": {},
   "outputs": [
    {
     "data": {
      "text/plain": [
       "float"
      ]
     },
     "execution_count": 6,
     "metadata": {},
     "output_type": "execute_result"
    }
   ],
   "source": [
    "type(f)"
   ]
  },
  {
   "cell_type": "code",
   "execution_count": 7,
   "id": "spiritual-plain",
   "metadata": {},
   "outputs": [],
   "source": [
    "c=1+4j  # use j as complex number "
   ]
  },
  {
   "cell_type": "code",
   "execution_count": 8,
   "id": "atomic-generic",
   "metadata": {},
   "outputs": [
    {
     "data": {
      "text/plain": [
       "1.0"
      ]
     },
     "execution_count": 8,
     "metadata": {},
     "output_type": "execute_result"
    }
   ],
   "source": [
    "c.real"
   ]
  },
  {
   "cell_type": "code",
   "execution_count": 9,
   "id": "stone-player",
   "metadata": {},
   "outputs": [
    {
     "data": {
      "text/plain": [
       "4.0"
      ]
     },
     "execution_count": 9,
     "metadata": {},
     "output_type": "execute_result"
    }
   ],
   "source": [
    "c.imag"
   ]
  },
  {
   "cell_type": "code",
   "execution_count": 10,
   "id": "sunrise-thompson",
   "metadata": {},
   "outputs": [
    {
     "ename": "SyntaxError",
     "evalue": "invalid syntax (<ipython-input-10-cf463a5954f9>, line 1)",
     "output_type": "error",
     "traceback": [
      "\u001b[1;36m  File \u001b[1;32m\"<ipython-input-10-cf463a5954f9>\"\u001b[1;36m, line \u001b[1;32m1\u001b[0m\n\u001b[1;33m    c.\u001b[0m\n\u001b[1;37m      ^\u001b[0m\n\u001b[1;31mSyntaxError\u001b[0m\u001b[1;31m:\u001b[0m invalid syntax\n"
     ]
    }
   ],
   "source": [
    "c."
   ]
  },
  {
   "cell_type": "code",
   "execution_count": null,
   "id": "covered-athens",
   "metadata": {},
   "outputs": [],
   "source": [
    "1+1"
   ]
  },
  {
   "cell_type": "code",
   "execution_count": null,
   "id": "ordered-authorization",
   "metadata": {},
   "outputs": [],
   "source": [
    "1+\"lalit\""
   ]
  },
  {
   "cell_type": "code",
   "execution_count": null,
   "id": "similar-nevada",
   "metadata": {},
   "outputs": [],
   "source": [
    "str(1)+\"lalit\" #type casting str(data or variable)"
   ]
  },
  {
   "cell_type": "code",
   "execution_count": null,
   "id": "solved-fishing",
   "metadata": {},
   "outputs": [],
   "source": [
    "L = \"Lalit Birla\""
   ]
  },
  {
   "cell_type": "code",
   "execution_count": null,
   "id": "infectious-toner",
   "metadata": {},
   "outputs": [],
   "source": [
    "L[0]"
   ]
  },
  {
   "cell_type": "code",
   "execution_count": null,
   "id": "based-empire",
   "metadata": {},
   "outputs": [],
   "source": [
    "L[:7]"
   ]
  },
  {
   "cell_type": "code",
   "execution_count": null,
   "id": "upset-scale",
   "metadata": {},
   "outputs": [],
   "source": [
    "L[4:]"
   ]
  },
  {
   "cell_type": "code",
   "execution_count": null,
   "id": "fixed-hamburg",
   "metadata": {},
   "outputs": [],
   "source": [
    "L[2:7]  #forward indexes "
   ]
  },
  {
   "cell_type": "code",
   "execution_count": null,
   "id": "czech-dominican",
   "metadata": {},
   "outputs": [],
   "source": [
    "L[-3] #backward indexes"
   ]
  },
  {
   "cell_type": "code",
   "execution_count": null,
   "id": "filled-blues",
   "metadata": {},
   "outputs": [],
   "source": [
    "L"
   ]
  },
  {
   "cell_type": "code",
   "execution_count": null,
   "id": "announced-advancement",
   "metadata": {},
   "outputs": [],
   "source": [
    "L[-7]"
   ]
  },
  {
   "cell_type": "code",
   "execution_count": null,
   "id": "comparable-composer",
   "metadata": {},
   "outputs": [],
   "source": [
    "L[4:90]"
   ]
  },
  {
   "cell_type": "markdown",
   "id": "educational-allen",
   "metadata": {},
   "source": [
    "# L[start point:end point:jump] slicing operation "
   ]
  },
  {
   "cell_type": "code",
   "execution_count": null,
   "id": "commercial-chain",
   "metadata": {},
   "outputs": [],
   "source": [
    "L"
   ]
  },
  {
   "cell_type": "code",
   "execution_count": null,
   "id": "happy-partition",
   "metadata": {},
   "outputs": [],
   "source": [
    "L[0:10]"
   ]
  },
  {
   "cell_type": "code",
   "execution_count": null,
   "id": "declared-platinum",
   "metadata": {},
   "outputs": [],
   "source": [
    "L[0:10:2] "
   ]
  },
  {
   "cell_type": "code",
   "execution_count": null,
   "id": "foreign-consultation",
   "metadata": {},
   "outputs": [],
   "source": [
    "L[: : 2]"
   ]
  },
  {
   "cell_type": "code",
   "execution_count": null,
   "id": "northern-ivory",
   "metadata": {},
   "outputs": [],
   "source": [
    "L[0: :2]"
   ]
  },
  {
   "cell_type": "markdown",
   "id": "artistic-belfast",
   "metadata": {},
   "source": [
    "# scaling concept \n"
   ]
  },
  {
   "cell_type": "code",
   "execution_count": null,
   "id": "visible-philadelphia",
   "metadata": {},
   "outputs": [],
   "source": [
    "L[-10:-2]"
   ]
  },
  {
   "cell_type": "code",
   "execution_count": null,
   "id": "charitable-wesley",
   "metadata": {},
   "outputs": [],
   "source": []
  },
  {
   "cell_type": "code",
   "execution_count": null,
   "id": "unusual-mission",
   "metadata": {},
   "outputs": [],
   "source": [
    "L[0: : -1]  "
   ]
  },
  {
   "cell_type": "code",
   "execution_count": null,
   "id": "fifth-assignment",
   "metadata": {},
   "outputs": [],
   "source": [
    "L[: :-1]"
   ]
  },
  {
   "cell_type": "code",
   "execution_count": null,
   "id": "connected-failure",
   "metadata": {},
   "outputs": [],
   "source": [
    "L[0:5:-1]"
   ]
  },
  {
   "cell_type": "code",
   "execution_count": null,
   "id": "unnecessary-musician",
   "metadata": {},
   "outputs": [],
   "source": [
    "L[0:10:-1]"
   ]
  },
  {
   "cell_type": "code",
   "execution_count": null,
   "id": "alternate-seven",
   "metadata": {},
   "outputs": [],
   "source": [
    "L[5:1:1]"
   ]
  },
  {
   "cell_type": "code",
   "execution_count": null,
   "id": "through-antenna",
   "metadata": {},
   "outputs": [],
   "source": [
    "L"
   ]
  },
  {
   "cell_type": "code",
   "execution_count": null,
   "id": "temporal-perth",
   "metadata": {},
   "outputs": [],
   "source": [
    "L[5:1:-1]"
   ]
  },
  {
   "cell_type": "code",
   "execution_count": null,
   "id": "downtown-round",
   "metadata": {},
   "outputs": [],
   "source": [
    "s=\"adf l;kj adf adsfa adfa adf aadf adfa adf adsf aadfa fa asdf adf adsf afdcaafdzadf\""
   ]
  },
  {
   "cell_type": "code",
   "execution_count": null,
   "id": "employed-scene",
   "metadata": {},
   "outputs": [],
   "source": [
    "len(s)"
   ]
  },
  {
   "cell_type": "code",
   "execution_count": null,
   "id": "satisfactory-start",
   "metadata": {},
   "outputs": [],
   "source": [
    "\"lalit_\"*10"
   ]
  },
  {
   "cell_type": "code",
   "execution_count": null,
   "id": "spiritual-thunder",
   "metadata": {},
   "outputs": [],
   "source": [
    "lalit/6"
   ]
  },
  {
   "cell_type": "code",
   "execution_count": null,
   "id": "delayed-exposure",
   "metadata": {},
   "outputs": [],
   "source": [
    "b = True "
   ]
  },
  {
   "cell_type": "code",
   "execution_count": null,
   "id": "injured-universe",
   "metadata": {},
   "outputs": [],
   "source": [
    "type(b)"
   ]
  },
  {
   "cell_type": "code",
   "execution_count": null,
   "id": "accessible-hopkins",
   "metadata": {},
   "outputs": [],
   "source": [
    "c=False\n"
   ]
  },
  {
   "cell_type": "code",
   "execution_count": null,
   "id": "boolean-disabled",
   "metadata": {},
   "outputs": [],
   "source": [
    "type(c)"
   ]
  },
  {
   "cell_type": "code",
   "execution_count": null,
   "id": "occupied-auditor",
   "metadata": {},
   "outputs": [],
   "source": [
    "True - True"
   ]
  },
  {
   "cell_type": "code",
   "execution_count": null,
   "id": "micro-lesbian",
   "metadata": {},
   "outputs": [],
   "source": [
    "True - False"
   ]
  },
  {
   "cell_type": "code",
   "execution_count": null,
   "id": "comfortable-henry",
   "metadata": {},
   "outputs": [],
   "source": [
    "False - False "
   ]
  },
  {
   "cell_type": "code",
   "execution_count": null,
   "id": "nearby-tunnel",
   "metadata": {},
   "outputs": [],
   "source": [
    "True*True"
   ]
  },
  {
   "cell_type": "code",
   "execution_count": null,
   "id": "compound-installation",
   "metadata": {},
   "outputs": [],
   "source": [
    "True*False"
   ]
  },
  {
   "cell_type": "code",
   "execution_count": null,
   "id": "caroline-hazard",
   "metadata": {},
   "outputs": [],
   "source": [
    "True/True"
   ]
  },
  {
   "cell_type": "code",
   "execution_count": null,
   "id": "polish-strike",
   "metadata": {},
   "outputs": [],
   "source": [
    "True/False"
   ]
  },
  {
   "cell_type": "code",
   "execution_count": null,
   "id": "timely-independence",
   "metadata": {},
   "outputs": [],
   "source": [
    "False/True"
   ]
  },
  {
   "cell_type": "code",
   "execution_count": null,
   "id": "broken-criterion",
   "metadata": {},
   "outputs": [],
   "source": [
    "1/0"
   ]
  },
  {
   "cell_type": "code",
   "execution_count": null,
   "id": "voluntary-reynolds",
   "metadata": {},
   "outputs": [],
   "source": [
    "import numpy as np\n",
    "\n",
    "np.asanyarray([11,22])/0"
   ]
  },
  {
   "cell_type": "markdown",
   "id": "spatial-capital",
   "metadata": {},
   "source": [
    "# List (collection of hetrogenous data or homogenous data) "
   ]
  },
  {
   "cell_type": "code",
   "execution_count": null,
   "id": "reverse-surge",
   "metadata": {},
   "outputs": [],
   "source": [
    "x=[\"lalit birla\", 13,3343,343, 343.33, 655.54, 3+5j]"
   ]
  },
  {
   "cell_type": "code",
   "execution_count": null,
   "id": "general-receipt",
   "metadata": {},
   "outputs": [],
   "source": [
    "x"
   ]
  },
  {
   "cell_type": "code",
   "execution_count": null,
   "id": "prime-astrology",
   "metadata": {},
   "outputs": [],
   "source": [
    "type(x)"
   ]
  },
  {
   "cell_type": "code",
   "execution_count": null,
   "id": "yellow-tradition",
   "metadata": {},
   "outputs": [],
   "source": [
    "x[0]"
   ]
  },
  {
   "cell_type": "code",
   "execution_count": null,
   "id": "potential-curve",
   "metadata": {},
   "outputs": [],
   "source": [
    "x[:]"
   ]
  },
  {
   "cell_type": "code",
   "execution_count": null,
   "id": "impressed-mineral",
   "metadata": {},
   "outputs": [],
   "source": [
    "x[0:6]"
   ]
  },
  {
   "cell_type": "code",
   "execution_count": null,
   "id": "premium-clock",
   "metadata": {},
   "outputs": [],
   "source": [
    "x[-1]"
   ]
  },
  {
   "cell_type": "code",
   "execution_count": null,
   "id": "vocal-rendering",
   "metadata": {},
   "outputs": [],
   "source": [
    "x[0:100]"
   ]
  },
  {
   "cell_type": "code",
   "execution_count": null,
   "id": "intense-spelling",
   "metadata": {},
   "outputs": [],
   "source": [
    "x[-2]"
   ]
  },
  {
   "cell_type": "code",
   "execution_count": null,
   "id": "arabic-miami",
   "metadata": {},
   "outputs": [],
   "source": [
    "x[0:-2]"
   ]
  },
  {
   "cell_type": "code",
   "execution_count": null,
   "id": "automatic-thong",
   "metadata": {},
   "outputs": [],
   "source": [
    "x[:-1]"
   ]
  },
  {
   "cell_type": "code",
   "execution_count": null,
   "id": "existing-milan",
   "metadata": {},
   "outputs": [],
   "source": [
    "x[: : -1] # reverse the list"
   ]
  },
  {
   "cell_type": "code",
   "execution_count": null,
   "id": "egyptian-prison",
   "metadata": {},
   "outputs": [],
   "source": [
    "x[5:0:1]"
   ]
  },
  {
   "cell_type": "code",
   "execution_count": null,
   "id": "cellular-biography",
   "metadata": {},
   "outputs": [],
   "source": [
    "x[5:10:-1]"
   ]
  },
  {
   "cell_type": "code",
   "execution_count": null,
   "id": "duplicate-brunei",
   "metadata": {},
   "outputs": [],
   "source": [
    "x[-2:-5:1]"
   ]
  },
  {
   "cell_type": "code",
   "execution_count": null,
   "id": "forbidden-logging",
   "metadata": {},
   "outputs": [],
   "source": [
    "x[-2:-5:-1]"
   ]
  },
  {
   "cell_type": "code",
   "execution_count": null,
   "id": "civilian-processing",
   "metadata": {},
   "outputs": [],
   "source": [
    "x[0]"
   ]
  },
  {
   "cell_type": "code",
   "execution_count": null,
   "id": "placed-messenger",
   "metadata": {},
   "outputs": [],
   "source": [
    "x[0][: :-1]"
   ]
  },
  {
   "cell_type": "code",
   "execution_count": null,
   "id": "elder-associate",
   "metadata": {},
   "outputs": [],
   "source": [
    "y=[x,[1,2,3,4,5]]"
   ]
  },
  {
   "cell_type": "code",
   "execution_count": null,
   "id": "julian-arrival",
   "metadata": {},
   "outputs": [],
   "source": [
    "y[0]"
   ]
  },
  {
   "cell_type": "code",
   "execution_count": null,
   "id": "harmful-marketing",
   "metadata": {},
   "outputs": [],
   "source": [
    "y[-1][::-1]"
   ]
  },
  {
   "cell_type": "code",
   "execution_count": null,
   "id": "dependent-consent",
   "metadata": {},
   "outputs": [],
   "source": [
    "y[0][1][::-1]"
   ]
  },
  {
   "cell_type": "markdown",
   "id": "effective-excess",
   "metadata": {},
   "source": [
    "# Iterable and Iterator"
   ]
  },
  {
   "cell_type": "code",
   "execution_count": null,
   "id": "matched-commonwealth",
   "metadata": {},
   "outputs": [],
   "source": [
    "y"
   ]
  },
  {
   "cell_type": "code",
   "execution_count": null,
   "id": "valued-nirvana",
   "metadata": {},
   "outputs": [],
   "source": [
    "z=[1,2,3,4,5,6]"
   ]
  },
  {
   "cell_type": "code",
   "execution_count": null,
   "id": "lightweight-suite",
   "metadata": {},
   "outputs": [],
   "source": [
    "z+\"lalit\""
   ]
  },
  {
   "cell_type": "code",
   "execution_count": null,
   "id": "ethical-documentary",
   "metadata": {},
   "outputs": [],
   "source": [
    "z+list(\"lalit\")"
   ]
  },
  {
   "cell_type": "code",
   "execution_count": null,
   "id": "hundred-committee",
   "metadata": {},
   "outputs": [],
   "source": [
    "z"
   ]
  },
  {
   "cell_type": "code",
   "execution_count": null,
   "id": "prescribed-highway",
   "metadata": {},
   "outputs": [],
   "source": [
    "z*4"
   ]
  },
  {
   "cell_type": "code",
   "execution_count": null,
   "id": "expensive-yellow",
   "metadata": {},
   "outputs": [],
   "source": [
    "range(10)  #it behavs like a generator fuciton which is used to generate only intiger number"
   ]
  },
  {
   "cell_type": "code",
   "execution_count": null,
   "id": "meaning-smile",
   "metadata": {},
   "outputs": [],
   "source": [
    "list(range(10))"
   ]
  },
  {
   "cell_type": "code",
   "execution_count": 38,
   "id": "residential-numbers",
   "metadata": {},
   "outputs": [
    {
     "data": {
      "text/plain": [
       "[4, 5, 6, 7, 8, 9, 10, 11, 12, 13, 14, 15, 16, 17, 18, 19]"
      ]
     },
     "execution_count": 38,
     "metadata": {},
     "output_type": "execute_result"
    }
   ],
   "source": [
    "list(range(4,20))"
   ]
  },
  {
   "cell_type": "code",
   "execution_count": null,
   "id": "proof-hampshire",
   "metadata": {},
   "outputs": [],
   "source": [
    "list(range(4 , 20 , 2)) # start form 2 exclude 20 and jump of 2"
   ]
  },
  {
   "cell_type": "code",
   "execution_count": null,
   "id": "directed-imagination",
   "metadata": {},
   "outputs": [],
   "source": [
    "list(range(-3,-13,1))"
   ]
  },
  {
   "cell_type": "code",
   "execution_count": null,
   "id": "manufactured-westminster",
   "metadata": {},
   "outputs": [],
   "source": [
    "list(range(-3,-13,-1))"
   ]
  },
  {
   "cell_type": "code",
   "execution_count": null,
   "id": "desirable-activation",
   "metadata": {},
   "outputs": [],
   "source": [
    "list(range(1,2000))"
   ]
  },
  {
   "cell_type": "code",
   "execution_count": null,
   "id": "congressional-september",
   "metadata": {},
   "outputs": [],
   "source": [
    "list(range(2,100,2))"
   ]
  },
  {
   "cell_type": "code",
   "execution_count": null,
   "id": "limiting-shakespeare",
   "metadata": {},
   "outputs": [],
   "source": [
    "a=10\n",
    "b=20\n",
    "a+b"
   ]
  },
  {
   "cell_type": "markdown",
   "id": "invalid-venezuela",
   "metadata": {},
   "source": [
    "# user input "
   ]
  },
  {
   "cell_type": "code",
   "execution_count": null,
   "id": "automatic-samba",
   "metadata": {},
   "outputs": [],
   "source": [
    "a = input()  #input fuction convert  input by defual in string\n",
    "b = input()\n",
    "a+b"
   ]
  },
  {
   "cell_type": "code",
   "execution_count": null,
   "id": "underlying-induction",
   "metadata": {},
   "outputs": [],
   "source": [
    "type(a)"
   ]
  },
  {
   "cell_type": "code",
   "execution_count": null,
   "id": "printable-today",
   "metadata": {},
   "outputs": [],
   "source": [
    "a = int(input(\"enter value of a =\"))\n",
    "b = int(input(\"enter value of b =\"))\n",
    "type(a)\n",
    "type(b)"
   ]
  },
  {
   "cell_type": "code",
   "execution_count": null,
   "id": "needed-silver",
   "metadata": {},
   "outputs": [],
   "source": [
    "a+b"
   ]
  },
  {
   "cell_type": "code",
   "execution_count": null,
   "id": "occasional-morning",
   "metadata": {},
   "outputs": [],
   "source": [
    "a = input(\"enter value of a =\")\n",
    "b = int(input(\"enter value of b =\"))\n",
    "print(type(a))\n",
    "print(type(b))"
   ]
  },
  {
   "cell_type": "code",
   "execution_count": 11,
   "id": "functional-official",
   "metadata": {},
   "outputs": [],
   "source": [
    "a=20\n",
    "b=30\n",
    "c=23.544\n",
    "d=\"lalit\"\n",
    "e=[1,2,3,4]"
   ]
  },
  {
   "cell_type": "code",
   "execution_count": 12,
   "id": "invisible-comfort",
   "metadata": {},
   "outputs": [],
   "source": [
    "a , b, c, d, e = 20, 30 ,23.544, \"lalit\", [1,2,3,4]"
   ]
  },
  {
   "cell_type": "markdown",
   "id": "sized-universe",
   "metadata": {},
   "source": [
    "# TUPLE"
   ]
  },
  {
   "cell_type": "code",
   "execution_count": 17,
   "id": "removed-armenia",
   "metadata": {},
   "outputs": [],
   "source": [
    "a = (1,2,3,4,5,\"lalit\",\"birla\",23.33, True )"
   ]
  },
  {
   "cell_type": "code",
   "execution_count": 18,
   "id": "julian-influence",
   "metadata": {},
   "outputs": [
    {
     "data": {
      "text/plain": [
       "tuple"
      ]
     },
     "execution_count": 18,
     "metadata": {},
     "output_type": "execute_result"
    }
   ],
   "source": [
    "type(a)"
   ]
  },
  {
   "cell_type": "code",
   "execution_count": 15,
   "id": "distant-watson",
   "metadata": {},
   "outputs": [],
   "source": [
    "b=[1,2,3,4]"
   ]
  },
  {
   "cell_type": "code",
   "execution_count": 16,
   "id": "brilliant-mount",
   "metadata": {},
   "outputs": [
    {
     "data": {
      "text/plain": [
       "list"
      ]
     },
     "execution_count": 16,
     "metadata": {},
     "output_type": "execute_result"
    }
   ],
   "source": [
    "type(b)"
   ]
  },
  {
   "cell_type": "code",
   "execution_count": 22,
   "id": "sorted-cabinet",
   "metadata": {},
   "outputs": [
    {
     "data": {
      "text/plain": [
       "(1, 2, 3, 4, 5)"
      ]
     },
     "execution_count": 22,
     "metadata": {},
     "output_type": "execute_result"
    }
   ],
   "source": [
    "a[0:5]"
   ]
  },
  {
   "cell_type": "code",
   "execution_count": 23,
   "id": "minute-change",
   "metadata": {},
   "outputs": [
    {
     "data": {
      "text/plain": [
       "[1, 2, 3, 4]"
      ]
     },
     "execution_count": 23,
     "metadata": {},
     "output_type": "execute_result"
    }
   ],
   "source": [
    "b[0:5]"
   ]
  },
  {
   "cell_type": "code",
   "execution_count": 24,
   "id": "worse-flood",
   "metadata": {},
   "outputs": [
    {
     "data": {
      "text/plain": [
       "(True, 23.33, 'birla', 'lalit', 5, 4, 3, 2, 1)"
      ]
     },
     "execution_count": 24,
     "metadata": {},
     "output_type": "execute_result"
    }
   ],
   "source": [
    "a[::-1]"
   ]
  },
  {
   "cell_type": "code",
   "execution_count": 25,
   "id": "pending-cyprus",
   "metadata": {},
   "outputs": [],
   "source": [
    "b[0]=\"lalit\"  #List is mutable "
   ]
  },
  {
   "cell_type": "code",
   "execution_count": 26,
   "id": "recovered-federal",
   "metadata": {},
   "outputs": [
    {
     "data": {
      "text/plain": [
       "['lalit', 2, 3, 4]"
      ]
     },
     "execution_count": 26,
     "metadata": {},
     "output_type": "execute_result"
    }
   ],
   "source": [
    "b"
   ]
  },
  {
   "cell_type": "code",
   "execution_count": 28,
   "id": "fuzzy-navigation",
   "metadata": {},
   "outputs": [
    {
     "data": {
      "text/plain": [
       "1"
      ]
     },
     "execution_count": 28,
     "metadata": {},
     "output_type": "execute_result"
    }
   ],
   "source": [
    "a[0] "
   ]
  },
  {
   "cell_type": "code",
   "execution_count": 31,
   "id": "comprehensive-colorado",
   "metadata": {},
   "outputs": [
    {
     "ename": "TypeError",
     "evalue": "'tuple' object does not support item assignment",
     "output_type": "error",
     "traceback": [
      "\u001b[1;31m---------------------------------------------------------------------------\u001b[0m",
      "\u001b[1;31mTypeError\u001b[0m                                 Traceback (most recent call last)",
      "\u001b[1;32m<ipython-input-31-4a99f270f578>\u001b[0m in \u001b[0;36m<module>\u001b[1;34m\u001b[0m\n\u001b[1;32m----> 1\u001b[1;33m \u001b[0ma\u001b[0m\u001b[1;33m[\u001b[0m\u001b[1;36m0\u001b[0m\u001b[1;33m]\u001b[0m\u001b[1;33m=\u001b[0m\u001b[1;34m\"lalit\"\u001b[0m \u001b[1;31m#immutable\u001b[0m\u001b[1;33m\u001b[0m\u001b[0m\n\u001b[0m",
      "\u001b[1;31mTypeError\u001b[0m: 'tuple' object does not support item assignment"
     ]
    }
   ],
   "source": [
    "a[0]=\"lalit\" #immutable"
   ]
  },
  {
   "cell_type": "code",
   "execution_count": 32,
   "id": "timely-approval",
   "metadata": {},
   "outputs": [],
   "source": [
    " s = \"lalit\""
   ]
  },
  {
   "cell_type": "code",
   "execution_count": 33,
   "id": "mounted-mathematics",
   "metadata": {},
   "outputs": [
    {
     "data": {
      "text/plain": [
       "'l'"
      ]
     },
     "execution_count": 33,
     "metadata": {},
     "output_type": "execute_result"
    }
   ],
   "source": [
    "s[0]"
   ]
  },
  {
   "cell_type": "code",
   "execution_count": 34,
   "id": "continued-stake",
   "metadata": {},
   "outputs": [
    {
     "ename": "NameError",
     "evalue": "name 'S' is not defined",
     "output_type": "error",
     "traceback": [
      "\u001b[1;31m---------------------------------------------------------------------------\u001b[0m",
      "\u001b[1;31mNameError\u001b[0m                                 Traceback (most recent call last)",
      "\u001b[1;32m<ipython-input-34-906b28121087>\u001b[0m in \u001b[0;36m<module>\u001b[1;34m\u001b[0m\n\u001b[1;32m----> 1\u001b[1;33m \u001b[0ms\u001b[0m\u001b[1;33m[\u001b[0m\u001b[1;36m0\u001b[0m\u001b[1;33m]\u001b[0m\u001b[1;33m=\u001b[0m\u001b[0mS\u001b[0m\u001b[1;33m\u001b[0m\u001b[0m\n\u001b[0m",
      "\u001b[1;31mNameError\u001b[0m: name 'S' is not defined"
     ]
    }
   ],
   "source": [
    "s[0]=S #string also is immutable "
   ]
  },
  {
   "cell_type": "code",
   "execution_count": null,
   "id": "baking-parent",
   "metadata": {},
   "outputs": [],
   "source": []
  }
 ],
 "metadata": {
  "kernelspec": {
   "display_name": "Python 3",
   "language": "python",
   "name": "python3"
  },
  "language_info": {
   "codemirror_mode": {
    "name": "ipython",
    "version": 3
   },
   "file_extension": ".py",
   "mimetype": "text/x-python",
   "name": "python",
   "nbconvert_exporter": "python",
   "pygments_lexer": "ipython3",
   "version": "3.7.0"
  }
 },
 "nbformat": 4,
 "nbformat_minor": 5
}
