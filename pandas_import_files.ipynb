{
 "cells": [
  {
   "cell_type": "code",
   "execution_count": 1,
   "id": "pressed-argument",
   "metadata": {},
   "outputs": [
    {
     "name": "stdout",
     "output_type": "stream",
     "text": [
      "Collecting tabula-py\n",
      "  Downloading tabula_py-2.3.0-py3-none-any.whl (12.0 MB)\n",
      "Collecting distro\n",
      "  Downloading distro-1.6.0-py2.py3-none-any.whl (19 kB)\n",
      "Requirement already satisfied: numpy in c:\\users\\sanu\\miniconda3\\lib\\site-packages (from tabula-py) (1.21.2)\n",
      "Requirement already satisfied: pandas>=0.25.3 in c:\\users\\sanu\\miniconda3\\lib\\site-packages (from tabula-py) (1.1.5)\n",
      "Requirement already satisfied: pytz>=2017.2 in c:\\users\\sanu\\miniconda3\\lib\\site-packages (from pandas>=0.25.3->tabula-py) (2020.5)\n",
      "Requirement already satisfied: python-dateutil>=2.7.3 in c:\\users\\sanu\\miniconda3\\lib\\site-packages (from pandas>=0.25.3->tabula-py) (2.8.1)\n",
      "Requirement already satisfied: six>=1.5 in c:\\users\\sanu\\miniconda3\\lib\\site-packages (from python-dateutil>=2.7.3->pandas>=0.25.3->tabula-py) (1.11.0)\n",
      "Installing collected packages: distro, tabula-py\n",
      "Successfully installed distro-1.6.0 tabula-py-2.3.0\n",
      "Note: you may need to restart the kernel to use updated packages.\n"
     ]
    }
   ],
   "source": [
    "pip install tabula-py\n"
   ]
  },
  {
   "cell_type": "code",
   "execution_count": 2,
   "id": "abroad-speed",
   "metadata": {},
   "outputs": [],
   "source": [
    "import tabula\n",
    "import pandas as pd"
   ]
  },
  {
   "cell_type": "code",
   "execution_count": 37,
   "id": "deluxe-consciousness",
   "metadata": {},
   "outputs": [],
   "source": [
    "%config Completer.use_jedi = False #this is command used for enable autocompletion in jupyt notebook"
   ]
  },
  {
   "cell_type": "code",
   "execution_count": 28,
   "id": "contrary-velvet",
   "metadata": {},
   "outputs": [
    {
     "ename": "JavaNotFoundError",
     "evalue": "`java` command is not found from this Python process.Please ensure Java is installed and PATH is set for `java`",
     "output_type": "error",
     "traceback": [
      "\u001b[1;31m---------------------------------------------------------------------------\u001b[0m",
      "\u001b[1;31mFileNotFoundError\u001b[0m                         Traceback (most recent call last)",
      "\u001b[1;32m~\\Miniconda3\\lib\\site-packages\\tabula\\io.py\u001b[0m in \u001b[0;36m_run\u001b[1;34m(java_options, options, path, encoding)\u001b[0m\n\u001b[0;32m     84\u001b[0m             \u001b[0mstdin\u001b[0m\u001b[1;33m=\u001b[0m\u001b[0msubprocess\u001b[0m\u001b[1;33m.\u001b[0m\u001b[0mDEVNULL\u001b[0m\u001b[1;33m,\u001b[0m\u001b[1;33m\u001b[0m\u001b[0m\n\u001b[1;32m---> 85\u001b[1;33m             \u001b[0mcheck\u001b[0m\u001b[1;33m=\u001b[0m\u001b[1;32mTrue\u001b[0m\u001b[1;33m,\u001b[0m\u001b[1;33m\u001b[0m\u001b[0m\n\u001b[0m\u001b[0;32m     86\u001b[0m         )\n",
      "\u001b[1;32m~\\Miniconda3\\lib\\subprocess.py\u001b[0m in \u001b[0;36mrun\u001b[1;34m(input, capture_output, timeout, check, *popenargs, **kwargs)\u001b[0m\n\u001b[0;32m    452\u001b[0m \u001b[1;33m\u001b[0m\u001b[0m\n\u001b[1;32m--> 453\u001b[1;33m     \u001b[1;32mwith\u001b[0m \u001b[0mPopen\u001b[0m\u001b[1;33m(\u001b[0m\u001b[1;33m*\u001b[0m\u001b[0mpopenargs\u001b[0m\u001b[1;33m,\u001b[0m \u001b[1;33m**\u001b[0m\u001b[0mkwargs\u001b[0m\u001b[1;33m)\u001b[0m \u001b[1;32mas\u001b[0m \u001b[0mprocess\u001b[0m\u001b[1;33m:\u001b[0m\u001b[1;33m\u001b[0m\u001b[0m\n\u001b[0m\u001b[0;32m    454\u001b[0m         \u001b[1;32mtry\u001b[0m\u001b[1;33m:\u001b[0m\u001b[1;33m\u001b[0m\u001b[0m\n",
      "\u001b[1;32m~\\Miniconda3\\lib\\subprocess.py\u001b[0m in \u001b[0;36m__init__\u001b[1;34m(self, args, bufsize, executable, stdin, stdout, stderr, preexec_fn, close_fds, shell, cwd, env, universal_newlines, startupinfo, creationflags, restore_signals, start_new_session, pass_fds, encoding, errors, text)\u001b[0m\n\u001b[0;32m    755\u001b[0m                                 \u001b[0merrread\u001b[0m\u001b[1;33m,\u001b[0m \u001b[0merrwrite\u001b[0m\u001b[1;33m,\u001b[0m\u001b[1;33m\u001b[0m\u001b[0m\n\u001b[1;32m--> 756\u001b[1;33m                                 restore_signals, start_new_session)\n\u001b[0m\u001b[0;32m    757\u001b[0m         \u001b[1;32mexcept\u001b[0m\u001b[1;33m:\u001b[0m\u001b[1;33m\u001b[0m\u001b[0m\n",
      "\u001b[1;32m~\\Miniconda3\\lib\\subprocess.py\u001b[0m in \u001b[0;36m_execute_child\u001b[1;34m(self, args, executable, preexec_fn, close_fds, pass_fds, cwd, env, startupinfo, creationflags, shell, p2cread, p2cwrite, c2pread, c2pwrite, errread, errwrite, unused_restore_signals, unused_start_new_session)\u001b[0m\n\u001b[0;32m   1154\u001b[0m                                          \u001b[0mos\u001b[0m\u001b[1;33m.\u001b[0m\u001b[0mfspath\u001b[0m\u001b[1;33m(\u001b[0m\u001b[0mcwd\u001b[0m\u001b[1;33m)\u001b[0m \u001b[1;32mif\u001b[0m \u001b[0mcwd\u001b[0m \u001b[1;32mis\u001b[0m \u001b[1;32mnot\u001b[0m \u001b[1;32mNone\u001b[0m \u001b[1;32melse\u001b[0m \u001b[1;32mNone\u001b[0m\u001b[1;33m,\u001b[0m\u001b[1;33m\u001b[0m\u001b[0m\n\u001b[1;32m-> 1155\u001b[1;33m                                          startupinfo)\n\u001b[0m\u001b[0;32m   1156\u001b[0m             \u001b[1;32mfinally\u001b[0m\u001b[1;33m:\u001b[0m\u001b[1;33m\u001b[0m\u001b[0m\n",
      "\u001b[1;31mFileNotFoundError\u001b[0m: [WinError 2] The system cannot find the file specified",
      "\nDuring handling of the above exception, another exception occurred:\n",
      "\u001b[1;31mJavaNotFoundError\u001b[0m                         Traceback (most recent call last)",
      "\u001b[1;32m<ipython-input-28-b00b03e84a83>\u001b[0m in \u001b[0;36m<module>\u001b[1;34m\u001b[0m\n\u001b[1;32m----> 1\u001b[1;33m \u001b[0mdf\u001b[0m\u001b[1;33m=\u001b[0m\u001b[0mtabula\u001b[0m\u001b[1;33m.\u001b[0m\u001b[0mread_pdf\u001b[0m\u001b[1;33m(\u001b[0m\u001b[1;34m'last_6_month.pdf'\u001b[0m\u001b[1;33m,\u001b[0m\u001b[0moutput_format\u001b[0m\u001b[1;33m=\u001b[0m\u001b[1;34m\"json\"\u001b[0m\u001b[1;33m,\u001b[0m\u001b[0mpages\u001b[0m\u001b[1;33m=\u001b[0m\u001b[1;34m\"2\"\u001b[0m\u001b[1;33m)\u001b[0m\u001b[1;33m\u001b[0m\u001b[0m\n\u001b[0m",
      "\u001b[1;32m~\\Miniconda3\\lib\\site-packages\\tabula\\io.py\u001b[0m in \u001b[0;36mread_pdf\u001b[1;34m(input_path, output_format, encoding, java_options, pandas_options, multiple_tables, user_agent, **kwargs)\u001b[0m\n\u001b[0;32m    320\u001b[0m \u001b[1;33m\u001b[0m\u001b[0m\n\u001b[0;32m    321\u001b[0m     \u001b[1;32mtry\u001b[0m\u001b[1;33m:\u001b[0m\u001b[1;33m\u001b[0m\u001b[0m\n\u001b[1;32m--> 322\u001b[1;33m         \u001b[0moutput\u001b[0m \u001b[1;33m=\u001b[0m \u001b[0m_run\u001b[0m\u001b[1;33m(\u001b[0m\u001b[0mjava_options\u001b[0m\u001b[1;33m,\u001b[0m \u001b[0mkwargs\u001b[0m\u001b[1;33m,\u001b[0m \u001b[0mpath\u001b[0m\u001b[1;33m,\u001b[0m \u001b[0mencoding\u001b[0m\u001b[1;33m)\u001b[0m\u001b[1;33m\u001b[0m\u001b[0m\n\u001b[0m\u001b[0;32m    323\u001b[0m     \u001b[1;32mfinally\u001b[0m\u001b[1;33m:\u001b[0m\u001b[1;33m\u001b[0m\u001b[0m\n\u001b[0;32m    324\u001b[0m         \u001b[1;32mif\u001b[0m \u001b[0mtemporary\u001b[0m\u001b[1;33m:\u001b[0m\u001b[1;33m\u001b[0m\u001b[0m\n",
      "\u001b[1;32m~\\Miniconda3\\lib\\site-packages\\tabula\\io.py\u001b[0m in \u001b[0;36m_run\u001b[1;34m(java_options, options, path, encoding)\u001b[0m\n\u001b[0;32m     89\u001b[0m         \u001b[1;32mreturn\u001b[0m \u001b[0mresult\u001b[0m\u001b[1;33m.\u001b[0m\u001b[0mstdout\u001b[0m\u001b[1;33m\u001b[0m\u001b[0m\n\u001b[0;32m     90\u001b[0m     \u001b[1;32mexcept\u001b[0m \u001b[0mFileNotFoundError\u001b[0m\u001b[1;33m:\u001b[0m\u001b[1;33m\u001b[0m\u001b[0m\n\u001b[1;32m---> 91\u001b[1;33m         \u001b[1;32mraise\u001b[0m \u001b[0mJavaNotFoundError\u001b[0m\u001b[1;33m(\u001b[0m\u001b[0mJAVA_NOT_FOUND_ERROR\u001b[0m\u001b[1;33m)\u001b[0m\u001b[1;33m\u001b[0m\u001b[0m\n\u001b[0m\u001b[0;32m     92\u001b[0m     \u001b[1;32mexcept\u001b[0m \u001b[0msubprocess\u001b[0m\u001b[1;33m.\u001b[0m\u001b[0mCalledProcessError\u001b[0m \u001b[1;32mas\u001b[0m \u001b[0me\u001b[0m\u001b[1;33m:\u001b[0m\u001b[1;33m\u001b[0m\u001b[0m\n\u001b[0;32m     93\u001b[0m         \u001b[0mlogger\u001b[0m\u001b[1;33m.\u001b[0m\u001b[0merror\u001b[0m\u001b[1;33m(\u001b[0m\u001b[1;34m\"Error from tabula-java:\\n{}\\n\"\u001b[0m\u001b[1;33m.\u001b[0m\u001b[0mformat\u001b[0m\u001b[1;33m(\u001b[0m\u001b[0me\u001b[0m\u001b[1;33m.\u001b[0m\u001b[0mstderr\u001b[0m\u001b[1;33m.\u001b[0m\u001b[0mdecode\u001b[0m\u001b[1;33m(\u001b[0m\u001b[0mencoding\u001b[0m\u001b[1;33m)\u001b[0m\u001b[1;33m)\u001b[0m\u001b[1;33m)\u001b[0m\u001b[1;33m\u001b[0m\u001b[0m\n",
      "\u001b[1;31mJavaNotFoundError\u001b[0m: `java` command is not found from this Python process.Please ensure Java is installed and PATH is set for `java`"
     ]
    }
   ],
   "source": [
    "df=tabula.read_pdf('last_6_month.pdf',output_format=\"json\",pages=\"2\")"
   ]
  },
  {
   "cell_type": "code",
   "execution_count": 10,
   "id": "collect-technician",
   "metadata": {},
   "outputs": [
    {
     "name": "stdout",
     "output_type": "stream",
     "text": [
      "Collecting PyPDF2\n",
      "  Downloading PyPDF2-1.26.0.tar.gz (77 kB)\n",
      "  Preparing metadata (setup.py): started\n",
      "  Preparing metadata (setup.py): finished with status 'done'\n",
      "Building wheels for collected packages: PyPDF2\n",
      "  Building wheel for PyPDF2 (setup.py): started\n",
      "  Building wheel for PyPDF2 (setup.py): finished with status 'done'\n",
      "  Created wheel for PyPDF2: filename=PyPDF2-1.26.0-py3-none-any.whl size=60067 sha256=e964bb1ec447a54071f231f7710e1e9b57e6e2c87601751281db16eb17a19bf1\n",
      "  Stored in directory: c:\\users\\sanu\\appdata\\local\\pip\\cache\\wheels\\80\\1a\\24\\648467ade3a77ed20f35cfd2badd32134e96dd25ca811e64b3\n",
      "Successfully built PyPDF2\n",
      "Installing collected packages: PyPDF2\n",
      "Successfully installed PyPDF2-1.26.0\n",
      "Note: you may need to restart the kernel to use updated packages.\n"
     ]
    }
   ],
   "source": [
    "pip install PyPDF2"
   ]
  },
  {
   "cell_type": "code",
   "execution_count": 11,
   "id": "express-cleanup",
   "metadata": {},
   "outputs": [],
   "source": [
    "import PyPDF2"
   ]
  },
  {
   "cell_type": "code",
   "execution_count": 15,
   "id": "promotional-discrimination",
   "metadata": {},
   "outputs": [],
   "source": [
    "pdfFileObj = open('last_6_month.pdf','rb')\n"
   ]
  },
  {
   "cell_type": "code",
   "execution_count": 16,
   "id": "talented-lounge",
   "metadata": {},
   "outputs": [
    {
     "data": {
      "text/plain": [
       "<_io.BufferedReader name='last_6_month.pdf'>"
      ]
     },
     "execution_count": 16,
     "metadata": {},
     "output_type": "execute_result"
    }
   ],
   "source": [
    "pdfFileObj"
   ]
  },
  {
   "cell_type": "code",
   "execution_count": 17,
   "id": "alert-texture",
   "metadata": {},
   "outputs": [],
   "source": [
    "pdfReader = PyPDF2.PdfFileReader(pdfFileObj)\n"
   ]
  },
  {
   "cell_type": "code",
   "execution_count": 18,
   "id": "express-concord",
   "metadata": {},
   "outputs": [
    {
     "data": {
      "text/plain": [
       "<PyPDF2.pdf.PdfFileReader at 0x1428daae320>"
      ]
     },
     "execution_count": 18,
     "metadata": {},
     "output_type": "execute_result"
    }
   ],
   "source": [
    "pdfReader"
   ]
  },
  {
   "cell_type": "code",
   "execution_count": 19,
   "id": "hired-crossing",
   "metadata": {},
   "outputs": [],
   "source": [
    "pages = pdfReader.numPages\n"
   ]
  },
  {
   "cell_type": "code",
   "execution_count": 20,
   "id": "scenic-worst",
   "metadata": {},
   "outputs": [
    {
     "data": {
      "text/plain": [
       "7"
      ]
     },
     "execution_count": 20,
     "metadata": {},
     "output_type": "execute_result"
    }
   ],
   "source": [
    "pages"
   ]
  },
  {
   "cell_type": "code",
   "execution_count": 21,
   "id": "disciplinary-mineral",
   "metadata": {},
   "outputs": [
    {
     "name": "stdout",
     "output_type": "stream",
     "text": [
      "Page No:  0\n",
      " Page 1 of 7 €€€€€€€€ €€€€€€€€ LALIT BIRLASO DULICHAND BIRLADUDGAON BEDIYAKHARGONEBEDIYAAccount Statement as of 22-10-2021 07:39:16 GMT +0530Account Holders NameLALIT BIRLABranchIASRI, DELHISearched by :Previous 6 MonthsAccount Number91422010025207\n",
      "\n",
      "Customer Id257805753MICR CODE110015498IFSC CODECNRB0019142Account CurrencyINRBalance B/F10,163.39Closing Balance12,365.07Txn DateValue DateCheque No.DescriptionBranchCodeDebitCreditBalance 30-Sep-202119:40:38 30-Sep-2021127319274295 UPI/DR/127319274295/BharatpeM/ICIC/**71630@icici/Verified//APLAPsJ4oJfLDZwSmN8rMpcVijWluJiyBGT/30/09/2021 19:40:38 3340.0012,365.07 28-Sep-202116:20:53 28-Sep-2021127116474442 UPI/DR/127116474442/Maa ashap/PYTM/**x0ty8@paytm/UPI//APLAPrsHeV8lJOQV74xxsAcbThqjI9A4CQZ/28/09/2021 16:20:53 3310.0012,405.07 28-Sep-202112:45:30 28-Sep-2021127112404116 ATM Cash-MCRM2193-GANESHNAGARKHANDWARINDOREMPIN-28/09/21 12:38:38/6356 331,000.0012,415.07 27-Sep-202110:08:42 27-Sep-2021127010869758 UPI/DR/127010869758/Maa ashap/PYTM/**x0ty8@paytm/UPI//APLAPrcWBhALOn0ukmY3GqhSmBmWjSVpDuo/27/09/2021 10:08:42 3360.0013,415.07 26-Sep-202123:40:56 27-Sep-2021126923573774 UPI/DR/126923573774/Guru krip/PYTM/**y9o3k@paytm/UPI//APLAPrX3XphA5X9aqHrraMSVNbBcu0KTY1M/26/09/2021 23:40:56 3320.0013,475.07 26-Sep-202123:21:53 27-Sep-2021126923541324 UPI/DR/126923541324/PRAKASH/PYTM/**12387@apl/UPI//APLAPrWtJKe0N2fgPoNy4BZW2biORMSXHxK/26/09/2021 23:21:53 3350.0013,495.07 25-Sep-202118:53:54 25-Sep-2021126818552005 UPI/DR/126818552005/Maa ashap/PYTM/**x0ty8@paytm/UPI//APLAPrI234Bkzx0Vt0TdRsotgQkjUZk1IbQ/25/09/2021 18:53:54 3335.0013,545.07 25-Sep-202114:07:23 25-Sep-2021126814804557 UPI/DR/126814804557/SUMAN/YESB/**92512@yesbankltd/Pay to B//APLAPrFXTzpuJwS3cz5LyNEEonPIMtdWVYp/25/09/2021 14:07:23 3360.0013,580.07 25-Sep-202109:54:29 25-Sep-2021126809637933 UPI/DR/126809637933/LALITBIRL/BARB/**79825@ybl/UPI//APLAPrDL6WX8KlZpy4XqQqSxBwupSlzXRHP/25/09/2021 09:54:29 332,000.0013,640.07 25-Sep-202109:22:46 25-Sep-2021126809422132 UPI/DR/126809422132/LALITBIRL/BARB/**79825@ybl/UPI//APLAPrD3zrCDpcI7cFmdz1hG5rOzlN5pF7R/25/09/2021 09:22:46 33500.0015,640.07 24-Sep-202113:02:11 24-Sep-2021126713414082 UPI/DR/126713414082/LALITBIRL/BARB/**79825@ybl/UPI//APLAPr2RelexS1WHtXprpd 33600.0016,140.07\n",
      "\n",
      "\n",
      "Page No:  1\n",
      " Page 2 of 7 €€€€€€€€ €€€€€€€€ M1xNKFF1nYYQK/24/09/2021 13:02:11 24-Sep-202101:19:15 23-Sep-2021 SMS ALERT CHARGES NEW 1914218.0016,740.07 22-Sep-202111:06:31 22-Sep-2021126511272180 UPI/DR/126511272180/AMAZON/UTIB/**mazon@apl/Request //APL197b0cfbd1fe4b0c96138b0085718e5d/22/09/2021 11:06:31 33555.0016,758.07 21-Sep-202117:54:48 21-Sep-2021126443044144 UPI/CR/126443044144/SONALI MA/UCBA/**82266@ybl/Payment //YBLda6d84ee4cea45eca6d5b74b38dfff4f/21/09/2021 17:54:48 33214.0017,313.07 20-Sep-202119:07:48 20-Sep-2021126319640398 UPI/DR/126319640398/LALITBIRL/BARB/**79825@ybl/UPI//APLAP8b0803580228df773c2c6f685a892b/20/09/2021 19:07:48 334,000.0017,099.07 20-Sep-202118:13:20 20-Sep-2021126318205656 UPI/DR/126318205656/LALITBIRL/BARB/**79825@ybl/UPI//APLAP42a827c840ed71a81a067aa8fe28ff/20/09/2021 18:13:20 33500.0021,099.07 18-Sep-202120:51:03 19-Sep-2021126120797625 UPI/DR/126120797625/Chetan\n",
      "\n",
      "P/SBIN/**n.sbi@ybl/UPI//APLAPptM9Jw9d4uIjiBTmyXe6imswiUueKF/18/09/2021 20:51:03 331,000.0021,599.07 18-Sep-202112:31:42 18-Sep-2021126112011747 ATM Cash-15656201-AGRAWALNAGAR,INDOREINDOREMPIN-18/09/21 12:25:08/6356 33500.0022,599.07 13-Sep-202119:56:14 13-Sep-2021125619020104 ATM Cash-15656396-RAJAHARISHCHANDRAMAINDOREMPIN-13/09/21 19:49:49/6356 33500.0023,099.07 13-Sep-202109:32:39 13-Sep-2021125609906604 UPI/DR/125609906604/LALITBIRL/BARB/**79825@ybl/UPI//APLAPomorB4NqoYnBs4ikI8pHUqLkg6iNld/13/09/2021 09:32:39 335,000.0023,599.07 08-Sep-202121:14:36 09-Sep-2021125121872523 UPI/DR/125121872523/LALITBIRL/BARB/**79825@ybl/UPI//APLAPnsHuOgWQXI5Q4tpIKWBn8kDuwEFpUj/08/09/2021 21:14:36 332,000.0028,599.07 08-Sep-202111:18:25 08-Sep-2021125111429741 UPI/DR/125111429741/LALITBIRL/BARB/**79825@ybl/UPI//APLAP75e8a7d828c89c98529811450dc8fe/08/09/2021 11:18:25 331,000.0030,599.07 07-Sep-202116:01:33 07-Sep-2021125016843072 UPI/DR/125016843072/LALITBIRL/BARB/**79825@ybl/UPI//APLAPnd2LqQX1HmOjXTWhE9qfM6lYMica0q/07/09/2021 16:01:33 333,500.0031,599.07 07-Sep-202110:51:34 07-Sep-2021125010622673 UPI/DR/125010622673/LALITBIRL/BARB/**79825@ybl/UPI//APLAP58037038ec35e16884df1d08f08866/07/09/2021 10:51:34 331,300.0035,099.07 06-Sep-202118:24:11 06-Sep-2021124918676396 UPI/DR/124918676396/LALITBIRL/BARB/**79825@ybl/UPI//APLAPnRkZd6dkRjBfxSbliz1rMu5ula2PHn/06/09/2021 18:24:11 331,000.0036,399.07 01-Sep-202111:28:33 01-Sep-2021000000000000 FELLOWSHIP JULY 2021 1914231,000.0037,399.07 20-Aug-202117:17:04 20-Aug-2021123235381840 UPI/CR/123235381840/CHETAN PA/INDB/**123-1@okhdfcbank/UPI//HDFb2184a5c2910402d9b3dd113e05c3dee/20/08/2021 17:17:04 33150.006,399.07 19-Aug-202111:02:10 19-Aug-2021123111677612 UPI/DR/123111677612/LALITBIRL/BARB/**79825@ybl/UPI//APLAPjkPRs2gRKTPeVdyTGq6P0SbyI0MZqL/19/08/2021 11:02:10 331,000.006,249.07 19-Aug-202110:58:06 19-Aug-2021123110571891 UPI/DR/123110571891/LALITBIRL/BARB/**79825@ybl/UPI//APLAP0f98f752b3cac4c797f 332,000.007,249.07\n",
      "\n",
      "\n",
      "Page No:  2\n",
      " Page 3 of 7 €€€€€€€€ €€€€€€€€ d4088678b76/19/08/2021 10:58:06 16-Aug-202121:43:30 17-Aug-2021122821772222 UPI/DR/122821772222/Decathlon/SBIN/**n.rzp@sbi/Decathlo//APLAPjEPEsBMX8QLZn8brDy7jHxCun0Ze1H/16/08/2021 21:43:30 332,296.009,249.07 13-Aug-202123:32:11 14-Aug-2021122523181518 UPI/DR/122523181518/LALITBIRL/BARB/**79825@ybl/UPI//APLAPab38eb081ef8867853c3e03873b8f3/13/08/2021 23:32:11 333,000.0011,545.07 06-Aug-202123:56:31 07-Aug-2021121823576431 UPI/DR/121823576431/IBPS BILL/HDFC/**ldesk@hdfcbank/Pay//APLAPhEHuXjQmQ4yjduGSyJ7xyWWMDMZOGU/06/08/2021 23:56:31 33944.0014,545.07 05-Aug-202123:22:31 06-Aug-2021121723903277 UPI/DR/121723903277/Mr\n",
      "\n",
      "Cheta/YESB/**10318@ybl/UPI//APLAPh1SqQCS0laT2IgRWe2HePZ0ky1ZcUp/05/08/2021 23:22:31 331,220.0015,489.07 04-Aug-202121:55:51 05-Aug-2021 TD Initial Payin FD140018854229\n",
      "\n",
      "\n",
      "\n",
      "/1 LALITBIRLA null TD Initial Payin FD 1914250,000.0016,709.07 04-Aug-202113:07:54 04-Aug-2021121613247867 UPI/DR/121613247867/AMAZON/UTIB/**mazon@apl/Request //APL529f7c2dee074a3ca61f8b2b86b75231/04/08/2021 13:07:54 33128.0066,709.07 01-Aug-202105:22:03 31-Jul-2021 SBINT FOR THE PERIOD FROM01-MAY-21 TO 31-JUL-21 19142232.0066,837.07 27-Jul-202117:14:43 27-Jul-2021000000000000 FELLOWSHIP JUNE 2021 1914231,000.0066,605.07 25-Jul-202116:24:57 25-Jul-2021120616240003 UPI/DR/120616240003/LALITBIRL/BARB/**79825@ybl/UPI//APLAP4fa47b9884a8a71cce184b089d588b/25/07/2021 16:24:56 333,500.0035,605.07 24-Jul-202120:45:33 25-Jul-2021120520664770 UPI/CR/120520664770/Manish\n",
      "\n",
      "S/SBIN/**i2025@oksbi/UPI//SBI04f2e3643ac848bb9b69d9442c466f03/24/07/2021 20:45:33 33250.0039,105.07 24-Jul-202116:37:04 24-Jul-2021120516843802 UPI/DR/120516843802/Maa ashap/PYTM/**x0ty8@paytm/UPI//APLAPeXbgTOPyo4LcjVBwAXKT1Im1SUF4Sr/24/07/2021 16:37:04 3320.0038,855.07 23-Jul-202114:32:44 23-Jul-2021120414842533 UPI/DR/120414842533/LALITBIRL/BARB/**79825@ybl/UPI//APLAPea68f80acedf93d243b8b008bc1ec8/23/07/2021 14:32:44 335,000.0038,875.07 17-Jul-202123:50:46 17-Jul-2021 DEBIT CARD ANNUAL CHARGES 19142142.0043,875.07 15-Jul-202121:59:39 16-Jul-2021119621622037 UPI/DR/119621622037/LALITBIRL/BARB/**79825@ybl/UPI//APLAPclfHpidUbsf7DgPdTDXI2fdKKI4uDG/15/07/2021 21:59:39 335,000.0044,017.07 14-Jul-202118:49:15 14-Jul-2021119518343443 UPI/DR/119518343443/LALITBIRL/BARB/**79825@ybl/UPI//APLAPcXTu5rTqI5DcPUKKP2PAUp4MFejxV9/14/07/2021 18:49:15 332,250.0049,017.07 11-Jul-202116:30:03 11-Jul-2021119216229651 UPI/DR/119216229651/LALITBIRL/BARB/**79825@ybl/UPI//APLAPac35f79640585058c2a88f486538e5/11/07/2021 16:30:03 331,000.0051,267.07 10-Jul-202100:31:40 10-Jul-2021119100915700 UPI/DR/119100915700/BILLDESK/HDFC/**ldesk@hdfcbank/Pay//APLAPbZp4rFPV30lLxoklIj30onRUf0Vcot/10/07/2021 00:31:40 33660.0052,267.07 07-Jul-202121:27:48 08-Jul-2021118821522852 UPI/DR/118821522852/Vodafone /PYTM/**epupe@paytm/UPI//APLAPb9AUa9dDWUAauu5FO9gPjFBCugY3dN/07/07/202121:27:48 3320.0052,927.07\n",
      "\n",
      "\n",
      "Page No:  3\n",
      " Page 4 of 7 €€€€€€€€ €€€€€€€€\n",
      "\n",
      "30-Jun-202116:53:54 30-Jun-2021000000000000 FELLOWSHIP MAY 2021 1914231,000.0052,947.07 29-Jun-202121:48:58 29-Jun-2021118028907156 UPI/DR/118028907156/LALITBIRL/BARB/**79825@ikwik/NA//HDF14D4CB9A82294FBA91669BB397104A10/29/06/2021 21:48:58 332,000.0021,947.07 27-Jun-202122:45:57 27-Jun-2021 SMS ALERT CHARGES NEW 1914218.0023,947.07 27-Jun-202121:12:30 28-Jun-2021117808849245 UPI/DR/117808849245/LALITBIRL/BARB/**79825@ikwik/NA//HDF6439322AD62549B6A3F429CB33D080D7/27/06/2021 21:12:30 332,500.0023,965.07 24-Jun-202110:31:50 24-Jun-2021117573137206 UPI/DR/117573137206/LALITBIRL/BARB/**79825@ikwik/NA//HDF7FA5FA27F1274AAAA90A3D0B5974A298/24/06/2021 10:31:50 332,000.0026,465.07 22-Jun-202110:53:20 22-Jun-2021117352503273 UPI/DR/117352503273/LALITBIRL/BARB/**79825@ikwik/NA//HDF9901E6F66555461E8F4A8F6E620B39EF/22/06/2021 10:53:20 3350,000.0028,465.07 22-Jun-202110:44:28 22-Jun-2021 FD Redemption 140013171384/1 1914250,043.0078,465.07 21-Jun-202117:55:26 21-Jun-2021117288902990 UPI/CR/117288902990/Vodafone /PYTM/**epupe@paytm/express//PTM963180fe3b444c8997844b05ad32e3ed/21/06/202117:55:26 3329.0028,422.07 21-Jun-202117:43:56 21-Jun-2021117217342091 UPI/DR/117217342091/Vodafone /PYTM/**epupe@paytm/UPI//APLAPXsmP9iS0gXzX9nDZadSBfg7soU3Hlu/21/06/2021 17:43:56 3329.0028,393.07 20-Jun-202120:34:17 20-Jun-2021117139450523 UPI/DR/117139450523/VAIBHAV H/PYTM/**84518@ybl/NA//HDF02871BF4C4A746278BEDCB06928E2E22/20/06/2021 20:34:17 3374.0028,422.07 19-Jun-202119:10:02 19-Jun-2021117029745960 UPI/DR/117029745960/Ritesh ki/PYTM/**qxj0d@paytm/NA//HDF1AAEF3EF33C44F009B943F8EEC6CE8C8/19/06/2021 19:10:02 3330.0028,496.07 19-Jun-202119:06:13 19-Jun-2021117029692534 UPI/DR/117029692534/Shri gane/PYTM/**ggayq@paytm/NA//HDFB9E970604F1E4862A0AF0731F8D137CB/19/06/2021 19:06:13 3370.0028,526.07 19-Jun-202112:02:26 19-Jun-2021117025283709 UPI/DR/117025283709/Radhe gen/PYTM/**2ymmo@paytm/NA//HDFE53D3D83895B4A01B5E1DAA9B74202DF/19/06/2021 12:02:26 33150.0028,596.07 19-Jun-202107:57:15 19-Jun-2021117023103609 UPI/DR/117023103609/LALITBIRL/BARB/**79825@ybl/NA//HDF94EDF5E99A854EED9F680B9327986BA5/19/06/2021 07:57:15 33600.0028,746.07 18-Jun-202118:21:18 18-Jun-2021116919910150 UPI/DR/116919910150/MOBIKWIK/ICIC/**money@icici/NA//HDF3AF3273A260441CF82D7FD9B947484CC/18/06/2021 18:21:18 33600.0029,346.07 16-Jun-202118:19:51 16-Jun-2021116737832339 UPI/DR/116737832339/LALIT JIN/PUNB/**42991@ybl/Payment //AXLd175dbad41b241a48c73f53b9527aaaf/16/06/2021 18:19:51 3320,000.0029,946.07 15-Jun-202116:34:15 15-Jun-2021116610423443 UPI/DR/116610423443/PhonePe/YESB/**RONET@ybl/Payment //AXL6584341eb6ed4efab59a7cc984b6f19b/15/06/2021 16:34:15 33149.0049,946.07 11-Jun-202121:42:47 12-Jun-2021116260537258 UPI/CR/116260537258/Sandeep/BARB/**80881@ybl/Payment\n",
      "\n",
      "3320.0050,095.07\n",
      "\n",
      "\n",
      "Page No:  4\n",
      " Page 5 of 7 €€€€€€€€ €€€€€€€€ //YBL2769ff21fb984a3785b507b223f64c89/11/06/2021 21:42:47 08-Jun-202111:24:18 08-Jun-2021115988508496 UPI/DR/115988508496/ANKIT HAR/BKID/**67175@ybl/Payment //AXL79299620fbad48ae9cc3f675d0c27bfe/08/06/2021 11:24:18 3310,000.0050,075.07 06-Jun-202122:38:47 07-Jun-2021115722766098 INET-IMPS-CR/NEXTBILLIO/YBL\n",
      "\n",
      "\n",
      "\n",
      "\n",
      "\n",
      " /002281300007539/FUNDS TRAN/9999999999/06/06/2021 22:38:47 331.0060,075.07 06-Jun-202116:02:00 06-Jun-2021 TD Initial Payin FD140013171384\n",
      "\n",
      "\n",
      "\n",
      "/1 LALITBIRLA null TD Initial Payin FD 1914250,000.0060,074.07 05-Jun-202121:35:08 05-Jun-2021115601309826 UPI/CR/115601309826/PRAVIN SO/BKID/**78023@axl/Payment //AXL0843157aeb4c46a08554102327d08348/05/06/2021 21:35:08 3320.001,10,074.07 03-Jun-202119:35:53 03-Jun-2021115408291301 UPI/DR/115408291301/SHARANBAS/CNRB/**57506@axl/Payment //AXL15e4cf0707f04fa48e7e5f3762d507ba/03/06/2021 19:35:53 331,000.001,10,054.07 03-Jun-202117:06:05 03-Jun-2021115450129463 UPI/DR/115450129463/LALIT JIN/PUNB/**42991@ybl/Payment //AXL1d16d7189491404e9d7489f47fba2e7b/03/06/2021 17:06:05 331,000.001,11,054.07 03-Jun-202116:25:50 03-Jun-2021115432298326 UPI/DR/115432298326/SONALI MA/UCBA/**82266@ybl/Payment //AXLcaa32e1dc6254c8da8d22766e643ba13/03/06/2021 16:25:50 337,000.001,12,054.07 03-Jun-202116:23:28 03-Jun-2021115412274438 UPI/DR/115412274438/ROHIT\n",
      "\n",
      "KU/CNRB/**17979@ybl/Payment //AXL480a896abcc94124a1a39dfedb33dd98/03/06/2021 16:23:28 339,000.001,19,054.07 03-Jun-202116:12:22 03-Jun-2021000000000000 FELLOWSHIP 191421,28,000.001,28,054.07 25-May-202113:44:50 25-May-2021114550789954 UPI/DR/114550789954/PhonePe/YESB/**ESKPP@ybl/Payment //AXLd88796fd25d84bcfb8661f79925d0ce7/25/05/2021 13:44:50 3350.0054.07 21-May-202117:11:07 21-May-2021114117758251 UPI/DR/114117758251/MOBIKWIK/ICIC/**money@icici/NA//HDFDE63C08D3B4D4826A3B626DD4523AF58/21/05/2021 17:11:07 33500.00104.07 21-May-202109:33:54 21-May-2021114109198793 UPI/CR/114109198793/PhonePe/YESB/**chant@yesbank/PhonePe //YESBC2CFB6C4EFEC654EE05400144FF8E8B/21/05/2021 09:33:54 3350.00604.07 21-May-202109:33:52 21-May-2021114126918524 UPI/DR/114126918524/PhonePe/YESB/**RONET@ybl/Payment //AXLa6cb3a6b7eab40a5a5341941c3a0fbba/21/05/2021 09:33:52 3350.00554.07 21-May-202108:47:01 21-May-2021114108773398 INET-IMPS-CR/WUNDERBAKE/YBL\n",
      "\n",
      "\n",
      "\n",
      "\n",
      "\n",
      " /059461100000066/3431822 wi/9999999999/21/05/2021 08:47:01 33505.68604.07 21-May-202106:35:56 21-May-2021114106782737 UPI/DR/114106782737/MOBIKWIK/ICIC/**money@icici/NA//HDF3A79789A2E354000993F222B2D637BF9/21/05/2021 06:35:56 33800.0098.39 20-May-202111:39:42 20-May-2021114011053035 UPI/DR/114011053035/MOBIKWIK/ICIC/**money@icici/NA//HDF827BFC1DF95545F794F7A18CB05F7197/20/05/2021 11:39:42 33160.00898.39 19-May-202115:27:06 19-May-2021113981403713 UPI/DR/113981403713/PhonePe/YESB/**R 3350.001,058.39\n",
      "\n",
      "\n",
      "Page No:  5\n"
     ]
    },
    {
     "name": "stdout",
     "output_type": "stream",
     "text": [
      " Page 6 of 7 €€€€€€€€ €€€€€€€€ ONET@ybl/Payment //AXL5a161559ca2c47fab519d9f357c54437/19/05/2021 15:27:06 18-May-202120:44:42 18-May-2021113820284402 UPI/DR/113820284402/VODAFONE /HSBC/**eidea@hsbc/UPI//eulw7vvCEPqiQVVxiMR/18/05/2021 20:44:42 3316.001,108.39 18-May-202108:34:50 18-May-2021 Rev SMS ALERT CHARGES NEW 1914218.001,124.39 18-May-202107:40:08 18-May-2021113807125119 UPI/DR/113807125119/MOBIKWIK/ICIC/**money@icici/NA//HDF048C00118D1A4893AB9904D262017052/18/05/2021 07:40:08 33100.001,106.39 17-May-202107:00:09 17-May-2021113707345344 INET-IMPS-CR/Cashfree P/KMB\n",
      "\n",
      "\n",
      "\n",
      "\n",
      "\n",
      " /1413027325/Bank detai/6364859977/17/05/2021 07:00:09 331.001,206.39 11-May-202116:08:54 11-May-2021113116625271 UPI/DR/113116625271/NEERAJ SE/BARB/**33168@ybl/UPI//APLAPPaK3OfpxpT6X6xMzyHFqQF8cj0KsrT/11/05/2021 16:08:54 332,200.001,205.39 10-May-202108:27:09 10-May-2021113008187373 UPI/DR/113008187373/AMAZON/UTIB/**mazon@apl/Request //APLaddf70d3cf84411f927928aa5d05d005/10/05/2021 08:27:09 331,433.003,405.39 08-May-202119:11:41 08-May-2021 SMS ALERT CHARGES NEW 1914218.004,838.39 06-May-202116:29:50 06-May-2021112616735602 MOB-IMPS-CR/CLARAVIDA/PAYTMPAYME/19742050000003/ 0000000000/06/05/2021 16:29:50 33152.004,856.39 06-May-202116:10:19 06-May-2021112616934160 UPI/DR/112616934160/AMAZON/UTIB/**mazon@apl/Request //APL2af195f959ee47edaeb09aab8c5b61a1/06/05/2021 16:10:19 33399.004,704.39 06-May-202109:36:51 06-May-2021112609950788 UPI/DR/112609950788/AMAZON/UTIB/**mazon@apl/Request //APLb51f8134e3f0408093fdb2288fea654c/06/05/2021 09:36:51 33825.005,103.39 05-May-202115:28:47 05-May-2021112544214573 UPI/DR/112544214573/PhonePe/YESB/**RONET@ybl/Payment //AXL4f2afbf2d54c4905ad70c0bd0a4e8a86/05/05/2021 15:28:47 3310.005,928.39 02-May-202118:54:59 02-May-2021112267734094 UPI/DR/112267734094/PhonePe/YESB/**RONET@ybl/Payment //AXL9d3d4a4c14e04c459efc60611dc70d10/02/05/2021 18:54:59 33148.005,938.39 01-May-202119:20:05 01-May-2021112156004432 UPI/DR/112156004432/Dream11/UTIB/**eam11@axisbank/Payment //2112113TXNXN42USCENA/01/05/2021 19:20:04 334.006,086.39 01-May-202104:18:30 30-Apr-2021 SBINT FOR THE PERIOD FROM01-FEB-21TO 30-APR-21 1914242.006,090.39 30-Apr-202110:37:49 30-Apr-2021112010828693 MOB-IMPS-CR/CLARAVIDA/PAYTMPAYME/19742050000003/ 0000000000/30/04/2021 10:37:49 33184.006,048.39 25-Apr-202121:00:03 26-Apr-2021111569229987 UPI/DR/111569229987/DULICHAND/BARB/**97209@ybl/Payment //AXL2617ab3516d14fe5824417e1ffa7d36b/25/04/2021 21:00:03 339,000.005,864.39\n",
      "\n",
      "\n",
      "Page No:  6\n",
      " Page 7 of 7 €€€€€€€€ €€€€€€€€\n",
      "\n",
      "25-Apr-202120:59:37 26-Apr-2021111525129248 UPI/DR/111525129248/DULICHAND/BARB/**97209@ybl/Payment //AXL3c492771d0b645b8939d82f1b7bf0435/25/04/2021 20:59:37 331,000.0014,864.39 24-Apr-202119:50:56 24-Apr-2021111439261165 UPI/DR/111439261165/Bank Acco/BARB/**010100002308/Payment //AXL37a3f1fb536d4407a3b45eb5ca1504f5/24/04/2021 19:50:56 33500.0015,864.39 24-Apr-202119:41:42 24-Apr-2021111433024040 UPI/DR/111433024040/LALITBIRL/BARB/**79825@ybl/Payment //AXL38b288e25afb42398d0fc8dc2ee3fd79/24/04/2021 19:41:42 331.0016,364.39 23-Apr-202110:12:16 23-Apr-2021111310492156 MOB-IMPS-CR/WellPlayed/PAYTMPAYME/19742050000003/ 0000000000/23/04/2021 10:12:16 33202.0016,365.39 21-Apr-202111:57:16 21-Apr-2021111111571580 IB-IMPS-DR//BARB/**2435//21/04/2021 11:57:16 331,500.0016,163.39 19-Apr-202108:02:27 19-Apr-2021110908022775 IB-IMPS-DR//BARB/**2435//19/04/2021 08:02:27 331,000.0017,663.39 14-Apr-202118:54:30 14-Apr-2021110446107020 UPI/CR/110446107020/LALITBIRL/BARB/**79825@ybl/Payment //YBLe2221f13d9434e6b9c60e82ad486aeae/14/04/2021 18:54:30 338,500.0018,663.39DISCLAIMER : UNLESS THE CONSTITUENT BRINGS TO THE NOTICE OF THE BANK ANY DISCREPANCY /ERRORS /OMMISSION /UNAUTHORISED DEBITS IMMEDIATELY, THE ENTRIES IN SUCH PASS SHEET SHALL BE DEEMED AS CORRECT AND SHALL BIND THE CONSTITUENT FOR ALL PURPOSES AND INTENTS BEWARE OF PHISHING ATTACKS THROUGH EMAILS OR FAKE WEBSITE IMB USERS ARE REQUESTED TO NOTE THAT CANARA BANK DOES NOT SEEK ANY INFORMATION THROUGH EMAIL.DO NOT CLICK ON ANY LINK WHICH HAS COME THROUGH EMAIL FROM UNEXPECTED SOURCES.IT MAY CONTAIN MALICIOUS CODE OR COULD BE AN ATTEMPT TO \"PHISH\".ALWAYS LOGIN THROUGH www.canarabank.com PLEASE BEWARE OF PHISHING CHANGE IN THE ADDRESS OF ACCOUNT HOLDER/PA HOLDER, IF ANY, MAY PLEASE BE INFORMED TO THE BRANCH ALONG WITH ADDRESS PROOF Details of Ombudsman: The Banking Ombudsman C/o. RBI,10/3/8 Nrupatunga RoadBangalore-560001 Tel:0000 / 0000 Fax0E-mail: bobangalore@rbi.org.inARE YOU A MERCHANT / TRADER / RETAILER / SMALL VENDOR. USE DIGITAL PAYMENT CHANNEL TO RECEIVE PAYMENT FROM YOUR CUSTOMERS.CONTACT BRANCH MANAGER FOR MORE DETAILS. GO CASHLESS / CARDLESS. COMPUTER OUTPUT- DOES NOT REQUIRE SIGNATURE\n",
      "\n",
      "------------------------------ END OF STATEMENT --------------------------------- \n",
      "\n",
      "\n"
     ]
    }
   ],
   "source": [
    "for i in range(pages):\n",
    "        # Creating a page object\n",
    "        pageObj = pdfReader.getPage(i)\n",
    "        # Printing Page Number\n",
    "        print(\"Page No: \",i)\n",
    "        # Extracting text from page\n",
    "        # And splitting it into chunks of lines\n",
    "        text = pageObj.extractText().split(\"  \")\n",
    "        # Finally the lines are stored into list\n",
    "        # For iterating over list a loop is used\n",
    "        for i in range(len(text)):\n",
    "                # Printing the line\n",
    "                # Lines are seprated using \"\\n\"\n",
    "                print(text[i],end=\"\\n\\n\")\n",
    "        # For Seprating the Pages\n",
    "        print()\n",
    "# closing the pdf file object\n",
    "pdfFileObj.close()\n"
   ]
  },
  {
   "cell_type": "code",
   "execution_count": 51,
   "id": "seeing-strap",
   "metadata": {},
   "outputs": [],
   "source": [
    "df=pd.read_csv('C:/Users/SANU/Downloads/6_months.CSV',header=0)"
   ]
  },
  {
   "cell_type": "code",
   "execution_count": 53,
   "id": "average-spirit",
   "metadata": {},
   "outputs": [
    {
     "data": {
      "text/html": [
       "<div>\n",
       "<style scoped>\n",
       "    .dataframe tbody tr th:only-of-type {\n",
       "        vertical-align: middle;\n",
       "    }\n",
       "\n",
       "    .dataframe tbody tr th {\n",
       "        vertical-align: top;\n",
       "    }\n",
       "\n",
       "    .dataframe thead th {\n",
       "        text-align: right;\n",
       "    }\n",
       "</style>\n",
       "<table border=\"1\" class=\"dataframe\">\n",
       "  <thead>\n",
       "    <tr style=\"text-align: right;\">\n",
       "      <th></th>\n",
       "      <th>\\tTransaction Date</th>\n",
       "      <th>Value Date</th>\n",
       "      <th>Cheque No.</th>\n",
       "      <th>Description</th>\n",
       "      <th>Branch Code</th>\n",
       "      <th>Debit</th>\n",
       "      <th>Credit</th>\n",
       "      <th>Balance</th>\n",
       "      <th>Unnamed: 8</th>\n",
       "    </tr>\n",
       "  </thead>\n",
       "  <tbody>\n",
       "    <tr>\n",
       "      <th>0</th>\n",
       "      <td>30/09/2021 19:40</td>\n",
       "      <td>30-Sep-21</td>\n",
       "      <td>1.27E+11</td>\n",
       "      <td>UPI/DR/127319274295/BharatpeM/ICIC/**71630@ici...</td>\n",
       "      <td>33</td>\n",
       "      <td>40</td>\n",
       "      <td>NaN</td>\n",
       "      <td>12,365.07</td>\n",
       "      <td>NaN</td>\n",
       "    </tr>\n",
       "  </tbody>\n",
       "</table>\n",
       "</div>"
      ],
      "text/plain": [
       "  \\tTransaction Date Value Date Cheque No.  \\\n",
       "0   30/09/2021 19:40  30-Sep-21   1.27E+11   \n",
       "\n",
       "                                         Description  Branch Code Debit  \\\n",
       "0  UPI/DR/127319274295/BharatpeM/ICIC/**71630@ici...           33    40   \n",
       "\n",
       "  Credit    Balance Unnamed: 8  \n",
       "0    NaN  12,365.07        NaN  "
      ]
     },
     "execution_count": 53,
     "metadata": {},
     "output_type": "execute_result"
    }
   ],
   "source": [
    "df.head(1)"
   ]
  },
  {
   "cell_type": "code",
   "execution_count": 59,
   "id": "speaking-trail",
   "metadata": {},
   "outputs": [
    {
     "data": {
      "text/plain": [
       "Index(['\\tTransaction Date', 'Value Date', 'Cheque No.', 'Description',\n",
       "       'Branch Code', 'Debit', 'Credit', 'Balance', 'Unnamed: 8'],\n",
       "      dtype='object')"
      ]
     },
     "execution_count": 59,
     "metadata": {},
     "output_type": "execute_result"
    }
   ],
   "source": [
    "df.columns"
   ]
  },
  {
   "cell_type": "code",
   "execution_count": 69,
   "id": "relevant-interest",
   "metadata": {},
   "outputs": [
    {
     "data": {
      "text/html": [
       "<div>\n",
       "<style scoped>\n",
       "    .dataframe tbody tr th:only-of-type {\n",
       "        vertical-align: middle;\n",
       "    }\n",
       "\n",
       "    .dataframe tbody tr th {\n",
       "        vertical-align: top;\n",
       "    }\n",
       "\n",
       "    .dataframe thead th {\n",
       "        text-align: right;\n",
       "    }\n",
       "</style>\n",
       "<table border=\"1\" class=\"dataframe\">\n",
       "  <thead>\n",
       "    <tr style=\"text-align: right;\">\n",
       "      <th></th>\n",
       "      <th>Debit</th>\n",
       "    </tr>\n",
       "  </thead>\n",
       "  <tbody>\n",
       "    <tr>\n",
       "      <th>0</th>\n",
       "      <td>40</td>\n",
       "    </tr>\n",
       "    <tr>\n",
       "      <th>1</th>\n",
       "      <td>10</td>\n",
       "    </tr>\n",
       "    <tr>\n",
       "      <th>2</th>\n",
       "      <td>1,000.00</td>\n",
       "    </tr>\n",
       "    <tr>\n",
       "      <th>3</th>\n",
       "      <td>60</td>\n",
       "    </tr>\n",
       "    <tr>\n",
       "      <th>4</th>\n",
       "      <td>20</td>\n",
       "    </tr>\n",
       "    <tr>\n",
       "      <th>...</th>\n",
       "      <td>...</td>\n",
       "    </tr>\n",
       "    <tr>\n",
       "      <th>100</th>\n",
       "      <td>1</td>\n",
       "    </tr>\n",
       "    <tr>\n",
       "      <th>101</th>\n",
       "      <td>NaN</td>\n",
       "    </tr>\n",
       "    <tr>\n",
       "      <th>102</th>\n",
       "      <td>1,500.00</td>\n",
       "    </tr>\n",
       "    <tr>\n",
       "      <th>103</th>\n",
       "      <td>1,000.00</td>\n",
       "    </tr>\n",
       "    <tr>\n",
       "      <th>104</th>\n",
       "      <td>NaN</td>\n",
       "    </tr>\n",
       "  </tbody>\n",
       "</table>\n",
       "<p>105 rows × 1 columns</p>\n",
       "</div>"
      ],
      "text/plain": [
       "        Debit\n",
       "0          40\n",
       "1          10\n",
       "2    1,000.00\n",
       "3          60\n",
       "4          20\n",
       "..        ...\n",
       "100         1\n",
       "101       NaN\n",
       "102  1,500.00\n",
       "103  1,000.00\n",
       "104       NaN\n",
       "\n",
       "[105 rows x 1 columns]"
      ]
     },
     "execution_count": 69,
     "metadata": {},
     "output_type": "execute_result"
    }
   ],
   "source": [
    "df[['Debit']]"
   ]
  },
  {
   "cell_type": "code",
   "execution_count": 81,
   "id": "supreme-tissue",
   "metadata": {},
   "outputs": [
    {
     "data": {
      "text/plain": [
       "\\tTransaction Date    False\n",
       "Value Date            False\n",
       "Cheque No.            False\n",
       "Description           False\n",
       "Branch Code           False\n",
       "Debit                 False\n",
       "Credit                False\n",
       "Balance               False\n",
       "Unnamed: 8            False\n",
       "dtype: bool"
      ]
     },
     "execution_count": 81,
     "metadata": {},
     "output_type": "execute_result"
    }
   ],
   "source": [
    "df.dtypes=='int'"
   ]
  },
  {
   "cell_type": "code",
   "execution_count": 83,
   "id": "prescribed-product",
   "metadata": {},
   "outputs": [
    {
     "data": {
      "text/plain": [
       "Index(['\\tTransaction Date', 'Value Date', 'Cheque No.', 'Description',\n",
       "       'Debit', 'Credit', 'Balance', 'Unnamed: 8'],\n",
       "      dtype='object')"
      ]
     },
     "execution_count": 83,
     "metadata": {},
     "output_type": "execute_result"
    }
   ],
   "source": [
    "df.dtypes[df.dtypes =='object'].index"
   ]
  },
  {
   "cell_type": "code",
   "execution_count": 84,
   "id": "durable-hawaii",
   "metadata": {},
   "outputs": [
    {
     "data": {
      "text/html": [
       "<div>\n",
       "<style scoped>\n",
       "    .dataframe tbody tr th:only-of-type {\n",
       "        vertical-align: middle;\n",
       "    }\n",
       "\n",
       "    .dataframe tbody tr th {\n",
       "        vertical-align: top;\n",
       "    }\n",
       "\n",
       "    .dataframe thead th {\n",
       "        text-align: right;\n",
       "    }\n",
       "</style>\n",
       "<table border=\"1\" class=\"dataframe\">\n",
       "  <thead>\n",
       "    <tr style=\"text-align: right;\">\n",
       "      <th></th>\n",
       "      <th>\\tTransaction Date</th>\n",
       "      <th>Value Date</th>\n",
       "      <th>Cheque No.</th>\n",
       "      <th>Description</th>\n",
       "      <th>Debit</th>\n",
       "      <th>Credit</th>\n",
       "      <th>Balance</th>\n",
       "      <th>Unnamed: 8</th>\n",
       "    </tr>\n",
       "  </thead>\n",
       "  <tbody>\n",
       "    <tr>\n",
       "      <th>0</th>\n",
       "      <td>30/09/2021 19:40</td>\n",
       "      <td>30-Sep-21</td>\n",
       "      <td>1.27E+11</td>\n",
       "      <td>UPI/DR/127319274295/BharatpeM/ICIC/**71630@ici...</td>\n",
       "      <td>40</td>\n",
       "      <td>NaN</td>\n",
       "      <td>12,365.07</td>\n",
       "      <td>NaN</td>\n",
       "    </tr>\n",
       "    <tr>\n",
       "      <th>1</th>\n",
       "      <td>28/09/2021 16:20</td>\n",
       "      <td>28-Sep-21</td>\n",
       "      <td>1.27E+11</td>\n",
       "      <td>UPI/DR/127116474442/Maa ashap/PYTM/**x0ty8@pay...</td>\n",
       "      <td>10</td>\n",
       "      <td>NaN</td>\n",
       "      <td>12,405.07</td>\n",
       "      <td>NaN</td>\n",
       "    </tr>\n",
       "    <tr>\n",
       "      <th>2</th>\n",
       "      <td>28/09/2021 12:45</td>\n",
       "      <td>28-Sep-21</td>\n",
       "      <td>1.27E+11</td>\n",
       "      <td>ATM Cash-MCRM2193-GANESHNAGARKHANDWARINDOREMPI...</td>\n",
       "      <td>1,000.00</td>\n",
       "      <td>NaN</td>\n",
       "      <td>12,415.07</td>\n",
       "      <td>NaN</td>\n",
       "    </tr>\n",
       "    <tr>\n",
       "      <th>3</th>\n",
       "      <td>27/09/2021 10:08</td>\n",
       "      <td>27-Sep-21</td>\n",
       "      <td>1.27E+11</td>\n",
       "      <td>UPI/DR/127010869758/Maa ashap/PYTM/**x0ty8@pay...</td>\n",
       "      <td>60</td>\n",
       "      <td>NaN</td>\n",
       "      <td>13,415.07</td>\n",
       "      <td>NaN</td>\n",
       "    </tr>\n",
       "    <tr>\n",
       "      <th>4</th>\n",
       "      <td>26/09/2021 23:40</td>\n",
       "      <td>27-Sep-21</td>\n",
       "      <td>1.27E+11</td>\n",
       "      <td>UPI/DR/126923573774/Guru krip/PYTM/**y9o3k@pay...</td>\n",
       "      <td>20</td>\n",
       "      <td>NaN</td>\n",
       "      <td>13,475.07</td>\n",
       "      <td>NaN</td>\n",
       "    </tr>\n",
       "    <tr>\n",
       "      <th>...</th>\n",
       "      <td>...</td>\n",
       "      <td>...</td>\n",
       "      <td>...</td>\n",
       "      <td>...</td>\n",
       "      <td>...</td>\n",
       "      <td>...</td>\n",
       "      <td>...</td>\n",
       "      <td>...</td>\n",
       "    </tr>\n",
       "    <tr>\n",
       "      <th>100</th>\n",
       "      <td>24/04/2021 19:41</td>\n",
       "      <td>24-Apr-21</td>\n",
       "      <td>1.11E+11</td>\n",
       "      <td>UPI/DR/111433024040/LALITBIRL/BARB/**79825@ybl...</td>\n",
       "      <td>1</td>\n",
       "      <td>NaN</td>\n",
       "      <td>16,364.39</td>\n",
       "      <td>NaN</td>\n",
       "    </tr>\n",
       "    <tr>\n",
       "      <th>101</th>\n",
       "      <td>23/04/2021 10:12</td>\n",
       "      <td>23-Apr-21</td>\n",
       "      <td>1.11E+11</td>\n",
       "      <td>MOB-IMPS-CR/WellPlayed/PAYTMPAYME/197420500000...</td>\n",
       "      <td>NaN</td>\n",
       "      <td>202</td>\n",
       "      <td>16,365.39</td>\n",
       "      <td>NaN</td>\n",
       "    </tr>\n",
       "    <tr>\n",
       "      <th>102</th>\n",
       "      <td>21/04/2021 11:57</td>\n",
       "      <td>21-Apr-21</td>\n",
       "      <td>1.11E+11</td>\n",
       "      <td>IB-IMPS-DR//BARB/**2435//21/04/2021 11:57:16</td>\n",
       "      <td>1,500.00</td>\n",
       "      <td>NaN</td>\n",
       "      <td>16,163.39</td>\n",
       "      <td>NaN</td>\n",
       "    </tr>\n",
       "    <tr>\n",
       "      <th>103</th>\n",
       "      <td>19/04/2021 08:02</td>\n",
       "      <td>19-Apr-21</td>\n",
       "      <td>1.11E+11</td>\n",
       "      <td>IB-IMPS-DR//BARB/**2435//19/04/2021 08:02:27</td>\n",
       "      <td>1,000.00</td>\n",
       "      <td>NaN</td>\n",
       "      <td>17,663.39</td>\n",
       "      <td>NaN</td>\n",
       "    </tr>\n",
       "    <tr>\n",
       "      <th>104</th>\n",
       "      <td>14/04/2021 18:54</td>\n",
       "      <td>14-Apr-21</td>\n",
       "      <td>1.10E+11</td>\n",
       "      <td>UPI/CR/110446107020/LALITBIRL/BARB/**79825@ybl...</td>\n",
       "      <td>NaN</td>\n",
       "      <td>8,500.00</td>\n",
       "      <td>18,663.39</td>\n",
       "      <td>NaN</td>\n",
       "    </tr>\n",
       "  </tbody>\n",
       "</table>\n",
       "<p>105 rows × 8 columns</p>\n",
       "</div>"
      ],
      "text/plain": [
       "    \\tTransaction Date Value Date Cheque No.  \\\n",
       "0     30/09/2021 19:40  30-Sep-21   1.27E+11   \n",
       "1     28/09/2021 16:20  28-Sep-21   1.27E+11   \n",
       "2     28/09/2021 12:45  28-Sep-21   1.27E+11   \n",
       "3     27/09/2021 10:08  27-Sep-21   1.27E+11   \n",
       "4     26/09/2021 23:40  27-Sep-21   1.27E+11   \n",
       "..                 ...        ...        ...   \n",
       "100   24/04/2021 19:41  24-Apr-21   1.11E+11   \n",
       "101   23/04/2021 10:12  23-Apr-21   1.11E+11   \n",
       "102   21/04/2021 11:57  21-Apr-21   1.11E+11   \n",
       "103   19/04/2021 08:02  19-Apr-21   1.11E+11   \n",
       "104   14/04/2021 18:54  14-Apr-21   1.10E+11   \n",
       "\n",
       "                                           Description     Debit    Credit  \\\n",
       "0    UPI/DR/127319274295/BharatpeM/ICIC/**71630@ici...        40       NaN   \n",
       "1    UPI/DR/127116474442/Maa ashap/PYTM/**x0ty8@pay...        10       NaN   \n",
       "2    ATM Cash-MCRM2193-GANESHNAGARKHANDWARINDOREMPI...  1,000.00       NaN   \n",
       "3    UPI/DR/127010869758/Maa ashap/PYTM/**x0ty8@pay...        60       NaN   \n",
       "4    UPI/DR/126923573774/Guru krip/PYTM/**y9o3k@pay...        20       NaN   \n",
       "..                                                 ...       ...       ...   \n",
       "100  UPI/DR/111433024040/LALITBIRL/BARB/**79825@ybl...         1       NaN   \n",
       "101  MOB-IMPS-CR/WellPlayed/PAYTMPAYME/197420500000...       NaN       202   \n",
       "102       IB-IMPS-DR//BARB/**2435//21/04/2021 11:57:16  1,500.00       NaN   \n",
       "103       IB-IMPS-DR//BARB/**2435//19/04/2021 08:02:27  1,000.00       NaN   \n",
       "104  UPI/CR/110446107020/LALITBIRL/BARB/**79825@ybl...       NaN  8,500.00   \n",
       "\n",
       "       Balance Unnamed: 8  \n",
       "0    12,365.07        NaN  \n",
       "1    12,405.07        NaN  \n",
       "2    12,415.07        NaN  \n",
       "3    13,415.07        NaN  \n",
       "4    13,475.07        NaN  \n",
       "..         ...        ...  \n",
       "100  16,364.39        NaN  \n",
       "101  16,365.39        NaN  \n",
       "102  16,163.39        NaN  \n",
       "103  17,663.39        NaN  \n",
       "104  18,663.39        NaN  \n",
       "\n",
       "[105 rows x 8 columns]"
      ]
     },
     "execution_count": 84,
     "metadata": {},
     "output_type": "execute_result"
    }
   ],
   "source": [
    "df[df.dtypes[df.dtypes =='object'].index]"
   ]
  },
  {
   "cell_type": "code",
   "execution_count": 85,
   "id": "fresh-warrior",
   "metadata": {},
   "outputs": [
    {
     "data": {
      "text/plain": [
       "\\tTransaction Date    False\n",
       "Value Date            False\n",
       "Cheque No.            False\n",
       "Description           False\n",
       "Branch Code            True\n",
       "Debit                 False\n",
       "Credit                False\n",
       "Balance               False\n",
       "Unnamed: 8            False\n",
       "dtype: bool"
      ]
     },
     "execution_count": 85,
     "metadata": {},
     "output_type": "execute_result"
    }
   ],
   "source": [
    "df.dtypes=='int64'"
   ]
  },
  {
   "cell_type": "code",
   "execution_count": 86,
   "id": "systematic-feeling",
   "metadata": {},
   "outputs": [
    {
     "data": {
      "text/plain": [
       "Index(['\\tTransaction Date', 'Value Date', 'Cheque No.', 'Description',\n",
       "       'Branch Code', 'Debit', 'Credit', 'Balance', 'Unnamed: 8'],\n",
       "      dtype='object')"
      ]
     },
     "execution_count": 86,
     "metadata": {},
     "output_type": "execute_result"
    }
   ],
   "source": [
    "df.columns"
   ]
  },
  {
   "cell_type": "code",
   "execution_count": 94,
   "id": "prerequisite-senegal",
   "metadata": {},
   "outputs": [
    {
     "data": {
      "text/html": [
       "<div>\n",
       "<style scoped>\n",
       "    .dataframe tbody tr th:only-of-type {\n",
       "        vertical-align: middle;\n",
       "    }\n",
       "\n",
       "    .dataframe tbody tr th {\n",
       "        vertical-align: top;\n",
       "    }\n",
       "\n",
       "    .dataframe thead th {\n",
       "        text-align: right;\n",
       "    }\n",
       "</style>\n",
       "<table border=\"1\" class=\"dataframe\">\n",
       "  <thead>\n",
       "    <tr style=\"text-align: right;\">\n",
       "      <th></th>\n",
       "      <th>\\tTransaction Date</th>\n",
       "      <th>Value Date</th>\n",
       "      <th>Cheque No.</th>\n",
       "      <th>Description</th>\n",
       "      <th>Branch Code</th>\n",
       "      <th>Debit</th>\n",
       "      <th>Credit</th>\n",
       "      <th>Balance</th>\n",
       "      <th>Unnamed: 8</th>\n",
       "    </tr>\n",
       "  </thead>\n",
       "  <tbody>\n",
       "  </tbody>\n",
       "</table>\n",
       "</div>"
      ],
      "text/plain": [
       "Empty DataFrame\n",
       "Columns: [\tTransaction Date, Value Date, Cheque No., Description, Branch Code, Debit, Credit, Balance, Unnamed: 8]\n",
       "Index: []"
      ]
     },
     "execution_count": 94,
     "metadata": {},
     "output_type": "execute_result"
    }
   ],
   "source": [
    "df.head(0)"
   ]
  },
  {
   "cell_type": "code",
   "execution_count": 89,
   "id": "greater-taste",
   "metadata": {},
   "outputs": [
    {
     "data": {
      "text/plain": [
       "pandas.core.series.Series"
      ]
     },
     "execution_count": 89,
     "metadata": {},
     "output_type": "execute_result"
    }
   ],
   "source": [
    "type(df['Debit'])"
   ]
  },
  {
   "cell_type": "code",
   "execution_count": 96,
   "id": "younger-magnitude",
   "metadata": {},
   "outputs": [
    {
     "data": {
      "text/html": [
       "<div>\n",
       "<style scoped>\n",
       "    .dataframe tbody tr th:only-of-type {\n",
       "        vertical-align: middle;\n",
       "    }\n",
       "\n",
       "    .dataframe tbody tr th {\n",
       "        vertical-align: top;\n",
       "    }\n",
       "\n",
       "    .dataframe thead th {\n",
       "        text-align: right;\n",
       "    }\n",
       "</style>\n",
       "<table border=\"1\" class=\"dataframe\">\n",
       "  <thead>\n",
       "    <tr style=\"text-align: right;\">\n",
       "      <th></th>\n",
       "      <th>Debit</th>\n",
       "    </tr>\n",
       "  </thead>\n",
       "  <tbody>\n",
       "    <tr>\n",
       "      <th>0</th>\n",
       "      <td>40</td>\n",
       "    </tr>\n",
       "    <tr>\n",
       "      <th>1</th>\n",
       "      <td>10</td>\n",
       "    </tr>\n",
       "    <tr>\n",
       "      <th>2</th>\n",
       "      <td>1,000.00</td>\n",
       "    </tr>\n",
       "    <tr>\n",
       "      <th>3</th>\n",
       "      <td>60</td>\n",
       "    </tr>\n",
       "    <tr>\n",
       "      <th>4</th>\n",
       "      <td>20</td>\n",
       "    </tr>\n",
       "    <tr>\n",
       "      <th>...</th>\n",
       "      <td>...</td>\n",
       "    </tr>\n",
       "    <tr>\n",
       "      <th>100</th>\n",
       "      <td>1</td>\n",
       "    </tr>\n",
       "    <tr>\n",
       "      <th>101</th>\n",
       "      <td>NaN</td>\n",
       "    </tr>\n",
       "    <tr>\n",
       "      <th>102</th>\n",
       "      <td>1,500.00</td>\n",
       "    </tr>\n",
       "    <tr>\n",
       "      <th>103</th>\n",
       "      <td>1,000.00</td>\n",
       "    </tr>\n",
       "    <tr>\n",
       "      <th>104</th>\n",
       "      <td>NaN</td>\n",
       "    </tr>\n",
       "  </tbody>\n",
       "</table>\n",
       "<p>105 rows × 1 columns</p>\n",
       "</div>"
      ],
      "text/plain": [
       "        Debit\n",
       "0          40\n",
       "1          10\n",
       "2    1,000.00\n",
       "3          60\n",
       "4          20\n",
       "..        ...\n",
       "100         1\n",
       "101       NaN\n",
       "102  1,500.00\n",
       "103  1,000.00\n",
       "104       NaN\n",
       "\n",
       "[105 rows x 1 columns]"
      ]
     },
     "execution_count": 96,
     "metadata": {},
     "output_type": "execute_result"
    }
   ],
   "source": [
    "df[['Debit']]"
   ]
  },
  {
   "cell_type": "code",
   "execution_count": 97,
   "id": "apparent-grain",
   "metadata": {},
   "outputs": [
    {
     "ename": "NameError",
     "evalue": "name 'np' is not defined",
     "output_type": "error",
     "traceback": [
      "\u001b[1;31m---------------------------------------------------------------------------\u001b[0m",
      "\u001b[1;31mNameError\u001b[0m                                 Traceback (most recent call last)",
      "\u001b[1;32m<ipython-input-97-790d408e8481>\u001b[0m in \u001b[0;36m<module>\u001b[1;34m\u001b[0m\n\u001b[1;32m----> 1\u001b[1;33m \u001b[0mdf\u001b[0m\u001b[1;33m.\u001b[0m\u001b[0miloc\u001b[0m\u001b[1;33m[\u001b[0m\u001b[0mnp\u001b[0m\u001b[1;33m.\u001b[0m\u001b[0mwhere\u001b[0m\u001b[1;33m(\u001b[0m\u001b[0mdf\u001b[0m\u001b[1;33m[\u001b[0m\u001b[1;34m'Debit'\u001b[0m\u001b[1;33m]\u001b[0m\u001b[1;33m.\u001b[0m\u001b[0misnull\u001b[0m\u001b[1;33m(\u001b[0m\u001b[1;33m)\u001b[0m\u001b[1;33m!=\u001b[0m\u001b[1;32mTrue\u001b[0m\u001b[1;33m)\u001b[0m\u001b[1;33m]\u001b[0m\u001b[1;33m\u001b[0m\u001b[0m\n\u001b[0m",
      "\u001b[1;31mNameError\u001b[0m: name 'np' is not defined"
     ]
    }
   ],
   "source": [
    "df.iloc[np.where(df['Debit'].isnull()!=True)]"
   ]
  },
  {
   "cell_type": "code",
   "execution_count": 99,
   "id": "cubic-inspiration",
   "metadata": {},
   "outputs": [
    {
     "data": {
      "text/plain": [
       "0       True\n",
       "1       True\n",
       "2       True\n",
       "3       True\n",
       "4       True\n",
       "       ...  \n",
       "100     True\n",
       "101    False\n",
       "102     True\n",
       "103     True\n",
       "104    False\n",
       "Name: Debit, Length: 105, dtype: bool"
      ]
     },
     "execution_count": 99,
     "metadata": {},
     "output_type": "execute_result"
    }
   ],
   "source": [
    "df['Debit'].isnull()==False"
   ]
  },
  {
   "cell_type": "code",
   "execution_count": 100,
   "id": "spectacular-annual",
   "metadata": {},
   "outputs": [
    {
     "data": {
      "text/html": [
       "<div>\n",
       "<style scoped>\n",
       "    .dataframe tbody tr th:only-of-type {\n",
       "        vertical-align: middle;\n",
       "    }\n",
       "\n",
       "    .dataframe tbody tr th {\n",
       "        vertical-align: top;\n",
       "    }\n",
       "\n",
       "    .dataframe thead th {\n",
       "        text-align: right;\n",
       "    }\n",
       "</style>\n",
       "<table border=\"1\" class=\"dataframe\">\n",
       "  <thead>\n",
       "    <tr style=\"text-align: right;\">\n",
       "      <th></th>\n",
       "      <th>\\tTransaction Date</th>\n",
       "      <th>Value Date</th>\n",
       "      <th>Cheque No.</th>\n",
       "      <th>Description</th>\n",
       "      <th>Branch Code</th>\n",
       "      <th>Debit</th>\n",
       "      <th>Credit</th>\n",
       "      <th>Balance</th>\n",
       "      <th>Unnamed: 8</th>\n",
       "    </tr>\n",
       "  </thead>\n",
       "  <tbody>\n",
       "    <tr>\n",
       "      <th>0</th>\n",
       "      <td>30/09/2021 19:40</td>\n",
       "      <td>30-Sep-21</td>\n",
       "      <td>1.27E+11</td>\n",
       "      <td>UPI/DR/127319274295/BharatpeM/ICIC/**71630@ici...</td>\n",
       "      <td>33</td>\n",
       "      <td>40</td>\n",
       "      <td>NaN</td>\n",
       "      <td>12,365.07</td>\n",
       "      <td>NaN</td>\n",
       "    </tr>\n",
       "    <tr>\n",
       "      <th>1</th>\n",
       "      <td>28/09/2021 16:20</td>\n",
       "      <td>28-Sep-21</td>\n",
       "      <td>1.27E+11</td>\n",
       "      <td>UPI/DR/127116474442/Maa ashap/PYTM/**x0ty8@pay...</td>\n",
       "      <td>33</td>\n",
       "      <td>10</td>\n",
       "      <td>NaN</td>\n",
       "      <td>12,405.07</td>\n",
       "      <td>NaN</td>\n",
       "    </tr>\n",
       "    <tr>\n",
       "      <th>2</th>\n",
       "      <td>28/09/2021 12:45</td>\n",
       "      <td>28-Sep-21</td>\n",
       "      <td>1.27E+11</td>\n",
       "      <td>ATM Cash-MCRM2193-GANESHNAGARKHANDWARINDOREMPI...</td>\n",
       "      <td>33</td>\n",
       "      <td>1,000.00</td>\n",
       "      <td>NaN</td>\n",
       "      <td>12,415.07</td>\n",
       "      <td>NaN</td>\n",
       "    </tr>\n",
       "    <tr>\n",
       "      <th>3</th>\n",
       "      <td>27/09/2021 10:08</td>\n",
       "      <td>27-Sep-21</td>\n",
       "      <td>1.27E+11</td>\n",
       "      <td>UPI/DR/127010869758/Maa ashap/PYTM/**x0ty8@pay...</td>\n",
       "      <td>33</td>\n",
       "      <td>60</td>\n",
       "      <td>NaN</td>\n",
       "      <td>13,415.07</td>\n",
       "      <td>NaN</td>\n",
       "    </tr>\n",
       "    <tr>\n",
       "      <th>4</th>\n",
       "      <td>26/09/2021 23:40</td>\n",
       "      <td>27-Sep-21</td>\n",
       "      <td>1.27E+11</td>\n",
       "      <td>UPI/DR/126923573774/Guru krip/PYTM/**y9o3k@pay...</td>\n",
       "      <td>33</td>\n",
       "      <td>20</td>\n",
       "      <td>NaN</td>\n",
       "      <td>13,475.07</td>\n",
       "      <td>NaN</td>\n",
       "    </tr>\n",
       "    <tr>\n",
       "      <th>...</th>\n",
       "      <td>...</td>\n",
       "      <td>...</td>\n",
       "      <td>...</td>\n",
       "      <td>...</td>\n",
       "      <td>...</td>\n",
       "      <td>...</td>\n",
       "      <td>...</td>\n",
       "      <td>...</td>\n",
       "      <td>...</td>\n",
       "    </tr>\n",
       "    <tr>\n",
       "      <th>98</th>\n",
       "      <td>25/04/2021 20:59</td>\n",
       "      <td>26-Apr-21</td>\n",
       "      <td>1.12E+11</td>\n",
       "      <td>UPI/DR/111525129248/DULICHAND/BARB/**97209@ybl...</td>\n",
       "      <td>33</td>\n",
       "      <td>1,000.00</td>\n",
       "      <td>NaN</td>\n",
       "      <td>14,864.39</td>\n",
       "      <td>NaN</td>\n",
       "    </tr>\n",
       "    <tr>\n",
       "      <th>99</th>\n",
       "      <td>24/04/2021 19:50</td>\n",
       "      <td>24-Apr-21</td>\n",
       "      <td>1.11E+11</td>\n",
       "      <td>UPI/DR/111439261165/Bank Acco/BARB/**010100002...</td>\n",
       "      <td>33</td>\n",
       "      <td>500</td>\n",
       "      <td>NaN</td>\n",
       "      <td>15,864.39</td>\n",
       "      <td>NaN</td>\n",
       "    </tr>\n",
       "    <tr>\n",
       "      <th>100</th>\n",
       "      <td>24/04/2021 19:41</td>\n",
       "      <td>24-Apr-21</td>\n",
       "      <td>1.11E+11</td>\n",
       "      <td>UPI/DR/111433024040/LALITBIRL/BARB/**79825@ybl...</td>\n",
       "      <td>33</td>\n",
       "      <td>1</td>\n",
       "      <td>NaN</td>\n",
       "      <td>16,364.39</td>\n",
       "      <td>NaN</td>\n",
       "    </tr>\n",
       "    <tr>\n",
       "      <th>102</th>\n",
       "      <td>21/04/2021 11:57</td>\n",
       "      <td>21-Apr-21</td>\n",
       "      <td>1.11E+11</td>\n",
       "      <td>IB-IMPS-DR//BARB/**2435//21/04/2021 11:57:16</td>\n",
       "      <td>33</td>\n",
       "      <td>1,500.00</td>\n",
       "      <td>NaN</td>\n",
       "      <td>16,163.39</td>\n",
       "      <td>NaN</td>\n",
       "    </tr>\n",
       "    <tr>\n",
       "      <th>103</th>\n",
       "      <td>19/04/2021 08:02</td>\n",
       "      <td>19-Apr-21</td>\n",
       "      <td>1.11E+11</td>\n",
       "      <td>IB-IMPS-DR//BARB/**2435//19/04/2021 08:02:27</td>\n",
       "      <td>33</td>\n",
       "      <td>1,000.00</td>\n",
       "      <td>NaN</td>\n",
       "      <td>17,663.39</td>\n",
       "      <td>NaN</td>\n",
       "    </tr>\n",
       "  </tbody>\n",
       "</table>\n",
       "<p>83 rows × 9 columns</p>\n",
       "</div>"
      ],
      "text/plain": [
       "    \\tTransaction Date Value Date Cheque No.  \\\n",
       "0     30/09/2021 19:40  30-Sep-21   1.27E+11   \n",
       "1     28/09/2021 16:20  28-Sep-21   1.27E+11   \n",
       "2     28/09/2021 12:45  28-Sep-21   1.27E+11   \n",
       "3     27/09/2021 10:08  27-Sep-21   1.27E+11   \n",
       "4     26/09/2021 23:40  27-Sep-21   1.27E+11   \n",
       "..                 ...        ...        ...   \n",
       "98    25/04/2021 20:59  26-Apr-21   1.12E+11   \n",
       "99    24/04/2021 19:50  24-Apr-21   1.11E+11   \n",
       "100   24/04/2021 19:41  24-Apr-21   1.11E+11   \n",
       "102   21/04/2021 11:57  21-Apr-21   1.11E+11   \n",
       "103   19/04/2021 08:02  19-Apr-21   1.11E+11   \n",
       "\n",
       "                                           Description  Branch Code     Debit  \\\n",
       "0    UPI/DR/127319274295/BharatpeM/ICIC/**71630@ici...           33        40   \n",
       "1    UPI/DR/127116474442/Maa ashap/PYTM/**x0ty8@pay...           33        10   \n",
       "2    ATM Cash-MCRM2193-GANESHNAGARKHANDWARINDOREMPI...           33  1,000.00   \n",
       "3    UPI/DR/127010869758/Maa ashap/PYTM/**x0ty8@pay...           33        60   \n",
       "4    UPI/DR/126923573774/Guru krip/PYTM/**y9o3k@pay...           33        20   \n",
       "..                                                 ...          ...       ...   \n",
       "98   UPI/DR/111525129248/DULICHAND/BARB/**97209@ybl...           33  1,000.00   \n",
       "99   UPI/DR/111439261165/Bank Acco/BARB/**010100002...           33       500   \n",
       "100  UPI/DR/111433024040/LALITBIRL/BARB/**79825@ybl...           33         1   \n",
       "102       IB-IMPS-DR//BARB/**2435//21/04/2021 11:57:16           33  1,500.00   \n",
       "103       IB-IMPS-DR//BARB/**2435//19/04/2021 08:02:27           33  1,000.00   \n",
       "\n",
       "    Credit    Balance Unnamed: 8  \n",
       "0      NaN  12,365.07        NaN  \n",
       "1      NaN  12,405.07        NaN  \n",
       "2      NaN  12,415.07        NaN  \n",
       "3      NaN  13,415.07        NaN  \n",
       "4      NaN  13,475.07        NaN  \n",
       "..     ...        ...        ...  \n",
       "98     NaN  14,864.39        NaN  \n",
       "99     NaN  15,864.39        NaN  \n",
       "100    NaN  16,364.39        NaN  \n",
       "102    NaN  16,163.39        NaN  \n",
       "103    NaN  17,663.39        NaN  \n",
       "\n",
       "[83 rows x 9 columns]"
      ]
     },
     "execution_count": 100,
     "metadata": {},
     "output_type": "execute_result"
    }
   ],
   "source": [
    "df[df['Debit'].isnull()==False]"
   ]
  },
  {
   "cell_type": "code",
   "execution_count": 101,
   "id": "joint-characterization",
   "metadata": {},
   "outputs": [],
   "source": [
    "import numpy as np"
   ]
  },
  {
   "cell_type": "code",
   "execution_count": 105,
   "id": "metric-consumer",
   "metadata": {},
   "outputs": [
    {
     "data": {
      "text/plain": [
       "(array([  0,   1,   2,   3,   4,   5,   6,   7,   8,   9,  10,  11,  12,\n",
       "         14,  15,  16,  17,  18,  19,  20,  21,  22,  23,  24,  27,  28,\n",
       "         29,  30,  31,  32,  33,  34,  37,  39,  40,  41,  42,  43,  44,\n",
       "         45,  46,  48,  49,  50,  51,  52,  55,  56,  57,  58,  59,  60,\n",
       "         61,  62,  63,  65,  67,  69,  70,  71,  72,  74,  75,  77,  79,\n",
       "         80,  81,  82,  84,  86,  87,  88,  90,  91,  92,  93,  94,  97,\n",
       "         98,  99, 100, 102, 103], dtype=int64),)"
      ]
     },
     "execution_count": 105,
     "metadata": {},
     "output_type": "execute_result"
    }
   ],
   "source": [
    "np.where(df['Debit'].isnull()!=True)"
   ]
  },
  {
   "cell_type": "code",
   "execution_count": 111,
   "id": "exotic-camera",
   "metadata": {},
   "outputs": [
    {
     "data": {
      "text/html": [
       "<div>\n",
       "<style scoped>\n",
       "    .dataframe tbody tr th:only-of-type {\n",
       "        vertical-align: middle;\n",
       "    }\n",
       "\n",
       "    .dataframe tbody tr th {\n",
       "        vertical-align: top;\n",
       "    }\n",
       "\n",
       "    .dataframe thead th {\n",
       "        text-align: right;\n",
       "    }\n",
       "</style>\n",
       "<table border=\"1\" class=\"dataframe\">\n",
       "  <thead>\n",
       "    <tr style=\"text-align: right;\">\n",
       "      <th></th>\n",
       "      <th>Debit</th>\n",
       "      <th>Value Date</th>\n",
       "    </tr>\n",
       "  </thead>\n",
       "  <tbody>\n",
       "    <tr>\n",
       "      <th>0</th>\n",
       "      <td>40</td>\n",
       "      <td>30-Sep-21</td>\n",
       "    </tr>\n",
       "    <tr>\n",
       "      <th>1</th>\n",
       "      <td>10</td>\n",
       "      <td>28-Sep-21</td>\n",
       "    </tr>\n",
       "    <tr>\n",
       "      <th>2</th>\n",
       "      <td>1,000.00</td>\n",
       "      <td>28-Sep-21</td>\n",
       "    </tr>\n",
       "    <tr>\n",
       "      <th>3</th>\n",
       "      <td>60</td>\n",
       "      <td>27-Sep-21</td>\n",
       "    </tr>\n",
       "    <tr>\n",
       "      <th>4</th>\n",
       "      <td>20</td>\n",
       "      <td>27-Sep-21</td>\n",
       "    </tr>\n",
       "    <tr>\n",
       "      <th>...</th>\n",
       "      <td>...</td>\n",
       "      <td>...</td>\n",
       "    </tr>\n",
       "    <tr>\n",
       "      <th>98</th>\n",
       "      <td>1,000.00</td>\n",
       "      <td>26-Apr-21</td>\n",
       "    </tr>\n",
       "    <tr>\n",
       "      <th>99</th>\n",
       "      <td>500</td>\n",
       "      <td>24-Apr-21</td>\n",
       "    </tr>\n",
       "    <tr>\n",
       "      <th>100</th>\n",
       "      <td>1</td>\n",
       "      <td>24-Apr-21</td>\n",
       "    </tr>\n",
       "    <tr>\n",
       "      <th>102</th>\n",
       "      <td>1,500.00</td>\n",
       "      <td>21-Apr-21</td>\n",
       "    </tr>\n",
       "    <tr>\n",
       "      <th>103</th>\n",
       "      <td>1,000.00</td>\n",
       "      <td>19-Apr-21</td>\n",
       "    </tr>\n",
       "  </tbody>\n",
       "</table>\n",
       "<p>83 rows × 2 columns</p>\n",
       "</div>"
      ],
      "text/plain": [
       "        Debit Value Date\n",
       "0          40  30-Sep-21\n",
       "1          10  28-Sep-21\n",
       "2    1,000.00  28-Sep-21\n",
       "3          60  27-Sep-21\n",
       "4          20  27-Sep-21\n",
       "..        ...        ...\n",
       "98   1,000.00  26-Apr-21\n",
       "99        500  24-Apr-21\n",
       "100         1  24-Apr-21\n",
       "102  1,500.00  21-Apr-21\n",
       "103  1,000.00  19-Apr-21\n",
       "\n",
       "[83 rows x 2 columns]"
      ]
     },
     "execution_count": 111,
     "metadata": {},
     "output_type": "execute_result"
    }
   ],
   "source": [
    "df.iloc[np.where(df['Debit'].isnull()==False)][['Debit','Value Date']]"
   ]
  },
  {
   "cell_type": "code",
   "execution_count": 162,
   "id": "earlier-serbia",
   "metadata": {},
   "outputs": [],
   "source": [
    "s=df['Debit']"
   ]
  },
  {
   "cell_type": "code",
   "execution_count": 163,
   "id": "skilled-trigger",
   "metadata": {},
   "outputs": [
    {
     "data": {
      "text/plain": [
       "pandas.core.series.Series"
      ]
     },
     "execution_count": 163,
     "metadata": {},
     "output_type": "execute_result"
    }
   ],
   "source": [
    "type(s)"
   ]
  },
  {
   "cell_type": "code",
   "execution_count": 115,
   "id": "separate-nitrogen",
   "metadata": {},
   "outputs": [
    {
     "data": {
      "text/html": [
       "<div>\n",
       "<style scoped>\n",
       "    .dataframe tbody tr th:only-of-type {\n",
       "        vertical-align: middle;\n",
       "    }\n",
       "\n",
       "    .dataframe tbody tr th {\n",
       "        vertical-align: top;\n",
       "    }\n",
       "\n",
       "    .dataframe thead th {\n",
       "        text-align: right;\n",
       "    }\n",
       "</style>\n",
       "<table border=\"1\" class=\"dataframe\">\n",
       "  <thead>\n",
       "    <tr style=\"text-align: right;\">\n",
       "      <th></th>\n",
       "      <th>Debit</th>\n",
       "      <th>Value Date</th>\n",
       "    </tr>\n",
       "  </thead>\n",
       "  <tbody>\n",
       "    <tr>\n",
       "      <th>count</th>\n",
       "      <td>83</td>\n",
       "      <td>83</td>\n",
       "    </tr>\n",
       "    <tr>\n",
       "      <th>unique</th>\n",
       "      <td>48</td>\n",
       "      <td>61</td>\n",
       "    </tr>\n",
       "    <tr>\n",
       "      <th>top</th>\n",
       "      <td>1,000.00</td>\n",
       "      <td>03-Jun-21</td>\n",
       "    </tr>\n",
       "    <tr>\n",
       "      <th>freq</th>\n",
       "      <td>10</td>\n",
       "      <td>4</td>\n",
       "    </tr>\n",
       "  </tbody>\n",
       "</table>\n",
       "</div>"
      ],
      "text/plain": [
       "           Debit Value Date\n",
       "count         83         83\n",
       "unique        48         61\n",
       "top     1,000.00  03-Jun-21\n",
       "freq          10          4"
      ]
     },
     "execution_count": 115,
     "metadata": {},
     "output_type": "execute_result"
    }
   ],
   "source": [
    "df1.describe()"
   ]
  },
  {
   "cell_type": "code",
   "execution_count": 140,
   "id": "superior-shopper",
   "metadata": {},
   "outputs": [],
   "source": [
    "debit=df.iloc[np.where(df['Debit'].isnull()==False)][[\"Debit\"]]"
   ]
  },
  {
   "cell_type": "code",
   "execution_count": 141,
   "id": "informational-principal",
   "metadata": {},
   "outputs": [
    {
     "data": {
      "text/html": [
       "<div>\n",
       "<style scoped>\n",
       "    .dataframe tbody tr th:only-of-type {\n",
       "        vertical-align: middle;\n",
       "    }\n",
       "\n",
       "    .dataframe tbody tr th {\n",
       "        vertical-align: top;\n",
       "    }\n",
       "\n",
       "    .dataframe thead th {\n",
       "        text-align: right;\n",
       "    }\n",
       "</style>\n",
       "<table border=\"1\" class=\"dataframe\">\n",
       "  <thead>\n",
       "    <tr style=\"text-align: right;\">\n",
       "      <th></th>\n",
       "      <th>Debit</th>\n",
       "    </tr>\n",
       "  </thead>\n",
       "  <tbody>\n",
       "    <tr>\n",
       "      <th>0</th>\n",
       "      <td>40</td>\n",
       "    </tr>\n",
       "    <tr>\n",
       "      <th>1</th>\n",
       "      <td>10</td>\n",
       "    </tr>\n",
       "    <tr>\n",
       "      <th>2</th>\n",
       "      <td>1,000.00</td>\n",
       "    </tr>\n",
       "    <tr>\n",
       "      <th>3</th>\n",
       "      <td>60</td>\n",
       "    </tr>\n",
       "    <tr>\n",
       "      <th>4</th>\n",
       "      <td>20</td>\n",
       "    </tr>\n",
       "    <tr>\n",
       "      <th>...</th>\n",
       "      <td>...</td>\n",
       "    </tr>\n",
       "    <tr>\n",
       "      <th>98</th>\n",
       "      <td>1,000.00</td>\n",
       "    </tr>\n",
       "    <tr>\n",
       "      <th>99</th>\n",
       "      <td>500</td>\n",
       "    </tr>\n",
       "    <tr>\n",
       "      <th>100</th>\n",
       "      <td>1</td>\n",
       "    </tr>\n",
       "    <tr>\n",
       "      <th>102</th>\n",
       "      <td>1,500.00</td>\n",
       "    </tr>\n",
       "    <tr>\n",
       "      <th>103</th>\n",
       "      <td>1,000.00</td>\n",
       "    </tr>\n",
       "  </tbody>\n",
       "</table>\n",
       "<p>83 rows × 1 columns</p>\n",
       "</div>"
      ],
      "text/plain": [
       "        Debit\n",
       "0          40\n",
       "1          10\n",
       "2    1,000.00\n",
       "3          60\n",
       "4          20\n",
       "..        ...\n",
       "98   1,000.00\n",
       "99        500\n",
       "100         1\n",
       "102  1,500.00\n",
       "103  1,000.00\n",
       "\n",
       "[83 rows x 1 columns]"
      ]
     },
     "execution_count": 141,
     "metadata": {},
     "output_type": "execute_result"
    }
   ],
   "source": [
    "debit"
   ]
  },
  {
   "cell_type": "code",
   "execution_count": 146,
   "id": "oriental-coral",
   "metadata": {},
   "outputs": [
    {
     "data": {
      "text/plain": [
       "pandas.core.frame.DataFrame"
      ]
     },
     "execution_count": 146,
     "metadata": {},
     "output_type": "execute_result"
    }
   ],
   "source": [
    "type(debit)"
   ]
  },
  {
   "cell_type": "code",
   "execution_count": 150,
   "id": "exciting-toolbox",
   "metadata": {},
   "outputs": [
    {
     "data": {
      "text/plain": [
       "list"
      ]
     },
     "execution_count": 150,
     "metadata": {},
     "output_type": "execute_result"
    }
   ],
   "source": [
    "deb=type([debit])\n",
    "deb"
   ]
  },
  {
   "cell_type": "code",
   "execution_count": 159,
   "id": "infrared-composite",
   "metadata": {},
   "outputs": [
    {
     "ename": "TypeError",
     "evalue": "list indices must be integers or slices, not list",
     "output_type": "error",
     "traceback": [
      "\u001b[1;31m---------------------------------------------------------------------------\u001b[0m",
      "\u001b[1;31mTypeError\u001b[0m                                 Traceback (most recent call last)",
      "\u001b[1;32m<ipython-input-159-acca94deadd7>\u001b[0m in \u001b[0;36m<module>\u001b[1;34m\u001b[0m\n\u001b[1;32m----> 1\u001b[1;33m \u001b[1;33m[\u001b[0m\u001b[0mdf\u001b[0m\u001b[1;33m[\u001b[0m\u001b[1;34m'Debit'\u001b[0m\u001b[1;33m]\u001b[0m\u001b[1;33m.\u001b[0m\u001b[0misnull\u001b[0m\u001b[1;33m(\u001b[0m\u001b[1;33m)\u001b[0m\u001b[1;33m==\u001b[0m\u001b[1;32mFalse\u001b[0m\u001b[1;33m]\u001b[0m\u001b[1;33m[\u001b[0m\u001b[1;33m[\u001b[0m\u001b[1;34m'Debit'\u001b[0m\u001b[1;33m]\u001b[0m\u001b[1;33m]\u001b[0m\u001b[1;33m\u001b[0m\u001b[0m\n\u001b[0m",
      "\u001b[1;31mTypeError\u001b[0m: list indices must be integers or slices, not list"
     ]
    }
   ],
   "source": [
    "[df['Debit'].isnull()==False][['Debit']]"
   ]
  },
  {
   "cell_type": "code",
   "execution_count": 137,
   "id": "sustained-green",
   "metadata": {},
   "outputs": [
    {
     "ename": "ValueError",
     "evalue": "Buffer has wrong number of dimensions (expected 1, got 0)",
     "output_type": "error",
     "traceback": [
      "\u001b[1;31m---------------------------------------------------------------------------\u001b[0m",
      "\u001b[1;31mValueError\u001b[0m                                Traceback (most recent call last)",
      "\u001b[1;32m<ipython-input-137-dad9f67324f4>\u001b[0m in \u001b[0;36m<module>\u001b[1;34m\u001b[0m\n\u001b[1;32m----> 1\u001b[1;33m \u001b[0mpd\u001b[0m\u001b[1;33m.\u001b[0m\u001b[0mto_numeric\u001b[0m\u001b[1;33m(\u001b[0m\u001b[0mdeb\u001b[0m\u001b[1;33m)\u001b[0m\u001b[1;33m\u001b[0m\u001b[0m\n\u001b[0m",
      "\u001b[1;32m~\\Miniconda3\\lib\\site-packages\\pandas\\core\\tools\\numeric.py\u001b[0m in \u001b[0;36mto_numeric\u001b[1;34m(arg, errors, downcast)\u001b[0m\n\u001b[0;32m    151\u001b[0m         \u001b[1;32mtry\u001b[0m\u001b[1;33m:\u001b[0m\u001b[1;33m\u001b[0m\u001b[0m\n\u001b[0;32m    152\u001b[0m             values = lib.maybe_convert_numeric(\n\u001b[1;32m--> 153\u001b[1;33m                 \u001b[0mvalues\u001b[0m\u001b[1;33m,\u001b[0m \u001b[0mset\u001b[0m\u001b[1;33m(\u001b[0m\u001b[1;33m)\u001b[0m\u001b[1;33m,\u001b[0m \u001b[0mcoerce_numeric\u001b[0m\u001b[1;33m=\u001b[0m\u001b[0mcoerce_numeric\u001b[0m\u001b[1;33m\u001b[0m\u001b[0m\n\u001b[0m\u001b[0;32m    154\u001b[0m             )\n\u001b[0;32m    155\u001b[0m         \u001b[1;32mexcept\u001b[0m \u001b[1;33m(\u001b[0m\u001b[0mValueError\u001b[0m\u001b[1;33m,\u001b[0m \u001b[0mTypeError\u001b[0m\u001b[1;33m)\u001b[0m\u001b[1;33m:\u001b[0m\u001b[1;33m\u001b[0m\u001b[0m\n",
      "\u001b[1;32mpandas\\_libs\\lib.pyx\u001b[0m in \u001b[0;36mpandas._libs.lib.maybe_convert_numeric\u001b[1;34m()\u001b[0m\n",
      "\u001b[1;31mValueError\u001b[0m: Buffer has wrong number of dimensions (expected 1, got 0)"
     ]
    }
   ],
   "source": [
    "pd.to_numeric(deb)"
   ]
  },
  {
   "cell_type": "code",
   "execution_count": 129,
   "id": "defined-average",
   "metadata": {},
   "outputs": [
    {
     "ename": "ValueError",
     "evalue": "Unable to parse string \"1,000.00\" at position 2",
     "output_type": "error",
     "traceback": [
      "\u001b[1;31m---------------------------------------------------------------------------\u001b[0m",
      "\u001b[1;31mValueError\u001b[0m                                Traceback (most recent call last)",
      "\u001b[1;32mpandas\\_libs\\lib.pyx\u001b[0m in \u001b[0;36mpandas._libs.lib.maybe_convert_numeric\u001b[1;34m()\u001b[0m\n",
      "\u001b[1;31mValueError\u001b[0m: Unable to parse string \"1,000.00\"",
      "\nDuring handling of the above exception, another exception occurred:\n",
      "\u001b[1;31mValueError\u001b[0m                                Traceback (most recent call last)",
      "\u001b[1;32m<ipython-input-129-10f5f95a0799>\u001b[0m in \u001b[0;36m<module>\u001b[1;34m\u001b[0m\n\u001b[1;32m----> 1\u001b[1;33m \u001b[0ms\u001b[0m\u001b[1;33m=\u001b[0m\u001b[0mpd\u001b[0m\u001b[1;33m.\u001b[0m\u001b[0mto_numeric\u001b[0m\u001b[1;33m(\u001b[0m\u001b[0mdf\u001b[0m\u001b[1;33m[\u001b[0m\u001b[1;34m'Debit'\u001b[0m\u001b[1;33m]\u001b[0m\u001b[1;33m)\u001b[0m\u001b[1;33m\u001b[0m\u001b[0m\n\u001b[0m",
      "\u001b[1;32m~\\Miniconda3\\lib\\site-packages\\pandas\\core\\tools\\numeric.py\u001b[0m in \u001b[0;36mto_numeric\u001b[1;34m(arg, errors, downcast)\u001b[0m\n\u001b[0;32m    151\u001b[0m         \u001b[1;32mtry\u001b[0m\u001b[1;33m:\u001b[0m\u001b[1;33m\u001b[0m\u001b[0m\n\u001b[0;32m    152\u001b[0m             values = lib.maybe_convert_numeric(\n\u001b[1;32m--> 153\u001b[1;33m                 \u001b[0mvalues\u001b[0m\u001b[1;33m,\u001b[0m \u001b[0mset\u001b[0m\u001b[1;33m(\u001b[0m\u001b[1;33m)\u001b[0m\u001b[1;33m,\u001b[0m \u001b[0mcoerce_numeric\u001b[0m\u001b[1;33m=\u001b[0m\u001b[0mcoerce_numeric\u001b[0m\u001b[1;33m\u001b[0m\u001b[0m\n\u001b[0m\u001b[0;32m    154\u001b[0m             )\n\u001b[0;32m    155\u001b[0m         \u001b[1;32mexcept\u001b[0m \u001b[1;33m(\u001b[0m\u001b[0mValueError\u001b[0m\u001b[1;33m,\u001b[0m \u001b[0mTypeError\u001b[0m\u001b[1;33m)\u001b[0m\u001b[1;33m:\u001b[0m\u001b[1;33m\u001b[0m\u001b[0m\n",
      "\u001b[1;32mpandas\\_libs\\lib.pyx\u001b[0m in \u001b[0;36mpandas._libs.lib.maybe_convert_numeric\u001b[1;34m()\u001b[0m\n",
      "\u001b[1;31mValueError\u001b[0m: Unable to parse string \"1,000.00\" at position 2"
     ]
    }
   ],
   "source": [
    "s=pd.to_numeric(df['Debit'])"
   ]
  },
  {
   "cell_type": "code",
   "execution_count": 128,
   "id": "normal-politics",
   "metadata": {},
   "outputs": [
    {
     "data": {
      "text/plain": [
       "pandas.core.series.Series"
      ]
     },
     "execution_count": 128,
     "metadata": {},
     "output_type": "execute_result"
    }
   ],
   "source": [
    "type(s)"
   ]
  },
  {
   "cell_type": "code",
   "execution_count": 164,
   "id": "human-october",
   "metadata": {},
   "outputs": [],
   "source": [
    "l=df['Debit']"
   ]
  },
  {
   "cell_type": "code",
   "execution_count": 166,
   "id": "improved-ethnic",
   "metadata": {},
   "outputs": [
    {
     "data": {
      "text/plain": [
       "pandas.core.series.Series"
      ]
     },
     "execution_count": 166,
     "metadata": {},
     "output_type": "execute_result"
    }
   ],
   "source": [
    "type(l)"
   ]
  },
  {
   "cell_type": "code",
   "execution_count": 167,
   "id": "sought-transmission",
   "metadata": {},
   "outputs": [
    {
     "ename": "ValueError",
     "evalue": "Unable to parse string \"1,000.00\" at position 2",
     "output_type": "error",
     "traceback": [
      "\u001b[1;31m---------------------------------------------------------------------------\u001b[0m",
      "\u001b[1;31mValueError\u001b[0m                                Traceback (most recent call last)",
      "\u001b[1;32mpandas\\_libs\\lib.pyx\u001b[0m in \u001b[0;36mpandas._libs.lib.maybe_convert_numeric\u001b[1;34m()\u001b[0m\n",
      "\u001b[1;31mValueError\u001b[0m: Unable to parse string \"1,000.00\"",
      "\nDuring handling of the above exception, another exception occurred:\n",
      "\u001b[1;31mValueError\u001b[0m                                Traceback (most recent call last)",
      "\u001b[1;32m<ipython-input-167-53ec2d024a8d>\u001b[0m in \u001b[0;36m<module>\u001b[1;34m\u001b[0m\n\u001b[1;32m----> 1\u001b[1;33m \u001b[0mpd\u001b[0m\u001b[1;33m.\u001b[0m\u001b[0mto_numeric\u001b[0m\u001b[1;33m(\u001b[0m\u001b[0ml\u001b[0m\u001b[1;33m)\u001b[0m\u001b[1;33m\u001b[0m\u001b[0m\n\u001b[0m",
      "\u001b[1;32m~\\Miniconda3\\lib\\site-packages\\pandas\\core\\tools\\numeric.py\u001b[0m in \u001b[0;36mto_numeric\u001b[1;34m(arg, errors, downcast)\u001b[0m\n\u001b[0;32m    151\u001b[0m         \u001b[1;32mtry\u001b[0m\u001b[1;33m:\u001b[0m\u001b[1;33m\u001b[0m\u001b[0m\n\u001b[0;32m    152\u001b[0m             values = lib.maybe_convert_numeric(\n\u001b[1;32m--> 153\u001b[1;33m                 \u001b[0mvalues\u001b[0m\u001b[1;33m,\u001b[0m \u001b[0mset\u001b[0m\u001b[1;33m(\u001b[0m\u001b[1;33m)\u001b[0m\u001b[1;33m,\u001b[0m \u001b[0mcoerce_numeric\u001b[0m\u001b[1;33m=\u001b[0m\u001b[0mcoerce_numeric\u001b[0m\u001b[1;33m\u001b[0m\u001b[0m\n\u001b[0m\u001b[0;32m    154\u001b[0m             )\n\u001b[0;32m    155\u001b[0m         \u001b[1;32mexcept\u001b[0m \u001b[1;33m(\u001b[0m\u001b[0mValueError\u001b[0m\u001b[1;33m,\u001b[0m \u001b[0mTypeError\u001b[0m\u001b[1;33m)\u001b[0m\u001b[1;33m:\u001b[0m\u001b[1;33m\u001b[0m\u001b[0m\n",
      "\u001b[1;32mpandas\\_libs\\lib.pyx\u001b[0m in \u001b[0;36mpandas._libs.lib.maybe_convert_numeric\u001b[1;34m()\u001b[0m\n",
      "\u001b[1;31mValueError\u001b[0m: Unable to parse string \"1,000.00\" at position 2"
     ]
    }
   ],
   "source": [
    "pd.to_numeric(l)"
   ]
  },
  {
   "cell_type": "code",
   "execution_count": 168,
   "id": "mineral-sacramento",
   "metadata": {},
   "outputs": [
    {
     "ename": "ValueError",
     "evalue": "could not convert string to float: '1,000.00'",
     "output_type": "error",
     "traceback": [
      "\u001b[1;31m---------------------------------------------------------------------------\u001b[0m",
      "\u001b[1;31mValueError\u001b[0m                                Traceback (most recent call last)",
      "\u001b[1;32m<ipython-input-168-46393bb578ee>\u001b[0m in \u001b[0;36m<module>\u001b[1;34m\u001b[0m\n\u001b[1;32m----> 1\u001b[1;33m \u001b[0mdf\u001b[0m\u001b[1;33m[\u001b[0m\u001b[1;34m'Debit'\u001b[0m\u001b[1;33m]\u001b[0m\u001b[1;33m.\u001b[0m\u001b[0mastype\u001b[0m\u001b[1;33m(\u001b[0m\u001b[1;34m'float'\u001b[0m\u001b[1;33m)\u001b[0m\u001b[1;33m\u001b[0m\u001b[0m\n\u001b[0m",
      "\u001b[1;32m~\\Miniconda3\\lib\\site-packages\\pandas\\core\\generic.py\u001b[0m in \u001b[0;36mastype\u001b[1;34m(self, dtype, copy, errors)\u001b[0m\n\u001b[0;32m   5546\u001b[0m         \u001b[1;32melse\u001b[0m\u001b[1;33m:\u001b[0m\u001b[1;33m\u001b[0m\u001b[0m\n\u001b[0;32m   5547\u001b[0m             \u001b[1;31m# else, only a single dtype is given\u001b[0m\u001b[1;33m\u001b[0m\u001b[1;33m\u001b[0m\u001b[0m\n\u001b[1;32m-> 5548\u001b[1;33m             \u001b[0mnew_data\u001b[0m \u001b[1;33m=\u001b[0m \u001b[0mself\u001b[0m\u001b[1;33m.\u001b[0m\u001b[0m_mgr\u001b[0m\u001b[1;33m.\u001b[0m\u001b[0mastype\u001b[0m\u001b[1;33m(\u001b[0m\u001b[0mdtype\u001b[0m\u001b[1;33m=\u001b[0m\u001b[0mdtype\u001b[0m\u001b[1;33m,\u001b[0m \u001b[0mcopy\u001b[0m\u001b[1;33m=\u001b[0m\u001b[0mcopy\u001b[0m\u001b[1;33m,\u001b[0m \u001b[0merrors\u001b[0m\u001b[1;33m=\u001b[0m\u001b[0merrors\u001b[0m\u001b[1;33m,\u001b[0m\u001b[1;33m)\u001b[0m\u001b[1;33m\u001b[0m\u001b[0m\n\u001b[0m\u001b[0;32m   5549\u001b[0m             \u001b[1;32mreturn\u001b[0m \u001b[0mself\u001b[0m\u001b[1;33m.\u001b[0m\u001b[0m_constructor\u001b[0m\u001b[1;33m(\u001b[0m\u001b[0mnew_data\u001b[0m\u001b[1;33m)\u001b[0m\u001b[1;33m.\u001b[0m\u001b[0m__finalize__\u001b[0m\u001b[1;33m(\u001b[0m\u001b[0mself\u001b[0m\u001b[1;33m,\u001b[0m \u001b[0mmethod\u001b[0m\u001b[1;33m=\u001b[0m\u001b[1;34m\"astype\"\u001b[0m\u001b[1;33m)\u001b[0m\u001b[1;33m\u001b[0m\u001b[0m\n\u001b[0;32m   5550\u001b[0m \u001b[1;33m\u001b[0m\u001b[0m\n",
      "\u001b[1;32m~\\Miniconda3\\lib\\site-packages\\pandas\\core\\internals\\managers.py\u001b[0m in \u001b[0;36mastype\u001b[1;34m(self, dtype, copy, errors)\u001b[0m\n\u001b[0;32m    602\u001b[0m         \u001b[0mself\u001b[0m\u001b[1;33m,\u001b[0m \u001b[0mdtype\u001b[0m\u001b[1;33m,\u001b[0m \u001b[0mcopy\u001b[0m\u001b[1;33m:\u001b[0m \u001b[0mbool\u001b[0m \u001b[1;33m=\u001b[0m \u001b[1;32mFalse\u001b[0m\u001b[1;33m,\u001b[0m \u001b[0merrors\u001b[0m\u001b[1;33m:\u001b[0m \u001b[0mstr\u001b[0m \u001b[1;33m=\u001b[0m \u001b[1;34m\"raise\"\u001b[0m\u001b[1;33m\u001b[0m\u001b[0m\n\u001b[0;32m    603\u001b[0m     ) -> \"BlockManager\":\n\u001b[1;32m--> 604\u001b[1;33m         \u001b[1;32mreturn\u001b[0m \u001b[0mself\u001b[0m\u001b[1;33m.\u001b[0m\u001b[0mapply\u001b[0m\u001b[1;33m(\u001b[0m\u001b[1;34m\"astype\"\u001b[0m\u001b[1;33m,\u001b[0m \u001b[0mdtype\u001b[0m\u001b[1;33m=\u001b[0m\u001b[0mdtype\u001b[0m\u001b[1;33m,\u001b[0m \u001b[0mcopy\u001b[0m\u001b[1;33m=\u001b[0m\u001b[0mcopy\u001b[0m\u001b[1;33m,\u001b[0m \u001b[0merrors\u001b[0m\u001b[1;33m=\u001b[0m\u001b[0merrors\u001b[0m\u001b[1;33m)\u001b[0m\u001b[1;33m\u001b[0m\u001b[0m\n\u001b[0m\u001b[0;32m    605\u001b[0m \u001b[1;33m\u001b[0m\u001b[0m\n\u001b[0;32m    606\u001b[0m     def convert(\n",
      "\u001b[1;32m~\\Miniconda3\\lib\\site-packages\\pandas\\core\\internals\\managers.py\u001b[0m in \u001b[0;36mapply\u001b[1;34m(self, f, align_keys, **kwargs)\u001b[0m\n\u001b[0;32m    407\u001b[0m                 \u001b[0mapplied\u001b[0m \u001b[1;33m=\u001b[0m \u001b[0mb\u001b[0m\u001b[1;33m.\u001b[0m\u001b[0mapply\u001b[0m\u001b[1;33m(\u001b[0m\u001b[0mf\u001b[0m\u001b[1;33m,\u001b[0m \u001b[1;33m**\u001b[0m\u001b[0mkwargs\u001b[0m\u001b[1;33m)\u001b[0m\u001b[1;33m\u001b[0m\u001b[0m\n\u001b[0;32m    408\u001b[0m             \u001b[1;32melse\u001b[0m\u001b[1;33m:\u001b[0m\u001b[1;33m\u001b[0m\u001b[0m\n\u001b[1;32m--> 409\u001b[1;33m                 \u001b[0mapplied\u001b[0m \u001b[1;33m=\u001b[0m \u001b[0mgetattr\u001b[0m\u001b[1;33m(\u001b[0m\u001b[0mb\u001b[0m\u001b[1;33m,\u001b[0m \u001b[0mf\u001b[0m\u001b[1;33m)\u001b[0m\u001b[1;33m(\u001b[0m\u001b[1;33m**\u001b[0m\u001b[0mkwargs\u001b[0m\u001b[1;33m)\u001b[0m\u001b[1;33m\u001b[0m\u001b[0m\n\u001b[0m\u001b[0;32m    410\u001b[0m             \u001b[0mresult_blocks\u001b[0m \u001b[1;33m=\u001b[0m \u001b[0m_extend_blocks\u001b[0m\u001b[1;33m(\u001b[0m\u001b[0mapplied\u001b[0m\u001b[1;33m,\u001b[0m \u001b[0mresult_blocks\u001b[0m\u001b[1;33m)\u001b[0m\u001b[1;33m\u001b[0m\u001b[0m\n\u001b[0;32m    411\u001b[0m \u001b[1;33m\u001b[0m\u001b[0m\n",
      "\u001b[1;32m~\\Miniconda3\\lib\\site-packages\\pandas\\core\\internals\\blocks.py\u001b[0m in \u001b[0;36mastype\u001b[1;34m(self, dtype, copy, errors)\u001b[0m\n\u001b[0;32m    593\u001b[0m             \u001b[0mvals1d\u001b[0m \u001b[1;33m=\u001b[0m \u001b[0mvalues\u001b[0m\u001b[1;33m.\u001b[0m\u001b[0mravel\u001b[0m\u001b[1;33m(\u001b[0m\u001b[1;33m)\u001b[0m\u001b[1;33m\u001b[0m\u001b[0m\n\u001b[0;32m    594\u001b[0m             \u001b[1;32mtry\u001b[0m\u001b[1;33m:\u001b[0m\u001b[1;33m\u001b[0m\u001b[0m\n\u001b[1;32m--> 595\u001b[1;33m                 \u001b[0mvalues\u001b[0m \u001b[1;33m=\u001b[0m \u001b[0mastype_nansafe\u001b[0m\u001b[1;33m(\u001b[0m\u001b[0mvals1d\u001b[0m\u001b[1;33m,\u001b[0m \u001b[0mdtype\u001b[0m\u001b[1;33m,\u001b[0m \u001b[0mcopy\u001b[0m\u001b[1;33m=\u001b[0m\u001b[1;32mTrue\u001b[0m\u001b[1;33m)\u001b[0m\u001b[1;33m\u001b[0m\u001b[0m\n\u001b[0m\u001b[0;32m    596\u001b[0m             \u001b[1;32mexcept\u001b[0m \u001b[1;33m(\u001b[0m\u001b[0mValueError\u001b[0m\u001b[1;33m,\u001b[0m \u001b[0mTypeError\u001b[0m\u001b[1;33m)\u001b[0m\u001b[1;33m:\u001b[0m\u001b[1;33m\u001b[0m\u001b[0m\n\u001b[0;32m    597\u001b[0m                 \u001b[1;31m# e.g. astype_nansafe can fail on object-dtype of strings\u001b[0m\u001b[1;33m\u001b[0m\u001b[1;33m\u001b[0m\u001b[0m\n",
      "\u001b[1;32m~\\Miniconda3\\lib\\site-packages\\pandas\\core\\dtypes\\cast.py\u001b[0m in \u001b[0;36mastype_nansafe\u001b[1;34m(arr, dtype, copy, skipna)\u001b[0m\n\u001b[0;32m    995\u001b[0m     \u001b[1;32mif\u001b[0m \u001b[0mcopy\u001b[0m \u001b[1;32mor\u001b[0m \u001b[0mis_object_dtype\u001b[0m\u001b[1;33m(\u001b[0m\u001b[0marr\u001b[0m\u001b[1;33m)\u001b[0m \u001b[1;32mor\u001b[0m \u001b[0mis_object_dtype\u001b[0m\u001b[1;33m(\u001b[0m\u001b[0mdtype\u001b[0m\u001b[1;33m)\u001b[0m\u001b[1;33m:\u001b[0m\u001b[1;33m\u001b[0m\u001b[0m\n\u001b[0;32m    996\u001b[0m         \u001b[1;31m# Explicit copy, or required since NumPy can't view from / to object.\u001b[0m\u001b[1;33m\u001b[0m\u001b[1;33m\u001b[0m\u001b[0m\n\u001b[1;32m--> 997\u001b[1;33m         \u001b[1;32mreturn\u001b[0m \u001b[0marr\u001b[0m\u001b[1;33m.\u001b[0m\u001b[0mastype\u001b[0m\u001b[1;33m(\u001b[0m\u001b[0mdtype\u001b[0m\u001b[1;33m,\u001b[0m \u001b[0mcopy\u001b[0m\u001b[1;33m=\u001b[0m\u001b[1;32mTrue\u001b[0m\u001b[1;33m)\u001b[0m\u001b[1;33m\u001b[0m\u001b[0m\n\u001b[0m\u001b[0;32m    998\u001b[0m \u001b[1;33m\u001b[0m\u001b[0m\n\u001b[0;32m    999\u001b[0m     \u001b[1;32mreturn\u001b[0m \u001b[0marr\u001b[0m\u001b[1;33m.\u001b[0m\u001b[0mview\u001b[0m\u001b[1;33m(\u001b[0m\u001b[0mdtype\u001b[0m\u001b[1;33m)\u001b[0m\u001b[1;33m\u001b[0m\u001b[0m\n",
      "\u001b[1;31mValueError\u001b[0m: could not convert string to float: '1,000.00'"
     ]
    }
   ],
   "source": [
    "df['Debit'].astype('float')"
   ]
  },
  {
   "cell_type": "code",
   "execution_count": 169,
   "id": "bacterial-keeping",
   "metadata": {},
   "outputs": [],
   "source": [
    "df['Debit']=df['Debit'].str.replace(',','')"
   ]
  },
  {
   "cell_type": "code",
   "execution_count": 171,
   "id": "imported-narrow",
   "metadata": {},
   "outputs": [],
   "source": [
    "df['Debit']=df['Debit'].astype('float')"
   ]
  },
  {
   "cell_type": "code",
   "execution_count": 172,
   "id": "effective-mortgage",
   "metadata": {},
   "outputs": [
    {
     "data": {
      "text/plain": [
       "0        40.0\n",
       "1        10.0\n",
       "2      1000.0\n",
       "3        60.0\n",
       "4        20.0\n",
       "        ...  \n",
       "100       1.0\n",
       "101       NaN\n",
       "102    1500.0\n",
       "103    1000.0\n",
       "104       NaN\n",
       "Name: Debit, Length: 105, dtype: float64"
      ]
     },
     "execution_count": 172,
     "metadata": {},
     "output_type": "execute_result"
    }
   ],
   "source": [
    "df['Debit']"
   ]
  },
  {
   "cell_type": "code",
   "execution_count": 173,
   "id": "cosmetic-adams",
   "metadata": {},
   "outputs": [
    {
     "data": {
      "text/html": [
       "<div>\n",
       "<style scoped>\n",
       "    .dataframe tbody tr th:only-of-type {\n",
       "        vertical-align: middle;\n",
       "    }\n",
       "\n",
       "    .dataframe tbody tr th {\n",
       "        vertical-align: top;\n",
       "    }\n",
       "\n",
       "    .dataframe thead th {\n",
       "        text-align: right;\n",
       "    }\n",
       "</style>\n",
       "<table border=\"1\" class=\"dataframe\">\n",
       "  <thead>\n",
       "    <tr style=\"text-align: right;\">\n",
       "      <th></th>\n",
       "      <th>Debit</th>\n",
       "    </tr>\n",
       "  </thead>\n",
       "  <tbody>\n",
       "    <tr>\n",
       "      <th>0</th>\n",
       "      <td>40.0</td>\n",
       "    </tr>\n",
       "    <tr>\n",
       "      <th>1</th>\n",
       "      <td>10.0</td>\n",
       "    </tr>\n",
       "    <tr>\n",
       "      <th>2</th>\n",
       "      <td>1000.0</td>\n",
       "    </tr>\n",
       "    <tr>\n",
       "      <th>3</th>\n",
       "      <td>60.0</td>\n",
       "    </tr>\n",
       "    <tr>\n",
       "      <th>4</th>\n",
       "      <td>20.0</td>\n",
       "    </tr>\n",
       "    <tr>\n",
       "      <th>...</th>\n",
       "      <td>...</td>\n",
       "    </tr>\n",
       "    <tr>\n",
       "      <th>98</th>\n",
       "      <td>1000.0</td>\n",
       "    </tr>\n",
       "    <tr>\n",
       "      <th>99</th>\n",
       "      <td>500.0</td>\n",
       "    </tr>\n",
       "    <tr>\n",
       "      <th>100</th>\n",
       "      <td>1.0</td>\n",
       "    </tr>\n",
       "    <tr>\n",
       "      <th>102</th>\n",
       "      <td>1500.0</td>\n",
       "    </tr>\n",
       "    <tr>\n",
       "      <th>103</th>\n",
       "      <td>1000.0</td>\n",
       "    </tr>\n",
       "  </tbody>\n",
       "</table>\n",
       "<p>83 rows × 1 columns</p>\n",
       "</div>"
      ],
      "text/plain": [
       "      Debit\n",
       "0      40.0\n",
       "1      10.0\n",
       "2    1000.0\n",
       "3      60.0\n",
       "4      20.0\n",
       "..      ...\n",
       "98   1000.0\n",
       "99    500.0\n",
       "100     1.0\n",
       "102  1500.0\n",
       "103  1000.0\n",
       "\n",
       "[83 rows x 1 columns]"
      ]
     },
     "execution_count": 173,
     "metadata": {},
     "output_type": "execute_result"
    }
   ],
   "source": [
    "df.iloc[np.where(df['Debit'].isnull()==False)][[\"Debit\"]]"
   ]
  },
  {
   "cell_type": "code",
   "execution_count": 178,
   "id": "qualified-antique",
   "metadata": {},
   "outputs": [
    {
     "data": {
      "text/html": [
       "<div>\n",
       "<style scoped>\n",
       "    .dataframe tbody tr th:only-of-type {\n",
       "        vertical-align: middle;\n",
       "    }\n",
       "\n",
       "    .dataframe tbody tr th {\n",
       "        vertical-align: top;\n",
       "    }\n",
       "\n",
       "    .dataframe thead th {\n",
       "        text-align: right;\n",
       "    }\n",
       "</style>\n",
       "<table border=\"1\" class=\"dataframe\">\n",
       "  <thead>\n",
       "    <tr style=\"text-align: right;\">\n",
       "      <th></th>\n",
       "      <th>Debit</th>\n",
       "      <th>Value Date</th>\n",
       "    </tr>\n",
       "  </thead>\n",
       "  <tbody>\n",
       "    <tr>\n",
       "      <th>2</th>\n",
       "      <td>1000.0</td>\n",
       "      <td>28-Sep-21</td>\n",
       "    </tr>\n",
       "    <tr>\n",
       "      <th>8</th>\n",
       "      <td>2000.0</td>\n",
       "      <td>25-Sep-21</td>\n",
       "    </tr>\n",
       "    <tr>\n",
       "      <th>14</th>\n",
       "      <td>4000.0</td>\n",
       "      <td>20-Sep-21</td>\n",
       "    </tr>\n",
       "    <tr>\n",
       "      <th>16</th>\n",
       "      <td>1000.0</td>\n",
       "      <td>19-Sep-21</td>\n",
       "    </tr>\n",
       "    <tr>\n",
       "      <th>19</th>\n",
       "      <td>5000.0</td>\n",
       "      <td>13-Sep-21</td>\n",
       "    </tr>\n",
       "    <tr>\n",
       "      <th>20</th>\n",
       "      <td>2000.0</td>\n",
       "      <td>09-Sep-21</td>\n",
       "    </tr>\n",
       "    <tr>\n",
       "      <th>21</th>\n",
       "      <td>1000.0</td>\n",
       "      <td>08-Sep-21</td>\n",
       "    </tr>\n",
       "    <tr>\n",
       "      <th>22</th>\n",
       "      <td>3500.0</td>\n",
       "      <td>07-Sep-21</td>\n",
       "    </tr>\n",
       "    <tr>\n",
       "      <th>23</th>\n",
       "      <td>1300.0</td>\n",
       "      <td>07-Sep-21</td>\n",
       "    </tr>\n",
       "    <tr>\n",
       "      <th>24</th>\n",
       "      <td>1000.0</td>\n",
       "      <td>06-Sep-21</td>\n",
       "    </tr>\n",
       "    <tr>\n",
       "      <th>27</th>\n",
       "      <td>1000.0</td>\n",
       "      <td>19-Aug-21</td>\n",
       "    </tr>\n",
       "    <tr>\n",
       "      <th>28</th>\n",
       "      <td>2000.0</td>\n",
       "      <td>19-Aug-21</td>\n",
       "    </tr>\n",
       "    <tr>\n",
       "      <th>29</th>\n",
       "      <td>2296.0</td>\n",
       "      <td>17-Aug-21</td>\n",
       "    </tr>\n",
       "    <tr>\n",
       "      <th>30</th>\n",
       "      <td>3000.0</td>\n",
       "      <td>14-Aug-21</td>\n",
       "    </tr>\n",
       "    <tr>\n",
       "      <th>32</th>\n",
       "      <td>1220.0</td>\n",
       "      <td>06-Aug-21</td>\n",
       "    </tr>\n",
       "    <tr>\n",
       "      <th>33</th>\n",
       "      <td>50000.0</td>\n",
       "      <td>05-Aug-21</td>\n",
       "    </tr>\n",
       "    <tr>\n",
       "      <th>37</th>\n",
       "      <td>3500.0</td>\n",
       "      <td>25-Jul-21</td>\n",
       "    </tr>\n",
       "    <tr>\n",
       "      <th>40</th>\n",
       "      <td>5000.0</td>\n",
       "      <td>23-Jul-21</td>\n",
       "    </tr>\n",
       "    <tr>\n",
       "      <th>42</th>\n",
       "      <td>5000.0</td>\n",
       "      <td>16-Jul-21</td>\n",
       "    </tr>\n",
       "    <tr>\n",
       "      <th>43</th>\n",
       "      <td>2250.0</td>\n",
       "      <td>14-Jul-21</td>\n",
       "    </tr>\n",
       "    <tr>\n",
       "      <th>44</th>\n",
       "      <td>1000.0</td>\n",
       "      <td>11-Jul-21</td>\n",
       "    </tr>\n",
       "    <tr>\n",
       "      <th>48</th>\n",
       "      <td>2000.0</td>\n",
       "      <td>29-Jun-21</td>\n",
       "    </tr>\n",
       "    <tr>\n",
       "      <th>50</th>\n",
       "      <td>2500.0</td>\n",
       "      <td>28-Jun-21</td>\n",
       "    </tr>\n",
       "    <tr>\n",
       "      <th>51</th>\n",
       "      <td>2000.0</td>\n",
       "      <td>24-Jun-21</td>\n",
       "    </tr>\n",
       "    <tr>\n",
       "      <th>52</th>\n",
       "      <td>50000.0</td>\n",
       "      <td>22-Jun-21</td>\n",
       "    </tr>\n",
       "    <tr>\n",
       "      <th>62</th>\n",
       "      <td>20000.0</td>\n",
       "      <td>16-Jun-21</td>\n",
       "    </tr>\n",
       "    <tr>\n",
       "      <th>65</th>\n",
       "      <td>10000.0</td>\n",
       "      <td>08-Jun-21</td>\n",
       "    </tr>\n",
       "    <tr>\n",
       "      <th>67</th>\n",
       "      <td>50000.0</td>\n",
       "      <td>06-Jun-21</td>\n",
       "    </tr>\n",
       "    <tr>\n",
       "      <th>69</th>\n",
       "      <td>1000.0</td>\n",
       "      <td>03-Jun-21</td>\n",
       "    </tr>\n",
       "    <tr>\n",
       "      <th>70</th>\n",
       "      <td>1000.0</td>\n",
       "      <td>03-Jun-21</td>\n",
       "    </tr>\n",
       "    <tr>\n",
       "      <th>71</th>\n",
       "      <td>7000.0</td>\n",
       "      <td>03-Jun-21</td>\n",
       "    </tr>\n",
       "    <tr>\n",
       "      <th>72</th>\n",
       "      <td>9000.0</td>\n",
       "      <td>03-Jun-21</td>\n",
       "    </tr>\n",
       "    <tr>\n",
       "      <th>86</th>\n",
       "      <td>2200.0</td>\n",
       "      <td>11-May-21</td>\n",
       "    </tr>\n",
       "    <tr>\n",
       "      <th>87</th>\n",
       "      <td>1433.0</td>\n",
       "      <td>10-May-21</td>\n",
       "    </tr>\n",
       "    <tr>\n",
       "      <th>97</th>\n",
       "      <td>9000.0</td>\n",
       "      <td>26-Apr-21</td>\n",
       "    </tr>\n",
       "    <tr>\n",
       "      <th>98</th>\n",
       "      <td>1000.0</td>\n",
       "      <td>26-Apr-21</td>\n",
       "    </tr>\n",
       "    <tr>\n",
       "      <th>102</th>\n",
       "      <td>1500.0</td>\n",
       "      <td>21-Apr-21</td>\n",
       "    </tr>\n",
       "    <tr>\n",
       "      <th>103</th>\n",
       "      <td>1000.0</td>\n",
       "      <td>19-Apr-21</td>\n",
       "    </tr>\n",
       "  </tbody>\n",
       "</table>\n",
       "</div>"
      ],
      "text/plain": [
       "       Debit Value Date\n",
       "2     1000.0  28-Sep-21\n",
       "8     2000.0  25-Sep-21\n",
       "14    4000.0  20-Sep-21\n",
       "16    1000.0  19-Sep-21\n",
       "19    5000.0  13-Sep-21\n",
       "20    2000.0  09-Sep-21\n",
       "21    1000.0  08-Sep-21\n",
       "22    3500.0  07-Sep-21\n",
       "23    1300.0  07-Sep-21\n",
       "24    1000.0  06-Sep-21\n",
       "27    1000.0  19-Aug-21\n",
       "28    2000.0  19-Aug-21\n",
       "29    2296.0  17-Aug-21\n",
       "30    3000.0  14-Aug-21\n",
       "32    1220.0  06-Aug-21\n",
       "33   50000.0  05-Aug-21\n",
       "37    3500.0  25-Jul-21\n",
       "40    5000.0  23-Jul-21\n",
       "42    5000.0  16-Jul-21\n",
       "43    2250.0  14-Jul-21\n",
       "44    1000.0  11-Jul-21\n",
       "48    2000.0  29-Jun-21\n",
       "50    2500.0  28-Jun-21\n",
       "51    2000.0  24-Jun-21\n",
       "52   50000.0  22-Jun-21\n",
       "62   20000.0  16-Jun-21\n",
       "65   10000.0  08-Jun-21\n",
       "67   50000.0  06-Jun-21\n",
       "69    1000.0  03-Jun-21\n",
       "70    1000.0  03-Jun-21\n",
       "71    7000.0  03-Jun-21\n",
       "72    9000.0  03-Jun-21\n",
       "86    2200.0  11-May-21\n",
       "87    1433.0  10-May-21\n",
       "97    9000.0  26-Apr-21\n",
       "98    1000.0  26-Apr-21\n",
       "102   1500.0  21-Apr-21\n",
       "103   1000.0  19-Apr-21"
      ]
     },
     "execution_count": 178,
     "metadata": {},
     "output_type": "execute_result"
    }
   ],
   "source": [
    "df.iloc[np.where(df['Debit']>=1000)][[\"Debit\",\"Value Date\"]]"
   ]
  },
  {
   "cell_type": "code",
   "execution_count": 179,
   "id": "korean-telephone",
   "metadata": {},
   "outputs": [
    {
     "data": {
      "text/plain": [
       "nan"
      ]
     },
     "execution_count": 179,
     "metadata": {},
     "output_type": "execute_result"
    }
   ],
   "source": [
    "sum(df['Debit'])"
   ]
  },
  {
   "cell_type": "code",
   "execution_count": 181,
   "id": "resistant-offense",
   "metadata": {},
   "outputs": [],
   "source": [
    "deb1=df.iloc[np.where(df['Debit']>=1000)][[\"Debit\"]]"
   ]
  },
  {
   "cell_type": "code",
   "execution_count": 182,
   "id": "suffering-australian",
   "metadata": {},
   "outputs": [
    {
     "data": {
      "text/plain": [
       "pandas.core.frame.DataFrame"
      ]
     },
     "execution_count": 182,
     "metadata": {},
     "output_type": "execute_result"
    }
   ],
   "source": [
    "type(deb1)"
   ]
  },
  {
   "cell_type": "code",
   "execution_count": 187,
   "id": "dimensional-serum",
   "metadata": {},
   "outputs": [],
   "source": [
    "k=df[df['Debit'].isnull()==False][['Debit']]"
   ]
  },
  {
   "cell_type": "code",
   "execution_count": 188,
   "id": "recovered-devil",
   "metadata": {},
   "outputs": [
    {
     "data": {
      "text/html": [
       "<div>\n",
       "<style scoped>\n",
       "    .dataframe tbody tr th:only-of-type {\n",
       "        vertical-align: middle;\n",
       "    }\n",
       "\n",
       "    .dataframe tbody tr th {\n",
       "        vertical-align: top;\n",
       "    }\n",
       "\n",
       "    .dataframe thead th {\n",
       "        text-align: right;\n",
       "    }\n",
       "</style>\n",
       "<table border=\"1\" class=\"dataframe\">\n",
       "  <thead>\n",
       "    <tr style=\"text-align: right;\">\n",
       "      <th></th>\n",
       "      <th>Debit</th>\n",
       "    </tr>\n",
       "  </thead>\n",
       "  <tbody>\n",
       "    <tr>\n",
       "      <th>count</th>\n",
       "      <td>83.000000</td>\n",
       "    </tr>\n",
       "    <tr>\n",
       "      <th>mean</th>\n",
       "      <td>3366.409639</td>\n",
       "    </tr>\n",
       "    <tr>\n",
       "      <th>std</th>\n",
       "      <td>9537.895459</td>\n",
       "    </tr>\n",
       "    <tr>\n",
       "      <th>min</th>\n",
       "      <td>1.000000</td>\n",
       "    </tr>\n",
       "    <tr>\n",
       "      <th>25%</th>\n",
       "      <td>65.000000</td>\n",
       "    </tr>\n",
       "    <tr>\n",
       "      <th>50%</th>\n",
       "      <td>660.000000</td>\n",
       "    </tr>\n",
       "    <tr>\n",
       "      <th>75%</th>\n",
       "      <td>2000.000000</td>\n",
       "    </tr>\n",
       "    <tr>\n",
       "      <th>max</th>\n",
       "      <td>50000.000000</td>\n",
       "    </tr>\n",
       "  </tbody>\n",
       "</table>\n",
       "</div>"
      ],
      "text/plain": [
       "              Debit\n",
       "count     83.000000\n",
       "mean    3366.409639\n",
       "std     9537.895459\n",
       "min        1.000000\n",
       "25%       65.000000\n",
       "50%      660.000000\n",
       "75%     2000.000000\n",
       "max    50000.000000"
      ]
     },
     "execution_count": 188,
     "metadata": {},
     "output_type": "execute_result"
    }
   ],
   "source": [
    "k.describe()"
   ]
  },
  {
   "cell_type": "code",
   "execution_count": 189,
   "id": "periodic-revolution",
   "metadata": {},
   "outputs": [
    {
     "data": {
      "text/plain": [
       "Debit    279412.0\n",
       "dtype: float64"
      ]
     },
     "execution_count": 189,
     "metadata": {},
     "output_type": "execute_result"
    }
   ],
   "source": [
    "k.sum()"
   ]
  },
  {
   "cell_type": "code",
   "execution_count": null,
   "id": "serial-archives",
   "metadata": {},
   "outputs": [],
   "source": []
  }
 ],
 "metadata": {
  "kernelspec": {
   "display_name": "Python 3",
   "language": "python",
   "name": "python3"
  },
  "language_info": {
   "codemirror_mode": {
    "name": "ipython",
    "version": 3
   },
   "file_extension": ".py",
   "mimetype": "text/x-python",
   "name": "python",
   "nbconvert_exporter": "python",
   "pygments_lexer": "ipython3",
   "version": "3.7.0"
  }
 },
 "nbformat": 4,
 "nbformat_minor": 5
}
