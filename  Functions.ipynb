{
 "cells": [
  {
   "cell_type": "code",
   "execution_count": 176,
   "id": "individual-gothic",
   "metadata": {},
   "outputs": [],
   "source": [
    "%config Completer.use_jedi = False #this is command used for enable autocompletion in jupyt notebook"
   ]
  },
  {
   "cell_type": "markdown",
   "id": "oriental-steps",
   "metadata": {},
   "source": [
    "# Qus. 2 list comprehension"
   ]
  },
  {
   "cell_type": "code",
   "execution_count": 175,
   "id": "lasting-agenda",
   "metadata": {},
   "outputs": [
    {
     "data": {
      "text/plain": [
       "['x', 'xx', 'xxx', 'xxxx', 'y', 'yy', 'yyy', 'yyyy', 'z', 'zz', 'zzz', 'zzzz']"
      ]
     },
     "execution_count": 175,
     "metadata": {},
     "output_type": "execute_result"
    }
   ],
   "source": [
    "#without list comprehension \n",
    "m=[]\n",
    "for i in 'xyz':\n",
    "    for j in range(1,5):\n",
    "        m.append(i*j)\n",
    "m"
   ]
  },
  {
   "cell_type": "code",
   "execution_count": 171,
   "id": "hindu-shakespeare",
   "metadata": {},
   "outputs": [
    {
     "data": {
      "text/plain": [
       "['x', 'xx', 'xxx', 'xxxx', 'y', 'yy', 'yyy', 'yyyy', 'z', 'zz', 'zzz', 'zzzz']"
      ]
     },
     "execution_count": 171,
     "metadata": {},
     "output_type": "execute_result"
    }
   ],
   "source": [
    "# with list comprehension\n",
    "p='xyz'\n",
    "[i*j for i in p for j in range(1,5)]"
   ]
  },
  {
   "cell_type": "code",
   "execution_count": 205,
   "id": "polish-kernel",
   "metadata": {},
   "outputs": [
    {
     "name": "stdout",
     "output_type": "stream",
     "text": [
      "x\n",
      "x\n",
      "xx\n",
      "xxx\n",
      "xxxx\n",
      "y\n",
      "y\n",
      "yy\n",
      "yyy\n",
      "yyyy\n",
      "z\n",
      "z\n",
      "zz\n",
      "zzz\n",
      "zzzz\n"
     ]
    }
   ],
   "source": [
    "l='xyz'\n",
    "for i in 'xyz':\n",
    "    print(i)    \n",
    "    for j in range(1,5):\n",
    "        print(i*j)"
   ]
  },
  {
   "cell_type": "code",
   "execution_count": 195,
   "id": "absolute-nothing",
   "metadata": {},
   "outputs": [
    {
     "data": {
      "text/plain": [
       "3"
      ]
     },
     "execution_count": 195,
     "metadata": {},
     "output_type": "execute_result"
    }
   ],
   "source": [
    "len('xyz')"
   ]
  },
  {
   "cell_type": "code",
   "execution_count": 212,
   "id": "included-perry",
   "metadata": {},
   "outputs": [
    {
     "data": {
      "text/plain": [
       "['xxxxx',\n",
       " 'xxxx',\n",
       " 'xxx',\n",
       " 'xx',\n",
       " 'x',\n",
       " 'yyyyy',\n",
       " 'yyyy',\n",
       " 'yyy',\n",
       " 'yy',\n",
       " 'y',\n",
       " 'zzzzz',\n",
       " 'zzzz',\n",
       " 'zzz',\n",
       " 'zz',\n",
       " 'z']"
      ]
     },
     "execution_count": 212,
     "metadata": {},
     "output_type": "execute_result"
    }
   ],
   "source": [
    "p='xyz'\n",
    "[i*j for i in p for j in range(5,0,-1)]"
   ]
  },
  {
   "cell_type": "code",
   "execution_count": null,
   "id": "annual-claim",
   "metadata": {},
   "outputs": [],
   "source": []
  }
 ],
 "metadata": {
  "kernelspec": {
   "display_name": "Python 3",
   "language": "python",
   "name": "python3"
  },
  "language_info": {
   "codemirror_mode": {
    "name": "ipython",
    "version": 3
   },
   "file_extension": ".py",
   "mimetype": "text/x-python",
   "name": "python",
   "nbconvert_exporter": "python",
   "pygments_lexer": "ipython3",
   "version": "3.7.0"
  }
 },
 "nbformat": 4,
 "nbformat_minor": 5
}
