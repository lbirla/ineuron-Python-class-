{
 "cells": [
  {
   "cell_type": "code",
   "execution_count": 1,
   "id": "charming-meditation",
   "metadata": {},
   "outputs": [],
   "source": [
    "l =[1,2,3,4,5,6,7,7,8,8,9]"
   ]
  },
  {
   "cell_type": "code",
   "execution_count": 2,
   "id": "indian-truth",
   "metadata": {},
   "outputs": [
    {
     "data": {
      "text/plain": [
       "[1, 2, 3, 4, 5, 6, 7, 7, 8, 8, 9]"
      ]
     },
     "execution_count": 2,
     "metadata": {},
     "output_type": "execute_result"
    }
   ],
   "source": [
    "#remove duplicate element\n",
    "l"
   ]
  },
  {
   "cell_type": "code",
   "execution_count": 5,
   "id": "legal-infrared",
   "metadata": {},
   "outputs": [],
   "source": [
    "#set collection of unique element\n",
    "a=set(l)"
   ]
  },
  {
   "cell_type": "code",
   "execution_count": 9,
   "id": "received-salad",
   "metadata": {},
   "outputs": [
    {
     "data": {
      "text/plain": [
       "{1, 2, 3, 4, 5, 6, 7, 8, 9}"
      ]
     },
     "execution_count": 9,
     "metadata": {},
     "output_type": "execute_result"
    }
   ],
   "source": [
    "a"
   ]
  },
  {
   "cell_type": "code",
   "execution_count": 10,
   "id": "steady-conclusion",
   "metadata": {},
   "outputs": [
    {
     "data": {
      "text/plain": [
       "set"
      ]
     },
     "execution_count": 10,
     "metadata": {},
     "output_type": "execute_result"
    }
   ],
   "source": [
    "type(a)"
   ]
  },
  {
   "cell_type": "code",
   "execution_count": 11,
   "id": "adapted-evaluation",
   "metadata": {},
   "outputs": [
    {
     "data": {
      "text/plain": [
       "[1, 2, 3, 4, 5, 6, 7, 8, 9]"
      ]
     },
     "execution_count": 11,
     "metadata": {},
     "output_type": "execute_result"
    }
   ],
   "source": [
    "#now type cast\n",
    "list(a)"
   ]
  },
  {
   "cell_type": "code",
   "execution_count": 14,
   "id": "approved-athletics",
   "metadata": {},
   "outputs": [],
   "source": [
    "#dictionary\n",
    "s={}"
   ]
  },
  {
   "cell_type": "code",
   "execution_count": 15,
   "id": "metallic-heaven",
   "metadata": {},
   "outputs": [
    {
     "data": {
      "text/plain": [
       "dict"
      ]
     },
     "execution_count": 15,
     "metadata": {},
     "output_type": "execute_result"
    }
   ],
   "source": [
    "type(s)"
   ]
  },
  {
   "cell_type": "code",
   "execution_count": 16,
   "id": "adult-denver",
   "metadata": {},
   "outputs": [],
   "source": [
    "s1={2,3,4}"
   ]
  },
  {
   "cell_type": "code",
   "execution_count": 17,
   "id": "considered-insurance",
   "metadata": {},
   "outputs": [
    {
     "data": {
      "text/plain": [
       "set"
      ]
     },
     "execution_count": 17,
     "metadata": {},
     "output_type": "execute_result"
    }
   ],
   "source": [
    "type(s1)"
   ]
  },
  {
   "cell_type": "code",
   "execution_count": 18,
   "id": "brave-orlando",
   "metadata": {},
   "outputs": [],
   "source": [
    "s2={1,1,2,3,4,5,2,3,5,6,6,7,8}"
   ]
  },
  {
   "cell_type": "code",
   "execution_count": 19,
   "id": "chubby-jesus",
   "metadata": {},
   "outputs": [
    {
     "data": {
      "text/plain": [
       "{1, 2, 3, 4, 5, 6, 7, 8}"
      ]
     },
     "execution_count": 19,
     "metadata": {},
     "output_type": "execute_result"
    }
   ],
   "source": [
    "s2"
   ]
  },
  {
   "cell_type": "code",
   "execution_count": 22,
   "id": "varying-briefing",
   "metadata": {},
   "outputs": [
    {
     "ename": "TypeError",
     "evalue": "'set' object does not support indexing",
     "output_type": "error",
     "traceback": [
      "\u001b[1;31m---------------------------------------------------------------------------\u001b[0m",
      "\u001b[1;31mTypeError\u001b[0m                                 Traceback (most recent call last)",
      "\u001b[1;32m<ipython-input-22-ab7c8e26b0d3>\u001b[0m in \u001b[0;36m<module>\u001b[1;34m\u001b[0m\n\u001b[1;32m----> 1\u001b[1;33m \u001b[0ms2\u001b[0m\u001b[1;33m[\u001b[0m\u001b[1;36m0\u001b[0m\u001b[1;33m]\u001b[0m\u001b[1;33m\u001b[0m\u001b[0m\n\u001b[0m",
      "\u001b[1;31mTypeError\u001b[0m: 'set' object does not support indexing"
     ]
    }
   ],
   "source": [
    "s2[0]"
   ]
  },
  {
   "cell_type": "code",
   "execution_count": 23,
   "id": "sporting-harvard",
   "metadata": {},
   "outputs": [
    {
     "data": {
      "text/plain": [
       "[1, 2, 3, 4, 5, 6, 7, 8]"
      ]
     },
     "execution_count": 23,
     "metadata": {},
     "output_type": "execute_result"
    }
   ],
   "source": [
    "list(s2)"
   ]
  },
  {
   "cell_type": "code",
   "execution_count": 25,
   "id": "cellular-ceramic",
   "metadata": {},
   "outputs": [
    {
     "data": {
      "text/plain": [
       "{1, 2, 3, 4, 5, 6, 7, 8}"
      ]
     },
     "execution_count": 25,
     "metadata": {},
     "output_type": "execute_result"
    }
   ],
   "source": [
    "s2"
   ]
  },
  {
   "cell_type": "code",
   "execution_count": 27,
   "id": "competitive-sellers",
   "metadata": {},
   "outputs": [],
   "source": [
    "s2.add(89777)"
   ]
  },
  {
   "cell_type": "code",
   "execution_count": 28,
   "id": "composed-burst",
   "metadata": {},
   "outputs": [
    {
     "data": {
      "text/plain": [
       "{1, 2, 3, 4, 5, 6, 7, 8, 89777}"
      ]
     },
     "execution_count": 28,
     "metadata": {},
     "output_type": "execute_result"
    }
   ],
   "source": [
    "s2"
   ]
  },
  {
   "cell_type": "code",
   "execution_count": 29,
   "id": "light-mercury",
   "metadata": {},
   "outputs": [],
   "source": [
    "s2.add('lalit')"
   ]
  },
  {
   "cell_type": "code",
   "execution_count": 30,
   "id": "affecting-blake",
   "metadata": {},
   "outputs": [
    {
     "data": {
      "text/plain": [
       "{1, 2, 3, 4, 5, 6, 7, 8, 89777, 'lalit'}"
      ]
     },
     "execution_count": 30,
     "metadata": {},
     "output_type": "execute_result"
    }
   ],
   "source": [
    "s2"
   ]
  },
  {
   "cell_type": "code",
   "execution_count": 32,
   "id": "assisted-strength",
   "metadata": {},
   "outputs": [
    {
     "ename": "TypeError",
     "evalue": "unhashable type: 'list'",
     "output_type": "error",
     "traceback": [
      "\u001b[1;31m---------------------------------------------------------------------------\u001b[0m",
      "\u001b[1;31mTypeError\u001b[0m                                 Traceback (most recent call last)",
      "\u001b[1;32m<ipython-input-32-b98a11a482ed>\u001b[0m in \u001b[0;36m<module>\u001b[1;34m\u001b[0m\n\u001b[1;32m----> 1\u001b[1;33m \u001b[0ms2\u001b[0m\u001b[1;33m.\u001b[0m\u001b[0madd\u001b[0m\u001b[1;33m(\u001b[0m\u001b[1;33m[\u001b[0m\u001b[1;36m55\u001b[0m\u001b[1;33m,\u001b[0m\u001b[1;36m66\u001b[0m\u001b[1;33m]\u001b[0m\u001b[1;33m)\u001b[0m\u001b[1;33m\u001b[0m\u001b[0m\n\u001b[0m",
      "\u001b[1;31mTypeError\u001b[0m: unhashable type: 'list'"
     ]
    }
   ],
   "source": [
    "s2.add([55,66])"
   ]
  },
  {
   "cell_type": "code",
   "execution_count": 33,
   "id": "comparable-phoenix",
   "metadata": {},
   "outputs": [
    {
     "ename": "TypeError",
     "evalue": "unhashable type: 'list'",
     "output_type": "error",
     "traceback": [
      "\u001b[1;31m---------------------------------------------------------------------------\u001b[0m",
      "\u001b[1;31mTypeError\u001b[0m                                 Traceback (most recent call last)",
      "\u001b[1;32m<ipython-input-33-2505c5522f9e>\u001b[0m in \u001b[0;36m<module>\u001b[1;34m\u001b[0m\n\u001b[1;32m----> 1\u001b[1;33m \u001b[1;33m{\u001b[0m\u001b[1;33m[\u001b[0m\u001b[1;36m1\u001b[0m\u001b[1;33m,\u001b[0m\u001b[1;36m2\u001b[0m\u001b[1;33m,\u001b[0m\u001b[1;36m3\u001b[0m\u001b[1;33m]\u001b[0m\u001b[1;33m,\u001b[0m\u001b[1;36m3\u001b[0m\u001b[1;33m,\u001b[0m\u001b[1;36m5\u001b[0m\u001b[1;33m,\u001b[0m\u001b[1;36m7\u001b[0m\u001b[1;33m,\u001b[0m\u001b[1;36m8\u001b[0m\u001b[1;33m}\u001b[0m\u001b[1;33m\u001b[0m\u001b[0m\n\u001b[0m",
      "\u001b[1;31mTypeError\u001b[0m: unhashable type: 'list'"
     ]
    }
   ],
   "source": [
    "{[1,2,3],3,5,7,8}\n",
    "#giving error bcz of mutablility "
   ]
  },
  {
   "cell_type": "code",
   "execution_count": 35,
   "id": "raised-fellow",
   "metadata": {},
   "outputs": [
    {
     "data": {
      "text/plain": [
       "{(1, 2, 3), 3, 5, 7, 8}"
      ]
     },
     "execution_count": 35,
     "metadata": {},
     "output_type": "execute_result"
    }
   ],
   "source": [
    "{(1,2,3),3,5,7,8}\n",
    "#no error bca of immutablity "
   ]
  },
  {
   "cell_type": "code",
   "execution_count": 40,
   "id": "alert-principle",
   "metadata": {},
   "outputs": [],
   "source": [
    "#remove duplicate list also\n",
    "s={(1,2,3),3,5,7,8,(1,2,3)}"
   ]
  },
  {
   "cell_type": "code",
   "execution_count": 41,
   "id": "computational-animal",
   "metadata": {},
   "outputs": [
    {
     "data": {
      "text/plain": [
       "{(1, 2, 3), 3, 5, 7, 8}"
      ]
     },
     "execution_count": 41,
     "metadata": {},
     "output_type": "execute_result"
    }
   ],
   "source": [
    "#set operation \n",
    "s"
   ]
  },
  {
   "cell_type": "code",
   "execution_count": 42,
   "id": "underlying-marketplace",
   "metadata": {},
   "outputs": [],
   "source": [
    "s.remove(3)"
   ]
  },
  {
   "cell_type": "code",
   "execution_count": 43,
   "id": "dynamic-desperate",
   "metadata": {},
   "outputs": [
    {
     "data": {
      "text/plain": [
       "{(1, 2, 3), 5, 7, 8}"
      ]
     },
     "execution_count": 43,
     "metadata": {},
     "output_type": "execute_result"
    }
   ],
   "source": [
    "s"
   ]
  },
  {
   "cell_type": "code",
   "execution_count": 44,
   "id": "subjective-latin",
   "metadata": {},
   "outputs": [],
   "source": [
    "s.discard(7)"
   ]
  },
  {
   "cell_type": "code",
   "execution_count": 45,
   "id": "bacterial-boulder",
   "metadata": {},
   "outputs": [
    {
     "data": {
      "text/plain": [
       "{(1, 2, 3), 5, 8}"
      ]
     },
     "execution_count": 45,
     "metadata": {},
     "output_type": "execute_result"
    }
   ],
   "source": [
    "s"
   ]
  },
  {
   "cell_type": "code",
   "execution_count": 46,
   "id": "animal-flight",
   "metadata": {},
   "outputs": [
    {
     "ename": "KeyError",
     "evalue": "44",
     "output_type": "error",
     "traceback": [
      "\u001b[1;31m---------------------------------------------------------------------------\u001b[0m",
      "\u001b[1;31mKeyError\u001b[0m                                  Traceback (most recent call last)",
      "\u001b[1;32m<ipython-input-46-e73458f042f8>\u001b[0m in \u001b[0;36m<module>\u001b[1;34m\u001b[0m\n\u001b[1;32m----> 1\u001b[1;33m \u001b[0ms\u001b[0m\u001b[1;33m.\u001b[0m\u001b[0mremove\u001b[0m\u001b[1;33m(\u001b[0m\u001b[1;36m44\u001b[0m\u001b[1;33m)\u001b[0m\u001b[1;33m\u001b[0m\u001b[0m\n\u001b[0m",
      "\u001b[1;31mKeyError\u001b[0m: 44"
     ]
    }
   ],
   "source": [
    "s.remove(44)"
   ]
  },
  {
   "cell_type": "code",
   "execution_count": 47,
   "id": "thorough-values",
   "metadata": {},
   "outputs": [],
   "source": [
    "s.discard(44)"
   ]
  },
  {
   "cell_type": "code",
   "execution_count": 50,
   "id": "expected-economics",
   "metadata": {},
   "outputs": [
    {
     "data": {
      "text/plain": [
       "{'Lalit', 'lalit'}"
      ]
     },
     "execution_count": 50,
     "metadata": {},
     "output_type": "execute_result"
    }
   ],
   "source": [
    "{'lalit','Lalit'}"
   ]
  },
  {
   "cell_type": "code",
   "execution_count": 51,
   "id": "offensive-suicide",
   "metadata": {},
   "outputs": [
    {
     "data": {
      "text/plain": [
       "set"
      ]
     },
     "execution_count": 51,
     "metadata": {},
     "output_type": "execute_result"
    }
   ],
   "source": [
    "type({'lalit','Lalit'})"
   ]
  },
  {
   "cell_type": "code",
   "execution_count": 62,
   "id": "blind-roberts",
   "metadata": {},
   "outputs": [],
   "source": [
    "#Disctionary\n",
    "#Dictionaries are used to store data values in key:value pairs.\n",
    "dic={\n",
    "    \"name\":'lalit',\n",
    "    'mob. no.':9977679825,\n",
    "    \"add\":'IASRI New Delhi',\n",
    "    'list':[1,2,3,4,5,6,(1,2,3,4)]\n",
    "}"
   ]
  },
  {
   "cell_type": "code",
   "execution_count": 63,
   "id": "naked-religious",
   "metadata": {},
   "outputs": [
    {
     "data": {
      "text/plain": [
       "{'name': 'lalit',\n",
       " 'mob. no.': 9977679825,\n",
       " 'add': 'IASRI New Delhi',\n",
       " 'list': [1, 2, 3, 4, 5, 6, (1, 2, 3, 4)]}"
      ]
     },
     "execution_count": 63,
     "metadata": {},
     "output_type": "execute_result"
    }
   ],
   "source": [
    "dic"
   ]
  },
  {
   "cell_type": "code",
   "execution_count": 64,
   "id": "superior-ordinary",
   "metadata": {},
   "outputs": [
    {
     "data": {
      "text/plain": [
       "'lalit'"
      ]
     },
     "execution_count": 64,
     "metadata": {},
     "output_type": "execute_result"
    }
   ],
   "source": [
    "dic['name']"
   ]
  },
  {
   "cell_type": "code",
   "execution_count": 65,
   "id": "nonprofit-mexico",
   "metadata": {},
   "outputs": [
    {
     "data": {
      "text/plain": [
       "9977679825"
      ]
     },
     "execution_count": 65,
     "metadata": {},
     "output_type": "execute_result"
    }
   ],
   "source": [
    "dic['mob. no.']"
   ]
  },
  {
   "cell_type": "code",
   "execution_count": 66,
   "id": "coupled-toolbox",
   "metadata": {},
   "outputs": [
    {
     "data": {
      "text/plain": [
       "'IASRI New Delhi'"
      ]
     },
     "execution_count": 66,
     "metadata": {},
     "output_type": "execute_result"
    }
   ],
   "source": [
    "dic['add']"
   ]
  },
  {
   "cell_type": "code",
   "execution_count": 67,
   "id": "correct-confusion",
   "metadata": {},
   "outputs": [
    {
     "data": {
      "text/plain": [
       "[1, 2, 3, 4, 5, 6, (1, 2, 3, 4)]"
      ]
     },
     "execution_count": 67,
     "metadata": {},
     "output_type": "execute_result"
    }
   ],
   "source": [
    "dic['list']"
   ]
  },
  {
   "cell_type": "code",
   "execution_count": 68,
   "id": "prospective-questionnaire",
   "metadata": {},
   "outputs": [
    {
     "data": {
      "text/plain": [
       "1"
      ]
     },
     "execution_count": 68,
     "metadata": {},
     "output_type": "execute_result"
    }
   ],
   "source": [
    "dic['list'][0]"
   ]
  },
  {
   "cell_type": "code",
   "execution_count": 71,
   "id": "legislative-acquisition",
   "metadata": {},
   "outputs": [
    {
     "data": {
      "text/plain": [
       "(1, 2, 3, 4)"
      ]
     },
     "execution_count": 71,
     "metadata": {},
     "output_type": "execute_result"
    }
   ],
   "source": [
    "dic['list'][6]"
   ]
  },
  {
   "cell_type": "code",
   "execution_count": 74,
   "id": "compound-spokesman",
   "metadata": {},
   "outputs": [
    {
     "name": "stdout",
     "output_type": "stream",
     "text": [
      "1\n",
      "2\n",
      "3\n",
      "4\n"
     ]
    }
   ],
   "source": [
    "for i in dic['list']:\n",
    "    if type(i)==tuple:\n",
    "        for k in i:\n",
    "            print(k)"
   ]
  },
  {
   "cell_type": "code",
   "execution_count": 75,
   "id": "headed-moisture",
   "metadata": {},
   "outputs": [],
   "source": [
    "d={\n",
    "    4:'lalit'\n",
    "}"
   ]
  },
  {
   "cell_type": "code",
   "execution_count": 76,
   "id": "wooden-freeware",
   "metadata": {},
   "outputs": [
    {
     "data": {
      "text/plain": [
       "'lalit'"
      ]
     },
     "execution_count": 76,
     "metadata": {},
     "output_type": "execute_result"
    }
   ],
   "source": [
    "d[4]"
   ]
  },
  {
   "cell_type": "code",
   "execution_count": 79,
   "id": "owned-remove",
   "metadata": {},
   "outputs": [],
   "source": [
    "d1={'key1':223,\n",
    "    \"key2\":\"lalit\",\n",
    " 45:[3,4,5,6]}"
   ]
  },
  {
   "cell_type": "code",
   "execution_count": 80,
   "id": "invisible-local",
   "metadata": {},
   "outputs": [
    {
     "data": {
      "text/plain": [
       "{'key1': 223, 'key2': 'lalit', 45: [3, 4, 5, 6]}"
      ]
     },
     "execution_count": 80,
     "metadata": {},
     "output_type": "execute_result"
    }
   ],
   "source": [
    "d1"
   ]
  },
  {
   "cell_type": "code",
   "execution_count": 82,
   "id": "adverse-partition",
   "metadata": {},
   "outputs": [
    {
     "data": {
      "text/plain": [
       "[3, 4, 5, 6]"
      ]
     },
     "execution_count": 82,
     "metadata": {},
     "output_type": "execute_result"
    }
   ],
   "source": [
    "d1[45]"
   ]
  },
  {
   "cell_type": "code",
   "execution_count": 90,
   "id": "acknowledged-birth",
   "metadata": {},
   "outputs": [],
   "source": [
    "d={\"key\":['alit','dfsdf',2,4,5,67,87]}"
   ]
  },
  {
   "cell_type": "code",
   "execution_count": 91,
   "id": "adopted-notion",
   "metadata": {},
   "outputs": [
    {
     "data": {
      "text/plain": [
       "['alit', 'dfsdf', 2, 4, 5, 67, 87]"
      ]
     },
     "execution_count": 91,
     "metadata": {},
     "output_type": "execute_result"
    }
   ],
   "source": [
    "d['key']"
   ]
  },
  {
   "cell_type": "code",
   "execution_count": 94,
   "id": "applicable-romance",
   "metadata": {},
   "outputs": [],
   "source": [
    "d1={\"key1\":[1,2,3,4],\"key2\":\"lalit\",\"key1\":45}"
   ]
  },
  {
   "cell_type": "code",
   "execution_count": 96,
   "id": "subtle-asthma",
   "metadata": {},
   "outputs": [
    {
     "data": {
      "text/plain": [
       "45"
      ]
     },
     "execution_count": 96,
     "metadata": {},
     "output_type": "execute_result"
    }
   ],
   "source": [
    "#overriding of key\n",
    "d1['key1']"
   ]
  },
  {
   "cell_type": "code",
   "execution_count": null,
   "id": "meaning-ridge",
   "metadata": {},
   "outputs": [],
   "source": [
    "d={}"
   ]
  },
  {
   "cell_type": "code",
   "execution_count": 2,
   "id": "broke-proof",
   "metadata": {},
   "outputs": [],
   "source": [
    "# controll flow program\n",
    "#condition statement"
   ]
  },
  {
   "cell_type": "code",
   "execution_count": 9,
   "id": "independent-broadway",
   "metadata": {},
   "outputs": [
    {
     "ename": "SyntaxError",
     "evalue": "invalid syntax (<ipython-input-9-1b64e182ab4e>, line 2)",
     "output_type": "error",
     "traceback": [
      "\u001b[1;36m  File \u001b[1;32m\"<ipython-input-9-1b64e182ab4e>\"\u001b[1;36m, line \u001b[1;32m2\u001b[0m\n\u001b[1;33m    if a==10\u001b[0m\n\u001b[1;37m            ^\u001b[0m\n\u001b[1;31mSyntaxError\u001b[0m\u001b[1;31m:\u001b[0m invalid syntax\n"
     ]
    }
   ],
   "source": [
    "a=10\n",
    "\n",
    "    "
   ]
  },
  {
   "cell_type": "code",
   "execution_count": 15,
   "id": "concerned-buffalo",
   "metadata": {},
   "outputs": [
    {
     "name": "stdout",
     "output_type": "stream",
     "text": [
      "lalit\n"
     ]
    }
   ],
   "source": [
    "if a==10:\n",
    "    print(\"lalit\")"
   ]
  },
  {
   "cell_type": "code",
   "execution_count": 14,
   "id": "figured-helena",
   "metadata": {},
   "outputs": [
    {
     "data": {
      "text/plain": [
       "True"
      ]
     },
     "execution_count": 14,
     "metadata": {},
     "output_type": "execute_result"
    }
   ],
   "source": [
    "a <=10"
   ]
  },
  {
   "cell_type": "code",
   "execution_count": 17,
   "id": "satisfactory-student",
   "metadata": {},
   "outputs": [],
   "source": [
    "if a==10:\n",
    "    pass"
   ]
  },
  {
   "cell_type": "code",
   "execution_count": 19,
   "id": "liked-country",
   "metadata": {},
   "outputs": [
    {
     "name": "stdout",
     "output_type": "stream",
     "text": [
      "my name is lalit\n"
     ]
    }
   ],
   "source": [
    "if a<15:\n",
    "    print(\"my name is lalit\")"
   ]
  },
  {
   "cell_type": "code",
   "execution_count": 20,
   "id": "french-nightlife",
   "metadata": {},
   "outputs": [],
   "source": [
    "if 24<15:\n",
    "    print(\"dkljhf\")"
   ]
  },
  {
   "cell_type": "code",
   "execution_count": 22,
   "id": "challenging-conclusion",
   "metadata": {},
   "outputs": [
    {
     "name": "stdout",
     "output_type": "stream",
     "text": [
      "if statement is wrong\n"
     ]
    }
   ],
   "source": [
    "if 3>10:\n",
    "    print(\"10 is lesser than 3\")\n",
    "else:\n",
    "    print(\"if statement is wrong\")\n",
    "    "
   ]
  },
  {
   "cell_type": "code",
   "execution_count": 28,
   "id": "curious-resolution",
   "metadata": {},
   "outputs": [
    {
     "name": "stdout",
     "output_type": "stream",
     "text": [
      "10\n",
      "i will be able to buy phone\n"
     ]
    }
   ],
   "source": [
    "income=int(input())\n",
    "\n",
    "if income<50:\n",
    "    print(\"i will be able to buy phone\")\n",
    "elif income <70:\n",
    "    print(\"buy a car\")\n",
    "elif income<90:\n",
    "    print(\"buy a house\")\n",
    "else:\n",
    "    print(\"buy any thing\")\n",
    "\n",
    "    "
   ]
  },
  {
   "cell_type": "code",
   "execution_count": 32,
   "id": "micro-introduction",
   "metadata": {},
   "outputs": [
    {
     "name": "stdout",
     "output_type": "stream",
     "text": [
      "5555\n",
      "discount will be 277.75\n"
     ]
    }
   ],
   "source": [
    "total_price=int(input())\n",
    "if total_price > 20000:\n",
    "    discount = total_price*.20\n",
    "    print(\"discount will be\",discount)\n",
    "elif total_price <=7000:\n",
    "    discount=total_price*.05\n",
    "    print(\"discount will be\",discount)\n",
    "else:\n",
    "    print(\"will not be able to give any discount\")\n"
   ]
  },
  {
   "cell_type": "code",
   "execution_count": 35,
   "id": "floating-willow",
   "metadata": {},
   "outputs": [
    {
     "name": "stdout",
     "output_type": "stream",
     "text": [
      "able to get discount of 5%\n",
      "6726.0\n"
     ]
    }
   ],
   "source": [
    "coup=\"SUDHANSHU5\"\n",
    "if coup == \"SUDHANSHU5\":\n",
    "    print(\"able to get discount of 5%\")\n",
    "    amount = 7080 - 7080*0.05\n",
    "    print(\"amount you have to paid amount of\",amount)\n"
   ]
  },
  {
   "cell_type": "code",
   "execution_count": 34,
   "id": "structural-seating",
   "metadata": {},
   "outputs": [
    {
     "data": {
      "text/plain": [
       "True"
      ]
     },
     "execution_count": 34,
     "metadata": {},
     "output_type": "execute_result"
    }
   ],
   "source": [
    "\"sudh\"==\"sudh\""
   ]
  },
  {
   "cell_type": "code",
   "execution_count": 42,
   "id": "coupled-dancing",
   "metadata": {},
   "outputs": [
    {
     "name": "stdout",
     "output_type": "stream",
     "text": [
      "enter a string to startjikh\n",
      "kindly connet to our team\n"
     ]
    }
   ],
   "source": [
    "s=input(\"enter a string to start\")\n",
    "if s == \"oneneuron\":\n",
    "    course = input(\"enter a course name\")\n",
    "    if course == \"DSA\":\n",
    "        print(\"yes under one neuron and in multiple mode fo job preparatin \")\n",
    "    elif course ==\"Blockchain\":\n",
    "        print('this is not availabe as of now, kindly raise your demand and we will fulfl in 60 days')\n",
    "    else:\n",
    "        print(\"this course is not availabe kindly raise your demand\")\n",
    "elif s == \"oseneuronservice\":\n",
    "    service=input(\"enter a service name\")\n",
    "    if service == \"courserequest\":\n",
    "        print(\"NOTE: dlk jflkkjd l;j dkljl jd ljj\")\n",
    "    elif sercvice == \"module\":\n",
    "        print(\"Note:2\")\n",
    "    elif service ==\"doubt\":\n",
    "        print(\"note:3\")\n",
    "    elif service == \"workwithus\":\n",
    "        print('note;4')\n",
    "    else:\n",
    "        print(\"kindly provide us your feedback and we will fulfil\")\n",
    "else:\n",
    "    print(\"kindly connet to our team\")\n",
    "    "
   ]
  },
  {
   "cell_type": "code",
   "execution_count": 47,
   "id": "proved-shower",
   "metadata": {},
   "outputs": [
    {
     "name": "stdout",
     "output_type": "stream",
     "text": [
      "2\n",
      "3\n",
      "4\n",
      "5\n",
      "6\n",
      "7\n",
      "8\n"
     ]
    }
   ],
   "source": [
    "l=[1,2,3,4,5,6,7]\n",
    "for i in l:\n",
    "    print(i)"
   ]
  },
  {
   "cell_type": "code",
   "execution_count": 49,
   "id": "tutorial-contents",
   "metadata": {},
   "outputs": [],
   "source": [
    "t=(1,2,3,4,5,6)"
   ]
  },
  {
   "cell_type": "code",
   "execution_count": 50,
   "id": "decimal-suspension",
   "metadata": {},
   "outputs": [
    {
     "name": "stdout",
     "output_type": "stream",
     "text": [
      "1\n",
      "2\n",
      "3\n",
      "4\n",
      "5\n",
      "6\n"
     ]
    }
   ],
   "source": [
    "for i in t:\n",
    "    print(i)"
   ]
  },
  {
   "cell_type": "code",
   "execution_count": 51,
   "id": "bacterial-category",
   "metadata": {},
   "outputs": [],
   "source": [
    "l=[4,1,4.5,4.8j,\"sudh\"]"
   ]
  },
  {
   "cell_type": "code",
   "execution_count": 52,
   "id": "three-latino",
   "metadata": {},
   "outputs": [
    {
     "name": "stdout",
     "output_type": "stream",
     "text": [
      "<class 'int'>\n",
      "<class 'int'>\n",
      "<class 'float'>\n",
      "<class 'complex'>\n",
      "<class 'str'>\n"
     ]
    }
   ],
   "source": [
    "for i in l:\n",
    "    print(type(i))"
   ]
  },
  {
   "cell_type": "code",
   "execution_count": 56,
   "id": "equivalent-modem",
   "metadata": {},
   "outputs": [
    {
     "name": "stdout",
     "output_type": "stream",
     "text": [
      "3\n",
      "6\n",
      "7.6\n"
     ]
    },
    {
     "data": {
      "text/plain": [
       "[3, 6, 7.6]"
      ]
     },
     "execution_count": 56,
     "metadata": {},
     "output_type": "execute_result"
    }
   ],
   "source": [
    "l=[1,4,5.6]\n",
    "l1=[]\n",
    "for i in l:\n",
    "    x=i+2\n",
    "    print(x)\n",
    "    l1.append(x)\n",
    "l1"
   ]
  },
  {
   "cell_type": "code",
   "execution_count": 62,
   "id": "standard-korea",
   "metadata": {},
   "outputs": [],
   "source": [
    "l=[2,45,78,\"lalit\",6+7j,[56,67,78],\"dsfgsd\"]\n"
   ]
  },
  {
   "cell_type": "code",
   "execution_count": 61,
   "id": "complete-possible",
   "metadata": {},
   "outputs": [
    {
     "name": "stdout",
     "output_type": "stream",
     "text": [
      "2\n",
      "45\n",
      "78\n",
      "56\n",
      "67\n",
      "78\n"
     ]
    }
   ],
   "source": [
    "for i in l:\n",
    "    if type(i) == int :\n",
    "        print(i)\n",
    "    elif type(i)==list:\n",
    "        for j in i:\n",
    "            if type(j)==int:\n",
    "                print(j)\n",
    "            "
   ]
  },
  {
   "cell_type": "code",
   "execution_count": 80,
   "id": "cardiac-curtis",
   "metadata": {},
   "outputs": [
    {
     "name": "stdout",
     "output_type": "stream",
     "text": [
      "square of  2 4\n",
      "index of   2 0\n",
      "square of  45 2025\n",
      "index of   45 1\n",
      "square of  78 6084\n",
      "index of   78 2\n",
      "l\n",
      "a\n",
      "l\n",
      "i\n",
      "t\n",
      "index of   lalit 3\n",
      "index of   (6+7j) 4\n",
      "index of   [56, 67, 78, 'dsfgsd'] 5\n"
     ]
    }
   ],
   "source": [
    "#index inbuilt is not applicable repeated element \n",
    "l=[2,45,78,\"lalit\",6+7j,[56,67,78,\"dsfgsd\"]]\n",
    "for i in l:\n",
    "    if type(i)==int:\n",
    "        print(\"square of \",i,i**2)\n",
    "    if type(i)==str:\n",
    "        for j in i:\n",
    "            print(j)\n",
    "    print( \"index of  \", i , l.index(i))\n",
    "    \n",
    "\n",
    "\n"
   ]
  },
  {
   "cell_type": "code",
   "execution_count": 105,
   "id": "blocked-blake",
   "metadata": {},
   "outputs": [
    {
     "name": "stdout",
     "output_type": "stream",
     "text": [
      "index of  2  is  0\n",
      "index of  2  is  1\n",
      "index of  2  is  2\n",
      "index of  45  is  3\n",
      "index of  45  is  4\n",
      "index of  45  is  5\n",
      "index of  78  is  6\n",
      "index of  lalit  is  7\n",
      "index of  (6+7j)  is  8\n",
      "index of  [56, 67, 78, 'dsfgsd']  is  9\n",
      "[4]\n",
      "[4, 4]\n",
      "[4, 4, 4]\n",
      "[4, 4, 4, 2025]\n",
      "[4, 4, 4, 2025, 2025]\n",
      "[4, 4, 4, 2025, 2025, 2025]\n",
      "[4, 4, 4, 2025, 2025, 2025, 6084]\n",
      "['l', 'a', 'l', 'i', 't']\n"
     ]
    },
    {
     "data": {
      "text/plain": [
       "[4, 4, 4, 2025, 2025, 2025, 6084]"
      ]
     },
     "execution_count": 105,
     "metadata": {},
     "output_type": "execute_result"
    }
   ],
   "source": [
    "l=[2,2,2,45,45,45,78,\"lalit\",6+7j,[56,67,78,\"dsfgsd\"]]\n",
    "l2=[]\n",
    "for i in range(0,len(l)):\n",
    "    print(\"index of \",l[i],\" is \" ,i)\n",
    "for i in l:\n",
    "    if type(i)==int:\n",
    "        l2.append(i**2)\n",
    "        print(l2)\n",
    "    if type(i)==str:\n",
    "        l1=[]\n",
    "        for j in i:\n",
    "            l1.append(j)\n",
    "        print(l1)\n",
    "\n",
    "l2\n",
    "\n"
   ]
  },
  {
   "cell_type": "code",
   "execution_count": 88,
   "id": "mechanical-likelihood",
   "metadata": {},
   "outputs": [
    {
     "name": "stdout",
     "output_type": "stream",
     "text": [
      "(0, 2)\n",
      "(1, 45)\n",
      "(2, 78)\n",
      "(3, 'lalit')\n",
      "(4, (6+7j))\n",
      "(5, [56, 67, 78, 'dsfgsd'])\n"
     ]
    }
   ],
   "source": [
    "for i in enumerate(l):\n",
    "    print(i)"
   ]
  },
  {
   "cell_type": "code",
   "execution_count": null,
   "id": "attached-malawi",
   "metadata": {},
   "outputs": [],
   "source": []
  },
  {
   "cell_type": "code",
   "execution_count": null,
   "id": "subtle-haiti",
   "metadata": {},
   "outputs": [],
   "source": []
  }
 ],
 "metadata": {
  "kernelspec": {
   "display_name": "Python 3",
   "language": "python",
   "name": "python3"
  },
  "language_info": {
   "codemirror_mode": {
    "name": "ipython",
    "version": 3
   },
   "file_extension": ".py",
   "mimetype": "text/x-python",
   "name": "python",
   "nbconvert_exporter": "python",
   "pygments_lexer": "ipython3",
   "version": "3.7.0"
  }
 },
 "nbformat": 4,
 "nbformat_minor": 5
}
