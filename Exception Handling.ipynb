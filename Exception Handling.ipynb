{
 "cells": [
  {
   "cell_type": "code",
   "execution_count": null,
   "id": "treated-immunology",
   "metadata": {},
   "outputs": [],
   "source": [
    "a=5\n",
    "a/10\n"
   ]
  },
  {
   "cell_type": "code",
   "execution_count": null,
   "id": "strong-poland",
   "metadata": {},
   "outputs": [],
   "source": [
    "a/0"
   ]
  },
  {
   "cell_type": "code",
   "execution_count": null,
   "id": "latter-palestine",
   "metadata": {},
   "outputs": [],
   "source": [
    "a=5\n",
    "b=int(input())\n",
    "a/b\n",
    "#will give runtime error while b=0"
   ]
  },
  {
   "cell_type": "code",
   "execution_count": null,
   "id": "confirmed-stack",
   "metadata": {},
   "outputs": [],
   "source": [
    "f=open(\"test.text\",\"w\")\n",
    "f.write(\" my name is lalit birla \")"
   ]
  },
  {
   "cell_type": "markdown",
   "id": "adult-fighter",
   "metadata": {},
   "source": [
    "# Exceptin handling use to handle run time error not compile time (systax) error\n",
    "\n"
   ]
  },
  {
   "cell_type": "code",
   "execution_count": null,
   "id": "decreased-aspect",
   "metadata": {},
   "outputs": [],
   "source": [
    "try:\n",
    "    f = open('test.txt',\"r\") # open file in read mode\n",
    "    f.write(\" dljl dljf djal f \") # you write in the file but it is in read mode so giving exception\n",
    "#but this is systactical mistake bcz you did not write except block"
   ]
  },
  {
   "cell_type": "code",
   "execution_count": null,
   "id": "brazilian-banana",
   "metadata": {},
   "outputs": [],
   "source": [
    "try:\n",
    "    f = open('test.txt',\"r\") \n",
    "    f.write(\" dljl dljf djal f \") \n",
    "except:\n",
    "    print(\"There was mistake\")\n",
    "\n",
    "print(\"this is my code\")"
   ]
  },
  {
   "cell_type": "code",
   "execution_count": null,
   "id": "hidden-steering",
   "metadata": {},
   "outputs": [],
   "source": [
    "l=[4,5,6,7,8,9,0]\n",
    "for i in range(len(l)+1):\n",
    "    print(l[i])\n",
    "print(\"it will not run\")"
   ]
  },
  {
   "cell_type": "code",
   "execution_count": null,
   "id": "spanish-mitchell",
   "metadata": {},
   "outputs": [],
   "source": [
    "try:\n",
    "    for i in range(len(l)+1):\n",
    "        print(l[i])\n",
    "except:\n",
    "    print(\"this is my code\")\n",
    "print('but this code will also run')"
   ]
  },
  {
   "cell_type": "code",
   "execution_count": null,
   "id": "faced-found",
   "metadata": {},
   "outputs": [],
   "source": [
    "try:\n",
    "    for i in range(len(l)+1):\n",
    "        print(l[i])\n",
    "except Exception as e:\n",
    "    print(\"this is my code: \", e)\n",
    "print('but this code will also run')"
   ]
  },
  {
   "cell_type": "code",
   "execution_count": null,
   "id": "blond-monitoring",
   "metadata": {},
   "outputs": [],
   "source": [
    "try:\n",
    "    a=int(input())\n",
    "    b=int(input())\n",
    "except Exception as e:\n",
    "    print(e)\n",
    "print(\"........this code run even though i entered a wrong input........\")"
   ]
  },
  {
   "cell_type": "code",
   "execution_count": null,
   "id": "heard-sympathy",
   "metadata": {},
   "outputs": [],
   "source": [
    "# Exception is super class which is writen by someone which is used to know which type error is there"
   ]
  },
  {
   "cell_type": "code",
   "execution_count": null,
   "id": "automotive-bibliography",
   "metadata": {},
   "outputs": [],
   "source": [
    "try:\n",
    "    f = open(\"test1.txt\", \"r\")\n",
    "    f.write(\"this is my code for exception handling\")\n",
    "    print(\"this is my code after write ops\")\n",
    "except :\n",
    "    print(\"always try and except block comes together \")\n",
    "l=[1,2,3,4,5,6]\n",
    "[i for i in l ]"
   ]
  },
  {
   "cell_type": "code",
   "execution_count": null,
   "id": "coastal-habitat",
   "metadata": {},
   "outputs": [],
   "source": [
    "f = open(\"test1.txt\", \"r\")\n",
    "f.write(\"this is my code for exception handling\")\n",
    "print(\"this is my code after write ops\")\n",
    "print(\"always try and except block comes together \")\n",
    "l=[1,2,3,4,5,6]\n",
    "[i for i in l ]\n",
    "\n",
    "#here error will give bcz of read write conflict after that no code will run because code is writen in single block"
   ]
  },
  {
   "cell_type": "code",
   "execution_count": null,
   "id": "sharing-oasis",
   "metadata": {},
   "outputs": [],
   "source": [
    "try:\n",
    "    f = open(\"test1.txt\", \"r\")\n",
    "    f.write(\"this is my code for exception handling\")\n",
    "    print(\"this is my code after write ops\")\n",
    "except :\n",
    "    print(\"always try and except block comes together \")\n",
    "try:\n",
    "    l=[1,2,3,4,5,6]\n",
    "    for i in l:\n",
    "        print(i)\n",
    "except:\n",
    "    print(\"this is handler for  a for loop\")"
   ]
  },
  {
   "cell_type": "markdown",
   "id": "collectible-onion",
   "metadata": {},
   "source": [
    "# you can writre millions of try and except block and it will not take you ram means it will not affect computation power of system"
   ]
  },
  {
   "cell_type": "code",
   "execution_count": null,
   "id": "exterior-philippines",
   "metadata": {},
   "outputs": [],
   "source": [
    "try:\n",
    "    d ={\"key1\":\"sudh\"}\n",
    "    d[\"key2\"]=int(input())\n",
    "except ValueError as sudh:\n",
    "    print(\"this is value error lalit\")"
   ]
  },
  {
   "cell_type": "code",
   "execution_count": null,
   "id": "respective-greensboro",
   "metadata": {},
   "outputs": [],
   "source": [
    "try:\n",
    "    d ={\"key1\":\"sudh\"}\n",
    "    d[\"key2\"]=int(input())\n",
    "    f=open(\"test2\",\"r\")\n",
    "except ValueError as sudh:\n",
    "    print(sudh)"
   ]
  },
  {
   "cell_type": "code",
   "execution_count": null,
   "id": "constant-marina",
   "metadata": {},
   "outputs": [],
   "source": [
    "try:\n",
    "    d ={\"key1\":\"sudh\"}\n",
    "    d[\"key2\"]=int(input())\n",
    "    f=open(\"test2\",\"r\")\n",
    "except ValueError as sudh:\n",
    "    print(sudh)\n",
    "except FileNotFoundErro as e:\n",
    "    print(e)\n",
    "except Exception as ee:\n",
    "    print(\"this is my exception class\", ee)"
   ]
  },
  {
   "cell_type": "code",
   "execution_count": null,
   "id": "industrial-debut",
   "metadata": {},
   "outputs": [],
   "source": []
  },
  {
   "cell_type": "code",
   "execution_count": null,
   "id": "little-southwest",
   "metadata": {},
   "outputs": [],
   "source": []
  },
  {
   "cell_type": "code",
   "execution_count": null,
   "id": "abroad-canada",
   "metadata": {},
   "outputs": [],
   "source": []
  },
  {
   "cell_type": "code",
   "execution_count": null,
   "id": "solid-yugoslavia",
   "metadata": {},
   "outputs": [],
   "source": []
  },
  {
   "cell_type": "code",
   "execution_count": null,
   "id": "initial-period",
   "metadata": {},
   "outputs": [],
   "source": [
    "try:\n",
    "    f = open(\"test5.txt\",\"r\")\n",
    "    f.write(\"this is my code in try\")\n",
    "except Exception as e:\n",
    "    print(\"this will handle an error\",e)\n",
    "else:\n",
    "    print(\"this will execute once my try block will be executed succesfully\")\n",
    "    f.close()"
   ]
  },
  {
   "cell_type": "code",
   "execution_count": 19,
   "id": "furnished-configuration",
   "metadata": {},
   "outputs": [
    {
     "name": "stdout",
     "output_type": "stream",
     "text": [
      "dljfldjfldj  [Errno 2] No such file or directory: 'test3'\n",
      "do this for sure\n"
     ]
    }
   ],
   "source": [
    "try:\n",
    "    f =open(\"test3\",'r')\n",
    "except Exception as e:\n",
    "    print(\"dljfldjfldj \",e)\n",
    "finally:\n",
    "    print(\"do this for sure\")\n",
    "    \n",
    "#code in finally block will run for sure but in case of else block code will run inside else block if and only try bock is try"
   ]
  },
  {
   "cell_type": "code",
   "execution_count": 20,
   "id": "moderate-concrete",
   "metadata": {},
   "outputs": [
    {
     "name": "stdout",
     "output_type": "stream",
     "text": [
      "dljfldjfldj  [Errno 2] No such file or directory: 'test3'\n",
      "do this for sure\n"
     ]
    }
   ],
   "source": [
    "try:\n",
    "    f =open(\"test3\",'r')\n",
    "except Exception as e:\n",
    "    print(\"dljfldjfldj \",e)\n",
    "else:\n",
    "    print(\"do this on succesfull  of try block\")\n",
    "finally:\n",
    "    print(\"do this for sure\")\n",
    "    \n",
    "#code in finally block will run for sure but in case of else block code will run inside else block if and only try bock is try"
   ]
  },
  {
   "cell_type": "code",
   "execution_count": 21,
   "id": "fancy-spoke",
   "metadata": {},
   "outputs": [
    {
     "name": "stdout",
     "output_type": "stream",
     "text": [
      "else block run: do this on succesfull  of try block\n",
      "do this for sure\n"
     ]
    }
   ],
   "source": [
    "try:\n",
    "    f =open(\"test3.txt\",'w')\n",
    "except Exception as e:\n",
    "    print(\"dljfldjfldj \",e)\n",
    "else:\n",
    "    print(\"else block run: do this on succesfull  of try block\")\n",
    "finally:\n",
    "    print(\"do this for sure\")"
   ]
  },
  {
   "cell_type": "code",
   "execution_count": 22,
   "id": "average-allen",
   "metadata": {},
   "outputs": [
    {
     "name": "stdout",
     "output_type": "stream",
     "text": [
      "else block run: do this on succesfull  of try block\n",
      "do this for sure\n"
     ]
    },
    {
     "ename": "FileNotFoundError",
     "evalue": "[Errno 2] No such file or directory: 'ldkjflkj'",
     "output_type": "error",
     "traceback": [
      "\u001b[1;31m---------------------------------------------------------------------------\u001b[0m",
      "\u001b[1;31mFileNotFoundError\u001b[0m                         Traceback (most recent call last)",
      "\u001b[1;32m<ipython-input-22-04963cdd737c>\u001b[0m in \u001b[0;36m<module>\u001b[1;34m\u001b[0m\n\u001b[0;32m      7\u001b[0m \u001b[1;32mfinally\u001b[0m\u001b[1;33m:\u001b[0m\u001b[1;33m\u001b[0m\u001b[0m\n\u001b[0;32m      8\u001b[0m     \u001b[0mprint\u001b[0m\u001b[1;33m(\u001b[0m\u001b[1;34m\"do this for sure\"\u001b[0m\u001b[1;33m)\u001b[0m\u001b[1;33m\u001b[0m\u001b[0m\n\u001b[1;32m----> 9\u001b[1;33m     \u001b[0mf\u001b[0m\u001b[1;33m=\u001b[0m\u001b[0mopen\u001b[0m\u001b[1;33m(\u001b[0m\u001b[1;34m\"ldkjflkj\"\u001b[0m\u001b[1;33m,\u001b[0m\u001b[1;34m\"r\"\u001b[0m\u001b[1;33m)\u001b[0m\u001b[1;31m#but here error means finally block does not handle\u001b[0m\u001b[1;33m\u001b[0m\u001b[0m\n\u001b[0m",
      "\u001b[1;31mFileNotFoundError\u001b[0m: [Errno 2] No such file or directory: 'ldkjflkj'"
     ]
    }
   ],
   "source": [
    "try:\n",
    "    f =open(\"test3.txt\",'w')\n",
    "except Exception as e:\n",
    "    print(\"dljfldjfldj \",e)\n",
    "else:\n",
    "    print(\"else block run: do this on succesfull  of try block\")\n",
    "finally:\n",
    "    print(\"do this for sure\")\n",
    "    f=open(\"ldkjflkj\",\"r\")#but here error means finally block does not handle "
   ]
  },
  {
   "cell_type": "code",
   "execution_count": 23,
   "id": "cloudy-sequence",
   "metadata": {},
   "outputs": [
    {
     "name": "stdout",
     "output_type": "stream",
     "text": [
      "else block run: do this on succesfull  of try block\n",
      "do this for sure\n",
      "handle this\n",
      "it will come to this block for sure\n"
     ]
    }
   ],
   "source": [
    "try:\n",
    "    f =open(\"test3.txt\",'w')\n",
    "except Exception as e:\n",
    "    print(\"dljfldjfldj \",e)\n",
    "else:\n",
    "    print(\"else block run: do this on succesfull  of try block\")\n",
    "finally:\n",
    "    print(\"do this for sure\")\n",
    "    try:\n",
    "        f=open(\"ldkjflkj\",\"r\")\n",
    "    except:\n",
    "        print(\"handle this\")\n",
    "    finally:\n",
    "        print(\"it will come to this block for sure\")\n",
    "\n",
    "#meaning is this that you can write try except finally bocks any where"
   ]
  },
  {
   "cell_type": "code",
   "execution_count": 24,
   "id": "electric-september",
   "metadata": {},
   "outputs": [],
   "source": [
    "def askint():\n",
    "    a = int(input())\n",
    "    return a"
   ]
  },
  {
   "cell_type": "code",
   "execution_count": 25,
   "id": "earlier-marketing",
   "metadata": {},
   "outputs": [
    {
     "name": "stdout",
     "output_type": "stream",
     "text": [
      "\n"
     ]
    },
    {
     "ename": "ValueError",
     "evalue": "invalid literal for int() with base 10: ''",
     "output_type": "error",
     "traceback": [
      "\u001b[1;31m---------------------------------------------------------------------------\u001b[0m",
      "\u001b[1;31mValueError\u001b[0m                                Traceback (most recent call last)",
      "\u001b[1;32m<ipython-input-25-cc291aa76c10>\u001b[0m in \u001b[0;36m<module>\u001b[1;34m\u001b[0m\n\u001b[1;32m----> 1\u001b[1;33m \u001b[0maskint\u001b[0m\u001b[1;33m(\u001b[0m\u001b[1;33m)\u001b[0m\u001b[1;33m\u001b[0m\u001b[0m\n\u001b[0m",
      "\u001b[1;32m<ipython-input-24-631861caf452>\u001b[0m in \u001b[0;36maskint\u001b[1;34m()\u001b[0m\n\u001b[0;32m      1\u001b[0m \u001b[1;32mdef\u001b[0m \u001b[0maskint\u001b[0m\u001b[1;33m(\u001b[0m\u001b[1;33m)\u001b[0m\u001b[1;33m:\u001b[0m\u001b[1;33m\u001b[0m\u001b[0m\n\u001b[1;32m----> 2\u001b[1;33m     \u001b[0ma\u001b[0m \u001b[1;33m=\u001b[0m \u001b[0mint\u001b[0m\u001b[1;33m(\u001b[0m\u001b[0minput\u001b[0m\u001b[1;33m(\u001b[0m\u001b[1;33m)\u001b[0m\u001b[1;33m)\u001b[0m\u001b[1;33m\u001b[0m\u001b[0m\n\u001b[0m\u001b[0;32m      3\u001b[0m     \u001b[1;32mreturn\u001b[0m \u001b[0ma\u001b[0m\u001b[1;33m\u001b[0m\u001b[0m\n",
      "\u001b[1;31mValueError\u001b[0m: invalid literal for int() with base 10: ''"
     ]
    }
   ],
   "source": [
    "askint()"
   ]
  },
  {
   "cell_type": "code",
   "execution_count": 26,
   "id": "local-parking",
   "metadata": {},
   "outputs": [
    {
     "name": "stdout",
     "output_type": "stream",
     "text": [
      "\n"
     ]
    },
    {
     "ename": "ValueError",
     "evalue": "invalid literal for int() with base 10: ''",
     "output_type": "error",
     "traceback": [
      "\u001b[1;31m---------------------------------------------------------------------------\u001b[0m",
      "\u001b[1;31mValueError\u001b[0m                                Traceback (most recent call last)",
      "\u001b[1;32m<ipython-input-26-cc291aa76c10>\u001b[0m in \u001b[0;36m<module>\u001b[1;34m\u001b[0m\n\u001b[1;32m----> 1\u001b[1;33m \u001b[0maskint\u001b[0m\u001b[1;33m(\u001b[0m\u001b[1;33m)\u001b[0m\u001b[1;33m\u001b[0m\u001b[0m\n\u001b[0m",
      "\u001b[1;32m<ipython-input-24-631861caf452>\u001b[0m in \u001b[0;36maskint\u001b[1;34m()\u001b[0m\n\u001b[0;32m      1\u001b[0m \u001b[1;32mdef\u001b[0m \u001b[0maskint\u001b[0m\u001b[1;33m(\u001b[0m\u001b[1;33m)\u001b[0m\u001b[1;33m:\u001b[0m\u001b[1;33m\u001b[0m\u001b[0m\n\u001b[1;32m----> 2\u001b[1;33m     \u001b[0ma\u001b[0m \u001b[1;33m=\u001b[0m \u001b[0mint\u001b[0m\u001b[1;33m(\u001b[0m\u001b[0minput\u001b[0m\u001b[1;33m(\u001b[0m\u001b[1;33m)\u001b[0m\u001b[1;33m)\u001b[0m\u001b[1;33m\u001b[0m\u001b[0m\n\u001b[0m\u001b[0;32m      3\u001b[0m     \u001b[1;32mreturn\u001b[0m \u001b[0ma\u001b[0m\u001b[1;33m\u001b[0m\u001b[0m\n",
      "\u001b[1;31mValueError\u001b[0m: invalid literal for int() with base 10: ''"
     ]
    }
   ],
   "source": [
    "askint()"
   ]
  },
  {
   "cell_type": "code",
   "execution_count": 27,
   "id": "round-rabbit",
   "metadata": {},
   "outputs": [],
   "source": [
    "def askint():\n",
    "    try:\n",
    "        a = int(input())\n",
    "        return a\n",
    "    except Exception as e:\n",
    "        print(\"this is my input error: \",e)"
   ]
  },
  {
   "cell_type": "code",
   "execution_count": 28,
   "id": "adjustable-freeze",
   "metadata": {},
   "outputs": [
    {
     "name": "stdout",
     "output_type": "stream",
     "text": [
      "\n",
      "this is my input error:  invalid literal for int() with base 10: ''\n"
     ]
    }
   ],
   "source": [
    "askint()"
   ]
  },
  {
   "cell_type": "code",
   "execution_count": 29,
   "id": "thick-pleasure",
   "metadata": {},
   "outputs": [
    {
     "name": "stdout",
     "output_type": "stream",
     "text": [
      "\n",
      "this is my input error:  invalid literal for int() with base 10: ''\n"
     ]
    }
   ],
   "source": [
    "askint()"
   ]
  },
  {
   "cell_type": "code",
   "execution_count": 30,
   "id": "literary-preservation",
   "metadata": {},
   "outputs": [],
   "source": [
    "#Create a function which will keep on asking for intiger unless and untill it will entiger\n",
    "\n"
   ]
  },
  {
   "cell_type": "code",
   "execution_count": 31,
   "id": "powerful-export",
   "metadata": {},
   "outputs": [],
   "source": [
    "def askint():\n",
    "    try:\n",
    "        a = int(input())\n",
    "        return a\n",
    "    except Exception as e:\n",
    "        print(\"this is my input error: \",e)"
   ]
  },
  {
   "cell_type": "code",
   "execution_count": 32,
   "id": "senior-chosen",
   "metadata": {},
   "outputs": [
    {
     "name": "stdout",
     "output_type": "stream",
     "text": [
      "\n",
      "enter a intiger number: \n",
      "\n",
      "enter a intiger number: \n",
      "\n",
      "enter a intiger number: \n",
      "\n",
      "enter a intiger number: \n",
      "\n",
      "enter a intiger number: \n",
      "\n",
      "enter a intiger number: \n",
      "\n",
      "enter a intiger number: \n",
      "\n",
      "enter a intiger number: \n",
      "66\n"
     ]
    }
   ],
   "source": [
    " def askint1():\n",
    "    try:\n",
    "        a=int(input())\n",
    "        return a\n",
    "    except:\n",
    "        print(\"enter a intiger number: \")\n",
    "        askint1()\n",
    "        \n",
    "askint1()\n"
   ]
  },
  {
   "cell_type": "code",
   "execution_count": 33,
   "id": "elder-printer",
   "metadata": {},
   "outputs": [
    {
     "name": "stdout",
     "output_type": "stream",
     "text": [
      "\n",
      "enter a intiger number: \n",
      "\n",
      "enter a intiger number: \n",
      "66\n"
     ]
    }
   ],
   "source": [
    "askint1()\n"
   ]
  },
  {
   "cell_type": "markdown",
   "id": "thirty-disorder",
   "metadata": {},
   "source": [
    "# How to raise our  own exception/conditon \n",
    "# raise keyword is used to create an exceptin it is reserved keyword"
   ]
  },
  {
   "cell_type": "code",
   "execution_count": 34,
   "id": "outdoor-debate",
   "metadata": {},
   "outputs": [],
   "source": [
    "def test(a):\n",
    "    if a<0:\n",
    "        raise Exception(a)\n",
    "    return a"
   ]
  },
  {
   "cell_type": "code",
   "execution_count": 35,
   "id": "common-holocaust",
   "metadata": {},
   "outputs": [
    {
     "ename": "Exception",
     "evalue": "-4",
     "output_type": "error",
     "traceback": [
      "\u001b[1;31m---------------------------------------------------------------------------\u001b[0m",
      "\u001b[1;31mException\u001b[0m                                 Traceback (most recent call last)",
      "\u001b[1;32m<ipython-input-35-d2bb95962d49>\u001b[0m in \u001b[0;36m<module>\u001b[1;34m\u001b[0m\n\u001b[1;32m----> 1\u001b[1;33m \u001b[0mtest\u001b[0m\u001b[1;33m(\u001b[0m\u001b[1;33m-\u001b[0m\u001b[1;36m4\u001b[0m\u001b[1;33m)\u001b[0m\u001b[1;33m\u001b[0m\u001b[0m\n\u001b[0m",
      "\u001b[1;32m<ipython-input-34-69ae46789e3c>\u001b[0m in \u001b[0;36mtest\u001b[1;34m(a)\u001b[0m\n\u001b[0;32m      1\u001b[0m \u001b[1;32mdef\u001b[0m \u001b[0mtest\u001b[0m\u001b[1;33m(\u001b[0m\u001b[0ma\u001b[0m\u001b[1;33m)\u001b[0m\u001b[1;33m:\u001b[0m\u001b[1;33m\u001b[0m\u001b[0m\n\u001b[0;32m      2\u001b[0m     \u001b[1;32mif\u001b[0m \u001b[0ma\u001b[0m\u001b[1;33m<\u001b[0m\u001b[1;36m0\u001b[0m\u001b[1;33m:\u001b[0m\u001b[1;33m\u001b[0m\u001b[0m\n\u001b[1;32m----> 3\u001b[1;33m         \u001b[1;32mraise\u001b[0m \u001b[0mException\u001b[0m\u001b[1;33m(\u001b[0m\u001b[0ma\u001b[0m\u001b[1;33m)\u001b[0m\u001b[1;33m\u001b[0m\u001b[0m\n\u001b[0m\u001b[0;32m      4\u001b[0m     \u001b[1;32mreturn\u001b[0m \u001b[0ma\u001b[0m\u001b[1;33m\u001b[0m\u001b[0m\n",
      "\u001b[1;31mException\u001b[0m: -4"
     ]
    }
   ],
   "source": [
    "test(-4)"
   ]
  },
  {
   "cell_type": "code",
   "execution_count": 36,
   "id": "express-compatibility",
   "metadata": {},
   "outputs": [
    {
     "data": {
      "text/plain": [
       "4"
      ]
     },
     "execution_count": 36,
     "metadata": {},
     "output_type": "execute_result"
    }
   ],
   "source": [
    "test(4)"
   ]
  },
  {
   "cell_type": "code",
   "execution_count": 37,
   "id": "future-carbon",
   "metadata": {},
   "outputs": [],
   "source": [
    "def test(a):\n",
    "    if a<0:\n",
    "        raise Exception(\"you have entered a negative value \" , a)\n",
    "    return a"
   ]
  },
  {
   "cell_type": "code",
   "execution_count": 38,
   "id": "stunning-giant",
   "metadata": {},
   "outputs": [
    {
     "ename": "Exception",
     "evalue": "('you have entered a negative value ', -5)",
     "output_type": "error",
     "traceback": [
      "\u001b[1;31m---------------------------------------------------------------------------\u001b[0m",
      "\u001b[1;31mException\u001b[0m                                 Traceback (most recent call last)",
      "\u001b[1;32m<ipython-input-38-aa8bd0343160>\u001b[0m in \u001b[0;36m<module>\u001b[1;34m\u001b[0m\n\u001b[1;32m----> 1\u001b[1;33m \u001b[0mtest\u001b[0m\u001b[1;33m(\u001b[0m\u001b[1;33m-\u001b[0m\u001b[1;36m5\u001b[0m\u001b[1;33m)\u001b[0m\u001b[1;33m\u001b[0m\u001b[0m\n\u001b[0m",
      "\u001b[1;32m<ipython-input-37-753ab987c691>\u001b[0m in \u001b[0;36mtest\u001b[1;34m(a)\u001b[0m\n\u001b[0;32m      1\u001b[0m \u001b[1;32mdef\u001b[0m \u001b[0mtest\u001b[0m\u001b[1;33m(\u001b[0m\u001b[0ma\u001b[0m\u001b[1;33m)\u001b[0m\u001b[1;33m:\u001b[0m\u001b[1;33m\u001b[0m\u001b[0m\n\u001b[0;32m      2\u001b[0m     \u001b[1;32mif\u001b[0m \u001b[0ma\u001b[0m\u001b[1;33m<\u001b[0m\u001b[1;36m0\u001b[0m\u001b[1;33m:\u001b[0m\u001b[1;33m\u001b[0m\u001b[0m\n\u001b[1;32m----> 3\u001b[1;33m         \u001b[1;32mraise\u001b[0m \u001b[0mException\u001b[0m\u001b[1;33m(\u001b[0m\u001b[1;34m\"you have entered a negative value \"\u001b[0m \u001b[1;33m,\u001b[0m \u001b[0ma\u001b[0m\u001b[1;33m)\u001b[0m\u001b[1;33m\u001b[0m\u001b[0m\n\u001b[0m\u001b[0;32m      4\u001b[0m     \u001b[1;32mreturn\u001b[0m \u001b[0ma\u001b[0m\u001b[1;33m\u001b[0m\u001b[0m\n",
      "\u001b[1;31mException\u001b[0m: ('you have entered a negative value ', -5)"
     ]
    }
   ],
   "source": [
    "test(-5)"
   ]
  },
  {
   "cell_type": "code",
   "execution_count": 39,
   "id": "voluntary-dylan",
   "metadata": {},
   "outputs": [],
   "source": [
    "def test(a):\n",
    "    if a<0:\n",
    "        raise  Exception(\"you have entered a negative value \",a)\n",
    "    return a"
   ]
  },
  {
   "cell_type": "code",
   "execution_count": 40,
   "id": "medium-fancy",
   "metadata": {},
   "outputs": [
    {
     "ename": "Exception",
     "evalue": "('you have entered a negative value ', -54)",
     "output_type": "error",
     "traceback": [
      "\u001b[1;31m---------------------------------------------------------------------------\u001b[0m",
      "\u001b[1;31mException\u001b[0m                                 Traceback (most recent call last)",
      "\u001b[1;32m<ipython-input-40-d668d90eeb5e>\u001b[0m in \u001b[0;36m<module>\u001b[1;34m\u001b[0m\n\u001b[1;32m----> 1\u001b[1;33m \u001b[0mtest\u001b[0m\u001b[1;33m(\u001b[0m\u001b[1;33m-\u001b[0m\u001b[1;36m54\u001b[0m\u001b[1;33m)\u001b[0m\u001b[1;33m\u001b[0m\u001b[0m\n\u001b[0m",
      "\u001b[1;32m<ipython-input-39-6bbd84250641>\u001b[0m in \u001b[0;36mtest\u001b[1;34m(a)\u001b[0m\n\u001b[0;32m      1\u001b[0m \u001b[1;32mdef\u001b[0m \u001b[0mtest\u001b[0m\u001b[1;33m(\u001b[0m\u001b[0ma\u001b[0m\u001b[1;33m)\u001b[0m\u001b[1;33m:\u001b[0m\u001b[1;33m\u001b[0m\u001b[0m\n\u001b[0;32m      2\u001b[0m     \u001b[1;32mif\u001b[0m \u001b[0ma\u001b[0m\u001b[1;33m<\u001b[0m\u001b[1;36m0\u001b[0m\u001b[1;33m:\u001b[0m\u001b[1;33m\u001b[0m\u001b[0m\n\u001b[1;32m----> 3\u001b[1;33m         \u001b[1;32mraise\u001b[0m  \u001b[0mException\u001b[0m\u001b[1;33m(\u001b[0m\u001b[1;34m\"you have entered a negative value \"\u001b[0m\u001b[1;33m,\u001b[0m\u001b[0ma\u001b[0m\u001b[1;33m)\u001b[0m\u001b[1;33m\u001b[0m\u001b[0m\n\u001b[0m\u001b[0;32m      4\u001b[0m     \u001b[1;32mreturn\u001b[0m \u001b[0ma\u001b[0m\u001b[1;33m\u001b[0m\u001b[0m\n",
      "\u001b[1;31mException\u001b[0m: ('you have entered a negative value ', -54)"
     ]
    }
   ],
   "source": [
    "test(-54)"
   ]
  },
  {
   "cell_type": "code",
   "execution_count": 41,
   "id": "antique-offer",
   "metadata": {},
   "outputs": [
    {
     "name": "stdout",
     "output_type": "stream",
     "text": [
      "calling my raise exception  ('you have entered a negative value ', -5)\n"
     ]
    }
   ],
   "source": [
    "try:\n",
    "    test(-5)\n",
    "except Exception as e:\n",
    "    print(\"calling my raise exception \", e)"
   ]
  },
  {
   "cell_type": "code",
   "execution_count": 42,
   "id": "breeding-subsection",
   "metadata": {},
   "outputs": [
    {
     "name": "stdout",
     "output_type": "stream",
     "text": [
      "-76\n",
      "calling my raise exception  ('you have entered a negative value ', -76)\n"
     ]
    }
   ],
   "source": [
    "try:\n",
    "    test(int(input()))\n",
    "except Exception as e:\n",
    "    print(\"calling my raise exception \", e)"
   ]
  },
  {
   "cell_type": "code",
   "execution_count": null,
   "id": "latest-chile",
   "metadata": {},
   "outputs": [],
   "source": []
  },
  {
   "cell_type": "code",
   "execution_count": null,
   "id": "second-guyana",
   "metadata": {},
   "outputs": [],
   "source": []
  }
 ],
 "metadata": {
  "kernelspec": {
   "display_name": "Python 3",
   "language": "python",
   "name": "python3"
  },
  "language_info": {
   "codemirror_mode": {
    "name": "ipython",
    "version": 3
   },
   "file_extension": ".py",
   "mimetype": "text/x-python",
   "name": "python",
   "nbconvert_exporter": "python",
   "pygments_lexer": "ipython3",
   "version": "3.7.0"
  }
 },
 "nbformat": 4,
 "nbformat_minor": 5
}
