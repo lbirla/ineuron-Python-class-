{
 "cells": [
  {
   "cell_type": "code",
   "execution_count": null,
   "id": "small-framework",
   "metadata": {},
   "outputs": [],
   "source": [
    "print(\"ddfjflkjfldf\")"
   ]
  },
  {
   "cell_type": "markdown",
   "id": "technological-dealer",
   "metadata": {},
   "source": [
    "# why we need this loggging module?\n",
    "# what is used of this logging module?\n"
   ]
  },
  {
   "cell_type": "code",
   "execution_count": null,
   "id": "southwest-table",
   "metadata": {},
   "outputs": [],
   "source": [
    "# logging is generally used to examine what is excuted in code"
   ]
  },
  {
   "cell_type": "code",
   "execution_count": 2,
   "id": "structured-layer",
   "metadata": {},
   "outputs": [],
   "source": [
    "import logging"
   ]
  },
  {
   "cell_type": "code",
   "execution_count": null,
   "id": "mounted-worth",
   "metadata": {},
   "outputs": [],
   "source": [
    "logging.basicConfig(filename=\"test.log\") #create a simple log file."
   ]
  },
  {
   "cell_type": "code",
   "execution_count": null,
   "id": "unavailable-services",
   "metadata": {},
   "outputs": [],
   "source": [
    "pwd()"
   ]
  },
  {
   "cell_type": "raw",
   "id": "inappropriate-future",
   "metadata": {},
   "source": [
    "# kind of log\n",
    "DEBUG:\n",
    "INFO:\n",
    "WARNING:\n",
    "ERROR:\n",
    "CRITICAL:\n"
   ]
  },
  {
   "cell_type": "code",
   "execution_count": null,
   "id": "published-message",
   "metadata": {},
   "outputs": [],
   "source": [
    "logging.info(\"this is my info log\")#this will not reflect into system\n",
    "logging.warning(\"this is my warning log\")\n",
    "logging.error(\"this is my error log\")"
   ]
  },
  {
   "cell_type": "code",
   "execution_count": 3,
   "id": "substantial-intermediate",
   "metadata": {},
   "outputs": [],
   "source": [
    "logging.basicConfig(filename=\"test.log\", level = logging.INFO) #create a simple log file with INFO log"
   ]
  },
  {
   "cell_type": "code",
   "execution_count": 5,
   "id": "intellectual-duration",
   "metadata": {},
   "outputs": [],
   "source": [
    "logging.info(\"this is my info log\")\n",
    "logging.warning(\"this is my warning log\")\n",
    "logging.error(\"this is my error log\")"
   ]
  },
  {
   "cell_type": "code",
   "execution_count": 6,
   "id": "separate-indie",
   "metadata": {},
   "outputs": [],
   "source": [
    "#close this logging\n",
    "logging.shutdown()"
   ]
  },
  {
   "cell_type": "code",
   "execution_count": 1,
   "id": "substantial-rouge",
   "metadata": {},
   "outputs": [],
   "source": [
    "import logging\n",
    "logging.basicConfig(filename=\"test1.log\",level=logging.DEBUG, format='%(asctime)s %(levelname)s %(message)s')"
   ]
  },
  {
   "cell_type": "code",
   "execution_count": 2,
   "id": "warming-savage",
   "metadata": {},
   "outputs": [],
   "source": [
    "logging.info(\"this is my info log\")\n",
    "logging.warning(\"this is my warning log\")\n",
    "logging.debug(\"this is my debug log\")"
   ]
  },
  {
   "cell_type": "code",
   "execution_count": 5,
   "id": "verbal-advertising",
   "metadata": {},
   "outputs": [],
   "source": [
    "import logging\n",
    "logging.basicConfig(filename=\"test1.log\",level=logging.ERROR, format='%(asctime)s %(levelname)s %(message)s')\n",
    "logging.info(\"this is my info log\")\n",
    "logging.warning(\"this is my warning log\")\n",
    "logging.debug(\"this is my debug log\")\n",
    "logging.error(\"this is my error log\")\n",
    "#here info warning debug not print in log file bcz error log always priority first after that no code run because your code crashed means there is no need INFO,WARNING,DEBUG log after ERROR log\n",
    "#priority level = ERROR>WARNING>INFO>DEBUG\n",
    "#You have social issur you will go first DM office then you will go CM office"
   ]
  },
  {
   "cell_type": "code",
   "execution_count": 6,
   "id": "first-accused",
   "metadata": {},
   "outputs": [],
   "source": [
    "#priority level = ERROR>WARNING>INFO>DEBUG"
   ]
  },
  {
   "cell_type": "code",
   "execution_count": 1,
   "id": "otherwise-american",
   "metadata": {},
   "outputs": [],
   "source": [
    "import logging\n",
    "logging.basicConfig(filename=\"test1.log\",level=logging.INFO, format='%(asctime)s %(levelname)s %(message)s') #here set INFO priority\n",
    "logging.info(\"this is my info log\")\n",
    "logging.warning(\"this is my warning log\")\n",
    "logging.debug(\"this is my debug log\")\n",
    "logging.error(\"this is my error log\")\n",
    "#here debug will no show in log file"
   ]
  },
  {
   "cell_type": "code",
   "execution_count": 2,
   "id": "biblical-lucas",
   "metadata": {},
   "outputs": [],
   "source": [
    "# Examplw with one simple programm measn using of  logging"
   ]
  },
  {
   "cell_type": "code",
   "execution_count": 1,
   "id": "laden-questionnaire",
   "metadata": {},
   "outputs": [],
   "source": [
    "import logging\n",
    "logging.basicConfig(filename=\"test2.log\",level=logging.DEBUG, format='%(asctime)s %(levelname)s %(message)s') #here set INFO priority\n"
   ]
  },
  {
   "cell_type": "code",
   "execution_count": 7,
   "id": "respective-bryan",
   "metadata": {},
   "outputs": [],
   "source": [
    "def divbyzero(a,b):\n",
    "    logging.info(\"this is a start of my code and i am trying to enter %s and %s \", a,b) #%s is place holder\n",
    "    try:\n",
    "        div = a/b\n",
    "        logging. info(\"excuted successfully\")\n",
    "    except Exception as e:\n",
    "        logging.error(\"Error has happend \")\n",
    "        logging.exception(\"Exception occured \" + str(e))\n",
    "    \n",
    "#here we not used print or return statement instead of these we are using logging"
   ]
  },
  {
   "cell_type": "code",
   "execution_count": 5,
   "id": "completed-engineer",
   "metadata": {},
   "outputs": [],
   "source": [
    "divbyzero(4,5)"
   ]
  },
  {
   "cell_type": "code",
   "execution_count": 8,
   "id": "taken-lawyer",
   "metadata": {},
   "outputs": [],
   "source": [
    "divbyzero(4,0)"
   ]
  },
  {
   "cell_type": "code",
   "execution_count": 9,
   "id": "collected-mileage",
   "metadata": {},
   "outputs": [],
   "source": [
    "logging.shutdown()"
   ]
  },
  {
   "cell_type": "code",
   "execution_count": null,
   "id": "impaired-optimum",
   "metadata": {},
   "outputs": [],
   "source": [
    " "
   ]
  }
 ],
 "metadata": {
  "kernelspec": {
   "display_name": "Python 3",
   "language": "python",
   "name": "python3"
  },
  "language_info": {
   "codemirror_mode": {
    "name": "ipython",
    "version": 3
   },
   "file_extension": ".py",
   "mimetype": "text/x-python",
   "name": "python",
   "nbconvert_exporter": "python",
   "pygments_lexer": "ipython3",
   "version": "3.7.0"
  }
 },
 "nbformat": 4,
 "nbformat_minor": 5
}
