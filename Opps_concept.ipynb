{
 "cells": [
  {
   "cell_type": "code",
   "execution_count": 12,
   "id": "northern-mountain",
   "metadata": {},
   "outputs": [],
   "source": [
    "%config Completer.use_jedi = False #this is command used for enable autocompletion in jupyt notebook\n"
   ]
  },
  {
   "cell_type": "code",
   "execution_count": 1,
   "id": "ancient-vulnerability",
   "metadata": {},
   "outputs": [],
   "source": [
    "class test1:\n",
    "    def my_func(self):\n",
    "        print(\"this is my first class\")"
   ]
  },
  {
   "cell_type": "markdown",
   "id": "twelve-cassette",
   "metadata": {},
   "source": [
    "<img src= \"opps2.jpeg\">"
   ]
  },
  {
   "cell_type": "markdown",
   "id": "hazardous-laser",
   "metadata": {},
   "source": [
    "# In Above code self is just a pointer which map or point my_func into a class test1,\"self is not keyword it is user defined\", keep it in mind that you have to pass an argument(e.i. self) in function which will work as pointer to the class"
   ]
  },
  {
   "cell_type": "markdown",
   "id": "sharp-endorsement",
   "metadata": {},
   "source": [
    "<img src=\"Screenshot (80).png\"/>"
   ]
  },
  {
   "cell_type": "code",
   "execution_count": 10,
   "id": "missing-numbers",
   "metadata": {},
   "outputs": [],
   "source": [
    "class car:\n",
    "    def __init__(self, brand_name,speed,body_type):\n",
    "        self.brand_name = brand_name\n",
    "        self.speed = speed\n",
    "        self.body_type = body_type\n",
    "    \n",
    "    def desc_car(self): #alwyas write self in python agrument\n",
    "        return self.brand_name, self.speed, self.body_type\n",
    "        "
   ]
  },
  {
   "cell_type": "code",
   "execution_count": 14,
   "id": "promising-produce",
   "metadata": {},
   "outputs": [],
   "source": [
    "# these are objects or vairbles of class car \n",
    "inova = car('toyota', 500, \"suv\")\n",
    "nexon = car(\"tata\",800,\"min suv\")\n",
    "fortuner = car('toyoto',250,\"suv\")"
   ]
  },
  {
   "cell_type": "code",
   "execution_count": 17,
   "id": "recent-shopper",
   "metadata": {},
   "outputs": [
    {
     "data": {
      "text/plain": [
       "'suv'"
      ]
     },
     "execution_count": 17,
     "metadata": {},
     "output_type": "execute_result"
    }
   ],
   "source": [
    "inova.body_type"
   ]
  },
  {
   "cell_type": "code",
   "execution_count": 19,
   "id": "polyphonic-average",
   "metadata": {},
   "outputs": [
    {
     "data": {
      "text/plain": [
       "500"
      ]
     },
     "execution_count": 19,
     "metadata": {},
     "output_type": "execute_result"
    }
   ],
   "source": [
    "inova.speed"
   ]
  },
  {
   "cell_type": "code",
   "execution_count": 21,
   "id": "italic-magnet",
   "metadata": {},
   "outputs": [
    {
     "data": {
      "text/plain": [
       "800"
      ]
     },
     "execution_count": 21,
     "metadata": {},
     "output_type": "execute_result"
    }
   ],
   "source": [
    "nexon.speed"
   ]
  },
  {
   "cell_type": "code",
   "execution_count": 23,
   "id": "voluntary-contact",
   "metadata": {},
   "outputs": [
    {
     "data": {
      "text/plain": [
       "'suv'"
      ]
     },
     "execution_count": 23,
     "metadata": {},
     "output_type": "execute_result"
    }
   ],
   "source": [
    "fortuner.body_type"
   ]
  },
  {
   "cell_type": "code",
   "execution_count": 25,
   "id": "contrary-timer",
   "metadata": {},
   "outputs": [
    {
     "data": {
      "text/plain": [
       "'toyoto'"
      ]
     },
     "execution_count": 25,
     "metadata": {},
     "output_type": "execute_result"
    }
   ],
   "source": [
    "fortuner.brand_name\n"
   ]
  },
  {
   "cell_type": "code",
   "execution_count": 30,
   "id": "arctic-wayne",
   "metadata": {},
   "outputs": [
    {
     "data": {
      "text/plain": [
       "('toyota', 500, 'suv')"
      ]
     },
     "execution_count": 30,
     "metadata": {},
     "output_type": "execute_result"
    }
   ],
   "source": [
    "inova.desc_car()"
   ]
  },
  {
   "cell_type": "code",
   "execution_count": 31,
   "id": "handy-bottle",
   "metadata": {},
   "outputs": [
    {
     "data": {
      "text/plain": [
       "('tata', 800, 'min suv')"
      ]
     },
     "execution_count": 31,
     "metadata": {},
     "output_type": "execute_result"
    }
   ],
   "source": [
    "nexon.desc_car()"
   ]
  },
  {
   "cell_type": "code",
   "execution_count": 32,
   "id": "destroyed-defendant",
   "metadata": {},
   "outputs": [
    {
     "data": {
      "text/plain": [
       "('toyoto', 250, 'suv')"
      ]
     },
     "execution_count": 32,
     "metadata": {},
     "output_type": "execute_result"
    }
   ],
   "source": [
    "fortuner.desc_car()"
   ]
  },
  {
   "cell_type": "code",
   "execution_count": null,
   "id": "metric-purpose",
   "metadata": {},
   "outputs": [],
   "source": [
    "#create a class variable or object\n",
    "b=test1()"
   ]
  },
  {
   "cell_type": "code",
   "execution_count": null,
   "id": "tired-import",
   "metadata": {},
   "outputs": [],
   "source": [
    "#call a function using class variable\n",
    "b.my_func()"
   ]
  },
  {
   "cell_type": "code",
   "execution_count": null,
   "id": "important-letters",
   "metadata": {},
   "outputs": [],
   "source": [
    "#Addition of A,B anc C using opps "
   ]
  },
  {
   "cell_type": "code",
   "execution_count": 1,
   "id": "educational-cylinder",
   "metadata": {},
   "outputs": [],
   "source": [
    "#here self is pointer which connect function with your class if you do not pass self keword into function they would not able to access it\n",
    "class test2:\n",
    "    def __init__(self,a,b,c):\n",
    "        self.a1=a\n",
    "        self.b1=b\n",
    "        self.c1=c\n",
    "    def sum_abc(self):\n",
    "        return self.a1+self.b1+self.c1"
   ]
  },
  {
   "cell_type": "code",
   "execution_count": 3,
   "id": "western-jerusalem",
   "metadata": {},
   "outputs": [
    {
     "ename": "TypeError",
     "evalue": "__init__() missing 3 required positional arguments: 'a', 'b', and 'c'",
     "output_type": "error",
     "traceback": [
      "\u001b[1;31m---------------------------------------------------------------------------\u001b[0m",
      "\u001b[1;31mTypeError\u001b[0m                                 Traceback (most recent call last)",
      "\u001b[1;32m<ipython-input-3-ad80e909b5bf>\u001b[0m in \u001b[0;36m<module>\u001b[1;34m\u001b[0m\n\u001b[1;32m----> 1\u001b[1;33m \u001b[0mm\u001b[0m\u001b[1;33m=\u001b[0m\u001b[0mtest2\u001b[0m\u001b[1;33m(\u001b[0m\u001b[1;33m)\u001b[0m\u001b[1;33m\u001b[0m\u001b[0m\n\u001b[0m",
      "\u001b[1;31mTypeError\u001b[0m: __init__() missing 3 required positional arguments: 'a', 'b', and 'c'"
     ]
    }
   ],
   "source": [
    "m=test2()"
   ]
  },
  {
   "cell_type": "code",
   "execution_count": null,
   "id": "registered-yorkshire",
   "metadata": {},
   "outputs": [],
   "source": [
    "#Above code is giving error \n",
    "#__init__ is a inbuilt function means if you are using __init__  function then it will automatically create class variable means \n",
    "# you need not to create a class variable so we direct pass argument a ,b and c \n",
    "#When you create a class variable into class itself then we are using self.a1,self.b1,self.c1\n",
    "#means class know only self.a1,self.b1,self.c1 \n",
    "\n",
    "m=test2(7,8,9)\n",
    "\n",
    "#what we are doing here\n",
    "#self.a1 =7\n",
    "#self.b1=8\n",
    "#self.c1=9"
   ]
  },
  {
   "cell_type": "code",
   "execution_count": null,
   "id": "balanced-issue",
   "metadata": {},
   "outputs": [],
   "source": [
    "m.a1"
   ]
  },
  {
   "cell_type": "code",
   "execution_count": null,
   "id": "flexible-antenna",
   "metadata": {},
   "outputs": [],
   "source": [
    "m.b1"
   ]
  },
  {
   "cell_type": "code",
   "execution_count": null,
   "id": "horizontal-offset",
   "metadata": {},
   "outputs": [],
   "source": [
    "m.a"
   ]
  },
  {
   "cell_type": "code",
   "execution_count": null,
   "id": "configured-police",
   "metadata": {},
   "outputs": [],
   "source": [
    "m.c1"
   ]
  },
  {
   "cell_type": "code",
   "execution_count": null,
   "id": "rural-mercy",
   "metadata": {},
   "outputs": [],
   "source": [
    "m.sum_abc()"
   ]
  },
  {
   "cell_type": "code",
   "execution_count": null,
   "id": "virgin-island",
   "metadata": {},
   "outputs": [],
   "source": [
    "#lets try some more examples"
   ]
  },
  {
   "cell_type": "code",
   "execution_count": null,
   "id": "separated-freeware",
   "metadata": {},
   "outputs": [],
   "source": [
    "#dummy class\n",
    "class lalit:\n",
    "    pass"
   ]
  },
  {
   "cell_type": "code",
   "execution_count": null,
   "id": "adolescent-strain",
   "metadata": {},
   "outputs": [],
   "source": [
    "#create a object\n",
    "a=lalit()"
   ]
  },
  {
   "cell_type": "code",
   "execution_count": null,
   "id": "classified-wells",
   "metadata": {},
   "outputs": [],
   "source": [
    "a.name=\"lalit\"\n",
    "a.ph_no=9977679825\n",
    "a.surnam=\"birla\""
   ]
  },
  {
   "cell_type": "code",
   "execution_count": null,
   "id": "cordless-protection",
   "metadata": {},
   "outputs": [],
   "source": [
    "a.name"
   ]
  },
  {
   "cell_type": "code",
   "execution_count": null,
   "id": "fluid-costs",
   "metadata": {},
   "outputs": [],
   "source": [
    "a.ph_no"
   ]
  },
  {
   "cell_type": "code",
   "execution_count": null,
   "id": "radical-alexander",
   "metadata": {},
   "outputs": [],
   "source": [
    "a.surnam"
   ]
  },
  {
   "cell_type": "code",
   "execution_count": null,
   "id": "normal-diameter",
   "metadata": {},
   "outputs": [],
   "source": [
    "#create another object of class lalit\n",
    "b=lalit()"
   ]
  },
  {
   "cell_type": "code",
   "execution_count": null,
   "id": "iraqi-information",
   "metadata": {},
   "outputs": [],
   "source": [
    "b.name='sanu'\n",
    "b.ph_no=16651\n",
    "b.surnam=\"birla\""
   ]
  },
  {
   "cell_type": "code",
   "execution_count": null,
   "id": "biblical-gateway",
   "metadata": {},
   "outputs": [],
   "source": [
    "b.name"
   ]
  },
  {
   "cell_type": "code",
   "execution_count": null,
   "id": "white-elder",
   "metadata": {},
   "outputs": [],
   "source": [
    "b.ph_no"
   ]
  },
  {
   "cell_type": "code",
   "execution_count": null,
   "id": "correct-springer",
   "metadata": {},
   "outputs": [],
   "source": [
    "b.surnam"
   ]
  },
  {
   "cell_type": "code",
   "execution_count": null,
   "id": "detected-jackson",
   "metadata": {},
   "outputs": [],
   "source": [
    "#create above concept using __init__ function\n",
    "# double underscore (__)init(__)double underscore , __init__ function is just like a contructor which is used to assign data to class"
   ]
  },
  {
   "cell_type": "code",
   "execution_count": null,
   "id": "approved-antigua",
   "metadata": {},
   "outputs": [],
   "source": [
    "class test_a:\n",
    "    def __init__(self, name, ph_no,surnam):\n",
    "        self.name=name\n",
    "        self.ph_no=ph_no\n",
    "        self.surnam=surnam\n",
    "    \n",
    "#self is a pointer which is used to refer/map varibles to the class\n",
    "#means (test_a <------ self.name <------ name)"
   ]
  },
  {
   "cell_type": "code",
   "execution_count": null,
   "id": "united-reform",
   "metadata": {},
   "outputs": [],
   "source": [
    "#create a object\n",
    "r=test_a(\"lalit\",2344445,\"birla\")\n",
    "#(test_a <------- self.name <------- lalit)\n",
    "#(test_a <------- self.ph_no <-------2344445)\n",
    "#(test_a <------- self.sarname <------- birla)"
   ]
  },
  {
   "cell_type": "code",
   "execution_count": null,
   "id": "adjacent-subscriber",
   "metadata": {},
   "outputs": [],
   "source": [
    "r.name"
   ]
  },
  {
   "cell_type": "code",
   "execution_count": null,
   "id": "running-pacific",
   "metadata": {},
   "outputs": [],
   "source": [
    "r.ph_no"
   ]
  },
  {
   "cell_type": "code",
   "execution_count": null,
   "id": "fossil-secondary",
   "metadata": {},
   "outputs": [],
   "source": [
    "r.surnam"
   ]
  },
  {
   "cell_type": "code",
   "execution_count": null,
   "id": "viral-reset",
   "metadata": {},
   "outputs": [],
   "source": [
    "#create a another object\n",
    "t=test_a('sanu',34354343,\"birla\")"
   ]
  },
  {
   "cell_type": "code",
   "execution_count": null,
   "id": "integrated-manor",
   "metadata": {},
   "outputs": [],
   "source": [
    "t.name"
   ]
  },
  {
   "cell_type": "code",
   "execution_count": null,
   "id": "mental-sandwich",
   "metadata": {},
   "outputs": [],
   "source": [
    "t.ph_no"
   ]
  },
  {
   "cell_type": "code",
   "execution_count": null,
   "id": "mexican-resolution",
   "metadata": {},
   "outputs": [],
   "source": [
    "t.surnam"
   ]
  },
  {
   "cell_type": "code",
   "execution_count": null,
   "id": "danish-child",
   "metadata": {},
   "outputs": [],
   "source": [
    "class car:\n",
    "    def __init__(self,year,make,model,engin_type,tyre_type):\n",
    "        self.year=year\n",
    "        self.make=make\n",
    "        self.medel=model\n",
    "        self.engin_type=engin_type\n",
    "        self.tyre_type=tyre_type"
   ]
  },
  {
   "cell_type": "code",
   "execution_count": null,
   "id": "powerful-strap",
   "metadata": {},
   "outputs": [],
   "source": [
    "audi=car(2021,\"3434\",\"34\",\"xyz\",\"pqr\")"
   ]
  },
  {
   "cell_type": "code",
   "execution_count": null,
   "id": "wrong-engine",
   "metadata": {},
   "outputs": [],
   "source": [
    "audi.engin_type"
   ]
  },
  {
   "cell_type": "code",
   "execution_count": null,
   "id": "japanese-negotiation",
   "metadata": {},
   "outputs": [],
   "source": [
    "audi.medel"
   ]
  },
  {
   "cell_type": "code",
   "execution_count": null,
   "id": "accurate-personality",
   "metadata": {},
   "outputs": [],
   "source": [
    "audi.year"
   ]
  },
  {
   "cell_type": "code",
   "execution_count": null,
   "id": "sixth-attitude",
   "metadata": {},
   "outputs": [],
   "source": [
    "audi.make"
   ]
  },
  {
   "cell_type": "code",
   "execution_count": null,
   "id": "injured-gasoline",
   "metadata": {},
   "outputs": [],
   "source": [
    "fortuner=car(2343,\"lkj\",\"234\",\"dl;j\",'343')"
   ]
  },
  {
   "cell_type": "markdown",
   "id": "complex-carol",
   "metadata": {},
   "source": [
    "# Task: create class of datamanupulation and create object for read_csv ,read_excel,read data from db"
   ]
  },
  {
   "cell_type": "code",
   "execution_count": null,
   "id": "extreme-organization",
   "metadata": {},
   "outputs": [],
   "source": [
    "import pandas as pd"
   ]
  },
  {
   "cell_type": "code",
   "execution_count": null,
   "id": "annoying-acoustic",
   "metadata": {},
   "outputs": [],
   "source": [
    "import mysql.connector as conn"
   ]
  },
  {
   "cell_type": "code",
   "execution_count": null,
   "id": "heavy-racing",
   "metadata": {},
   "outputs": [],
   "source": [
    "db=conn.connect(host='localhost',user='root',passwd=\"lbirla371351\")"
   ]
  },
  {
   "cell_type": "code",
   "execution_count": null,
   "id": "heated-compact",
   "metadata": {},
   "outputs": [],
   "source": [
    "db.is_connected()"
   ]
  },
  {
   "cell_type": "code",
   "execution_count": null,
   "id": "strong-presentation",
   "metadata": {},
   "outputs": [],
   "source": [
    "query='show databases'"
   ]
  },
  {
   "cell_type": "code",
   "execution_count": null,
   "id": "reflected-affair",
   "metadata": {},
   "outputs": [],
   "source": [
    "cursor=db.cursor()\n",
    "cursor.execute(query)"
   ]
  },
  {
   "cell_type": "code",
   "execution_count": null,
   "id": "compressed-edinburgh",
   "metadata": {},
   "outputs": [],
   "source": [
    "cursor.fetchall()"
   ]
  },
  {
   "cell_type": "code",
   "execution_count": null,
   "id": "improving-barrel",
   "metadata": {},
   "outputs": [],
   "source": [
    "pd.read_sql(\"select*from testineuron.glassdata\",db)"
   ]
  },
  {
   "cell_type": "code",
   "execution_count": null,
   "id": "automatic-tissue",
   "metadata": {},
   "outputs": [],
   "source": [
    "#datamanupulation\n",
    "class datamanupulation:\n",
    "    def __init__(self,read_csv,read_excel,read_db):\n",
    "        self.read_csv=read_csv\n",
    "        self.read_excel=read_excel\n",
    "        self.read_db=read_db\n",
    "    def read_csv1(self):\n",
    "        return pd.read_csv('seeddata.csv')\n",
    "    def read_excel1(self):\n",
    "        return pd.read_excel('C:/Users/SANU/Desktop/TS practical exam/Book1.xlsx')\n",
    "    def read_db1(self):\n",
    "        return pd.read_sql(\"select*from testineuron.glassdata\",db)"
   ]
  },
  {
   "cell_type": "code",
   "execution_count": null,
   "id": "imperial-speed",
   "metadata": {},
   "outputs": [],
   "source": [
    "read_data=datamanupulation(pd.read_csv('seeddata.csv'),pd.read_excel('C:/Users/SANU/Desktop/TS practical exam/Book1.xlsx'),pd.read_sql(\"select*from testineuron.glassdata\",db))"
   ]
  },
  {
   "cell_type": "code",
   "execution_count": null,
   "id": "small-laugh",
   "metadata": {},
   "outputs": [],
   "source": [
    "read_data.read_csv"
   ]
  },
  {
   "cell_type": "code",
   "execution_count": null,
   "id": "jewish-afghanistan",
   "metadata": {},
   "outputs": [],
   "source": [
    "read_data.read_csv1()"
   ]
  },
  {
   "cell_type": "code",
   "execution_count": null,
   "id": "steady-transmission",
   "metadata": {},
   "outputs": [],
   "source": [
    "read_data.read_excel"
   ]
  },
  {
   "cell_type": "code",
   "execution_count": null,
   "id": "varied-carol",
   "metadata": {},
   "outputs": [],
   "source": [
    "read_data.read_excel1()"
   ]
  },
  {
   "cell_type": "code",
   "execution_count": null,
   "id": "desperate-congress",
   "metadata": {},
   "outputs": [],
   "source": [
    "read_data.read_db"
   ]
  },
  {
   "cell_type": "code",
   "execution_count": null,
   "id": "particular-traveler",
   "metadata": {},
   "outputs": [],
   "source": [
    "read_data.read_db1()"
   ]
  },
  {
   "cell_type": "code",
   "execution_count": null,
   "id": "binary-diabetes",
   "metadata": {},
   "outputs": [],
   "source": [
    "#####\n"
   ]
  },
  {
   "cell_type": "code",
   "execution_count": null,
   "id": "double-mauritius",
   "metadata": {},
   "outputs": [],
   "source": [
    "%config Completer.use_jedi = False #this is command used for enable autocompletion in jupyt notebook\n",
    "\n",
    "\n",
    "class datamanupulation:\n",
    "    def __init__(self,read_csv,read_excel,read_db):\n",
    "        self.read_csv=read_csv\n",
    "        self.read_excel=read_excel\n",
    "        self.read_db=read_db\n",
    "    def read_csv1(self):\n",
    "        import pandas as pd\n",
    "        data1=pd.read_csv('seeddata.csv')\n",
    "        return data1\n",
    "    def read_excel1(self):\n",
    "        import pandas as pd\n",
    "        data2=pd.read_excel('C:/Users/SANU/Desktop/TS practical exam/Book1.xlsx')\n",
    "        return data2\n",
    "    def read_db1(self):\n",
    "        import pandas as pd\n",
    "        import mysql.connector as conn\n",
    "        db=conn.connect(host='localhost',user='root',passwd='lbirla371351')\n",
    "        data3=pd.read_sql(\"select*from testineuron.glassdata\",db)\n",
    "        return data3\n",
    "\n",
    "read_data=datamanupulation(\"a\",'b','c')\n",
    "\n",
    "read_data.read_csv1()\n",
    "\n",
    "read_data.read_excel1()\n",
    "\n",
    "read_data.read_db1()\n",
    "\n",
    "\n",
    "\n"
   ]
  },
  {
   "cell_type": "code",
   "execution_count": null,
   "id": "respected-gamma",
   "metadata": {},
   "outputs": [],
   "source": [
    "#some important opps concenpt"
   ]
  },
  {
   "cell_type": "code",
   "execution_count": null,
   "id": "absolute-particle",
   "metadata": {},
   "outputs": [],
   "source": [
    "class test:\n",
    "    def __init__(self, a,b,c):\n",
    "        self._a=a #protected variable\n",
    "        self.__b=b #private variable\n",
    "        self.c=c #varible variable"
   ]
  },
  {
   "cell_type": "code",
   "execution_count": null,
   "id": "alike-dimension",
   "metadata": {},
   "outputs": [],
   "source": [
    "r=test('lalit','birla',122434)"
   ]
  },
  {
   "cell_type": "code",
   "execution_count": null,
   "id": "environmental-oracle",
   "metadata": {},
   "outputs": [],
   "source": [
    "r._a"
   ]
  },
  {
   "cell_type": "code",
   "execution_count": 2,
   "id": "liberal-european",
   "metadata": {},
   "outputs": [
    {
     "ename": "NameError",
     "evalue": "name 'r' is not defined",
     "output_type": "error",
     "traceback": [
      "\u001b[1;31m---------------------------------------------------------------------------\u001b[0m",
      "\u001b[1;31mNameError\u001b[0m                                 Traceback (most recent call last)",
      "\u001b[1;32m<ipython-input-2-2282ea371715>\u001b[0m in \u001b[0;36m<module>\u001b[1;34m\u001b[0m\n\u001b[1;32m----> 1\u001b[1;33m \u001b[0mr\u001b[0m\u001b[1;33m.\u001b[0m\u001b[0m__b\u001b[0m\u001b[1;33m\u001b[0m\u001b[0m\n\u001b[0m",
      "\u001b[1;31mNameError\u001b[0m: name 'r' is not defined"
     ]
    }
   ],
   "source": [
    " r.__b"
   ]
  },
  {
   "cell_type": "code",
   "execution_count": null,
   "id": "velvet-registrar",
   "metadata": {},
   "outputs": [],
   "source": []
  },
  {
   "cell_type": "code",
   "execution_count": null,
   "id": "contained-journey",
   "metadata": {},
   "outputs": [],
   "source": []
  },
  {
   "cell_type": "markdown",
   "id": "smaller-lewis",
   "metadata": {},
   "source": [
    "# there is concept of access modifier in python\n",
    "some important point keep in mind in case of python\n",
    "1. a variable start with without underscore notation then that variable will be public variable exm. c=2\n",
    "2. a variable start with single underscore notation then that variable will be protected variable exm. _c=2\n",
    "3. a variable start with double underscore notation then that varibale will be private variable exm. __b=2\n"
   ]
  },
  {
   "cell_type": "code",
   "execution_count": null,
   "id": "composite-revolution",
   "metadata": {},
   "outputs": [],
   "source": [
    "#how to access private variable\n",
    "r._test__b"
   ]
  },
  {
   "cell_type": "markdown",
   "id": "hollywood-treasury",
   "metadata": {},
   "source": [
    "# Inheritance concept\n",
    "when a same method use again and again then this concept is used"
   ]
  },
  {
   "cell_type": "code",
   "execution_count": null,
   "id": "corrected-repair",
   "metadata": {},
   "outputs": [],
   "source": [
    "class test3:\n",
    "    def __init__(self, a,b,c,d):\n",
    "        self.a=a\n",
    "        self.b=b\n",
    "        self.c=c\n",
    "        self.d=d\n",
    "    def test_in(self):\n",
    "        return self.a + self.b\n",
    "    def test_t(self):\n",
    "        return \"this is my second method in my class\"\n",
    "    def test_p(self):\n",
    "        return 394949\n",
    "    def test_y(self):\n",
    "        print('djfljkl')\n",
    "    \n",
    "class test4(test3):\n",
    "    def __init__(self,a,b,c,d,p,q,r):\n",
    "        self.p=p\n",
    "        self.q=q\n",
    "        self.r=r\n",
    "        \n",
    "        test3.__init__(self,a,b,c,d) # here call init of test3\n",
    "\n",
    "    "
   ]
  },
  {
   "cell_type": "code",
   "execution_count": null,
   "id": "funded-passport",
   "metadata": {},
   "outputs": [],
   "source": [
    "#child class test4\n",
    "#all method in class test3 will be run for class test4 also bcz of inheritanc\n",
    "r=test4(223,445,553,354,55,66,99)\n"
   ]
  },
  {
   "cell_type": "code",
   "execution_count": null,
   "id": "systematic-metallic",
   "metadata": {},
   "outputs": [],
   "source": [
    "r.test_in()"
   ]
  },
  {
   "cell_type": "code",
   "execution_count": null,
   "id": "black-association",
   "metadata": {},
   "outputs": [],
   "source": [
    "r.a"
   ]
  },
  {
   "cell_type": "code",
   "execution_count": null,
   "id": "traditional-paintball",
   "metadata": {},
   "outputs": [],
   "source": [
    "r.b"
   ]
  },
  {
   "cell_type": "code",
   "execution_count": null,
   "id": "closing-andorra",
   "metadata": {},
   "outputs": [],
   "source": [
    "r.c"
   ]
  },
  {
   "cell_type": "code",
   "execution_count": null,
   "id": "white-noise",
   "metadata": {},
   "outputs": [],
   "source": [
    "r.d"
   ]
  },
  {
   "cell_type": "code",
   "execution_count": null,
   "id": "intellectual-billy",
   "metadata": {},
   "outputs": [],
   "source": [
    "r.test_p()"
   ]
  },
  {
   "cell_type": "code",
   "execution_count": null,
   "id": "retained-robert",
   "metadata": {},
   "outputs": [],
   "source": [
    "r.test_t()"
   ]
  },
  {
   "cell_type": "code",
   "execution_count": null,
   "id": "limiting-pressing",
   "metadata": {},
   "outputs": [],
   "source": [
    "r.test_y()"
   ]
  },
  {
   "cell_type": "code",
   "execution_count": null,
   "id": "latin-symphony",
   "metadata": {},
   "outputs": [],
   "source": [
    "#create new object\n",
    "p=test4(33,54,33,66,77,88,99)"
   ]
  },
  {
   "cell_type": "code",
   "execution_count": null,
   "id": "applied-rings",
   "metadata": {},
   "outputs": [],
   "source": [
    "p.test_in()"
   ]
  },
  {
   "cell_type": "code",
   "execution_count": 10,
   "id": "sensitive-storm",
   "metadata": {},
   "outputs": [],
   "source": []
  },
  {
   "cell_type": "code",
   "execution_count": 11,
   "id": "rubber-broadcast",
   "metadata": {},
   "outputs": [],
   "source": []
  },
  {
   "cell_type": "code",
   "execution_count": 1,
   "id": "bibliographic-theology",
   "metadata": {},
   "outputs": [],
   "source": [
    "class person:\n",
    "    def __init__(self,name,surnam,year):\n",
    "        self.name=name\n",
    "        self.surnam=surnam\n",
    "        self.year=year\n",
    "    def age(self,current_year):\n",
    "        return current_year - self.year"
   ]
  },
  {
   "cell_type": "code",
   "execution_count": 2,
   "id": "genetic-plymouth",
   "metadata": {},
   "outputs": [],
   "source": [
    "obj=person(\"lalit\",\"birla\",1999)"
   ]
  },
  {
   "cell_type": "code",
   "execution_count": 3,
   "id": "north-thing",
   "metadata": {},
   "outputs": [
    {
     "data": {
      "text/plain": [
       "2657"
      ]
     },
     "execution_count": 3,
     "metadata": {},
     "output_type": "execute_result"
    }
   ],
   "source": [
    "obj.age(4656)"
   ]
  },
  {
   "cell_type": "code",
   "execution_count": 4,
   "id": "suspected-brighton",
   "metadata": {},
   "outputs": [
    {
     "data": {
      "text/plain": [
       "'lalit'"
      ]
     },
     "execution_count": 4,
     "metadata": {},
     "output_type": "execute_result"
    }
   ],
   "source": [
    "obj.name"
   ]
  },
  {
   "cell_type": "code",
   "execution_count": 5,
   "id": "dietary-august",
   "metadata": {},
   "outputs": [],
   "source": [
    "#here *args(name,surnam,year)) takes all argument from parent class\n",
    "class student(person):\n",
    "    def __init__(self,studentid,*args):\n",
    "        super(student,self).__init__(*args)\n",
    "        #person.__init__(*args)\n",
    "        self.studentid=studentid"
   ]
  },
  {
   "cell_type": "code",
   "execution_count": 6,
   "id": "seven-final",
   "metadata": {},
   "outputs": [],
   "source": [
    "m=student(1223,'lalit','birla',35654)"
   ]
  },
  {
   "cell_type": "code",
   "execution_count": 7,
   "id": "dangerous-drunk",
   "metadata": {},
   "outputs": [
    {
     "data": {
      "text/plain": [
       "'lalit'"
      ]
     },
     "execution_count": 7,
     "metadata": {},
     "output_type": "execute_result"
    }
   ],
   "source": [
    "m.name"
   ]
  },
  {
   "cell_type": "code",
   "execution_count": 8,
   "id": "reflected-iceland",
   "metadata": {},
   "outputs": [
    {
     "data": {
      "text/plain": [
       "35654"
      ]
     },
     "execution_count": 8,
     "metadata": {},
     "output_type": "execute_result"
    }
   ],
   "source": [
    "m.year"
   ]
  },
  {
   "cell_type": "code",
   "execution_count": 10,
   "id": "painted-response",
   "metadata": {},
   "outputs": [
    {
     "data": {
      "text/plain": [
       "-34431"
      ]
     },
     "execution_count": 10,
     "metadata": {},
     "output_type": "execute_result"
    }
   ],
   "source": [
    "m.age(1223)"
   ]
  },
  {
   "cell_type": "code",
   "execution_count": 15,
   "id": "similar-intro",
   "metadata": {},
   "outputs": [],
   "source": [
    "class xyz:\n",
    "    def __init__(self, a,b,c):\n",
    "        self.a=a\n",
    "        self.b=b\n",
    "        self.c=c\n",
    "       \n",
    "    def test(self):\n",
    "        return \"this is my 1st class \"\n",
    "\n",
    "class xyz1:\n",
    "    def  __init__(self , p,q,v):\n",
    "        self.p = p\n",
    "        self.q = q\n",
    "        self.v = v\n",
    "    def test1(self):\n",
    "        return \"this is my 2nd class \"\n",
    "    \n",
    "class child(xyz,xyz1): #whate ever pass class as very 1st argument, there will be show vairable to pass class as very 1st argument\n",
    "    pass"
   ]
  },
  {
   "cell_type": "code",
   "execution_count": 18,
   "id": "vietnamese-holmes",
   "metadata": {},
   "outputs": [],
   "source": [
    "n=child(5,6,7)\n"
   ]
  },
  {
   "cell_type": "code",
   "execution_count": 40,
   "id": "civic-kentucky",
   "metadata": {},
   "outputs": [
    {
     "data": {
      "text/plain": [
       "4"
      ]
     },
     "execution_count": 40,
     "metadata": {},
     "output_type": "execute_result"
    }
   ],
   "source": [
    "#here it is able to extract function of both classes but do not able to vairable from both classes \n",
    "n.a"
   ]
  },
  {
   "cell_type": "code",
   "execution_count": 42,
   "id": "comfortable-printing",
   "metadata": {},
   "outputs": [
    {
     "data": {
      "text/plain": [
       "'this is method form test class  '"
      ]
     },
     "execution_count": 42,
     "metadata": {},
     "output_type": "execute_result"
    }
   ],
   "source": [
    "n.test()"
   ]
  },
  {
   "cell_type": "code",
   "execution_count": 22,
   "id": "offshore-sense",
   "metadata": {},
   "outputs": [
    {
     "ename": "AttributeError",
     "evalue": "'child' object has no attribute 'p'",
     "output_type": "error",
     "traceback": [
      "\u001b[1;31m---------------------------------------------------------------------------\u001b[0m",
      "\u001b[1;31mAttributeError\u001b[0m                            Traceback (most recent call last)",
      "\u001b[1;32m<ipython-input-22-39ac1e6251c0>\u001b[0m in \u001b[0;36m<module>\u001b[1;34m\u001b[0m\n\u001b[1;32m----> 1\u001b[1;33m \u001b[0mn\u001b[0m\u001b[1;33m.\u001b[0m\u001b[0mp\u001b[0m\u001b[1;33m\u001b[0m\u001b[0m\n\u001b[0m",
      "\u001b[1;31mAttributeError\u001b[0m: 'child' object has no attribute 'p'"
     ]
    }
   ],
   "source": [
    "n.p"
   ]
  },
  {
   "cell_type": "markdown",
   "id": "british-solution",
   "metadata": {},
   "source": [
    "# how how to inherit all the varible from both parent classes  into child class "
   ]
  },
  {
   "cell_type": "code",
   "execution_count": 23,
   "id": "clinical-slave",
   "metadata": {},
   "outputs": [],
   "source": [
    "class xyz:\n",
    "    def __init__(self, a,b,c):\n",
    "        self.a=a\n",
    "        self.b=b\n",
    "        self.c=c\n",
    "       \n",
    "    def test(self):\n",
    "        return \"this is method form test class  \"\n",
    "\n",
    "class xyz1:\n",
    "    def  __init__(self , p,q,v):\n",
    "        self.p = p\n",
    "        self.q = q\n",
    "        self.v = v\n",
    "    def test1(self):\n",
    "        return \"this is method form test1 class \"\n",
    "    \n",
    "class child(xyz,xyz1): #whate ever pass class as very 1st argument, there will be show vairable to pass class as very 1st argument\n",
    "     def __init__(self,*args):\n",
    "        xyz.__init__(self,*args)\n",
    "        xyz1.__init__(self,*args)"
   ]
  },
  {
   "cell_type": "code",
   "execution_count": 25,
   "id": "fleet-wireless",
   "metadata": {},
   "outputs": [],
   "source": [
    "n=child(4,5,6) # so here it is trying to initialize contructor of both the class"
   ]
  },
  {
   "cell_type": "code",
   "execution_count": 27,
   "id": "happy-deposit",
   "metadata": {},
   "outputs": [
    {
     "data": {
      "text/plain": [
       "4"
      ]
     },
     "execution_count": 27,
     "metadata": {},
     "output_type": "execute_result"
    }
   ],
   "source": [
    "n.a"
   ]
  },
  {
   "cell_type": "code",
   "execution_count": 29,
   "id": "postal-appendix",
   "metadata": {},
   "outputs": [
    {
     "data": {
      "text/plain": [
       "4"
      ]
     },
     "execution_count": 29,
     "metadata": {},
     "output_type": "execute_result"
    }
   ],
   "source": [
    "n.p"
   ]
  },
  {
   "cell_type": "code",
   "execution_count": 33,
   "id": "deluxe-messaging",
   "metadata": {},
   "outputs": [],
   "source": [
    "class xyz:\n",
    "    def __init__(self, a,b,c):\n",
    "        self.a=a\n",
    "        self.b=b\n",
    "        self.c=c\n",
    "       \n",
    "    def test(self):\n",
    "        return \"this is method form test class  \"\n",
    "\n",
    "class xyz1:\n",
    "    def  __init__(self , p,q,v):\n",
    "        self.p = p\n",
    "        self.q = q\n",
    "        self.v = v\n",
    "    def test1(self):\n",
    "        return \"this is method form test1 class \"\n",
    "    \n",
    "class child(xyz,xyz1): #whate ever pass class as very 1st argument, there will be show vairable to pass class as very 1st argument\n",
    "     def __init__(self,*args,**kwargs): #here **kwargs will take key value pair argument such as q=1,p=5 otherwise give error\n",
    "        xyz.__init__(self,*args)\n",
    "        xyz1.__init__(self,**kwargs)"
   ]
  },
  {
   "cell_type": "code",
   "execution_count": 34,
   "id": "massive-light",
   "metadata": {},
   "outputs": [
    {
     "ename": "TypeError",
     "evalue": "__init__() missing 3 required positional arguments: 'p', 'q', and 'v'",
     "output_type": "error",
     "traceback": [
      "\u001b[1;31m---------------------------------------------------------------------------\u001b[0m",
      "\u001b[1;31mTypeError\u001b[0m                                 Traceback (most recent call last)",
      "\u001b[1;32m<ipython-input-34-a321b70cbb04>\u001b[0m in \u001b[0;36m<module>\u001b[1;34m\u001b[0m\n\u001b[1;32m----> 1\u001b[1;33m \u001b[0mn\u001b[0m\u001b[1;33m=\u001b[0m\u001b[0mchild\u001b[0m\u001b[1;33m(\u001b[0m\u001b[1;36m4\u001b[0m\u001b[1;33m,\u001b[0m\u001b[1;36m5\u001b[0m\u001b[1;33m,\u001b[0m\u001b[1;36m6\u001b[0m\u001b[1;33m)\u001b[0m\u001b[1;33m\u001b[0m\u001b[0m\n\u001b[0m",
      "\u001b[1;32m<ipython-input-33-e376ca4713bc>\u001b[0m in \u001b[0;36m__init__\u001b[1;34m(self, *args, **kwargs)\u001b[0m\n\u001b[0;32m     19\u001b[0m      \u001b[1;32mdef\u001b[0m \u001b[0m__init__\u001b[0m\u001b[1;33m(\u001b[0m\u001b[0mself\u001b[0m\u001b[1;33m,\u001b[0m\u001b[1;33m*\u001b[0m\u001b[0margs\u001b[0m\u001b[1;33m,\u001b[0m\u001b[1;33m**\u001b[0m\u001b[0mkwargs\u001b[0m\u001b[1;33m)\u001b[0m\u001b[1;33m:\u001b[0m\u001b[1;33m\u001b[0m\u001b[0m\n\u001b[0;32m     20\u001b[0m         \u001b[0mxyz\u001b[0m\u001b[1;33m.\u001b[0m\u001b[0m__init__\u001b[0m\u001b[1;33m(\u001b[0m\u001b[0mself\u001b[0m\u001b[1;33m,\u001b[0m\u001b[1;33m*\u001b[0m\u001b[0margs\u001b[0m\u001b[1;33m)\u001b[0m\u001b[1;33m\u001b[0m\u001b[0m\n\u001b[1;32m---> 21\u001b[1;33m         \u001b[0mxyz1\u001b[0m\u001b[1;33m.\u001b[0m\u001b[0m__init__\u001b[0m\u001b[1;33m(\u001b[0m\u001b[0mself\u001b[0m\u001b[1;33m,\u001b[0m\u001b[1;33m**\u001b[0m\u001b[0mkwargs\u001b[0m\u001b[1;33m)\u001b[0m\u001b[1;33m\u001b[0m\u001b[0m\n\u001b[0m",
      "\u001b[1;31mTypeError\u001b[0m: __init__() missing 3 required positional arguments: 'p', 'q', and 'v'"
     ]
    }
   ],
   "source": [
    "n=child(4,5,6)"
   ]
  },
  {
   "cell_type": "code",
   "execution_count": 35,
   "id": "blocked-virgin",
   "metadata": {},
   "outputs": [],
   "source": [
    "n=child(4,5,6, p=3,q=7,v=9)"
   ]
  },
  {
   "cell_type": "code",
   "execution_count": 37,
   "id": "introductory-walker",
   "metadata": {},
   "outputs": [
    {
     "data": {
      "text/plain": [
       "3"
      ]
     },
     "execution_count": 37,
     "metadata": {},
     "output_type": "execute_result"
    }
   ],
   "source": [
    "n.p"
   ]
  },
  {
   "cell_type": "code",
   "execution_count": 45,
   "id": "optional-savannah",
   "metadata": {},
   "outputs": [
    {
     "data": {
      "text/plain": [
       "7"
      ]
     },
     "execution_count": 45,
     "metadata": {},
     "output_type": "execute_result"
    }
   ],
   "source": [
    "n.q"
   ]
  },
  {
   "cell_type": "code",
   "execution_count": null,
   "id": "congressional-electricity",
   "metadata": {},
   "outputs": [],
   "source": [
    "#multi level inheritence "
   ]
  },
  {
   "cell_type": "code",
   "execution_count": 43,
   "id": "valued-subsection",
   "metadata": {},
   "outputs": [],
   "source": []
  },
  {
   "cell_type": "code",
   "execution_count": 44,
   "id": "handed-annotation",
   "metadata": {},
   "outputs": [
    {
     "ename": "TypeError",
     "evalue": "__init__() missing 3 required positional arguments: 'a', 'b', and 'c'",
     "output_type": "error",
     "traceback": [
      "\u001b[1;31m---------------------------------------------------------------------------\u001b[0m",
      "\u001b[1;31mTypeError\u001b[0m                                 Traceback (most recent call last)",
      "\u001b[1;32m<ipython-input-44-fc809f9c8cfe>\u001b[0m in \u001b[0;36m<module>\u001b[1;34m\u001b[0m\n\u001b[1;32m----> 1\u001b[1;33m \u001b[0my\u001b[0m\u001b[1;33m=\u001b[0m\u001b[0mxyz2\u001b[0m\u001b[1;33m(\u001b[0m\u001b[1;33m)\u001b[0m\u001b[1;33m\u001b[0m\u001b[0m\n\u001b[0m",
      "\u001b[1;31mTypeError\u001b[0m: __init__() missing 3 required positional arguments: 'a', 'b', and 'c'"
     ]
    }
   ],
   "source": [
    "y=xyz2()"
   ]
  },
  {
   "cell_type": "markdown",
   "id": "abroad-tooth",
   "metadata": {},
   "source": [
    "# Inheritance of multiple class in a single class"
   ]
  },
  {
   "cell_type": "code",
   "execution_count": 4,
   "id": "better-tackle",
   "metadata": {},
   "outputs": [],
   "source": [
    "class sanu:\n",
    "    def __init__(self, a ,b):\n",
    "        self.a=a\n",
    "        self.b=b\n",
    "class lalu:\n",
    "    def __init__(self, c ,d):\n",
    "        self.c=c\n",
    "        self.d=d\n",
    "    "
   ]
  },
  {
   "cell_type": "code",
   "execution_count": 5,
   "id": "multiple-examination",
   "metadata": {},
   "outputs": [],
   "source": [
    "class child(sanu ,lalu):\n",
    "    def __init__(self,*args):\n",
    "        sanu.__init__(self,*args)\n",
    "        lalu.__init__(self,*args)\n",
    "    def fun_child(self):\n",
    "        print(self.a,self.c)"
   ]
  },
  {
   "cell_type": "code",
   "execution_count": 6,
   "id": "classical-future",
   "metadata": {},
   "outputs": [],
   "source": [
    "#here object is only asking 2 argument but not asking about c bcz *args copy same agrument again and again \n",
    "obj_1=child(23,34)"
   ]
  },
  {
   "cell_type": "code",
   "execution_count": 7,
   "id": "weird-monday",
   "metadata": {},
   "outputs": [],
   "source": [
    "class child_a(sanu ,lalu):\n",
    "    def __init__(self,a,b,c,d):\n",
    "        sanu.__init__(self,a,b)\n",
    "        lalu.__init__(self,c,d)\n",
    "    def fun_child(self):\n",
    "        print(self.a,self.c)"
   ]
  },
  {
   "cell_type": "code",
   "execution_count": 8,
   "id": "authorized-checklist",
   "metadata": {},
   "outputs": [],
   "source": [
    "obj_2=child_a(1,2,3,4)"
   ]
  },
  {
   "cell_type": "code",
   "execution_count": 9,
   "id": "retired-schedule",
   "metadata": {},
   "outputs": [
    {
     "data": {
      "text/plain": [
       "1"
      ]
     },
     "execution_count": 9,
     "metadata": {},
     "output_type": "execute_result"
    }
   ],
   "source": [
    "obj_2.a"
   ]
  },
  {
   "cell_type": "code",
   "execution_count": 10,
   "id": "relative-marine",
   "metadata": {},
   "outputs": [
    {
     "name": "stdout",
     "output_type": "stream",
     "text": [
      "1 3\n"
     ]
    }
   ],
   "source": [
    "obj_2.fun_child()"
   ]
  },
  {
   "cell_type": "markdown",
   "id": "respiratory-duncan",
   "metadata": {},
   "source": [
    "# Multi level inheritance"
   ]
  },
  {
   "cell_type": "code",
   "execution_count": 57,
   "id": "worth-jones",
   "metadata": {},
   "outputs": [],
   "source": [
    "class xyz: # grand parent\n",
    "    def __init__(self, a,b,c):\n",
    "        self.a=a\n",
    "        self.b=b\n",
    "        self.c=c\n",
    "       \n",
    "    def test(self):\n",
    "        return \"this is method form test class xyz \"\n",
    "\n",
    "class xyz1(xyz): # immidiate parent \n",
    "  \n",
    "    def test1(self):\n",
    "        return \"this is method form test1 class xyz1 \"\n",
    "class xyz2(xyz1): # child \n",
    "    def test2(self):\n",
    "        return \"this is a meth from class xyz2\"\n",
    "\n",
    "class xyz3(xyz2):\n",
    "    def test3(self):\n",
    "        return \"this is meth form class xyz3\""
   ]
  },
  {
   "cell_type": "code",
   "execution_count": 53,
   "id": "accompanied-formula",
   "metadata": {},
   "outputs": [
    {
     "ename": "TypeError",
     "evalue": "__init__() missing 3 required positional arguments: 'a', 'b', and 'c'",
     "output_type": "error",
     "traceback": [
      "\u001b[1;31m---------------------------------------------------------------------------\u001b[0m",
      "\u001b[1;31mTypeError\u001b[0m                                 Traceback (most recent call last)",
      "\u001b[1;32m<ipython-input-53-cc8fa999693f>\u001b[0m in \u001b[0;36m<module>\u001b[1;34m\u001b[0m\n\u001b[1;32m----> 1\u001b[1;33m \u001b[0my\u001b[0m\u001b[1;33m=\u001b[0m\u001b[0mxyz2\u001b[0m\u001b[1;33m(\u001b[0m\u001b[1;33m)\u001b[0m \u001b[1;31m#here giving bcz multi level inheritence\u001b[0m\u001b[1;33m\u001b[0m\u001b[0m\n\u001b[0m",
      "\u001b[1;31mTypeError\u001b[0m: __init__() missing 3 required positional arguments: 'a', 'b', and 'c'"
     ]
    }
   ],
   "source": [
    "y=xyz2() #here giving bcz multi level inheritence \n"
   ]
  },
  {
   "cell_type": "code",
   "execution_count": 58,
   "id": "bearing-wilderness",
   "metadata": {},
   "outputs": [
    {
     "ename": "TypeError",
     "evalue": "__init__() missing 3 required positional arguments: 'a', 'b', and 'c'",
     "output_type": "error",
     "traceback": [
      "\u001b[1;31m---------------------------------------------------------------------------\u001b[0m",
      "\u001b[1;31mTypeError\u001b[0m                                 Traceback (most recent call last)",
      "\u001b[1;32m<ipython-input-58-343da1a98666>\u001b[0m in \u001b[0;36m<module>\u001b[1;34m\u001b[0m\n\u001b[1;32m----> 1\u001b[1;33m \u001b[0my\u001b[0m\u001b[1;33m=\u001b[0m\u001b[0mxyz3\u001b[0m\u001b[1;33m(\u001b[0m\u001b[1;33m)\u001b[0m\u001b[1;33m\u001b[0m\u001b[0m\n\u001b[0m",
      "\u001b[1;31mTypeError\u001b[0m: __init__() missing 3 required positional arguments: 'a', 'b', and 'c'"
     ]
    }
   ],
   "source": [
    "y=xyz3()"
   ]
  },
  {
   "cell_type": "code",
   "execution_count": 59,
   "id": "sealed-bumper",
   "metadata": {},
   "outputs": [],
   "source": [
    "y=xyz2(9,8,7) #here property of grand parent is avialabe in child but not immidiated parent"
   ]
  },
  {
   "cell_type": "code",
   "execution_count": 60,
   "id": "coral-silence",
   "metadata": {},
   "outputs": [],
   "source": [
    "v=xyz3(4,5,6)"
   ]
  },
  {
   "cell_type": "code",
   "execution_count": 62,
   "id": "thirty-miller",
   "metadata": {},
   "outputs": [
    {
     "data": {
      "text/plain": [
       "9"
      ]
     },
     "execution_count": 62,
     "metadata": {},
     "output_type": "execute_result"
    }
   ],
   "source": [
    "y.a"
   ]
  },
  {
   "cell_type": "code",
   "execution_count": 63,
   "id": "monthly-savings",
   "metadata": {},
   "outputs": [
    {
     "data": {
      "text/plain": [
       "'this is method form test class xyz '"
      ]
     },
     "execution_count": 63,
     "metadata": {},
     "output_type": "execute_result"
    }
   ],
   "source": [
    "v.test()"
   ]
  },
  {
   "cell_type": "code",
   "execution_count": null,
   "id": "operational-mount",
   "metadata": {},
   "outputs": [],
   "source": []
  },
  {
   "cell_type": "code",
   "execution_count": null,
   "id": "amended-castle",
   "metadata": {},
   "outputs": [],
   "source": [
    "class mishri:\n",
    "    def __init__(self,a,b):\n",
    "        self.a=a\n",
    "        self.b=b\n",
    "        \n"
   ]
  },
  {
   "cell_type": "code",
   "execution_count": null,
   "id": "governmental-budapest",
   "metadata": {},
   "outputs": [],
   "source": [
    "z=mishri(89,90)"
   ]
  },
  {
   "cell_type": "code",
   "execution_count": null,
   "id": "cleared-timer",
   "metadata": {},
   "outputs": [],
   "source": [
    "class duli(mishri):\n",
    "    def __init__(self,c,d):\n",
    "        super(duli,self).__init__(*args)\n",
    "        self.c=c\n",
    "        self.d=d\n",
    "    "
   ]
  },
  {
   "cell_type": "code",
   "execution_count": null,
   "id": "alpha-deficit",
   "metadata": {},
   "outputs": [],
   "source": []
  },
  {
   "cell_type": "code",
   "execution_count": null,
   "id": "binding-surfing",
   "metadata": {},
   "outputs": [],
   "source": [
    "class lalit(duli):\n",
    "    def __init__(self,name,dob):\n",
    "        super(lalit,self).__init__(*args)\n",
    "        self.name=name\n",
    "        self.dob=dob\n"
   ]
  },
  {
   "cell_type": "code",
   "execution_count": null,
   "id": "romantic-reception",
   "metadata": {
    "scrolled": true
   },
   "outputs": [],
   "source": [
    "p=lalit(\"lalit\",3444)"
   ]
  },
  {
   "cell_type": "code",
   "execution_count": null,
   "id": "iraqi-herald",
   "metadata": {},
   "outputs": [],
   "source": [
    "p.a"
   ]
  },
  {
   "cell_type": "code",
   "execution_count": null,
   "id": "vanilla-development",
   "metadata": {},
   "outputs": [],
   "source": [
    "p.b"
   ]
  },
  {
   "cell_type": "code",
   "execution_count": null,
   "id": "czech-trail",
   "metadata": {},
   "outputs": [],
   "source": [
    "p.c"
   ]
  },
  {
   "cell_type": "code",
   "execution_count": null,
   "id": "amazing-custody",
   "metadata": {},
   "outputs": [],
   "source": [
    "p.d"
   ]
  },
  {
   "cell_type": "markdown",
   "id": "central-soccer",
   "metadata": {},
   "source": [
    "# Example 2 , with access only methd"
   ]
  },
  {
   "cell_type": "code",
   "execution_count": null,
   "id": "outdoor-robinson",
   "metadata": {},
   "outputs": [],
   "source": [
    "class p1:\n",
    "    def __init__(self,a,b):\n",
    "        self.a=a\n",
    "        self.b=b\n",
    "    def meth1(self):\n",
    "        return \"this is method 1 from p1\"\n",
    "    def meth2(self):\n",
    "        return \"this is method 2 from p1\"\n",
    "class p2(p1):\n",
    "    def __init__(self,c,d):\n",
    "        self.c=c\n",
    "        self.d=d\n",
    "    def meth2(self):\n",
    "        return \"this is method 3 from p2\"\n",
    "class child(p2):\n",
    "    def meth3(self):\n",
    "        return \"this is method form child\""
   ]
  },
  {
   "cell_type": "code",
   "execution_count": null,
   "id": "attached-necessity",
   "metadata": {},
   "outputs": [],
   "source": [
    "objj=child(22,33)"
   ]
  },
  {
   "cell_type": "code",
   "execution_count": null,
   "id": "sized-performance",
   "metadata": {},
   "outputs": [],
   "source": [
    "objj.meth1()"
   ]
  },
  {
   "cell_type": "code",
   "execution_count": null,
   "id": "falling-python",
   "metadata": {},
   "outputs": [],
   "source": [
    "objj.meth2()"
   ]
  },
  {
   "cell_type": "code",
   "execution_count": null,
   "id": "general-doctrine",
   "metadata": {},
   "outputs": [],
   "source": [
    "objj.meth3()"
   ]
  },
  {
   "cell_type": "markdown",
   "id": "following-savings",
   "metadata": {},
   "source": [
    "# Method over-riding\n",
    "\n"
   ]
  },
  {
   "cell_type": "code",
   "execution_count": null,
   "id": "defined-tribune",
   "metadata": {},
   "outputs": [],
   "source": [
    "class person:\n",
    "    def __init__(self,name,surnam,year):\n",
    "        self.name=name\n",
    "        self.surnam=surnam\n",
    "        self.year=year\n",
    "    def age(self,current_year):\n",
    "        return current_year - self.year\n",
    "    def __str__(self):\n",
    "        return self.name\n",
    "    \n",
    "#The __str__ method in Python represents the class objects as a string – it can be used for classes."
   ]
  },
  {
   "cell_type": "code",
   "execution_count": null,
   "id": "lasting-resolution",
   "metadata": {},
   "outputs": [],
   "source": [
    "per=person('lalit','birla',345)"
   ]
  },
  {
   "cell_type": "code",
   "execution_count": null,
   "id": "swiss-protein",
   "metadata": {},
   "outputs": [],
   "source": [
    "print(per) #print method is u"
   ]
  },
  {
   "cell_type": "code",
   "execution_count": null,
   "id": "discrete-nelson",
   "metadata": {},
   "outputs": [],
   "source": [
    "class student(person):\n",
    "    def __init__(self,student_id,*args):\n",
    "        super(student,self).__init__(*args)\n",
    "        self.student_id=student_id\n",
    "    def __str__(self):\n",
    "        return self.name + str(self.student_id)\n",
    "        "
   ]
  },
  {
   "cell_type": "code",
   "execution_count": null,
   "id": "adjacent-report",
   "metadata": {},
   "outputs": [],
   "source": [
    "std=student(1223,'lalit','birla',1234)"
   ]
  },
  {
   "cell_type": "code",
   "execution_count": null,
   "id": "acquired-blond",
   "metadata": {},
   "outputs": [],
   "source": [
    "print(std)"
   ]
  },
  {
   "cell_type": "raw",
   "id": "designing-quality",
   "metadata": {},
   "source": [
    "# but above code we do not want to write code self.name in child we want override the __str__ method of person\n",
    "for this remove self.name from student method with super(student,self).__str__() or with person.__str__(self)"
   ]
  },
  {
   "cell_type": "code",
   "execution_count": null,
   "id": "moving-elder",
   "metadata": {},
   "outputs": [],
   "source": [
    "class student1(person):\n",
    "    def __init__(self,student_id,*args):\n",
    "        super(student1,self).__init__(*args)\n",
    "        self.student_id=student_id\n",
    "    def __str__(self):\n",
    "        return super(student1,self).__str__() + str(self.student_id)\n",
    "        #or return person.__str__(self) + str(self.student_id)\n"
   ]
  },
  {
   "cell_type": "code",
   "execution_count": null,
   "id": "american-trial",
   "metadata": {},
   "outputs": [],
   "source": [
    "stud=student1(123,'lalit','birla',234)"
   ]
  },
  {
   "cell_type": "code",
   "execution_count": null,
   "id": "metallic-gibraltar",
   "metadata": {},
   "outputs": [],
   "source": [
    "print(stud)"
   ]
  },
  {
   "cell_type": "markdown",
   "id": "dated-exclusive",
   "metadata": {},
   "source": [
    "# Encapsulation"
   ]
  },
  {
   "cell_type": "code",
   "execution_count": 75,
   "id": "judicial-ballet",
   "metadata": {},
   "outputs": [],
   "source": [
    "class tyre:\n",
    "    def __init__(self,branch,belted_bais,opt_pressure):\n",
    "        self.branch=branch\n",
    "        self.belted_bais=belted_bais\n",
    "        self.opt_pressure=opt_pressure\n",
    "    def __str__(self):\n",
    "        return self.branch+\" \"+self.belted_bais+\" \"+self.opt_pressure\n",
    "\n",
    "class engin:\n",
    "    def __init__(self,fuel_type,noise_level):\n",
    "        self.fuel_type=fuel_type\n",
    "        self.noise_level=noise_level\n",
    "    def __str__(self):\n",
    "        return self.fuel_type +\" \"+ self.noise_level\n",
    "class body:\n",
    "    def __init__(self,size):\n",
    "        self.size=size\n",
    "    def __str__(self):\n",
    "        return str(self.size)\n",
    "    \n",
    "class car:\n",
    "    def __init__(self ,a,b,c):\n",
    "        self.a=a\n",
    "        self.b=b\n",
    "        self.c=c\n",
    "    def __str__(self):\n",
    "        return str(self.a) +\" \"+str(self.b) +\" \"+ str(self.c )"
   ]
  },
  {
   "cell_type": "code",
   "execution_count": 76,
   "id": "dependent-today",
   "metadata": {},
   "outputs": [],
   "source": [
    "t=tyre(\"abc\",'belted bias','optpressure')"
   ]
  },
  {
   "cell_type": "code",
   "execution_count": 77,
   "id": "advance-dakota",
   "metadata": {
    "scrolled": true
   },
   "outputs": [
    {
     "name": "stdout",
     "output_type": "stream",
     "text": [
      "abc belted bias optpressure\n"
     ]
    }
   ],
   "source": [
    "print(t)"
   ]
  },
  {
   "cell_type": "code",
   "execution_count": 78,
   "id": "advisory-arctic",
   "metadata": {},
   "outputs": [],
   "source": [
    "e=engin(\"typA\",'level3')"
   ]
  },
  {
   "cell_type": "code",
   "execution_count": 79,
   "id": "micro-jurisdiction",
   "metadata": {},
   "outputs": [
    {
     "name": "stdout",
     "output_type": "stream",
     "text": [
      "typA level3\n"
     ]
    }
   ],
   "source": [
    "print(e)"
   ]
  },
  {
   "cell_type": "code",
   "execution_count": 80,
   "id": "adapted-calibration",
   "metadata": {},
   "outputs": [],
   "source": [
    "b=body(1234)"
   ]
  },
  {
   "cell_type": "code",
   "execution_count": 81,
   "id": "administrative-greeting",
   "metadata": {},
   "outputs": [
    {
     "name": "stdout",
     "output_type": "stream",
     "text": [
      "1234\n"
     ]
    }
   ],
   "source": [
    "print(b)"
   ]
  },
  {
   "cell_type": "code",
   "execution_count": 82,
   "id": "starting-leadership",
   "metadata": {},
   "outputs": [],
   "source": [
    "c=car(\"dfj\",\"dfjl\",\"ll\")"
   ]
  },
  {
   "cell_type": "code",
   "execution_count": 83,
   "id": "piano-albania",
   "metadata": {},
   "outputs": [
    {
     "data": {
      "text/plain": [
       "'dfj'"
      ]
     },
     "execution_count": 83,
     "metadata": {},
     "output_type": "execute_result"
    }
   ],
   "source": [
    "c.a"
   ]
  },
  {
   "cell_type": "code",
   "execution_count": 84,
   "id": "designed-translation",
   "metadata": {},
   "outputs": [],
   "source": [
    "#now here for encapsulation we pass object of tyre,engin and body\n",
    "carobj=car(t,e,b)"
   ]
  },
  {
   "cell_type": "code",
   "execution_count": 85,
   "id": "sorted-prophet",
   "metadata": {},
   "outputs": [
    {
     "name": "stdout",
     "output_type": "stream",
     "text": [
      "abc belted bias optpressure typA level3 1234\n"
     ]
    }
   ],
   "source": [
    "print(carobj)"
   ]
  },
  {
   "cell_type": "code",
   "execution_count": 86,
   "id": "roman-stanford",
   "metadata": {},
   "outputs": [],
   "source": [
    "#some another example"
   ]
  },
  {
   "cell_type": "code",
   "execution_count": 101,
   "id": "urban-fortune",
   "metadata": {},
   "outputs": [
    {
     "name": "stdout",
     "output_type": "stream",
     "text": [
      "5\n",
      "4\n"
     ]
    },
    {
     "data": {
      "text/plain": [
       "5"
      ]
     },
     "execution_count": 101,
     "metadata": {},
     "output_type": "execute_result"
    }
   ],
   "source": [
    "class test:\n",
    "    def __init__(self,a,b):\n",
    "        self.__a=a\n",
    "        self.b=b\n",
    "class test1(test):\n",
    "    def __init__(self,*args):\n",
    "        test.__init__(self,*args)\n",
    "        #access a ,b value in child class\n",
    "        #self.b=\"lalit\"\n",
    "        print(self.b)\n",
    "        print(self._test__a)\n",
    "        \n",
    "obj=test1(4,5)\n",
    "obj.b #overwrite parameter that is why this is giving latest value\n",
    "        "
   ]
  },
  {
   "cell_type": "markdown",
   "id": "ambient-simpson",
   "metadata": {},
   "source": [
    "# Overloading "
   ]
  },
  {
   "cell_type": "code",
   "execution_count": 110,
   "id": "difficult-startup",
   "metadata": {},
   "outputs": [],
   "source": [
    "class multiplynum():\n",
    "    def __init__(self,a):\n",
    "        self.a=a\n",
    "        \n",
    "    def __mul__(self,other): #i\n",
    "        return self.a + other.a"
   ]
  },
  {
   "cell_type": "code",
   "execution_count": 111,
   "id": "bearing-invention",
   "metadata": {},
   "outputs": [],
   "source": [
    "a1=multiplynum(4)\n",
    "a2=multiplynum(5)"
   ]
  },
  {
   "cell_type": "code",
   "execution_count": 112,
   "id": "structural-therapist",
   "metadata": {},
   "outputs": [
    {
     "data": {
      "text/plain": [
       "9"
      ]
     },
     "execution_count": 112,
     "metadata": {},
     "output_type": "execute_result"
    }
   ],
   "source": [
    "a1*a2"
   ]
  },
  {
   "cell_type": "code",
   "execution_count": 71,
   "id": "respiratory-ukraine",
   "metadata": {},
   "outputs": [],
   "source": [
    "class my_home:\n",
    "    def __init__(self,ls):\n",
    "        if type(ls)!= list:\n",
    "            raise ValueError(\"plese enter a list\")\n",
    "        else:\n",
    "            self.list = ls\n",
    "       \n",
    "    def append_list(self):\n",
    "        self.a =  eval(input())\n",
    "        self.b =  eval(input())\n",
    "        return self.a + self.b"
   ]
  },
  {
   "cell_type": "code",
   "execution_count": 72,
   "id": "painted-emphasis",
   "metadata": {},
   "outputs": [],
   "source": [
    "s = my_home([1,2,3,4])"
   ]
  },
  {
   "cell_type": "code",
   "execution_count": 74,
   "id": "arabic-retrieval",
   "metadata": {},
   "outputs": [
    {
     "ename": "KeyboardInterrupt",
     "evalue": "Interrupted by user",
     "output_type": "error",
     "traceback": [
      "\u001b[1;31m---------------------------------------------------------------------------\u001b[0m",
      "\u001b[1;31mKeyboardInterrupt\u001b[0m                         Traceback (most recent call last)",
      "\u001b[1;32m<ipython-input-74-e5362f286c6f>\u001b[0m in \u001b[0;36m<module>\u001b[1;34m\u001b[0m\n\u001b[1;32m----> 1\u001b[1;33m \u001b[0ms\u001b[0m\u001b[1;33m.\u001b[0m\u001b[0mappend_list\u001b[0m\u001b[1;33m(\u001b[0m\u001b[1;36m1\u001b[0m\u001b[1;33m,\u001b[0m\u001b[1;36m2\u001b[0m\u001b[1;33m)\u001b[0m\u001b[1;33m\u001b[0m\u001b[0m\n\u001b[0m",
      "\u001b[1;32m<ipython-input-71-4dcbfe7a10d9>\u001b[0m in \u001b[0;36mappend_list\u001b[1;34m(self, a, b)\u001b[0m\n\u001b[0;32m      7\u001b[0m \u001b[1;33m\u001b[0m\u001b[0m\n\u001b[0;32m      8\u001b[0m     \u001b[1;32mdef\u001b[0m \u001b[0mappend_list\u001b[0m\u001b[1;33m(\u001b[0m\u001b[0mself\u001b[0m\u001b[1;33m,\u001b[0m \u001b[0ma\u001b[0m \u001b[1;33m,\u001b[0m\u001b[0mb\u001b[0m\u001b[1;33m)\u001b[0m\u001b[1;33m:\u001b[0m\u001b[1;33m\u001b[0m\u001b[0m\n\u001b[1;32m----> 9\u001b[1;33m         \u001b[0mself\u001b[0m\u001b[1;33m.\u001b[0m\u001b[0ma\u001b[0m \u001b[1;33m=\u001b[0m  \u001b[0meval\u001b[0m\u001b[1;33m(\u001b[0m\u001b[0minput\u001b[0m\u001b[1;33m(\u001b[0m\u001b[1;33m)\u001b[0m\u001b[1;33m)\u001b[0m\u001b[1;33m\u001b[0m\u001b[0m\n\u001b[0m\u001b[0;32m     10\u001b[0m         \u001b[0mself\u001b[0m\u001b[1;33m.\u001b[0m\u001b[0mb\u001b[0m \u001b[1;33m=\u001b[0m  \u001b[0meval\u001b[0m\u001b[1;33m(\u001b[0m\u001b[0minput\u001b[0m\u001b[1;33m(\u001b[0m\u001b[1;33m)\u001b[0m\u001b[1;33m)\u001b[0m\u001b[1;33m\u001b[0m\u001b[0m\n\u001b[0;32m     11\u001b[0m         \u001b[1;32mreturn\u001b[0m \u001b[0mself\u001b[0m\u001b[1;33m.\u001b[0m\u001b[0ma\u001b[0m \u001b[1;33m+\u001b[0m \u001b[0mself\u001b[0m\u001b[1;33m.\u001b[0m\u001b[0mb\u001b[0m\u001b[1;33m\u001b[0m\u001b[0m\n",
      "\u001b[1;32m~\\Miniconda3\\lib\\site-packages\\ipykernel\\kernelbase.py\u001b[0m in \u001b[0;36mraw_input\u001b[1;34m(self, prompt)\u001b[0m\n\u001b[0;32m    858\u001b[0m             \u001b[0mself\u001b[0m\u001b[1;33m.\u001b[0m\u001b[0m_parent_ident\u001b[0m\u001b[1;33m,\u001b[0m\u001b[1;33m\u001b[0m\u001b[0m\n\u001b[0;32m    859\u001b[0m             \u001b[0mself\u001b[0m\u001b[1;33m.\u001b[0m\u001b[0m_parent_header\u001b[0m\u001b[1;33m,\u001b[0m\u001b[1;33m\u001b[0m\u001b[0m\n\u001b[1;32m--> 860\u001b[1;33m             \u001b[0mpassword\u001b[0m\u001b[1;33m=\u001b[0m\u001b[1;32mFalse\u001b[0m\u001b[1;33m,\u001b[0m\u001b[1;33m\u001b[0m\u001b[0m\n\u001b[0m\u001b[0;32m    861\u001b[0m         )\n\u001b[0;32m    862\u001b[0m \u001b[1;33m\u001b[0m\u001b[0m\n",
      "\u001b[1;32m~\\Miniconda3\\lib\\site-packages\\ipykernel\\kernelbase.py\u001b[0m in \u001b[0;36m_input_request\u001b[1;34m(self, prompt, ident, parent, password)\u001b[0m\n\u001b[0;32m    899\u001b[0m             \u001b[1;32mexcept\u001b[0m \u001b[0mKeyboardInterrupt\u001b[0m\u001b[1;33m:\u001b[0m\u001b[1;33m\u001b[0m\u001b[0m\n\u001b[0;32m    900\u001b[0m                 \u001b[1;31m# re-raise KeyboardInterrupt, to truncate traceback\u001b[0m\u001b[1;33m\u001b[0m\u001b[1;33m\u001b[0m\u001b[0m\n\u001b[1;32m--> 901\u001b[1;33m                 \u001b[1;32mraise\u001b[0m \u001b[0mKeyboardInterrupt\u001b[0m\u001b[1;33m(\u001b[0m\u001b[1;34m\"Interrupted by user\"\u001b[0m\u001b[1;33m)\u001b[0m \u001b[1;32mfrom\u001b[0m \u001b[1;32mNone\u001b[0m\u001b[1;33m\u001b[0m\u001b[0m\n\u001b[0m\u001b[0;32m    902\u001b[0m             \u001b[1;32mexcept\u001b[0m \u001b[0mException\u001b[0m \u001b[1;32mas\u001b[0m \u001b[0me\u001b[0m\u001b[1;33m:\u001b[0m\u001b[1;33m\u001b[0m\u001b[0m\n\u001b[0;32m    903\u001b[0m                 \u001b[0mself\u001b[0m\u001b[1;33m.\u001b[0m\u001b[0mlog\u001b[0m\u001b[1;33m.\u001b[0m\u001b[0mwarning\u001b[0m\u001b[1;33m(\u001b[0m\u001b[1;34m\"Invalid Message:\"\u001b[0m\u001b[1;33m,\u001b[0m \u001b[0mexc_info\u001b[0m\u001b[1;33m=\u001b[0m\u001b[1;32mTrue\u001b[0m\u001b[1;33m)\u001b[0m\u001b[1;33m\u001b[0m\u001b[0m\n",
      "\u001b[1;31mKeyboardInterrupt\u001b[0m: Interrupted by user"
     ]
    }
   ],
   "source": [
    "s.append_list(1,2)"
   ]
  },
  {
   "cell_type": "markdown",
   "id": "compatible-disposal",
   "metadata": {},
   "source": [
    "### eval()"
   ]
  },
  {
   "cell_type": "markdown",
   "id": "lucky-parts",
   "metadata": {},
   "source": [
    "# public, private and protected \n"
   ]
  },
  {
   "cell_type": "code",
   "execution_count": 72,
   "id": "portable-guitar",
   "metadata": {},
   "outputs": [],
   "source": [
    "class test:\n",
    "    def __init__(self, a,b,c):\n",
    "        self.a =a \n",
    "        self.b =b\n",
    "        self.c =c\n",
    "    \n",
    "class test1(test):\n",
    "    pass\n",
    "u = test(4,5,6)"
   ]
  },
  {
   "cell_type": "code",
   "execution_count": 73,
   "id": "brave-session",
   "metadata": {},
   "outputs": [
    {
     "data": {
      "text/plain": [
       "4"
      ]
     },
     "execution_count": 73,
     "metadata": {},
     "output_type": "execute_result"
    }
   ],
   "source": [
    "u.a"
   ]
  },
  {
   "cell_type": "code",
   "execution_count": 66,
   "id": "czech-tracker",
   "metadata": {},
   "outputs": [],
   "source": [
    "v = test1(1,2,3)"
   ]
  },
  {
   "cell_type": "code",
   "execution_count": 75,
   "id": "herbal-acrobat",
   "metadata": {},
   "outputs": [
    {
     "data": {
      "text/plain": [
       "1"
      ]
     },
     "execution_count": 75,
     "metadata": {},
     "output_type": "execute_result"
    }
   ],
   "source": [
    "v.a"
   ]
  },
  {
   "cell_type": "code",
   "execution_count": null,
   "id": "material-memorabilia",
   "metadata": {},
   "outputs": [],
   "source": []
  },
  {
   "cell_type": "markdown",
   "id": "opposite-prince",
   "metadata": {},
   "source": [
    "# value of varible not same here but name of the variable is not same you can see u.a = 4 and v.a = 1 here a is same but value is diffrent \n",
    "### suppose in bank some one want to update there transaction value so it will give wrong result, suppose balance is = 100 rs and if some come and modified it balance = 0 so it willl complitery wrong\n",
    "### reasion behind is that this is public varible not private "
   ]
  },
  {
   "cell_type": "code",
   "execution_count": 76,
   "id": "interpreted-composer",
   "metadata": {},
   "outputs": [],
   "source": [
    "class test:\n",
    "    def __init__(self):\n",
    "        self.a =4\n",
    "    \n",
    "    \n",
    "class test1(test):\n",
    "    def __init__(self):\n",
    "        self.a = 7  #now update value of a\n",
    "\n",
    "    \n",
    "u = test()"
   ]
  },
  {
   "cell_type": "code",
   "execution_count": 77,
   "id": "turkish-calgary",
   "metadata": {},
   "outputs": [
    {
     "data": {
      "text/plain": [
       "4"
      ]
     },
     "execution_count": 77,
     "metadata": {},
     "output_type": "execute_result"
    }
   ],
   "source": [
    "u.a"
   ]
  },
  {
   "cell_type": "code",
   "execution_count": 78,
   "id": "lined-hamburg",
   "metadata": {},
   "outputs": [],
   "source": [
    "v=test1()"
   ]
  },
  {
   "cell_type": "code",
   "execution_count": 79,
   "id": "indie-connectivity",
   "metadata": {},
   "outputs": [
    {
     "data": {
      "text/plain": [
       "7"
      ]
     },
     "execution_count": 79,
     "metadata": {},
     "output_type": "execute_result"
    }
   ],
   "source": [
    "v.a #here show a = 7"
   ]
  },
  {
   "cell_type": "code",
   "execution_count": 80,
   "id": "altered-print",
   "metadata": {},
   "outputs": [],
   "source": [
    "#how to private this varible "
   ]
  },
  {
   "cell_type": "code",
   "execution_count": 84,
   "id": "collaborative-provision",
   "metadata": {},
   "outputs": [],
   "source": [
    "class test:\n",
    "    def __init__(self):\n",
    "        self.a =4\n",
    "    \n",
    "    \n",
    "class test1(test):\n",
    "    def __init__(self):\n",
    "        test.__init__(self)\n",
    "        self.a = 7  #now update value of a\n",
    "\n",
    "    \n",
    "u = test()"
   ]
  },
  {
   "cell_type": "code",
   "execution_count": 85,
   "id": "instrumental-track",
   "metadata": {},
   "outputs": [
    {
     "data": {
      "text/plain": [
       "4"
      ]
     },
     "execution_count": 85,
     "metadata": {},
     "output_type": "execute_result"
    }
   ],
   "source": [
    "u.a"
   ]
  },
  {
   "cell_type": "code",
   "execution_count": 86,
   "id": "political-instruction",
   "metadata": {},
   "outputs": [],
   "source": [
    "v=test1()"
   ]
  },
  {
   "cell_type": "code",
   "execution_count": 87,
   "id": "imported-comment",
   "metadata": {},
   "outputs": [
    {
     "data": {
      "text/plain": [
       "7"
      ]
     },
     "execution_count": 87,
     "metadata": {},
     "output_type": "execute_result"
    }
   ],
   "source": [
    "v.a"
   ]
  },
  {
   "cell_type": "code",
   "execution_count": 93,
   "id": "sought-daisy",
   "metadata": {},
   "outputs": [],
   "source": [
    "class test:\n",
    "    def __init__(self):\n",
    "        self._a =4\n",
    "    \n",
    "    \n",
    "class test1(test):\n",
    "    def __init__(self):\n",
    "        test.__init__(self)\n",
    "        self.a = 7  #now update value of a\n",
    "\n",
    "    \n",
    "u = test()"
   ]
  },
  {
   "cell_type": "code",
   "execution_count": 94,
   "id": "bibliographic-supply",
   "metadata": {},
   "outputs": [
    {
     "ename": "AttributeError",
     "evalue": "'test' object has no attribute 'a'",
     "output_type": "error",
     "traceback": [
      "\u001b[1;31m---------------------------------------------------------------------------\u001b[0m",
      "\u001b[1;31mAttributeError\u001b[0m                            Traceback (most recent call last)",
      "\u001b[1;32m<ipython-input-94-afa9342845d0>\u001b[0m in \u001b[0;36m<module>\u001b[1;34m\u001b[0m\n\u001b[1;32m----> 1\u001b[1;33m \u001b[0mu\u001b[0m\u001b[1;33m.\u001b[0m\u001b[0ma\u001b[0m\u001b[1;33m\u001b[0m\u001b[0m\n\u001b[0m",
      "\u001b[1;31mAttributeError\u001b[0m: 'test' object has no attribute 'a'"
     ]
    }
   ],
   "source": [
    "u.a"
   ]
  },
  {
   "cell_type": "code",
   "execution_count": 95,
   "id": "institutional-fields",
   "metadata": {},
   "outputs": [
    {
     "data": {
      "text/plain": [
       "4"
      ]
     },
     "execution_count": 95,
     "metadata": {},
     "output_type": "execute_result"
    }
   ],
   "source": [
    "u._a"
   ]
  },
  {
   "cell_type": "code",
   "execution_count": 97,
   "id": "explicit-escape",
   "metadata": {},
   "outputs": [],
   "source": [
    "v=test1()"
   ]
  },
  {
   "cell_type": "code",
   "execution_count": 99,
   "id": "cooked-gender",
   "metadata": {},
   "outputs": [
    {
     "data": {
      "text/plain": [
       "4"
      ]
     },
     "execution_count": 99,
     "metadata": {},
     "output_type": "execute_result"
    }
   ],
   "source": [
    "v._a\n"
   ]
  },
  {
   "cell_type": "code",
   "execution_count": 100,
   "id": "middle-lawrence",
   "metadata": {},
   "outputs": [],
   "source": [
    "class test:\n",
    "    def __init__(self):\n",
    "        self.__a =4\n",
    "    \n",
    "    \n",
    "class test1(test):\n",
    "    def __init__(self):\n",
    "        test.__init__(self)\n",
    "        self.a = 7  #now update value of a\n",
    "\n",
    "    \n",
    "u = test()"
   ]
  },
  {
   "cell_type": "code",
   "execution_count": 101,
   "id": "excellent-drunk",
   "metadata": {},
   "outputs": [
    {
     "ename": "AttributeError",
     "evalue": "'test' object has no attribute '__a'",
     "output_type": "error",
     "traceback": [
      "\u001b[1;31m---------------------------------------------------------------------------\u001b[0m",
      "\u001b[1;31mAttributeError\u001b[0m                            Traceback (most recent call last)",
      "\u001b[1;32m<ipython-input-101-45f5c7f66ea7>\u001b[0m in \u001b[0;36m<module>\u001b[1;34m\u001b[0m\n\u001b[1;32m----> 1\u001b[1;33m \u001b[0mu\u001b[0m\u001b[1;33m.\u001b[0m\u001b[0m__a\u001b[0m\u001b[1;33m\u001b[0m\u001b[0m\n\u001b[0m",
      "\u001b[1;31mAttributeError\u001b[0m: 'test' object has no attribute '__a'"
     ]
    }
   ],
   "source": [
    "u.__a"
   ]
  },
  {
   "cell_type": "code",
   "execution_count": 102,
   "id": "talented-nashville",
   "metadata": {},
   "outputs": [],
   "source": [
    "v= test1()"
   ]
  },
  {
   "cell_type": "code",
   "execution_count": 103,
   "id": "square-shelter",
   "metadata": {},
   "outputs": [
    {
     "ename": "AttributeError",
     "evalue": "'test1' object has no attribute '__a'",
     "output_type": "error",
     "traceback": [
      "\u001b[1;31m---------------------------------------------------------------------------\u001b[0m",
      "\u001b[1;31mAttributeError\u001b[0m                            Traceback (most recent call last)",
      "\u001b[1;32m<ipython-input-103-7aed92cddc9e>\u001b[0m in \u001b[0;36m<module>\u001b[1;34m\u001b[0m\n\u001b[1;32m----> 1\u001b[1;33m \u001b[0mv\u001b[0m\u001b[1;33m.\u001b[0m\u001b[0m__a\u001b[0m\u001b[1;33m\u001b[0m\u001b[0m\n\u001b[0m",
      "\u001b[1;31mAttributeError\u001b[0m: 'test1' object has no attribute '__a'"
     ]
    }
   ],
   "source": [
    "v.__a"
   ]
  },
  {
   "cell_type": "code",
   "execution_count": 105,
   "id": "hairy-richardson",
   "metadata": {},
   "outputs": [],
   "source": [
    "class test:\n",
    "    def __init__(self,a,b,c):\n",
    "        self._a=a\n",
    "        self.__b=b\n",
    "        self.c=c\n",
    "        \n",
    "v=test(4,5,6)"
   ]
  },
  {
   "cell_type": "code",
   "execution_count": 106,
   "id": "played-supplier",
   "metadata": {},
   "outputs": [
    {
     "data": {
      "text/plain": [
       "4"
      ]
     },
     "execution_count": 106,
     "metadata": {},
     "output_type": "execute_result"
    }
   ],
   "source": [
    "v._a"
   ]
  },
  {
   "cell_type": "code",
   "execution_count": 107,
   "id": "subtle-singapore",
   "metadata": {},
   "outputs": [
    {
     "ename": "AttributeError",
     "evalue": "'test' object has no attribute '__b'",
     "output_type": "error",
     "traceback": [
      "\u001b[1;31m---------------------------------------------------------------------------\u001b[0m",
      "\u001b[1;31mAttributeError\u001b[0m                            Traceback (most recent call last)",
      "\u001b[1;32m<ipython-input-107-93239adde735>\u001b[0m in \u001b[0;36m<module>\u001b[1;34m\u001b[0m\n\u001b[1;32m----> 1\u001b[1;33m \u001b[0mv\u001b[0m\u001b[1;33m.\u001b[0m\u001b[0m__b\u001b[0m\u001b[1;33m\u001b[0m\u001b[0m\n\u001b[0m",
      "\u001b[1;31mAttributeError\u001b[0m: 'test' object has no attribute '__b'"
     ]
    }
   ],
   "source": [
    "v.__b"
   ]
  },
  {
   "cell_type": "code",
   "execution_count": 114,
   "id": "three-trailer",
   "metadata": {},
   "outputs": [
    {
     "data": {
      "text/plain": [
       "5"
      ]
     },
     "execution_count": 114,
     "metadata": {},
     "output_type": "execute_result"
    }
   ],
   "source": [
    "v._test__b"
   ]
  },
  {
   "cell_type": "markdown",
   "id": "straight-scotland",
   "metadata": {},
   "source": [
    "# a = public \n",
    "#  _a = protected acees inside in parent class as well as child class\n",
    "# __a = private access within class even not able to access in child class"
   ]
  },
  {
   "cell_type": "code",
   "execution_count": 119,
   "id": "coastal-monster",
   "metadata": {},
   "outputs": [],
   "source": [
    "class test:\n",
    "    def __init__(self,a,b,c):\n",
    "        self._a=a\n",
    "        self.__b=b\n",
    "        self.c=c\n",
    "class test1(test):\n",
    "    pass\n",
    "        \n",
    "v=test(4,5,6)"
   ]
  },
  {
   "cell_type": "code",
   "execution_count": 120,
   "id": "ready-moldova",
   "metadata": {},
   "outputs": [
    {
     "data": {
      "text/plain": [
       "4"
      ]
     },
     "execution_count": 120,
     "metadata": {},
     "output_type": "execute_result"
    }
   ],
   "source": [
    "v._a"
   ]
  },
  {
   "cell_type": "code",
   "execution_count": 121,
   "id": "exterior-china",
   "metadata": {},
   "outputs": [
    {
     "data": {
      "text/plain": [
       "5"
      ]
     },
     "execution_count": 121,
     "metadata": {},
     "output_type": "execute_result"
    }
   ],
   "source": [
    "v._test__b # it is way to access private varible "
   ]
  },
  {
   "cell_type": "code",
   "execution_count": 122,
   "id": "compact-discrimination",
   "metadata": {},
   "outputs": [
    {
     "data": {
      "text/plain": [
       "6"
      ]
     },
     "execution_count": 122,
     "metadata": {},
     "output_type": "execute_result"
    }
   ],
   "source": [
    "v.c"
   ]
  },
  {
   "cell_type": "code",
   "execution_count": 127,
   "id": "informed-amber",
   "metadata": {},
   "outputs": [],
   "source": [
    "\n",
    "u = test1(22,33,44)"
   ]
  },
  {
   "cell_type": "code",
   "execution_count": 124,
   "id": "traditional-times",
   "metadata": {},
   "outputs": [
    {
     "ename": "AttributeError",
     "evalue": "'test1' object has no attribute 'a'",
     "output_type": "error",
     "traceback": [
      "\u001b[1;31m---------------------------------------------------------------------------\u001b[0m",
      "\u001b[1;31mAttributeError\u001b[0m                            Traceback (most recent call last)",
      "\u001b[1;32m<ipython-input-124-afa9342845d0>\u001b[0m in \u001b[0;36m<module>\u001b[1;34m\u001b[0m\n\u001b[1;32m----> 1\u001b[1;33m \u001b[0mu\u001b[0m\u001b[1;33m.\u001b[0m\u001b[0ma\u001b[0m\u001b[1;33m\u001b[0m\u001b[0m\n\u001b[0m",
      "\u001b[1;31mAttributeError\u001b[0m: 'test1' object has no attribute 'a'"
     ]
    }
   ],
   "source": [
    "u.a"
   ]
  },
  {
   "cell_type": "code",
   "execution_count": 125,
   "id": "continental-dance",
   "metadata": {},
   "outputs": [
    {
     "data": {
      "text/plain": [
       "22"
      ]
     },
     "execution_count": 125,
     "metadata": {},
     "output_type": "execute_result"
    }
   ],
   "source": [
    "u._a"
   ]
  },
  {
   "cell_type": "code",
   "execution_count": 128,
   "id": "stuffed-intermediate",
   "metadata": {},
   "outputs": [
    {
     "ename": "AttributeError",
     "evalue": "'test1' object has no attribute '_test1__b'",
     "output_type": "error",
     "traceback": [
      "\u001b[1;31m---------------------------------------------------------------------------\u001b[0m",
      "\u001b[1;31mAttributeError\u001b[0m                            Traceback (most recent call last)",
      "\u001b[1;32m<ipython-input-128-28b27c9c3546>\u001b[0m in \u001b[0;36m<module>\u001b[1;34m\u001b[0m\n\u001b[1;32m----> 1\u001b[1;33m \u001b[0mu\u001b[0m\u001b[1;33m.\u001b[0m\u001b[0m_test1__b\u001b[0m\u001b[1;33m\u001b[0m\u001b[0m\n\u001b[0m",
      "\u001b[1;31mAttributeError\u001b[0m: 'test1' object has no attribute '_test1__b'"
     ]
    }
   ],
   "source": [
    "u._test1__b"
   ]
  },
  {
   "cell_type": "code",
   "execution_count": 129,
   "id": "later-folks",
   "metadata": {},
   "outputs": [
    {
     "data": {
      "text/plain": [
       "33"
      ]
     },
     "execution_count": 129,
     "metadata": {},
     "output_type": "execute_result"
    }
   ],
   "source": [
    "u._test__b # now if you want to access your privated varible in child class this notation must be used otherwise not able to access"
   ]
  },
  {
   "cell_type": "code",
   "execution_count": 139,
   "id": "hawaiian-detection",
   "metadata": {},
   "outputs": [],
   "source": [
    "class bonouscalculator:\n",
    "    def __init__ (self,empid,emprating):\n",
    "        self.empid = empid\n",
    "        self.emprating = emprating\n",
    "        self.__bonousforratingA=\"70%\"\n",
    "        self.__bonousforratingB=\"60%\"\n",
    "        self.__bonouforratingC=\"40%\"\n",
    "    \n",
    "    def bonouscalculator(self):\n",
    "        if self.emprating ==\"A\":\n",
    "            bonous = self.__bonousforratingA # within class access private vairble\n",
    "            return bonous\n",
    "        elif self.emprating == \"B\":\n",
    "            bonous = self.__bonousforratingB\n",
    "            return bonous\n",
    "        else:\n",
    "            bonous = self.__bonouforratingC\n",
    "            return bonous"
   ]
  },
  {
   "cell_type": "code",
   "execution_count": 140,
   "id": "alpha-keeping",
   "metadata": {},
   "outputs": [],
   "source": [
    "emp1 = bonouscalculator(101,\"A\")\n",
    "emp2 = bonouscalculator(102,\"B\")\n",
    "emp3 = bonouscalculator(103,\"C\")"
   ]
  },
  {
   "cell_type": "code",
   "execution_count": 141,
   "id": "convenient-ordinary",
   "metadata": {},
   "outputs": [
    {
     "data": {
      "text/plain": [
       "'70%'"
      ]
     },
     "execution_count": 141,
     "metadata": {},
     "output_type": "execute_result"
    }
   ],
   "source": [
    "emp1.bonouscalculator()"
   ]
  },
  {
   "cell_type": "code",
   "execution_count": 142,
   "id": "tested-finder",
   "metadata": {},
   "outputs": [
    {
     "data": {
      "text/plain": [
       "'60%'"
      ]
     },
     "execution_count": 142,
     "metadata": {},
     "output_type": "execute_result"
    }
   ],
   "source": [
    "emp2.bonouscalculator()"
   ]
  },
  {
   "cell_type": "code",
   "execution_count": 143,
   "id": "characteristic-flash",
   "metadata": {},
   "outputs": [
    {
     "data": {
      "text/plain": [
       "'40%'"
      ]
     },
     "execution_count": 143,
     "metadata": {},
     "output_type": "execute_result"
    }
   ],
   "source": [
    "emp3.bonouscalculator()"
   ]
  },
  {
   "cell_type": "code",
   "execution_count": 144,
   "id": "banned-mistress",
   "metadata": {},
   "outputs": [],
   "source": [
    "emp1.empid = 104"
   ]
  },
  {
   "cell_type": "code",
   "execution_count": 145,
   "id": "familiar-damage",
   "metadata": {},
   "outputs": [
    {
     "data": {
      "text/plain": [
       "104"
      ]
     },
     "execution_count": 145,
     "metadata": {},
     "output_type": "execute_result"
    }
   ],
   "source": [
    "emp1.empid"
   ]
  },
  {
   "cell_type": "code",
   "execution_count": 146,
   "id": "white-passing",
   "metadata": {},
   "outputs": [],
   "source": [
    "emp1.emprating = \"B\""
   ]
  },
  {
   "cell_type": "code",
   "execution_count": 147,
   "id": "amateur-fleece",
   "metadata": {},
   "outputs": [
    {
     "data": {
      "text/plain": [
       "'60%'"
      ]
     },
     "execution_count": 147,
     "metadata": {},
     "output_type": "execute_result"
    }
   ],
   "source": [
    "emp1.bonouscalculator()"
   ]
  },
  {
   "cell_type": "code",
   "execution_count": 148,
   "id": "beautiful-elimination",
   "metadata": {},
   "outputs": [],
   "source": [
    "emp1.__bonousforratinngB=\"90%\""
   ]
  },
  {
   "cell_type": "code",
   "execution_count": 149,
   "id": "nominated-annotation",
   "metadata": {},
   "outputs": [
    {
     "data": {
      "text/plain": [
       "'60%'"
      ]
     },
     "execution_count": 149,
     "metadata": {},
     "output_type": "execute_result"
    }
   ],
   "source": [
    "emp1.bonouscalculator()"
   ]
  },
  {
   "cell_type": "code",
   "execution_count": 151,
   "id": "proud-entrepreneur",
   "metadata": {},
   "outputs": [
    {
     "data": {
      "text/plain": [
       "'B'"
      ]
     },
     "execution_count": 151,
     "metadata": {},
     "output_type": "execute_result"
    }
   ],
   "source": [
    "emp2.emprating"
   ]
  },
  {
   "cell_type": "code",
   "execution_count": 152,
   "id": "female-choice",
   "metadata": {},
   "outputs": [
    {
     "data": {
      "text/plain": [
       "'60%'"
      ]
     },
     "execution_count": 152,
     "metadata": {},
     "output_type": "execute_result"
    }
   ],
   "source": [
    "emp2.bonouscalculator() "
   ]
  },
  {
   "cell_type": "code",
   "execution_count": 153,
   "id": "smooth-average",
   "metadata": {},
   "outputs": [],
   "source": [
    "emp2.__bonousforratingB=\"100%\""
   ]
  },
  {
   "cell_type": "code",
   "execution_count": 154,
   "id": "configured-north",
   "metadata": {},
   "outputs": [
    {
     "data": {
      "text/plain": [
       "'60%'"
      ]
     },
     "execution_count": 154,
     "metadata": {},
     "output_type": "execute_result"
    }
   ],
   "source": [
    "emp2.bonouscalculator()"
   ]
  },
  {
   "cell_type": "code",
   "execution_count": 155,
   "id": "geographic-biotechnology",
   "metadata": {},
   "outputs": [],
   "source": [
    "emp2.empid = 232423433"
   ]
  },
  {
   "cell_type": "code",
   "execution_count": 156,
   "id": "radio-software",
   "metadata": {},
   "outputs": [
    {
     "data": {
      "text/plain": [
       "232423433"
      ]
     },
     "execution_count": 156,
     "metadata": {},
     "output_type": "execute_result"
    }
   ],
   "source": [
    "emp2.empid"
   ]
  },
  {
   "cell_type": "code",
   "execution_count": 157,
   "id": "normal-onion",
   "metadata": {},
   "outputs": [],
   "source": [
    "emp2.__bonousforratingB=\"dlkjfldk\""
   ]
  },
  {
   "cell_type": "code",
   "execution_count": 161,
   "id": "smoking-finland",
   "metadata": {},
   "outputs": [
    {
     "data": {
      "text/plain": [
       "'60%'"
      ]
     },
     "execution_count": 161,
     "metadata": {},
     "output_type": "execute_result"
    }
   ],
   "source": [
    "emp2._bonouscalculator__bonousforratingB"
   ]
  },
  {
   "cell_type": "code",
   "execution_count": 162,
   "id": "fresh-climate",
   "metadata": {},
   "outputs": [],
   "source": [
    "emp2.__bonousforratingB_bonousforratingB =\"dlkjfldjf\""
   ]
  },
  {
   "cell_type": "code",
   "execution_count": 164,
   "id": "atlantic-recorder",
   "metadata": {},
   "outputs": [
    {
     "data": {
      "text/plain": [
       "'dlkjfldjf'"
      ]
     },
     "execution_count": 164,
     "metadata": {},
     "output_type": "execute_result"
    }
   ],
   "source": [
    "emp2.__bonousforratingB_bonousforratingB"
   ]
  },
  {
   "cell_type": "code",
   "execution_count": 167,
   "id": "confident-physics",
   "metadata": {},
   "outputs": [
    {
     "data": {
      "text/plain": [
       "'60%'"
      ]
     },
     "execution_count": 167,
     "metadata": {},
     "output_type": "execute_result"
    }
   ],
   "source": [
    "emp2._bonouscalculator__bonousforratingB"
   ]
  },
  {
   "cell_type": "code",
   "execution_count": 159,
   "id": "olympic-europe",
   "metadata": {},
   "outputs": [],
   "source": [
    "#python says python user has to be mature with varibel in which way variable are difined by user"
   ]
  },
  {
   "cell_type": "code",
   "execution_count": null,
   "id": "underlying-alexander",
   "metadata": {},
   "outputs": [],
   "source": [
    "#conclusion :\n",
    "in above example private / protected variable can be modified but use have to know what is way to modified it "
   ]
  }
 ],
 "metadata": {
  "kernelspec": {
   "display_name": "Python 3",
   "language": "python",
   "name": "python3"
  },
  "language_info": {
   "codemirror_mode": {
    "name": "ipython",
    "version": 3
   },
   "file_extension": ".py",
   "mimetype": "text/x-python",
   "name": "python",
   "nbconvert_exporter": "python",
   "pygments_lexer": "ipython3",
   "version": "3.7.0"
  }
 },
 "nbformat": 4,
 "nbformat_minor": 5
}
