{
 "cells": [
  {
   "cell_type": "code",
   "execution_count": 4,
   "id": "perfect-universe",
   "metadata": {},
   "outputs": [
    {
     "name": "stdout",
     "output_type": "stream",
     "text": [
      "this is my first class\n"
     ]
    }
   ],
   "source": [
    "print(\"this is my first class\")"
   ]
  },
  {
   "cell_type": "code",
   "execution_count": 6,
   "id": "sexual-ranch",
   "metadata": {},
   "outputs": [
    {
     "name": "stdout",
     "output_type": "stream",
     "text": [
      "dfd\n"
     ]
    }
   ],
   "source": [
    "print(\"dfd\")"
   ]
  },
  {
   "cell_type": "code",
   "execution_count": 4,
   "id": "crucial-throat",
   "metadata": {},
   "outputs": [],
   "source": [
    "a=1"
   ]
  },
  {
   "cell_type": "code",
   "execution_count": 7,
   "id": "institutional-export",
   "metadata": {},
   "outputs": [],
   "source": [
    "b=4**5 #4 go the power 5"
   ]
  },
  {
   "cell_type": "code",
   "execution_count": 8,
   "id": "acceptable-acceptance",
   "metadata": {},
   "outputs": [
    {
     "data": {
      "text/plain": [
       "1024"
      ]
     },
     "execution_count": 8,
     "metadata": {},
     "output_type": "execute_result"
    }
   ],
   "source": [
    "b"
   ]
  },
  {
   "cell_type": "code",
   "execution_count": 9,
   "id": "reflected-option",
   "metadata": {},
   "outputs": [
    {
     "data": {
      "text/plain": [
       "int"
      ]
     },
     "execution_count": 9,
     "metadata": {},
     "output_type": "execute_result"
    }
   ],
   "source": [
    "type(a)"
   ]
  },
  {
   "cell_type": "code",
   "execution_count": 11,
   "id": "saving-perspective",
   "metadata": {},
   "outputs": [],
   "source": [
    "lalit=1+3j"
   ]
  },
  {
   "cell_type": "code",
   "execution_count": 12,
   "id": "white-auction",
   "metadata": {},
   "outputs": [
    {
     "data": {
      "text/plain": [
       "complex"
      ]
     },
     "execution_count": 12,
     "metadata": {},
     "output_type": "execute_result"
    }
   ],
   "source": [
    "type(lalit)"
   ]
  },
  {
   "cell_type": "code",
   "execution_count": 14,
   "id": "satisfied-champagne",
   "metadata": {},
   "outputs": [
    {
     "name": "stdout",
     "output_type": "stream",
     "text": [
      "my name\n"
     ]
    }
   ],
   "source": [
    "print(\"my name\")"
   ]
  },
  {
   "cell_type": "code",
   "execution_count": 38,
   "id": "lonely-comparative",
   "metadata": {},
   "outputs": [],
   "source": [
    "def test():\n",
    "        \"\"\"jhdfldjl dsf  df f\"\"\"\n",
    "        \n",
    "        return True"
   ]
  },
  {
   "cell_type": "code",
   "execution_count": 39,
   "id": "played-simple",
   "metadata": {},
   "outputs": [
    {
     "data": {
      "text/plain": [
       "True"
      ]
     },
     "execution_count": 39,
     "metadata": {},
     "output_type": "execute_result"
    }
   ],
   "source": [
    "test()"
   ]
  },
  {
   "cell_type": "code",
   "execution_count": null,
   "id": "subject-anderson",
   "metadata": {},
   "outputs": [],
   "source": []
  }
 ],
 "metadata": {
  "kernelspec": {
   "display_name": "Python 3",
   "language": "python",
   "name": "python3"
  },
  "language_info": {
   "codemirror_mode": {
    "name": "ipython",
    "version": 3
   },
   "file_extension": ".py",
   "mimetype": "text/x-python",
   "name": "python",
   "nbconvert_exporter": "python",
   "pygments_lexer": "ipython3",
   "version": "3.7.0"
  }
 },
 "nbformat": 4,
 "nbformat_minor": 5
}
