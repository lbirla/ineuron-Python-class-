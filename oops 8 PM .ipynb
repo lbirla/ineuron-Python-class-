{
 "cells": [
  {
   "cell_type": "code",
   "execution_count": 1,
   "metadata": {},
   "outputs": [],
   "source": [
    "class person:\n",
    "    def __init__(self , name , surname , year_of__birth):\n",
    "        self.name = name\n",
    "        self.surname = surname\n",
    "        self.year_of__birth = year_of__birth\n",
    "        \n",
    "    def age(self , current_year) :\n",
    "        return current_year - self.year_of__birth "
   ]
  },
  {
   "cell_type": "code",
   "execution_count": 2,
   "metadata": {},
   "outputs": [],
   "source": [
    "sudh = person(\"sudhanshu\" , \"kumar\" , 1900)"
   ]
  },
  {
   "cell_type": "code",
   "execution_count": 3,
   "metadata": {},
   "outputs": [
    {
     "data": {
      "text/plain": [
       "121"
      ]
     },
     "execution_count": 3,
     "metadata": {},
     "output_type": "execute_result"
    }
   ],
   "source": [
    "sudh.age(2021)"
   ]
  },
  {
   "cell_type": "code",
   "execution_count": 4,
   "metadata": {},
   "outputs": [],
   "source": [
    "class student(person):\n",
    "    def __init__(self , student_id , *args):\n",
    "        super(student,self).__init__(*args)\n",
    "        self.student_id = student_id\n",
    "        "
   ]
  },
  {
   "cell_type": "code",
   "execution_count": 9,
   "metadata": {},
   "outputs": [],
   "source": [
    "stud = student(345435 ,\"sudh\"  , \"kumar\" , 1989)"
   ]
  },
  {
   "cell_type": "code",
   "execution_count": 10,
   "metadata": {},
   "outputs": [
    {
     "data": {
      "text/plain": [
       "32"
      ]
     },
     "execution_count": 10,
     "metadata": {},
     "output_type": "execute_result"
    }
   ],
   "source": [
    "stud.age(2021)"
   ]
  },
  {
   "cell_type": "code",
   "execution_count": 11,
   "metadata": {},
   "outputs": [],
   "source": [
    "class test:\n",
    "    def __init__(self, a,b) :\n",
    "        self.a= a \n",
    "        self.b = b \n",
    "        \n",
    "class test1:\n",
    "    \n",
    "    def __init__(self, c,d ):\n",
    "        self.c = c \n",
    "        self.d= d \n",
    "        "
   ]
  },
  {
   "cell_type": "code",
   "execution_count": 16,
   "metadata": {},
   "outputs": [],
   "source": [
    "class child(test, test1):\n",
    "    def __init__(self,a,b,c,d) :\n",
    "        test.__init__(self, a,b)\n",
    "        test1.__init__(self,c,d)\n",
    "    \n",
    "    def fun_child(self):\n",
    "        print(self.a , self.c )"
   ]
  },
  {
   "cell_type": "code",
   "execution_count": 18,
   "metadata": {},
   "outputs": [],
   "source": [
    "obj = child(4,5 , 6,7)"
   ]
  },
  {
   "cell_type": "code",
   "execution_count": 19,
   "metadata": {},
   "outputs": [
    {
     "name": "stdout",
     "output_type": "stream",
     "text": [
      "4 6\n"
     ]
    }
   ],
   "source": [
    "obj.fun_child()"
   ]
  },
  {
   "cell_type": "code",
   "execution_count": null,
   "metadata": {},
   "outputs": [],
   "source": [
    "# multilevel inheritence\n",
    "class parent1:\n",
    "    def __init__(self,a,b):\n",
    "        self.a=a\n",
    "        self.b=b\n",
    "class parent2(parent1):\n",
    "    def __init__(self,c,d): \n",
    "        self.c=c\n",
    "        self.d=d\n",
    "class child(parent2):\n",
    "    def __init__(self,e,f): \n",
    "        self.e=e\n",
    "        self.f=f\n"
   ]
  },
  {
   "cell_type": "code",
   "execution_count": null,
   "metadata": {},
   "outputs": [],
   "source": [
    "class test1:\n",
    "    def __init__(self, a, b):\n",
    "        self.a = a\n",
    "        self.b = b\n",
    "        \n",
    "class test2(test1):\n",
    "    def __init__(self, c, d):\n",
    "        super(test2,self).__init__(*args)\n",
    "        super\n",
    "        self.c = c\n",
    "        self.d = d\n",
    "        \n",
    "class test3(test2):\n",
    "    def __init__(self, e, f):\n",
    "        super(test3,self).__init__(*args)\n",
    "        self.e = e\n",
    "        self.f = f\n"
   ]
  },
  {
   "cell_type": "code",
   "execution_count": 29,
   "metadata": {},
   "outputs": [],
   "source": [
    "class p1 :\n",
    "    def fun_p1(self):\n",
    "        return \"this is a return from P1 method\"\n",
    "    \n",
    "class p2(p1) :\n",
    "    def fun_p2(self):\n",
    "        return \"this is a return from p2 method\"\n",
    "\n",
    "class c(p2):\n",
    "\n",
    "    def fun_c(self):\n",
    "        return \"this is a return form child class \"\n",
    "    "
   ]
  },
  {
   "cell_type": "code",
   "execution_count": 30,
   "metadata": {},
   "outputs": [],
   "source": [
    "child_obj = c()"
   ]
  },
  {
   "cell_type": "code",
   "execution_count": 31,
   "metadata": {},
   "outputs": [
    {
     "data": {
      "text/plain": [
       "'this is a return from p2 method'"
      ]
     },
     "execution_count": 31,
     "metadata": {},
     "output_type": "execute_result"
    }
   ],
   "source": [
    "child_obj.fun_p2()"
   ]
  },
  {
   "cell_type": "code",
   "execution_count": 32,
   "metadata": {},
   "outputs": [
    {
     "data": {
      "text/plain": [
       "'this is a return from P1 method'"
      ]
     },
     "execution_count": 32,
     "metadata": {},
     "output_type": "execute_result"
    }
   ],
   "source": [
    "child_obj.fun_p1()"
   ]
  },
  {
   "cell_type": "code",
   "execution_count": null,
   "metadata": {},
   "outputs": [],
   "source": []
  },
  {
   "cell_type": "code",
   "execution_count": 33,
   "metadata": {},
   "outputs": [],
   "source": [
    "class person:\n",
    "    def __init__(self , name , surname , year_of__birth):\n",
    "        self.name = name\n",
    "        self.surname = surname\n",
    "        self.year_of__birth = year_of__birth\n",
    "        \n",
    "    def age(self , current_year) :\n",
    "        return current_year - self.year_of__birth\n",
    "    \n",
    "    def __str__(self):\n",
    "        return self.name\n",
    "        "
   ]
  },
  {
   "cell_type": "code",
   "execution_count": 34,
   "metadata": {},
   "outputs": [],
   "source": [
    "per = person(\"sudh\"  , \"kumar\" , 234)"
   ]
  },
  {
   "cell_type": "code",
   "execution_count": 35,
   "metadata": {},
   "outputs": [
    {
     "name": "stdout",
     "output_type": "stream",
     "text": [
      "sudh\n"
     ]
    }
   ],
   "source": [
    "print(per)"
   ]
  },
  {
   "cell_type": "code",
   "execution_count": 68,
   "metadata": {},
   "outputs": [],
   "source": [
    "class student(person):\n",
    "    def __init__(self, student_id , *args):\n",
    "        super(student,self).__init__(*args)\n",
    "        self.student_id = student_id\n",
    "        \n",
    "    def __str__(self):\n",
    "        return person.__str__(self)+ str(self.student_id)"
   ]
  },
  {
   "cell_type": "code",
   "execution_count": 69,
   "metadata": {},
   "outputs": [],
   "source": [
    "stud = student(34543,\"sudh\" ,\"kumar\" , 345)"
   ]
  },
  {
   "cell_type": "code",
   "execution_count": 70,
   "metadata": {},
   "outputs": [
    {
     "name": "stdout",
     "output_type": "stream",
     "text": [
      "sudh34543\n"
     ]
    }
   ],
   "source": [
    "print(stud)"
   ]
  },
  {
   "cell_type": "code",
   "execution_count": 92,
   "metadata": {},
   "outputs": [],
   "source": [
    "class tyre:\n",
    "    def __init__(self, branch , belted_bais , opt_pressure) :\n",
    "        self.branch = branch\n",
    "        self.belted_bais = belted_bais\n",
    "        self.opt_pressure= opt_pressure\n",
    "    def __str__(self):\n",
    "        return self.branch + self.belted_bais + self.opt_pressure\n",
    "    \n",
    "class engin :\n",
    "    def __init__(self, fuel_type , noise_level) : \n",
    "        self.fuel_type = fuel_type\n",
    "        self.noise_level = noise_level\n",
    "    def __str__(self) : \n",
    "        return self.fuel_type + self.noise_level\n",
    "    \n",
    "class body:\n",
    "    def __init__(self, size) : \n",
    "        self.size = size \n",
    "        \n",
    "    def __str__(self) :\n",
    "        return self.size\n",
    "    \n",
    "class car :\n",
    "    def __init__(self, a , b ,c ):\n",
    "        self.a =a \n",
    "        self.b = b\n",
    "        self.c = c \n",
    "        \n",
    "    def __str__(self):\n",
    "        return str(self.a)  +str( self.b) + str(self.c )"
   ]
  },
  {
   "cell_type": "code",
   "execution_count": 104,
   "metadata": {},
   "outputs": [
    {
     "name": "stdout",
     "output_type": "stream",
     "text": [
      "branchbelted bais opt_pressurefule typeengin noisesize\n"
     ]
    }
   ],
   "source": [
    "c1 = car(t , e , b )\n",
    "print(c1)"
   ]
  },
  {
   "cell_type": "code",
   "execution_count": 93,
   "metadata": {},
   "outputs": [],
   "source": [
    "t  = tyre(\"branch\" , \"belted bais \" , \"opt_pressure\")"
   ]
  },
  {
   "cell_type": "code",
   "execution_count": 94,
   "metadata": {},
   "outputs": [],
   "source": [
    "e = engin(\"fule type\" , \"engin noise\")"
   ]
  },
  {
   "cell_type": "code",
   "execution_count": 95,
   "metadata": {},
   "outputs": [],
   "source": [
    "b = body(\"size\")"
   ]
  },
  {
   "cell_type": "code",
   "execution_count": 96,
   "metadata": {},
   "outputs": [
    {
     "name": "stdout",
     "output_type": "stream",
     "text": [
      "branchbelted bais opt_pressure\n"
     ]
    }
   ],
   "source": [
    "print(t)"
   ]
  },
  {
   "cell_type": "code",
   "execution_count": 97,
   "metadata": {},
   "outputs": [
    {
     "name": "stdout",
     "output_type": "stream",
     "text": [
      "fule typeengin noise\n"
     ]
    }
   ],
   "source": [
    "print(e)"
   ]
  },
  {
   "cell_type": "code",
   "execution_count": 98,
   "metadata": {},
   "outputs": [
    {
     "name": "stdout",
     "output_type": "stream",
     "text": [
      "size\n"
     ]
    }
   ],
   "source": [
    "print(b)"
   ]
  },
  {
   "cell_type": "code",
   "execution_count": 99,
   "metadata": {},
   "outputs": [],
   "source": [
    "c = car(\"a \" , \" b \"  , \"c \")"
   ]
  },
  {
   "cell_type": "code",
   "execution_count": 100,
   "metadata": {},
   "outputs": [
    {
     "name": "stdout",
     "output_type": "stream",
     "text": [
      "a  b c \n"
     ]
    }
   ],
   "source": [
    "print(c)"
   ]
  },
  {
   "cell_type": "code",
   "execution_count": 101,
   "metadata": {},
   "outputs": [],
   "source": [
    "c1 = car(t , e , b )"
   ]
  },
  {
   "cell_type": "code",
   "execution_count": 102,
   "metadata": {},
   "outputs": [
    {
     "name": "stdout",
     "output_type": "stream",
     "text": [
      "branchbelted bais opt_pressurefule typeengin noisesize\n"
     ]
    }
   ],
   "source": [
    "print(c1)"
   ]
  },
  {
   "cell_type": "code",
   "execution_count": 118,
   "metadata": {},
   "outputs": [
    {
     "name": "stdout",
     "output_type": "stream",
     "text": [
      "5\n"
     ]
    },
    {
     "ename": "AttributeError",
     "evalue": "'test1' object has no attribute '_test1__a'",
     "output_type": "error",
     "traceback": [
      "\u001b[1;31m---------------------------------------------------------------------------\u001b[0m",
      "\u001b[1;31mAttributeError\u001b[0m                            Traceback (most recent call last)",
      "\u001b[1;32m<ipython-input-118-f22ffbe64614>\u001b[0m in \u001b[0;36m<module>\u001b[1;34m\u001b[0m\n\u001b[0;32m      9\u001b[0m         \u001b[0mprint\u001b[0m\u001b[1;33m(\u001b[0m\u001b[0mself\u001b[0m\u001b[1;33m.\u001b[0m\u001b[0mb\u001b[0m\u001b[1;33m)\u001b[0m\u001b[1;33m\u001b[0m\u001b[1;33m\u001b[0m\u001b[0m\n\u001b[0;32m     10\u001b[0m         \u001b[0mprint\u001b[0m\u001b[1;33m(\u001b[0m\u001b[0mself\u001b[0m\u001b[1;33m.\u001b[0m\u001b[0m__a\u001b[0m\u001b[1;33m)\u001b[0m\u001b[1;33m\u001b[0m\u001b[1;33m\u001b[0m\u001b[0m\n\u001b[1;32m---> 11\u001b[1;33m \u001b[0mobj\u001b[0m \u001b[1;33m=\u001b[0m\u001b[0mtest1\u001b[0m\u001b[1;33m(\u001b[0m\u001b[1;36m4\u001b[0m\u001b[1;33m,\u001b[0m\u001b[1;36m5\u001b[0m\u001b[1;33m)\u001b[0m\u001b[1;33m\u001b[0m\u001b[1;33m\u001b[0m\u001b[0m\n\u001b[0m\u001b[0;32m     12\u001b[0m \u001b[0mobj\u001b[0m\u001b[1;33m.\u001b[0m\u001b[0mb\u001b[0m\u001b[1;33m\u001b[0m\u001b[1;33m\u001b[0m\u001b[0m\n\u001b[0;32m     13\u001b[0m \u001b[1;33m\u001b[0m\u001b[0m\n",
      "\u001b[1;32m<ipython-input-118-f22ffbe64614>\u001b[0m in \u001b[0;36m__init__\u001b[1;34m(self, *args)\u001b[0m\n\u001b[0;32m      8\u001b[0m         \u001b[0mtest\u001b[0m\u001b[1;33m.\u001b[0m\u001b[0m__init__\u001b[0m\u001b[1;33m(\u001b[0m\u001b[0mself\u001b[0m\u001b[1;33m,\u001b[0m\u001b[1;33m*\u001b[0m\u001b[0margs\u001b[0m\u001b[1;33m)\u001b[0m\u001b[1;33m\u001b[0m\u001b[1;33m\u001b[0m\u001b[0m\n\u001b[0;32m      9\u001b[0m         \u001b[0mprint\u001b[0m\u001b[1;33m(\u001b[0m\u001b[0mself\u001b[0m\u001b[1;33m.\u001b[0m\u001b[0mb\u001b[0m\u001b[1;33m)\u001b[0m\u001b[1;33m\u001b[0m\u001b[1;33m\u001b[0m\u001b[0m\n\u001b[1;32m---> 10\u001b[1;33m         \u001b[0mprint\u001b[0m\u001b[1;33m(\u001b[0m\u001b[0mself\u001b[0m\u001b[1;33m.\u001b[0m\u001b[0m__a\u001b[0m\u001b[1;33m)\u001b[0m\u001b[1;33m\u001b[0m\u001b[1;33m\u001b[0m\u001b[0m\n\u001b[0m\u001b[0;32m     11\u001b[0m \u001b[0mobj\u001b[0m \u001b[1;33m=\u001b[0m\u001b[0mtest1\u001b[0m\u001b[1;33m(\u001b[0m\u001b[1;36m4\u001b[0m\u001b[1;33m,\u001b[0m\u001b[1;36m5\u001b[0m\u001b[1;33m)\u001b[0m\u001b[1;33m\u001b[0m\u001b[1;33m\u001b[0m\u001b[0m\n\u001b[0;32m     12\u001b[0m \u001b[0mobj\u001b[0m\u001b[1;33m.\u001b[0m\u001b[0mb\u001b[0m\u001b[1;33m\u001b[0m\u001b[1;33m\u001b[0m\u001b[0m\n",
      "\u001b[1;31mAttributeError\u001b[0m: 'test1' object has no attribute '_test1__a'"
     ]
    }
   ],
   "source": [
    "class test:\n",
    "    def __init__(self,a ,b ):\n",
    "        self.__a = a \n",
    "        self.b = b \n",
    "\n",
    "class test1(test):\n",
    "    def __init__(self,*args):\n",
    "        test.__init__(self,*args)\n",
    "        print(self.b)\n",
    "        print(self.__a)\n",
    "obj =test1(4,5)\n",
    "obj.b\n",
    "            \n",
    "            \n",
    "        "
   ]
  },
  {
   "cell_type": "code",
   "execution_count": 147,
   "metadata": {},
   "outputs": [],
   "source": [
    "class multiplynum():\n",
    "    def __init__(self,a) :\n",
    "        self.a = a \n",
    "    \n",
    "    def __mul__(self, other):\n",
    "        return self.a + other.a"
   ]
  },
  {
   "cell_type": "code",
   "execution_count": 148,
   "metadata": {},
   "outputs": [],
   "source": [
    "a1 = multiplynum(4)\n",
    "a2 = multiplynum(5)"
   ]
  },
  {
   "cell_type": "code",
   "execution_count": 149,
   "metadata": {},
   "outputs": [
    {
     "data": {
      "text/plain": [
       "9"
      ]
     },
     "execution_count": 149,
     "metadata": {},
     "output_type": "execute_result"
    }
   ],
   "source": [
    "a1*a2"
   ]
  },
  {
   "cell_type": "code",
   "execution_count": 145,
   "metadata": {},
   "outputs": [
    {
     "data": {
      "text/plain": [
       "7"
      ]
     },
     "execution_count": 145,
     "metadata": {},
     "output_type": "execute_result"
    }
   ],
   "source": [
    "a1.__mul__(3)"
   ]
  },
  {
   "cell_type": "code",
   "execution_count": 133,
   "metadata": {},
   "outputs": [
    {
     "data": {
      "text/plain": [
       "9"
      ]
     },
     "execution_count": 133,
     "metadata": {},
     "output_type": "execute_result"
    }
   ],
   "source": [
    "a1*a2"
   ]
  },
  {
   "cell_type": "code",
   "execution_count": 135,
   "metadata": {},
   "outputs": [],
   "source": [
    "class multiplynum():\n",
    "    def __init__(self,a) :\n",
    "        self.a = a \n",
    "    \n",
    "    def __mul__(self, other):\n",
    "        return self.a * other.a"
   ]
  },
  {
   "cell_type": "code",
   "execution_count": 136,
   "metadata": {},
   "outputs": [],
   "source": [
    "a3 = multiplynum(4)\n",
    "a4 = multiplynum(5)"
   ]
  },
  {
   "cell_type": "code",
   "execution_count": 139,
   "metadata": {},
   "outputs": [
    {
     "data": {
      "text/plain": [
       "20"
      ]
     },
     "execution_count": 139,
     "metadata": {},
     "output_type": "execute_result"
    }
   ],
   "source": [
    "a3*a4"
   ]
  },
  {
   "cell_type": "code",
   "execution_count": 150,
   "metadata": {},
   "outputs": [],
   "source": [
    "def test(a,b) :\n",
    "    return a+b"
   ]
  },
  {
   "cell_type": "code",
   "execution_count": 151,
   "metadata": {},
   "outputs": [
    {
     "data": {
      "text/plain": [
       "'sudhkumar'"
      ]
     },
     "execution_count": 151,
     "metadata": {},
     "output_type": "execute_result"
    }
   ],
   "source": [
    "test(\"sudh\" ,\"kumar\")"
   ]
  },
  {
   "cell_type": "code",
   "execution_count": 152,
   "metadata": {},
   "outputs": [
    {
     "data": {
      "text/plain": [
       "7"
      ]
     },
     "execution_count": 152,
     "metadata": {},
     "output_type": "execute_result"
    }
   ],
   "source": [
    "test(3,4)"
   ]
  },
  {
   "cell_type": "code",
   "execution_count": 153,
   "metadata": {},
   "outputs": [],
   "source": [
    "class insta :\n",
    "    def shared_stories(self) :\n",
    "        print(\"print your story on insta\")\n",
    "    \n",
    "class facebook :\n",
    "    def shared_stories(self) :\n",
    "        print(\"print your story on facebook\")"
   ]
  },
  {
   "cell_type": "code",
   "execution_count": 154,
   "metadata": {},
   "outputs": [],
   "source": [
    "def sharestories(app) :\n",
    "    app.shared_stories()"
   ]
  },
  {
   "cell_type": "code",
   "execution_count": 155,
   "metadata": {},
   "outputs": [],
   "source": [
    "ins = insta()\n",
    "fb = facebook()"
   ]
  },
  {
   "cell_type": "code",
   "execution_count": 156,
   "metadata": {},
   "outputs": [
    {
     "name": "stdout",
     "output_type": "stream",
     "text": [
      "print your story on insta\n"
     ]
    }
   ],
   "source": [
    "sharestories(ins)"
   ]
  },
  {
   "cell_type": "code",
   "execution_count": 157,
   "metadata": {},
   "outputs": [
    {
     "name": "stdout",
     "output_type": "stream",
     "text": [
      "print your story on facebook\n"
     ]
    }
   ],
   "source": [
    "sharestories(fb)"
   ]
  },
  {
   "cell_type": "code",
   "execution_count": 192,
   "metadata": {},
   "outputs": [],
   "source": [
    "class ineuron:\n",
    "    #company_website = \"ineuron.ai\"\n",
    "    name = 'ineuron'\n",
    "    def __init__(self):\n",
    "        self.company_website =\"ineuron.ai\"\n",
    "    \n",
    "    def contact_details(self) :\n",
    "        print('contact us at ' , self.company_website)\n",
    "        \n",
    "class MLclass(ineuron) :\n",
    "    def __init__(self,*args) : \n",
    "        self.year_of_establishment = 2019\n",
    "        ineuron.__init__(self,*args)\n",
    "    \n",
    "    def est_details(self) : \n",
    "        print(self.name , self.company_website , self.year_of_establishment)"
   ]
  },
  {
   "cell_type": "code",
   "execution_count": 193,
   "metadata": {},
   "outputs": [],
   "source": [
    "ml = MLclass()"
   ]
  },
  {
   "cell_type": "code",
   "execution_count": 194,
   "metadata": {},
   "outputs": [
    {
     "name": "stdout",
     "output_type": "stream",
     "text": [
      "ineuron ineuron.ai 2019\n"
     ]
    }
   ],
   "source": [
    "ml.est_details()"
   ]
  },
  {
   "cell_type": "code",
   "execution_count": 197,
   "metadata": {},
   "outputs": [],
   "source": [
    "class ineuron:\n",
    "    company_website = \"ineuron.ai\"\n",
    "    name = 'ineuron'\n",
    "    def contact_details(self):\n",
    "        print('contact us at ',self.company_website)\n",
    "class MLclass(ineuron):\n",
    "    def __init__(self,*args):\n",
    "        self.year_of_establishment = 2019\n",
    "        super(MLclass,self).__init__(*args)\n",
    "    def est_details(self):\n",
    "        print(self.name, self.company_website, self.year_of_establishment)\n"
   ]
  },
  {
   "cell_type": "code",
   "execution_count": 198,
   "metadata": {},
   "outputs": [],
   "source": [
    "class p1:\n",
    "    def __init__(self,a,b):\n",
    "        self.a=a\n",
    "        self.b=b\n",
    "        \n",
    "    def fun_p1(self):\n",
    "            return (\"this is my return from P1 method\")\n",
    "        \n",
    "class p2(p1):\n",
    "    def __init__(self,*args):\n",
    "        pass\n",
    "    def fun_p2(self):\n",
    "        return ( \" this is a return from p2 method\")\n",
    "    \n",
    "\n",
    "class c(p2):\n",
    "    def __init__(self):\n",
    "        pass\n",
    "    def fun_c(self):\n",
    "        return(\"this is a return frim child class\")\n"
   ]
  },
  {
   "cell_type": "code",
   "execution_count": 199,
   "metadata": {},
   "outputs": [
    {
     "data": {
      "text/plain": [
       "' this is a return from p2 method'"
      ]
     },
     "execution_count": 199,
     "metadata": {},
     "output_type": "execute_result"
    }
   ],
   "source": [
    "child_obj = c()\n",
    "child_obj.fun_p2()\n"
   ]
  },
  {
   "cell_type": "code",
   "execution_count": 202,
   "metadata": {},
   "outputs": [],
   "source": [
    "class ineuron:\n",
    "    #company_website=\"ineuron.ai\"  # global variables for MLclass without creating object\n",
    "    name=\"ineuron\"\n",
    "    \n",
    "    def __init__(self):\n",
    "        self.company_website=\"ineuron.ai\"\n",
    "    def contact_details(self):\n",
    "        print(\"contact us\",self.company_website)\n",
    "    \n",
    "    \n",
    "class MLclass(ineuron): # clild class \n",
    "    def __init__(self,*args):\n",
    "        self.year_of_establishment=2019\n",
    "        super(MLclass,self).__init__(*args)\n",
    "        \n",
    "    def est_details(self):\n",
    "        print(self.name,self.company_website,self.year_of_establishment)\n"
   ]
  },
  {
   "cell_type": "code",
   "execution_count": 203,
   "metadata": {},
   "outputs": [],
   "source": [
    "ml=MLclass()\n"
   ]
  },
  {
   "cell_type": "code",
   "execution_count": 204,
   "metadata": {},
   "outputs": [
    {
     "data": {
      "text/plain": [
       "20"
      ]
     },
     "execution_count": 204,
     "metadata": {},
     "output_type": "execute_result"
    }
   ],
   "source": [
    "class add:\n",
    "    def __init__(self,a):\n",
    "        self.a = a\n",
    "    def __add__(self,other):\n",
    "        return self.a + other.a\n",
    "class add1:\n",
    "    def __init__(self,a):\n",
    "        self.a = a\n",
    "    def __add__(self,other):\n",
    "        return self.a * other.a\n",
    "\n",
    "obj = add(4)\n",
    "obj1 = add1(5)\n",
    "obj1+obj\n"
   ]
  },
  {
   "cell_type": "code",
   "execution_count": 206,
   "metadata": {},
   "outputs": [
    {
     "name": "stdout",
     "output_type": "stream",
     "text": [
      "5\n",
      "4\n"
     ]
    },
    {
     "data": {
      "text/plain": [
       "5"
      ]
     },
     "execution_count": 206,
     "metadata": {},
     "output_type": "execute_result"
    }
   ],
   "source": [
    "class test:\n",
    "    def __init__(self,a,b):\n",
    "        self.__a = a\n",
    "        self.b = b\n",
    "\n",
    "        \n",
    "class test1(test):\n",
    "    def __init__(self,*args):\n",
    "        test.__init__(self,*args)\n",
    "        print(self.b)\n",
    "        \n",
    "        #self.b = \"sudh\"\n",
    "        print(self._test__a)\n",
    "            \n",
    "obj = test1(4,5)\n",
    "obj.b"
   ]
  },
  {
   "cell_type": "code",
   "execution_count": 208,
   "metadata": {},
   "outputs": [
    {
     "name": "stdout",
     "output_type": "stream",
     "text": [
      "ineuron ineuron.ai 2019\n"
     ]
    }
   ],
   "source": [
    "# Parent class\n",
    "class ineuron :\n",
    "    # company_website = \"ineuron.ai\"\n",
    "    name = \"ineuron\"\n",
    "\n",
    "    def __init__(self)  :\n",
    "        self.company_website = \"ineuron.ai\"\n",
    "\n",
    "    def contact_details(self) :\n",
    "        print(\"Contact us at\", self.company_website)\n",
    "\n",
    "# Child of ineuron class\n",
    "class MLclass(ineuron) :\n",
    "    def __init__(self,*args) :\n",
    "        self.year_of_establishment = 2019\n",
    "        super(MLclass,self).__init__(*args)\n",
    "    \n",
    "    def est_details(self) :\n",
    "        # Associate to current class using \"self.\"\n",
    "        print(self.name, self.company_website, self.year_of_establishment)\n",
    "\n",
    "ml = MLclass()\n",
    "ml.est_details()\n"
   ]
  },
  {
   "cell_type": "code",
   "execution_count": 210,
   "metadata": {},
   "outputs": [],
   "source": [
    "class person:\n",
    "        def __init__(self, name, surname, year_of_birth):\n",
    "            self.name = name\n",
    "            self.surname = surname\n",
    "            self.year_of_birth = year_of_birth\n",
    "            \n",
    "        def age(self, current_year):\n",
    "            return current_year - self.year_of_birth\n",
    "        \n",
    "        def __str__(self):\n",
    "            return self.name\n",
    "\n",
    "class student:\n",
    "    def __init__(self, student_id, *args):\n",
    "        super(student,self).__init__(*args)\n",
    "        self.student_id = student_id\n",
    "        \n",
    "    def __str__(self):\n",
    "        return super(student,self).__str__() + str(self.student_id)\n",
    "\n",
    "stud = student(345)"
   ]
  },
  {
   "cell_type": "code",
   "execution_count": 211,
   "metadata": {},
   "outputs": [
    {
     "name": "stdout",
     "output_type": "stream",
     "text": [
      "<__main__.student object at 0x00000168D4EA9C40>345\n"
     ]
    }
   ],
   "source": [
    "print(stud)"
   ]
  },
  {
   "cell_type": "code",
   "execution_count": 218,
   "metadata": {},
   "outputs": [
    {
     "name": "stdout",
     "output_type": "stream",
     "text": [
      "3\n"
     ]
    }
   ],
   "source": [
    "class A:\n",
    "    def __init__(self, a):\n",
    "        self.a = a\n",
    " \n",
    "    # adding three  objects\n",
    "    def __add__(self, o):\n",
    "        return self.a + o.a\n",
    "ob1 = A(1)\n",
    "ob2 = A(2)\n",
    "ob3 = A(3)\n",
    "ob4 = A(\"Test\")\n",
    "ob5 = A(\"For\")\n",
    "ob6 = A(\"Overloading\")\n",
    " \n",
    "print(ob1 + ob2 )\n"
   ]
  },
  {
   "cell_type": "code",
   "execution_count": 214,
   "metadata": {},
   "outputs": [
    {
     "ename": "SyntaxError",
     "evalue": "invalid syntax (<ipython-input-214-e6252e344add>, line 11)",
     "output_type": "error",
     "traceback": [
      "\u001b[1;36m  File \u001b[1;32m\"<ipython-input-214-e6252e344add>\"\u001b[1;36m, line \u001b[1;32m11\u001b[0m\n\u001b[1;33m    code working ,but had doubt for a3,whethr 4 referring \"a\" or \"other\" variable\u001b[0m\n\u001b[1;37m         ^\u001b[0m\n\u001b[1;31mSyntaxError\u001b[0m\u001b[1;31m:\u001b[0m invalid syntax\n"
     ]
    }
   ],
   "source": [
    "class multiplynum:\n",
    "    def __init__(self,a):\n",
    "        self.a = a\n",
    "        \n",
    "    def __mul__(self,other):\n",
    "        return self.a + other.a\n",
    "    \n",
    "a3 = multiplynum(4)\n",
    "a4 = multiplynum(5)\n",
    "\n",
    "\n"
   ]
  },
  {
   "cell_type": "code",
   "execution_count": 221,
   "metadata": {},
   "outputs": [],
   "source": [
    "class person:\n",
    "        def __init__(self, name, surname, year_of_birth):\n",
    "            self.name = name\n",
    "            self.surname = surname\n",
    "            self.year_of_birth = year_of_birth\n",
    "            \n",
    "        def age(self, current_year):\n",
    "            return current_year - self.year_of_birth\n",
    "        \n",
    "        def __str__(self):\n",
    "            return self.name\n",
    "\n",
    "class student(person):\n",
    "    def __init__(self, student_id, *args):\n",
    "        super(student,self).__init__(*args)\n",
    "        self.student_id = student_id\n",
    "        \n",
    "    def __str__(self):\n",
    "        return super(student,self).__str__() + str(self.student_id)\n",
    "\n",
    "stud = student(1234 , \"sudh\" ,\"kumar\" ,\"fdssf\")\n"
   ]
  },
  {
   "cell_type": "code",
   "execution_count": 222,
   "metadata": {},
   "outputs": [
    {
     "name": "stdout",
     "output_type": "stream",
     "text": [
      "sudh1234\n"
     ]
    }
   ],
   "source": [
    "print(stud)"
   ]
  },
  {
   "cell_type": "code",
   "execution_count": null,
   "metadata": {},
   "outputs": [],
   "source": []
  }
 ],
 "metadata": {
  "kernelspec": {
   "display_name": "Python 3",
   "language": "python",
   "name": "python3"
  },
  "language_info": {
   "codemirror_mode": {
    "name": "ipython",
    "version": 3
   },
   "file_extension": ".py",
   "mimetype": "text/x-python",
   "name": "python",
   "nbconvert_exporter": "python",
   "pygments_lexer": "ipython3",
   "version": "3.7.0"
  }
 },
 "nbformat": 4,
 "nbformat_minor": 4
}
