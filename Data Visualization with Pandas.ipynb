{
 "cells": [
  {
   "cell_type": "code",
   "execution_count": 1,
   "id": "strange-arthur",
   "metadata": {},
   "outputs": [
    {
     "name": "stdout",
     "output_type": "stream",
     "text": [
      "Requirement already satisfied: matplotlib in c:\\users\\sanu\\miniconda3\\lib\\site-packages (3.4.3)\n",
      "Requirement already satisfied: pyparsing>=2.2.1 in c:\\users\\sanu\\miniconda3\\lib\\site-packages (from matplotlib) (2.4.7)\n",
      "Requirement already satisfied: kiwisolver>=1.0.1 in c:\\users\\sanu\\miniconda3\\lib\\site-packages (from matplotlib) (1.3.2)\n",
      "Requirement already satisfied: numpy>=1.16 in c:\\users\\sanu\\miniconda3\\lib\\site-packages (from matplotlib) (1.21.2)\n",
      "Requirement already satisfied: python-dateutil>=2.7 in c:\\users\\sanu\\miniconda3\\lib\\site-packages (from matplotlib) (2.8.1)\n",
      "Requirement already satisfied: pillow>=6.2.0 in c:\\users\\sanu\\miniconda3\\lib\\site-packages (from matplotlib) (8.3.2)\n",
      "Requirement already satisfied: cycler>=0.10 in c:\\users\\sanu\\miniconda3\\lib\\site-packages (from matplotlib) (0.10.0)\n",
      "Requirement already satisfied: six in c:\\users\\sanu\\miniconda3\\lib\\site-packages (from cycler>=0.10->matplotlib) (1.11.0)\n",
      "Note: you may need to restart the kernel to use updated packages.\n"
     ]
    },
    {
     "name": "stderr",
     "output_type": "stream",
     "text": [
      "WARNING: You are using pip version 21.3; however, version 21.3.1 is available.\n",
      "You should consider upgrading via the 'C:\\Users\\SANU\\Miniconda3\\python.exe -m pip install --upgrade pip' command.\n"
     ]
    }
   ],
   "source": [
    "pip install matplotlib"
   ]
  },
  {
   "cell_type": "code",
   "execution_count": 2,
   "id": "defined-intensity",
   "metadata": {},
   "outputs": [
    {
     "name": "stdout",
     "output_type": "stream",
     "text": [
      "Requirement already satisfied: seaborn in c:\\users\\sanu\\miniconda3\\lib\\site-packages (0.11.2)\n",
      "Requirement already satisfied: scipy>=1.0 in c:\\users\\sanu\\miniconda3\\lib\\site-packages (from seaborn) (1.7.1)\n",
      "Requirement already satisfied: numpy>=1.15 in c:\\users\\sanu\\miniconda3\\lib\\site-packages (from seaborn) (1.21.2)\n",
      "Requirement already satisfied: pandas>=0.23 in c:\\users\\sanu\\miniconda3\\lib\\site-packages (from seaborn) (1.1.5)\n",
      "Requirement already satisfied: matplotlib>=2.2 in c:\\users\\sanu\\miniconda3\\lib\\site-packages (from seaborn) (3.4.3)\n",
      "Requirement already satisfied: pillow>=6.2.0 in c:\\users\\sanu\\miniconda3\\lib\\site-packages (from matplotlib>=2.2->seaborn) (8.3.2)\n",
      "Requirement already satisfied: kiwisolver>=1.0.1 in c:\\users\\sanu\\miniconda3\\lib\\site-packages (from matplotlib>=2.2->seaborn) (1.3.2)\n",
      "Requirement already satisfied: python-dateutil>=2.7 in c:\\users\\sanu\\miniconda3\\lib\\site-packages (from matplotlib>=2.2->seaborn) (2.8.1)\n",
      "Requirement already satisfied: cycler>=0.10 in c:\\users\\sanu\\miniconda3\\lib\\site-packages (from matplotlib>=2.2->seaborn) (0.10.0)\n",
      "Requirement already satisfied: pyparsing>=2.2.1 in c:\\users\\sanu\\miniconda3\\lib\\site-packages (from matplotlib>=2.2->seaborn) (2.4.7)\n",
      "Requirement already satisfied: pytz>=2017.2 in c:\\users\\sanu\\miniconda3\\lib\\site-packages (from pandas>=0.23->seaborn) (2020.5)\n",
      "Requirement already satisfied: six in c:\\users\\sanu\\miniconda3\\lib\\site-packages (from cycler>=0.10->matplotlib>=2.2->seaborn) (1.11.0)\n",
      "Note: you may need to restart the kernel to use updated packages.\n"
     ]
    },
    {
     "name": "stderr",
     "output_type": "stream",
     "text": [
      "WARNING: You are using pip version 21.3; however, version 21.3.1 is available.\n",
      "You should consider upgrading via the 'C:\\Users\\SANU\\Miniconda3\\python.exe -m pip install --upgrade pip' command.\n"
     ]
    }
   ],
   "source": [
    "pip install seaborn"
   ]
  },
  {
   "cell_type": "code",
   "execution_count": 1,
   "id": "earlier-sharing",
   "metadata": {},
   "outputs": [],
   "source": [
    "%config Completer.use_jedi = False #this is command used for enable autocompletion in jupyt notebook\n"
   ]
  },
  {
   "cell_type": "code",
   "execution_count": 2,
   "id": "herbal-gnome",
   "metadata": {},
   "outputs": [],
   "source": [
    "import seaborn as sns\n",
    "import pandas as pd\n",
    "import numpy as np\n",
    "import matplotlib.pyplot as plt"
   ]
  },
  {
   "cell_type": "code",
   "execution_count": 3,
   "id": "ranking-commodity",
   "metadata": {},
   "outputs": [],
   "source": [
    "# for data analysis of data in python following libraries are generally used\n",
    "#seaborn , matplotlib,plotpy...etc"
   ]
  },
  {
   "cell_type": "code",
   "execution_count": 4,
   "id": "velvet-soundtrack",
   "metadata": {},
   "outputs": [],
   "source": [
    "df=pd.DataFrame(np.random.rand(10,4),index=pd.date_range('1/1/2000',periods=10),columns=list('ABCD'))"
   ]
  },
  {
   "cell_type": "code",
   "execution_count": 5,
   "id": "exceptional-organic",
   "metadata": {},
   "outputs": [
    {
     "data": {
      "text/html": [
       "<div>\n",
       "<style scoped>\n",
       "    .dataframe tbody tr th:only-of-type {\n",
       "        vertical-align: middle;\n",
       "    }\n",
       "\n",
       "    .dataframe tbody tr th {\n",
       "        vertical-align: top;\n",
       "    }\n",
       "\n",
       "    .dataframe thead th {\n",
       "        text-align: right;\n",
       "    }\n",
       "</style>\n",
       "<table border=\"1\" class=\"dataframe\">\n",
       "  <thead>\n",
       "    <tr style=\"text-align: right;\">\n",
       "      <th></th>\n",
       "      <th>A</th>\n",
       "      <th>B</th>\n",
       "      <th>C</th>\n",
       "      <th>D</th>\n",
       "    </tr>\n",
       "  </thead>\n",
       "  <tbody>\n",
       "    <tr>\n",
       "      <th>2000-01-01</th>\n",
       "      <td>0.921820</td>\n",
       "      <td>0.234853</td>\n",
       "      <td>0.663477</td>\n",
       "      <td>0.847110</td>\n",
       "    </tr>\n",
       "    <tr>\n",
       "      <th>2000-01-02</th>\n",
       "      <td>0.786204</td>\n",
       "      <td>0.373776</td>\n",
       "      <td>0.110767</td>\n",
       "      <td>0.189577</td>\n",
       "    </tr>\n",
       "    <tr>\n",
       "      <th>2000-01-03</th>\n",
       "      <td>0.789421</td>\n",
       "      <td>0.876626</td>\n",
       "      <td>0.220069</td>\n",
       "      <td>0.808803</td>\n",
       "    </tr>\n",
       "    <tr>\n",
       "      <th>2000-01-04</th>\n",
       "      <td>0.781306</td>\n",
       "      <td>0.792584</td>\n",
       "      <td>0.149737</td>\n",
       "      <td>0.103950</td>\n",
       "    </tr>\n",
       "    <tr>\n",
       "      <th>2000-01-05</th>\n",
       "      <td>0.147410</td>\n",
       "      <td>0.296651</td>\n",
       "      <td>0.427720</td>\n",
       "      <td>0.910230</td>\n",
       "    </tr>\n",
       "    <tr>\n",
       "      <th>2000-01-06</th>\n",
       "      <td>0.158999</td>\n",
       "      <td>0.399491</td>\n",
       "      <td>0.895672</td>\n",
       "      <td>0.979986</td>\n",
       "    </tr>\n",
       "    <tr>\n",
       "      <th>2000-01-07</th>\n",
       "      <td>0.738220</td>\n",
       "      <td>0.042073</td>\n",
       "      <td>0.458508</td>\n",
       "      <td>0.296117</td>\n",
       "    </tr>\n",
       "    <tr>\n",
       "      <th>2000-01-08</th>\n",
       "      <td>0.361912</td>\n",
       "      <td>0.392286</td>\n",
       "      <td>0.890583</td>\n",
       "      <td>0.548843</td>\n",
       "    </tr>\n",
       "    <tr>\n",
       "      <th>2000-01-09</th>\n",
       "      <td>0.287818</td>\n",
       "      <td>0.309939</td>\n",
       "      <td>0.284294</td>\n",
       "      <td>0.917316</td>\n",
       "    </tr>\n",
       "    <tr>\n",
       "      <th>2000-01-10</th>\n",
       "      <td>0.148667</td>\n",
       "      <td>0.596149</td>\n",
       "      <td>0.279514</td>\n",
       "      <td>0.766539</td>\n",
       "    </tr>\n",
       "  </tbody>\n",
       "</table>\n",
       "</div>"
      ],
      "text/plain": [
       "                   A         B         C         D\n",
       "2000-01-01  0.921820  0.234853  0.663477  0.847110\n",
       "2000-01-02  0.786204  0.373776  0.110767  0.189577\n",
       "2000-01-03  0.789421  0.876626  0.220069  0.808803\n",
       "2000-01-04  0.781306  0.792584  0.149737  0.103950\n",
       "2000-01-05  0.147410  0.296651  0.427720  0.910230\n",
       "2000-01-06  0.158999  0.399491  0.895672  0.979986\n",
       "2000-01-07  0.738220  0.042073  0.458508  0.296117\n",
       "2000-01-08  0.361912  0.392286  0.890583  0.548843\n",
       "2000-01-09  0.287818  0.309939  0.284294  0.917316\n",
       "2000-01-10  0.148667  0.596149  0.279514  0.766539"
      ]
     },
     "execution_count": 5,
     "metadata": {},
     "output_type": "execute_result"
    }
   ],
   "source": [
    "df\n"
   ]
  },
  {
   "cell_type": "code",
   "execution_count": null,
   "id": "practical-characterization",
   "metadata": {},
   "outputs": [],
   "source": []
  },
  {
   "cell_type": "code",
   "execution_count": 6,
   "id": "cognitive-costs",
   "metadata": {},
   "outputs": [
    {
     "data": {
      "text/plain": [
       "<AxesSubplot:>"
      ]
     },
     "execution_count": 6,
     "metadata": {},
     "output_type": "execute_result"
    },
    {
     "data": {
      "image/png": "[encoded data removed]",
      "text/plain": [
       "<Figure size 432x288 with 1 Axes>"
      ]
     },
     "metadata": {
      "needs_background": "light"
     },
     "output_type": "display_data"
    }
   ],
   "source": [
    "#Drawing the line plot\n",
    "df.plot()"
   ]
  },
  {
   "cell_type": "code",
   "execution_count": 7,
   "id": "continued-sender",
   "metadata": {},
   "outputs": [
    {
     "data": {
      "text/plain": [
       "<AxesSubplot:>"
      ]
     },
     "execution_count": 7,
     "metadata": {},
     "output_type": "execute_result"
    },
    {
     "data": {
      "image/png": "[encoded data removed]",
      "text/plain": [
       "<Figure size 432x288 with 1 Axes>"
      ]
     },
     "metadata": {
      "needs_background": "light"
     },
     "output_type": "display_data"
    }
   ],
   "source": [
    "#single line plot\n",
    "df['A'].plot()"
   ]
  },
  {
   "cell_type": "code",
   "execution_count": 8,
   "id": "attractive-spyware",
   "metadata": {},
   "outputs": [
    {
     "data": {
      "text/plain": [
       "<AxesSubplot:>"
      ]
     },
     "execution_count": 8,
     "metadata": {},
     "output_type": "execute_result"
    },
    {
     "data": {
      "image/png": "[encoded data removed]",
      "text/plain": [
       "<Figure size 432x288 with 1 Axes>"
      ]
     },
     "metadata": {
      "needs_background": "light"
     },
     "output_type": "display_data"
    }
   ],
   "source": [
    "df['B'].plot()"
   ]
  },
  {
   "cell_type": "code",
   "execution_count": 9,
   "id": "developing-installation",
   "metadata": {},
   "outputs": [],
   "source": [
    "df1=pd.DataFrame(np.random.rand(10,4),columns=['a','b','c','d'])"
   ]
  },
  {
   "cell_type": "code",
   "execution_count": 10,
   "id": "portable-population",
   "metadata": {},
   "outputs": [
    {
     "data": {
      "text/plain": [
       "array([[0.67656309, 0.21920671, 0.43544038],\n",
       "       [0.03209116, 0.80113229, 0.01831838],\n",
       "       [0.89834355, 0.88096521, 0.23314876],\n",
       "       [0.64612948, 0.47319248, 0.93131935],\n",
       "       [0.02494341, 0.40297296, 0.48281649],\n",
       "       [0.23057282, 0.8877378 , 0.90902934],\n",
       "       [0.78789245, 0.04839419, 0.86527344],\n",
       "       [0.23139932, 0.65634869, 0.00199508],\n",
       "       [0.97880783, 0.33992331, 0.53033094],\n",
       "       [0.55369078, 0.8635118 , 0.48824049],\n",
       "       [0.77984452, 0.08063157, 0.97424586]])"
      ]
     },
     "execution_count": 10,
     "metadata": {},
     "output_type": "execute_result"
    }
   ],
   "source": [
    "np.random.rand(11,3)#11 rows with 3 columns"
   ]
  },
  {
   "cell_type": "code",
   "execution_count": 11,
   "id": "boring-lawsuit",
   "metadata": {},
   "outputs": [
    {
     "data": {
      "text/html": [
       "<div>\n",
       "<style scoped>\n",
       "    .dataframe tbody tr th:only-of-type {\n",
       "        vertical-align: middle;\n",
       "    }\n",
       "\n",
       "    .dataframe tbody tr th {\n",
       "        vertical-align: top;\n",
       "    }\n",
       "\n",
       "    .dataframe thead th {\n",
       "        text-align: right;\n",
       "    }\n",
       "</style>\n",
       "<table border=\"1\" class=\"dataframe\">\n",
       "  <thead>\n",
       "    <tr style=\"text-align: right;\">\n",
       "      <th></th>\n",
       "      <th>a</th>\n",
       "      <th>b</th>\n",
       "      <th>c</th>\n",
       "      <th>d</th>\n",
       "    </tr>\n",
       "  </thead>\n",
       "  <tbody>\n",
       "    <tr>\n",
       "      <th>0</th>\n",
       "      <td>0.219566</td>\n",
       "      <td>0.758568</td>\n",
       "      <td>0.083791</td>\n",
       "      <td>0.133619</td>\n",
       "    </tr>\n",
       "    <tr>\n",
       "      <th>1</th>\n",
       "      <td>0.355279</td>\n",
       "      <td>0.619763</td>\n",
       "      <td>0.898229</td>\n",
       "      <td>0.327013</td>\n",
       "    </tr>\n",
       "    <tr>\n",
       "      <th>2</th>\n",
       "      <td>0.861098</td>\n",
       "      <td>0.773990</td>\n",
       "      <td>0.082507</td>\n",
       "      <td>0.592778</td>\n",
       "    </tr>\n",
       "    <tr>\n",
       "      <th>3</th>\n",
       "      <td>0.789417</td>\n",
       "      <td>0.744533</td>\n",
       "      <td>0.912826</td>\n",
       "      <td>0.098986</td>\n",
       "    </tr>\n",
       "    <tr>\n",
       "      <th>4</th>\n",
       "      <td>0.097180</td>\n",
       "      <td>0.105939</td>\n",
       "      <td>0.774630</td>\n",
       "      <td>0.976518</td>\n",
       "    </tr>\n",
       "    <tr>\n",
       "      <th>5</th>\n",
       "      <td>0.605852</td>\n",
       "      <td>0.714953</td>\n",
       "      <td>0.882319</td>\n",
       "      <td>0.445159</td>\n",
       "    </tr>\n",
       "    <tr>\n",
       "      <th>6</th>\n",
       "      <td>0.673409</td>\n",
       "      <td>0.128264</td>\n",
       "      <td>0.054858</td>\n",
       "      <td>0.772344</td>\n",
       "    </tr>\n",
       "    <tr>\n",
       "      <th>7</th>\n",
       "      <td>0.277179</td>\n",
       "      <td>0.775972</td>\n",
       "      <td>0.788206</td>\n",
       "      <td>0.776971</td>\n",
       "    </tr>\n",
       "    <tr>\n",
       "      <th>8</th>\n",
       "      <td>0.719816</td>\n",
       "      <td>0.611534</td>\n",
       "      <td>0.969384</td>\n",
       "      <td>0.219180</td>\n",
       "    </tr>\n",
       "    <tr>\n",
       "      <th>9</th>\n",
       "      <td>0.815691</td>\n",
       "      <td>0.408024</td>\n",
       "      <td>0.349344</td>\n",
       "      <td>0.489188</td>\n",
       "    </tr>\n",
       "  </tbody>\n",
       "</table>\n",
       "</div>"
      ],
      "text/plain": [
       "          a         b         c         d\n",
       "0  0.219566  0.758568  0.083791  0.133619\n",
       "1  0.355279  0.619763  0.898229  0.327013\n",
       "2  0.861098  0.773990  0.082507  0.592778\n",
       "3  0.789417  0.744533  0.912826  0.098986\n",
       "4  0.097180  0.105939  0.774630  0.976518\n",
       "5  0.605852  0.714953  0.882319  0.445159\n",
       "6  0.673409  0.128264  0.054858  0.772344\n",
       "7  0.277179  0.775972  0.788206  0.776971\n",
       "8  0.719816  0.611534  0.969384  0.219180\n",
       "9  0.815691  0.408024  0.349344  0.489188"
      ]
     },
     "execution_count": 11,
     "metadata": {},
     "output_type": "execute_result"
    }
   ],
   "source": [
    "df1"
   ]
  },
  {
   "cell_type": "code",
   "execution_count": 12,
   "id": "oriental-pricing",
   "metadata": {},
   "outputs": [
    {
     "data": {
      "text/plain": [
       "<AxesSubplot:>"
      ]
     },
     "execution_count": 12,
     "metadata": {},
     "output_type": "execute_result"
    },
    {
     "data": {
      "image/png": "[encoded data removed]",
      "text/plain": [
       "<Figure size 432x288 with 1 Axes>"
      ]
     },
     "metadata": {
      "needs_background": "light"
     },
     "output_type": "display_data"
    }
   ],
   "source": [
    "#bar chart\n",
    "df1.plot.bar()"
   ]
  },
  {
   "cell_type": "code",
   "execution_count": 13,
   "id": "fiscal-intelligence",
   "metadata": {},
   "outputs": [
    {
     "data": {
      "text/plain": [
       "<AxesSubplot:>"
      ]
     },
     "execution_count": 13,
     "metadata": {},
     "output_type": "execute_result"
    },
    {
     "data": {
      "image/png": "[encoded data removed]",
      "text/plain": [
       "<Figure size 432x288 with 1 Axes>"
      ]
     },
     "metadata": {
      "needs_background": "light"
     },
     "output_type": "display_data"
    }
   ],
   "source": [
    "#horizontal\n",
    "df1.plot.barh()"
   ]
  },
  {
   "cell_type": "code",
   "execution_count": 14,
   "id": "seasonal-wales",
   "metadata": {},
   "outputs": [
    {
     "data": {
      "text/plain": [
       "<AxesSubplot:>"
      ]
     },
     "execution_count": 14,
     "metadata": {},
     "output_type": "execute_result"
    },
    {
     "data": {
      "image/png": "[encoded data removed]",
      "text/plain": [
       "<Figure size 432x288 with 1 Axes>"
      ]
     },
     "metadata": {
      "needs_background": "light"
     },
     "output_type": "display_data"
    }
   ],
   "source": [
    "#for single attribute\n",
    "df1['a'].plot.bar()"
   ]
  },
  {
   "cell_type": "code",
   "execution_count": 15,
   "id": "informative-semiconductor",
   "metadata": {},
   "outputs": [
    {
     "data": {
      "text/plain": [
       "<AxesSubplot:>"
      ]
     },
     "execution_count": 15,
     "metadata": {},
     "output_type": "execute_result"
    },
    {
     "data": {
      "image/png": "[encoded data removed]",
      "text/plain": [
       "<Figure size 432x288 with 1 Axes>"
      ]
     },
     "metadata": {
      "needs_background": "light"
     },
     "output_type": "display_data"
    }
   ],
   "source": [
    "#box plot\n",
    "df1.plot.box()"
   ]
  },
  {
   "cell_type": "code",
   "execution_count": 16,
   "id": "distributed-thunder",
   "metadata": {},
   "outputs": [
    {
     "data": {
      "text/plain": [
       "<AxesSubplot:>"
      ]
     },
     "execution_count": 16,
     "metadata": {},
     "output_type": "execute_result"
    },
    {
     "data": {
      "image/png": "[encoded data removed]",
      "text/plain": [
       "<Figure size 432x288 with 1 Axes>"
      ]
     },
     "metadata": {
      "needs_background": "light"
     },
     "output_type": "display_data"
    }
   ],
   "source": [
    "# stacked bar chart \n",
    "df1.plot.barh(stacked=True)"
   ]
  },
  {
   "cell_type": "code",
   "execution_count": 17,
   "id": "liable-authentication",
   "metadata": {},
   "outputs": [
    {
     "data": {
      "text/html": [
       "<div>\n",
       "<style scoped>\n",
       "    .dataframe tbody tr th:only-of-type {\n",
       "        vertical-align: middle;\n",
       "    }\n",
       "\n",
       "    .dataframe tbody tr th {\n",
       "        vertical-align: top;\n",
       "    }\n",
       "\n",
       "    .dataframe thead th {\n",
       "        text-align: right;\n",
       "    }\n",
       "</style>\n",
       "<table border=\"1\" class=\"dataframe\">\n",
       "  <thead>\n",
       "    <tr style=\"text-align: right;\">\n",
       "      <th></th>\n",
       "      <th>a</th>\n",
       "      <th>b</th>\n",
       "      <th>c</th>\n",
       "      <th>d</th>\n",
       "    </tr>\n",
       "  </thead>\n",
       "  <tbody>\n",
       "    <tr>\n",
       "      <th>0</th>\n",
       "      <td>0.219566</td>\n",
       "      <td>0.758568</td>\n",
       "      <td>0.083791</td>\n",
       "      <td>0.133619</td>\n",
       "    </tr>\n",
       "    <tr>\n",
       "      <th>1</th>\n",
       "      <td>0.355279</td>\n",
       "      <td>0.619763</td>\n",
       "      <td>0.898229</td>\n",
       "      <td>0.327013</td>\n",
       "    </tr>\n",
       "    <tr>\n",
       "      <th>2</th>\n",
       "      <td>0.861098</td>\n",
       "      <td>0.773990</td>\n",
       "      <td>0.082507</td>\n",
       "      <td>0.592778</td>\n",
       "    </tr>\n",
       "    <tr>\n",
       "      <th>3</th>\n",
       "      <td>0.789417</td>\n",
       "      <td>0.744533</td>\n",
       "      <td>0.912826</td>\n",
       "      <td>0.098986</td>\n",
       "    </tr>\n",
       "    <tr>\n",
       "      <th>4</th>\n",
       "      <td>0.097180</td>\n",
       "      <td>0.105939</td>\n",
       "      <td>0.774630</td>\n",
       "      <td>0.976518</td>\n",
       "    </tr>\n",
       "    <tr>\n",
       "      <th>5</th>\n",
       "      <td>0.605852</td>\n",
       "      <td>0.714953</td>\n",
       "      <td>0.882319</td>\n",
       "      <td>0.445159</td>\n",
       "    </tr>\n",
       "    <tr>\n",
       "      <th>6</th>\n",
       "      <td>0.673409</td>\n",
       "      <td>0.128264</td>\n",
       "      <td>0.054858</td>\n",
       "      <td>0.772344</td>\n",
       "    </tr>\n",
       "    <tr>\n",
       "      <th>7</th>\n",
       "      <td>0.277179</td>\n",
       "      <td>0.775972</td>\n",
       "      <td>0.788206</td>\n",
       "      <td>0.776971</td>\n",
       "    </tr>\n",
       "    <tr>\n",
       "      <th>8</th>\n",
       "      <td>0.719816</td>\n",
       "      <td>0.611534</td>\n",
       "      <td>0.969384</td>\n",
       "      <td>0.219180</td>\n",
       "    </tr>\n",
       "    <tr>\n",
       "      <th>9</th>\n",
       "      <td>0.815691</td>\n",
       "      <td>0.408024</td>\n",
       "      <td>0.349344</td>\n",
       "      <td>0.489188</td>\n",
       "    </tr>\n",
       "  </tbody>\n",
       "</table>\n",
       "</div>"
      ],
      "text/plain": [
       "          a         b         c         d\n",
       "0  0.219566  0.758568  0.083791  0.133619\n",
       "1  0.355279  0.619763  0.898229  0.327013\n",
       "2  0.861098  0.773990  0.082507  0.592778\n",
       "3  0.789417  0.744533  0.912826  0.098986\n",
       "4  0.097180  0.105939  0.774630  0.976518\n",
       "5  0.605852  0.714953  0.882319  0.445159\n",
       "6  0.673409  0.128264  0.054858  0.772344\n",
       "7  0.277179  0.775972  0.788206  0.776971\n",
       "8  0.719816  0.611534  0.969384  0.219180\n",
       "9  0.815691  0.408024  0.349344  0.489188"
      ]
     },
     "execution_count": 17,
     "metadata": {},
     "output_type": "execute_result"
    }
   ],
   "source": [
    "df1"
   ]
  },
  {
   "cell_type": "code",
   "execution_count": 18,
   "id": "federal-superintendent",
   "metadata": {},
   "outputs": [
    {
     "data": {
      "text/html": [
       "<div>\n",
       "<style scoped>\n",
       "    .dataframe tbody tr th:only-of-type {\n",
       "        vertical-align: middle;\n",
       "    }\n",
       "\n",
       "    .dataframe tbody tr th {\n",
       "        vertical-align: top;\n",
       "    }\n",
       "\n",
       "    .dataframe thead th {\n",
       "        text-align: right;\n",
       "    }\n",
       "</style>\n",
       "<table border=\"1\" class=\"dataframe\">\n",
       "  <thead>\n",
       "    <tr style=\"text-align: right;\">\n",
       "      <th></th>\n",
       "      <th>a</th>\n",
       "      <th>b</th>\n",
       "      <th>c</th>\n",
       "      <th>d</th>\n",
       "    </tr>\n",
       "  </thead>\n",
       "  <tbody>\n",
       "    <tr>\n",
       "      <th>0</th>\n",
       "      <td>0.219566</td>\n",
       "      <td>0.758568</td>\n",
       "      <td>0.083791</td>\n",
       "      <td>0.133619</td>\n",
       "    </tr>\n",
       "    <tr>\n",
       "      <th>1</th>\n",
       "      <td>0.355279</td>\n",
       "      <td>0.619763</td>\n",
       "      <td>0.898229</td>\n",
       "      <td>0.327013</td>\n",
       "    </tr>\n",
       "    <tr>\n",
       "      <th>2</th>\n",
       "      <td>0.861098</td>\n",
       "      <td>0.773990</td>\n",
       "      <td>0.082507</td>\n",
       "      <td>0.592778</td>\n",
       "    </tr>\n",
       "  </tbody>\n",
       "</table>\n",
       "</div>"
      ],
      "text/plain": [
       "          a         b         c         d\n",
       "0  0.219566  0.758568  0.083791  0.133619\n",
       "1  0.355279  0.619763  0.898229  0.327013\n",
       "2  0.861098  0.773990  0.082507  0.592778"
      ]
     },
     "execution_count": 18,
     "metadata": {},
     "output_type": "execute_result"
    }
   ],
   "source": [
    "#first row df1.iloc[row,column]\n",
    "df1.iloc[0:3]"
   ]
  },
  {
   "cell_type": "code",
   "execution_count": 19,
   "id": "spanish-decrease",
   "metadata": {},
   "outputs": [
    {
     "data": {
      "text/html": [
       "<div>\n",
       "<style scoped>\n",
       "    .dataframe tbody tr th:only-of-type {\n",
       "        vertical-align: middle;\n",
       "    }\n",
       "\n",
       "    .dataframe tbody tr th {\n",
       "        vertical-align: top;\n",
       "    }\n",
       "\n",
       "    .dataframe thead th {\n",
       "        text-align: right;\n",
       "    }\n",
       "</style>\n",
       "<table border=\"1\" class=\"dataframe\">\n",
       "  <thead>\n",
       "    <tr style=\"text-align: right;\">\n",
       "      <th></th>\n",
       "      <th>a</th>\n",
       "      <th>b</th>\n",
       "      <th>c</th>\n",
       "      <th>d</th>\n",
       "    </tr>\n",
       "  </thead>\n",
       "  <tbody>\n",
       "    <tr>\n",
       "      <th>0</th>\n",
       "      <td>0.219566</td>\n",
       "      <td>0.758568</td>\n",
       "      <td>0.083791</td>\n",
       "      <td>0.133619</td>\n",
       "    </tr>\n",
       "    <tr>\n",
       "      <th>1</th>\n",
       "      <td>0.355279</td>\n",
       "      <td>0.619763</td>\n",
       "      <td>0.898229</td>\n",
       "      <td>0.327013</td>\n",
       "    </tr>\n",
       "    <tr>\n",
       "      <th>2</th>\n",
       "      <td>0.861098</td>\n",
       "      <td>0.773990</td>\n",
       "      <td>0.082507</td>\n",
       "      <td>0.592778</td>\n",
       "    </tr>\n",
       "    <tr>\n",
       "      <th>3</th>\n",
       "      <td>0.789417</td>\n",
       "      <td>0.744533</td>\n",
       "      <td>0.912826</td>\n",
       "      <td>0.098986</td>\n",
       "    </tr>\n",
       "    <tr>\n",
       "      <th>4</th>\n",
       "      <td>0.097180</td>\n",
       "      <td>0.105939</td>\n",
       "      <td>0.774630</td>\n",
       "      <td>0.976518</td>\n",
       "    </tr>\n",
       "    <tr>\n",
       "      <th>5</th>\n",
       "      <td>0.605852</td>\n",
       "      <td>0.714953</td>\n",
       "      <td>0.882319</td>\n",
       "      <td>0.445159</td>\n",
       "    </tr>\n",
       "    <tr>\n",
       "      <th>6</th>\n",
       "      <td>0.673409</td>\n",
       "      <td>0.128264</td>\n",
       "      <td>0.054858</td>\n",
       "      <td>0.772344</td>\n",
       "    </tr>\n",
       "    <tr>\n",
       "      <th>7</th>\n",
       "      <td>0.277179</td>\n",
       "      <td>0.775972</td>\n",
       "      <td>0.788206</td>\n",
       "      <td>0.776971</td>\n",
       "    </tr>\n",
       "    <tr>\n",
       "      <th>8</th>\n",
       "      <td>0.719816</td>\n",
       "      <td>0.611534</td>\n",
       "      <td>0.969384</td>\n",
       "      <td>0.219180</td>\n",
       "    </tr>\n",
       "    <tr>\n",
       "      <th>9</th>\n",
       "      <td>0.815691</td>\n",
       "      <td>0.408024</td>\n",
       "      <td>0.349344</td>\n",
       "      <td>0.489188</td>\n",
       "    </tr>\n",
       "  </tbody>\n",
       "</table>\n",
       "</div>"
      ],
      "text/plain": [
       "          a         b         c         d\n",
       "0  0.219566  0.758568  0.083791  0.133619\n",
       "1  0.355279  0.619763  0.898229  0.327013\n",
       "2  0.861098  0.773990  0.082507  0.592778\n",
       "3  0.789417  0.744533  0.912826  0.098986\n",
       "4  0.097180  0.105939  0.774630  0.976518\n",
       "5  0.605852  0.714953  0.882319  0.445159\n",
       "6  0.673409  0.128264  0.054858  0.772344\n",
       "7  0.277179  0.775972  0.788206  0.776971\n",
       "8  0.719816  0.611534  0.969384  0.219180\n",
       "9  0.815691  0.408024  0.349344  0.489188"
      ]
     },
     "execution_count": 19,
     "metadata": {},
     "output_type": "execute_result"
    }
   ],
   "source": [
    "df1.iloc[0:10,]"
   ]
  },
  {
   "cell_type": "code",
   "execution_count": 20,
   "id": "introductory-treaty",
   "metadata": {},
   "outputs": [
    {
     "data": {
      "text/html": [
       "<div>\n",
       "<style scoped>\n",
       "    .dataframe tbody tr th:only-of-type {\n",
       "        vertical-align: middle;\n",
       "    }\n",
       "\n",
       "    .dataframe tbody tr th {\n",
       "        vertical-align: top;\n",
       "    }\n",
       "\n",
       "    .dataframe thead th {\n",
       "        text-align: right;\n",
       "    }\n",
       "</style>\n",
       "<table border=\"1\" class=\"dataframe\">\n",
       "  <thead>\n",
       "    <tr style=\"text-align: right;\">\n",
       "      <th></th>\n",
       "      <th>a</th>\n",
       "      <th>b</th>\n",
       "      <th>c</th>\n",
       "      <th>d</th>\n",
       "    </tr>\n",
       "  </thead>\n",
       "  <tbody>\n",
       "    <tr>\n",
       "      <th>0</th>\n",
       "      <td>0.219566</td>\n",
       "      <td>0.758568</td>\n",
       "      <td>0.083791</td>\n",
       "      <td>0.133619</td>\n",
       "    </tr>\n",
       "    <tr>\n",
       "      <th>1</th>\n",
       "      <td>0.355279</td>\n",
       "      <td>0.619763</td>\n",
       "      <td>0.898229</td>\n",
       "      <td>0.327013</td>\n",
       "    </tr>\n",
       "    <tr>\n",
       "      <th>2</th>\n",
       "      <td>0.861098</td>\n",
       "      <td>0.773990</td>\n",
       "      <td>0.082507</td>\n",
       "      <td>0.592778</td>\n",
       "    </tr>\n",
       "    <tr>\n",
       "      <th>3</th>\n",
       "      <td>0.789417</td>\n",
       "      <td>0.744533</td>\n",
       "      <td>0.912826</td>\n",
       "      <td>0.098986</td>\n",
       "    </tr>\n",
       "    <tr>\n",
       "      <th>4</th>\n",
       "      <td>0.097180</td>\n",
       "      <td>0.105939</td>\n",
       "      <td>0.774630</td>\n",
       "      <td>0.976518</td>\n",
       "    </tr>\n",
       "    <tr>\n",
       "      <th>5</th>\n",
       "      <td>0.605852</td>\n",
       "      <td>0.714953</td>\n",
       "      <td>0.882319</td>\n",
       "      <td>0.445159</td>\n",
       "    </tr>\n",
       "    <tr>\n",
       "      <th>6</th>\n",
       "      <td>0.673409</td>\n",
       "      <td>0.128264</td>\n",
       "      <td>0.054858</td>\n",
       "      <td>0.772344</td>\n",
       "    </tr>\n",
       "    <tr>\n",
       "      <th>7</th>\n",
       "      <td>0.277179</td>\n",
       "      <td>0.775972</td>\n",
       "      <td>0.788206</td>\n",
       "      <td>0.776971</td>\n",
       "    </tr>\n",
       "    <tr>\n",
       "      <th>8</th>\n",
       "      <td>0.719816</td>\n",
       "      <td>0.611534</td>\n",
       "      <td>0.969384</td>\n",
       "      <td>0.219180</td>\n",
       "    </tr>\n",
       "    <tr>\n",
       "      <th>9</th>\n",
       "      <td>0.815691</td>\n",
       "      <td>0.408024</td>\n",
       "      <td>0.349344</td>\n",
       "      <td>0.489188</td>\n",
       "    </tr>\n",
       "  </tbody>\n",
       "</table>\n",
       "</div>"
      ],
      "text/plain": [
       "          a         b         c         d\n",
       "0  0.219566  0.758568  0.083791  0.133619\n",
       "1  0.355279  0.619763  0.898229  0.327013\n",
       "2  0.861098  0.773990  0.082507  0.592778\n",
       "3  0.789417  0.744533  0.912826  0.098986\n",
       "4  0.097180  0.105939  0.774630  0.976518\n",
       "5  0.605852  0.714953  0.882319  0.445159\n",
       "6  0.673409  0.128264  0.054858  0.772344\n",
       "7  0.277179  0.775972  0.788206  0.776971\n",
       "8  0.719816  0.611534  0.969384  0.219180\n",
       "9  0.815691  0.408024  0.349344  0.489188"
      ]
     },
     "execution_count": 20,
     "metadata": {},
     "output_type": "execute_result"
    }
   ],
   "source": [
    "df1"
   ]
  },
  {
   "cell_type": "code",
   "execution_count": 21,
   "id": "mental-providence",
   "metadata": {},
   "outputs": [],
   "source": [
    "#plot histogram by default bins=10 no. of histogram\n",
    "#histogram is used for continuous dataset and bar diagram is used for discrete dataset\n",
    "data=pd.read_csv('glass.data')"
   ]
  },
  {
   "cell_type": "code",
   "execution_count": 22,
   "id": "israeli-assistant",
   "metadata": {},
   "outputs": [],
   "source": [
    "data=pd.read_csv(\"https://raw.githubusercontent.com/annaquaglieri16/brainSTEMM/master/data/teams.csv\")\n"
   ]
  },
  {
   "cell_type": "code",
   "execution_count": 23,
   "id": "comfortable-testing",
   "metadata": {},
   "outputs": [
    {
     "data": {
      "text/html": [
       "<div>\n",
       "<style scoped>\n",
       "    .dataframe tbody tr th:only-of-type {\n",
       "        vertical-align: middle;\n",
       "    }\n",
       "\n",
       "    .dataframe tbody tr th {\n",
       "        vertical-align: top;\n",
       "    }\n",
       "\n",
       "    .dataframe thead th {\n",
       "        text-align: right;\n",
       "    }\n",
       "</style>\n",
       "<table border=\"1\" class=\"dataframe\">\n",
       "  <thead>\n",
       "    <tr style=\"text-align: right;\">\n",
       "      <th></th>\n",
       "      <th>Club</th>\n",
       "      <th>Kicks TOT</th>\n",
       "      <th>Kicks AVG</th>\n",
       "      <th>Handballs TOT</th>\n",
       "      <th>Handballs AVG</th>\n",
       "      <th>Disposals TOT</th>\n",
       "      <th>Disposals AVG</th>\n",
       "      <th>Cont Poss TOT</th>\n",
       "      <th>Cont Poss AVG</th>\n",
       "      <th>Uncont Poss TOT</th>\n",
       "      <th>...</th>\n",
       "      <th>Goals TOT</th>\n",
       "      <th>Goals AVG</th>\n",
       "      <th>Behinds TOT</th>\n",
       "      <th>Behinds AVG</th>\n",
       "      <th>Goal assists TOT</th>\n",
       "      <th>Goal assists AVG</th>\n",
       "      <th>Goal acc %</th>\n",
       "      <th>Interchanges TOT</th>\n",
       "      <th>Interchanges AVG</th>\n",
       "      <th>Year</th>\n",
       "    </tr>\n",
       "  </thead>\n",
       "  <tbody>\n",
       "    <tr>\n",
       "      <th>0</th>\n",
       "      <td>Adelaide Crows</td>\n",
       "      <td>1052</td>\n",
       "      <td>131.5</td>\n",
       "      <td>458</td>\n",
       "      <td>57.3</td>\n",
       "      <td>1510</td>\n",
       "      <td>188.8</td>\n",
       "      <td>866</td>\n",
       "      <td>108.3</td>\n",
       "      <td>610</td>\n",
       "      <td>...</td>\n",
       "      <td>45</td>\n",
       "      <td>5.6</td>\n",
       "      <td>38</td>\n",
       "      <td>4.8</td>\n",
       "      <td>19</td>\n",
       "      <td>2.4</td>\n",
       "      <td>36.0</td>\n",
       "      <td>0</td>\n",
       "      <td>0</td>\n",
       "      <td>2017</td>\n",
       "    </tr>\n",
       "    <tr>\n",
       "      <th>1</th>\n",
       "      <td>Brisbane Lions</td>\n",
       "      <td>977</td>\n",
       "      <td>122.1</td>\n",
       "      <td>416</td>\n",
       "      <td>52.0</td>\n",
       "      <td>1393</td>\n",
       "      <td>174.1</td>\n",
       "      <td>745</td>\n",
       "      <td>93.1</td>\n",
       "      <td>637</td>\n",
       "      <td>...</td>\n",
       "      <td>35</td>\n",
       "      <td>4.4</td>\n",
       "      <td>26</td>\n",
       "      <td>3.3</td>\n",
       "      <td>19</td>\n",
       "      <td>2.4</td>\n",
       "      <td>40.2</td>\n",
       "      <td>57</td>\n",
       "      <td>57</td>\n",
       "      <td>2017</td>\n",
       "    </tr>\n",
       "    <tr>\n",
       "      <th>2</th>\n",
       "      <td>Carlton</td>\n",
       "      <td>780</td>\n",
       "      <td>111.4</td>\n",
       "      <td>424</td>\n",
       "      <td>60.6</td>\n",
       "      <td>1204</td>\n",
       "      <td>172.0</td>\n",
       "      <td>673</td>\n",
       "      <td>96.1</td>\n",
       "      <td>541</td>\n",
       "      <td>...</td>\n",
       "      <td>39</td>\n",
       "      <td>5.6</td>\n",
       "      <td>19</td>\n",
       "      <td>2.7</td>\n",
       "      <td>23</td>\n",
       "      <td>3.3</td>\n",
       "      <td>50.6</td>\n",
       "      <td>8</td>\n",
       "      <td>8</td>\n",
       "      <td>2017</td>\n",
       "    </tr>\n",
       "    <tr>\n",
       "      <th>3</th>\n",
       "      <td>Collingwood</td>\n",
       "      <td>838</td>\n",
       "      <td>119.7</td>\n",
       "      <td>335</td>\n",
       "      <td>47.9</td>\n",
       "      <td>1173</td>\n",
       "      <td>167.6</td>\n",
       "      <td>632</td>\n",
       "      <td>90.3</td>\n",
       "      <td>550</td>\n",
       "      <td>...</td>\n",
       "      <td>32</td>\n",
       "      <td>4.6</td>\n",
       "      <td>29</td>\n",
       "      <td>4.1</td>\n",
       "      <td>18</td>\n",
       "      <td>2.6</td>\n",
       "      <td>45.7</td>\n",
       "      <td>30</td>\n",
       "      <td>30</td>\n",
       "      <td>2017</td>\n",
       "    </tr>\n",
       "    <tr>\n",
       "      <th>4</th>\n",
       "      <td>Fremantle</td>\n",
       "      <td>818</td>\n",
       "      <td>116.9</td>\n",
       "      <td>409</td>\n",
       "      <td>58.4</td>\n",
       "      <td>1227</td>\n",
       "      <td>175.3</td>\n",
       "      <td>650</td>\n",
       "      <td>92.9</td>\n",
       "      <td>564</td>\n",
       "      <td>...</td>\n",
       "      <td>25</td>\n",
       "      <td>3.6</td>\n",
       "      <td>34</td>\n",
       "      <td>4.9</td>\n",
       "      <td>15</td>\n",
       "      <td>2.1</td>\n",
       "      <td>34.2</td>\n",
       "      <td>33</td>\n",
       "      <td>33</td>\n",
       "      <td>2017</td>\n",
       "    </tr>\n",
       "    <tr>\n",
       "      <th>5</th>\n",
       "      <td>GWS Giants</td>\n",
       "      <td>758</td>\n",
       "      <td>108.3</td>\n",
       "      <td>351</td>\n",
       "      <td>50.1</td>\n",
       "      <td>1109</td>\n",
       "      <td>158.4</td>\n",
       "      <td>598</td>\n",
       "      <td>85.4</td>\n",
       "      <td>480</td>\n",
       "      <td>...</td>\n",
       "      <td>23</td>\n",
       "      <td>3.3</td>\n",
       "      <td>15</td>\n",
       "      <td>2.1</td>\n",
       "      <td>15</td>\n",
       "      <td>2.1</td>\n",
       "      <td>43.4</td>\n",
       "      <td>54</td>\n",
       "      <td>54</td>\n",
       "      <td>2017</td>\n",
       "    </tr>\n",
       "    <tr>\n",
       "      <th>6</th>\n",
       "      <td>Melbourne</td>\n",
       "      <td>911</td>\n",
       "      <td>130.1</td>\n",
       "      <td>575</td>\n",
       "      <td>82.1</td>\n",
       "      <td>1486</td>\n",
       "      <td>212.3</td>\n",
       "      <td>728</td>\n",
       "      <td>104.0</td>\n",
       "      <td>758</td>\n",
       "      <td>...</td>\n",
       "      <td>37</td>\n",
       "      <td>5.3</td>\n",
       "      <td>31</td>\n",
       "      <td>4.4</td>\n",
       "      <td>20</td>\n",
       "      <td>2.9</td>\n",
       "      <td>37.4</td>\n",
       "      <td>37</td>\n",
       "      <td>37</td>\n",
       "      <td>2017</td>\n",
       "    </tr>\n",
       "    <tr>\n",
       "      <th>7</th>\n",
       "      <td>Western Bulldogs</td>\n",
       "      <td>706</td>\n",
       "      <td>100.9</td>\n",
       "      <td>510</td>\n",
       "      <td>72.9</td>\n",
       "      <td>1216</td>\n",
       "      <td>173.7</td>\n",
       "      <td>629</td>\n",
       "      <td>89.9</td>\n",
       "      <td>597</td>\n",
       "      <td>...</td>\n",
       "      <td>31</td>\n",
       "      <td>4.4</td>\n",
       "      <td>42</td>\n",
       "      <td>6.0</td>\n",
       "      <td>17</td>\n",
       "      <td>2.4</td>\n",
       "      <td>34.4</td>\n",
       "      <td>30</td>\n",
       "      <td>30</td>\n",
       "      <td>2017</td>\n",
       "    </tr>\n",
       "    <tr>\n",
       "      <th>8</th>\n",
       "      <td>Adelaide Crows</td>\n",
       "      <td>906</td>\n",
       "      <td>129.4</td>\n",
       "      <td>312</td>\n",
       "      <td>44.6</td>\n",
       "      <td>1218</td>\n",
       "      <td>174.0</td>\n",
       "      <td>684</td>\n",
       "      <td>97.7</td>\n",
       "      <td>495</td>\n",
       "      <td>...</td>\n",
       "      <td>33</td>\n",
       "      <td>4.7</td>\n",
       "      <td>32</td>\n",
       "      <td>32.0</td>\n",
       "      <td>14</td>\n",
       "      <td>2.0</td>\n",
       "      <td>42.3</td>\n",
       "      <td>0</td>\n",
       "      <td>0</td>\n",
       "      <td>2018</td>\n",
       "    </tr>\n",
       "    <tr>\n",
       "      <th>9</th>\n",
       "      <td>Brisbane Lions</td>\n",
       "      <td>1077</td>\n",
       "      <td>134.6</td>\n",
       "      <td>574</td>\n",
       "      <td>71.8</td>\n",
       "      <td>1651</td>\n",
       "      <td>206.4</td>\n",
       "      <td>824</td>\n",
       "      <td>103.0</td>\n",
       "      <td>789</td>\n",
       "      <td>...</td>\n",
       "      <td>38</td>\n",
       "      <td>4.8</td>\n",
       "      <td>41</td>\n",
       "      <td>41.0</td>\n",
       "      <td>18</td>\n",
       "      <td>2.3</td>\n",
       "      <td>38.8</td>\n",
       "      <td>0</td>\n",
       "      <td>0</td>\n",
       "      <td>2018</td>\n",
       "    </tr>\n",
       "    <tr>\n",
       "      <th>10</th>\n",
       "      <td>Carlton</td>\n",
       "      <td>757</td>\n",
       "      <td>108.1</td>\n",
       "      <td>360</td>\n",
       "      <td>51.4</td>\n",
       "      <td>1117</td>\n",
       "      <td>159.6</td>\n",
       "      <td>626</td>\n",
       "      <td>89.4</td>\n",
       "      <td>491</td>\n",
       "      <td>...</td>\n",
       "      <td>21</td>\n",
       "      <td>3.0</td>\n",
       "      <td>47</td>\n",
       "      <td>47.0</td>\n",
       "      <td>9</td>\n",
       "      <td>1.3</td>\n",
       "      <td>27.3</td>\n",
       "      <td>0</td>\n",
       "      <td>0</td>\n",
       "      <td>2018</td>\n",
       "    </tr>\n",
       "    <tr>\n",
       "      <th>11</th>\n",
       "      <td>Collingwood</td>\n",
       "      <td>959</td>\n",
       "      <td>137.0</td>\n",
       "      <td>422</td>\n",
       "      <td>60.3</td>\n",
       "      <td>1381</td>\n",
       "      <td>197.3</td>\n",
       "      <td>641</td>\n",
       "      <td>91.6</td>\n",
       "      <td>694</td>\n",
       "      <td>...</td>\n",
       "      <td>42</td>\n",
       "      <td>6.0</td>\n",
       "      <td>29</td>\n",
       "      <td>29.0</td>\n",
       "      <td>21</td>\n",
       "      <td>3.0</td>\n",
       "      <td>48.8</td>\n",
       "      <td>0</td>\n",
       "      <td>0</td>\n",
       "      <td>2018</td>\n",
       "    </tr>\n",
       "    <tr>\n",
       "      <th>12</th>\n",
       "      <td>Fremantle</td>\n",
       "      <td>850</td>\n",
       "      <td>121.4</td>\n",
       "      <td>422</td>\n",
       "      <td>60.3</td>\n",
       "      <td>1272</td>\n",
       "      <td>181.7</td>\n",
       "      <td>685</td>\n",
       "      <td>97.9</td>\n",
       "      <td>547</td>\n",
       "      <td>...</td>\n",
       "      <td>34</td>\n",
       "      <td>4.9</td>\n",
       "      <td>26</td>\n",
       "      <td>26.0</td>\n",
       "      <td>16</td>\n",
       "      <td>2.3</td>\n",
       "      <td>48.6</td>\n",
       "      <td>0</td>\n",
       "      <td>0</td>\n",
       "      <td>2018</td>\n",
       "    </tr>\n",
       "    <tr>\n",
       "      <th>13</th>\n",
       "      <td>GWS Giants</td>\n",
       "      <td>848</td>\n",
       "      <td>121.1</td>\n",
       "      <td>446</td>\n",
       "      <td>63.7</td>\n",
       "      <td>1294</td>\n",
       "      <td>184.9</td>\n",
       "      <td>708</td>\n",
       "      <td>101.1</td>\n",
       "      <td>537</td>\n",
       "      <td>...</td>\n",
       "      <td>32</td>\n",
       "      <td>4.6</td>\n",
       "      <td>32</td>\n",
       "      <td>32.0</td>\n",
       "      <td>14</td>\n",
       "      <td>2.0</td>\n",
       "      <td>41.0</td>\n",
       "      <td>0</td>\n",
       "      <td>0</td>\n",
       "      <td>2018</td>\n",
       "    </tr>\n",
       "    <tr>\n",
       "      <th>14</th>\n",
       "      <td>Melbourne</td>\n",
       "      <td>894</td>\n",
       "      <td>127.7</td>\n",
       "      <td>567</td>\n",
       "      <td>81.0</td>\n",
       "      <td>1461</td>\n",
       "      <td>208.7</td>\n",
       "      <td>776</td>\n",
       "      <td>110.9</td>\n",
       "      <td>687</td>\n",
       "      <td>...</td>\n",
       "      <td>38</td>\n",
       "      <td>5.4</td>\n",
       "      <td>50</td>\n",
       "      <td>50.0</td>\n",
       "      <td>21</td>\n",
       "      <td>3.0</td>\n",
       "      <td>37.3</td>\n",
       "      <td>0</td>\n",
       "      <td>0</td>\n",
       "      <td>2018</td>\n",
       "    </tr>\n",
       "    <tr>\n",
       "      <th>15</th>\n",
       "      <td>Western Bulldogs</td>\n",
       "      <td>1050</td>\n",
       "      <td>131.3</td>\n",
       "      <td>472</td>\n",
       "      <td>59.0</td>\n",
       "      <td>1522</td>\n",
       "      <td>190.3</td>\n",
       "      <td>745</td>\n",
       "      <td>93.1</td>\n",
       "      <td>760</td>\n",
       "      <td>...</td>\n",
       "      <td>49</td>\n",
       "      <td>6.1</td>\n",
       "      <td>45</td>\n",
       "      <td>45.0</td>\n",
       "      <td>25</td>\n",
       "      <td>3.1</td>\n",
       "      <td>42.2</td>\n",
       "      <td>0</td>\n",
       "      <td>0</td>\n",
       "      <td>2018</td>\n",
       "    </tr>\n",
       "  </tbody>\n",
       "</table>\n",
       "<p>16 rows × 52 columns</p>\n",
       "</div>"
      ],
      "text/plain": [
       "                Club  Kicks TOT  Kicks AVG  Handballs TOT  Handballs AVG  \\\n",
       "0     Adelaide Crows       1052      131.5            458           57.3   \n",
       "1     Brisbane Lions        977      122.1            416           52.0   \n",
       "2            Carlton        780      111.4            424           60.6   \n",
       "3        Collingwood        838      119.7            335           47.9   \n",
       "4          Fremantle        818      116.9            409           58.4   \n",
       "5         GWS Giants        758      108.3            351           50.1   \n",
       "6          Melbourne        911      130.1            575           82.1   \n",
       "7   Western Bulldogs        706      100.9            510           72.9   \n",
       "8     Adelaide Crows        906      129.4            312           44.6   \n",
       "9     Brisbane Lions       1077      134.6            574           71.8   \n",
       "10           Carlton        757      108.1            360           51.4   \n",
       "11       Collingwood        959      137.0            422           60.3   \n",
       "12         Fremantle        850      121.4            422           60.3   \n",
       "13        GWS Giants        848      121.1            446           63.7   \n",
       "14         Melbourne        894      127.7            567           81.0   \n",
       "15  Western Bulldogs       1050      131.3            472           59.0   \n",
       "\n",
       "    Disposals TOT  Disposals AVG  Cont Poss TOT  Cont Poss AVG  \\\n",
       "0            1510          188.8            866          108.3   \n",
       "1            1393          174.1            745           93.1   \n",
       "2            1204          172.0            673           96.1   \n",
       "3            1173          167.6            632           90.3   \n",
       "4            1227          175.3            650           92.9   \n",
       "5            1109          158.4            598           85.4   \n",
       "6            1486          212.3            728          104.0   \n",
       "7            1216          173.7            629           89.9   \n",
       "8            1218          174.0            684           97.7   \n",
       "9            1651          206.4            824          103.0   \n",
       "10           1117          159.6            626           89.4   \n",
       "11           1381          197.3            641           91.6   \n",
       "12           1272          181.7            685           97.9   \n",
       "13           1294          184.9            708          101.1   \n",
       "14           1461          208.7            776          110.9   \n",
       "15           1522          190.3            745           93.1   \n",
       "\n",
       "    Uncont Poss TOT  ...  Goals TOT  Goals AVG  Behinds TOT  Behinds AVG  \\\n",
       "0               610  ...         45        5.6           38          4.8   \n",
       "1               637  ...         35        4.4           26          3.3   \n",
       "2               541  ...         39        5.6           19          2.7   \n",
       "3               550  ...         32        4.6           29          4.1   \n",
       "4               564  ...         25        3.6           34          4.9   \n",
       "5               480  ...         23        3.3           15          2.1   \n",
       "6               758  ...         37        5.3           31          4.4   \n",
       "7               597  ...         31        4.4           42          6.0   \n",
       "8               495  ...         33        4.7           32         32.0   \n",
       "9               789  ...         38        4.8           41         41.0   \n",
       "10              491  ...         21        3.0           47         47.0   \n",
       "11              694  ...         42        6.0           29         29.0   \n",
       "12              547  ...         34        4.9           26         26.0   \n",
       "13              537  ...         32        4.6           32         32.0   \n",
       "14              687  ...         38        5.4           50         50.0   \n",
       "15              760  ...         49        6.1           45         45.0   \n",
       "\n",
       "    Goal assists TOT  Goal assists AVG  Goal acc %  Interchanges TOT  \\\n",
       "0                 19               2.4        36.0                 0   \n",
       "1                 19               2.4        40.2                57   \n",
       "2                 23               3.3        50.6                 8   \n",
       "3                 18               2.6        45.7                30   \n",
       "4                 15               2.1        34.2                33   \n",
       "5                 15               2.1        43.4                54   \n",
       "6                 20               2.9        37.4                37   \n",
       "7                 17               2.4        34.4                30   \n",
       "8                 14               2.0        42.3                 0   \n",
       "9                 18               2.3        38.8                 0   \n",
       "10                 9               1.3        27.3                 0   \n",
       "11                21               3.0        48.8                 0   \n",
       "12                16               2.3        48.6                 0   \n",
       "13                14               2.0        41.0                 0   \n",
       "14                21               3.0        37.3                 0   \n",
       "15                25               3.1        42.2                 0   \n",
       "\n",
       "    Interchanges AVG  Year  \n",
       "0                  0  2017  \n",
       "1                 57  2017  \n",
       "2                  8  2017  \n",
       "3                 30  2017  \n",
       "4                 33  2017  \n",
       "5                 54  2017  \n",
       "6                 37  2017  \n",
       "7                 30  2017  \n",
       "8                  0  2018  \n",
       "9                  0  2018  \n",
       "10                 0  2018  \n",
       "11                 0  2018  \n",
       "12                 0  2018  \n",
       "13                 0  2018  \n",
       "14                 0  2018  \n",
       "15                 0  2018  \n",
       "\n",
       "[16 rows x 52 columns]"
      ]
     },
     "execution_count": 23,
     "metadata": {},
     "output_type": "execute_result"
    }
   ],
   "source": [
    "data"
   ]
  },
  {
   "cell_type": "code",
   "execution_count": 24,
   "id": "centered-outline",
   "metadata": {},
   "outputs": [
    {
     "data": {
      "text/plain": [
       "<AxesSubplot:ylabel='Frequency'>"
      ]
     },
     "execution_count": 24,
     "metadata": {},
     "output_type": "execute_result"
    },
    {
     "data": {
      "image/png": "[encoded data removed]",
      "text/plain": [
       "<Figure size 432x288 with 1 Axes>"
      ]
     },
     "metadata": {
      "needs_background": "light"
     },
     "output_type": "display_data"
    }
   ],
   "source": [
    "df1.plot.hist(bins=5)"
   ]
  },
  {
   "cell_type": "code",
   "execution_count": 25,
   "id": "forty-possible",
   "metadata": {},
   "outputs": [
    {
     "data": {
      "text/plain": [
       "<AxesSubplot:>"
      ]
     },
     "execution_count": 25,
     "metadata": {},
     "output_type": "execute_result"
    },
    {
     "data": {
      "image/png": "[encoded data removed]",
      "text/plain": [
       "<Figure size 432x288 with 1 Axes>"
      ]
     },
     "metadata": {
      "needs_background": "light"
     },
     "output_type": "display_data"
    }
   ],
   "source": [
    "df1.plot.area()"
   ]
  },
  {
   "cell_type": "code",
   "execution_count": 26,
   "id": "hundred-buffer",
   "metadata": {},
   "outputs": [],
   "source": [
    "df2=pd.DataFrame(np.random.rand(5,3),columns=['costA','costB','costC'])"
   ]
  },
  {
   "cell_type": "code",
   "execution_count": 27,
   "id": "smart-impossible",
   "metadata": {},
   "outputs": [
    {
     "data": {
      "text/html": [
       "<div>\n",
       "<style scoped>\n",
       "    .dataframe tbody tr th:only-of-type {\n",
       "        vertical-align: middle;\n",
       "    }\n",
       "\n",
       "    .dataframe tbody tr th {\n",
       "        vertical-align: top;\n",
       "    }\n",
       "\n",
       "    .dataframe thead th {\n",
       "        text-align: right;\n",
       "    }\n",
       "</style>\n",
       "<table border=\"1\" class=\"dataframe\">\n",
       "  <thead>\n",
       "    <tr style=\"text-align: right;\">\n",
       "      <th></th>\n",
       "      <th>costA</th>\n",
       "      <th>costB</th>\n",
       "      <th>costC</th>\n",
       "    </tr>\n",
       "  </thead>\n",
       "  <tbody>\n",
       "    <tr>\n",
       "      <th>0</th>\n",
       "      <td>0.779723</td>\n",
       "      <td>0.693456</td>\n",
       "      <td>0.718337</td>\n",
       "    </tr>\n",
       "    <tr>\n",
       "      <th>1</th>\n",
       "      <td>0.583202</td>\n",
       "      <td>0.371055</td>\n",
       "      <td>0.823686</td>\n",
       "    </tr>\n",
       "    <tr>\n",
       "      <th>2</th>\n",
       "      <td>0.303161</td>\n",
       "      <td>0.180887</td>\n",
       "      <td>0.219035</td>\n",
       "    </tr>\n",
       "    <tr>\n",
       "      <th>3</th>\n",
       "      <td>0.324957</td>\n",
       "      <td>0.765165</td>\n",
       "      <td>0.844575</td>\n",
       "    </tr>\n",
       "    <tr>\n",
       "      <th>4</th>\n",
       "      <td>0.812827</td>\n",
       "      <td>0.364185</td>\n",
       "      <td>0.867486</td>\n",
       "    </tr>\n",
       "  </tbody>\n",
       "</table>\n",
       "</div>"
      ],
      "text/plain": [
       "      costA     costB     costC\n",
       "0  0.779723  0.693456  0.718337\n",
       "1  0.583202  0.371055  0.823686\n",
       "2  0.303161  0.180887  0.219035\n",
       "3  0.324957  0.765165  0.844575\n",
       "4  0.812827  0.364185  0.867486"
      ]
     },
     "execution_count": 27,
     "metadata": {},
     "output_type": "execute_result"
    }
   ],
   "source": [
    "df2"
   ]
  },
  {
   "cell_type": "code",
   "execution_count": 28,
   "id": "cathedral-palmer",
   "metadata": {},
   "outputs": [
    {
     "data": {
      "text/plain": [
       "<AxesSubplot:ylabel='Frequency'>"
      ]
     },
     "execution_count": 28,
     "metadata": {},
     "output_type": "execute_result"
    },
    {
     "data": {
      "image/png": "[encoded data removed]",
      "text/plain": [
       "<Figure size 432x288 with 1 Axes>"
      ]
     },
     "metadata": {
      "needs_background": "light"
     },
     "output_type": "display_data"
    }
   ],
   "source": [
    "df2.plot.hist(bins=20)"
   ]
  },
  {
   "cell_type": "code",
   "execution_count": 29,
   "id": "blind-protein",
   "metadata": {},
   "outputs": [
    {
     "data": {
      "text/plain": [
       "<AxesSubplot:ylabel='Frequency'>"
      ]
     },
     "execution_count": 29,
     "metadata": {},
     "output_type": "execute_result"
    },
    {
     "data": {
      "image/png": "[encoded data removed]",
      "text/plain": [
       "<Figure size 432x288 with 1 Axes>"
      ]
     },
     "metadata": {
      "needs_background": "light"
     },
     "output_type": "display_data"
    }
   ],
   "source": [
    "df2['costA'].plot.hist(bins=10)"
   ]
  },
  {
   "cell_type": "code",
   "execution_count": 30,
   "id": "invisible-georgia",
   "metadata": {},
   "outputs": [
    {
     "data": {
      "text/html": [
       "<div>\n",
       "<style scoped>\n",
       "    .dataframe tbody tr th:only-of-type {\n",
       "        vertical-align: middle;\n",
       "    }\n",
       "\n",
       "    .dataframe tbody tr th {\n",
       "        vertical-align: top;\n",
       "    }\n",
       "\n",
       "    .dataframe thead th {\n",
       "        text-align: right;\n",
       "    }\n",
       "</style>\n",
       "<table border=\"1\" class=\"dataframe\">\n",
       "  <thead>\n",
       "    <tr style=\"text-align: right;\">\n",
       "      <th></th>\n",
       "      <th>costA</th>\n",
       "    </tr>\n",
       "  </thead>\n",
       "  <tbody>\n",
       "    <tr>\n",
       "      <th>0</th>\n",
       "      <td>0.779723</td>\n",
       "    </tr>\n",
       "    <tr>\n",
       "      <th>1</th>\n",
       "      <td>0.583202</td>\n",
       "    </tr>\n",
       "    <tr>\n",
       "      <th>2</th>\n",
       "      <td>0.303161</td>\n",
       "    </tr>\n",
       "    <tr>\n",
       "      <th>3</th>\n",
       "      <td>0.324957</td>\n",
       "    </tr>\n",
       "    <tr>\n",
       "      <th>4</th>\n",
       "      <td>0.812827</td>\n",
       "    </tr>\n",
       "  </tbody>\n",
       "</table>\n",
       "</div>"
      ],
      "text/plain": [
       "      costA\n",
       "0  0.779723\n",
       "1  0.583202\n",
       "2  0.303161\n",
       "3  0.324957\n",
       "4  0.812827"
      ]
     },
     "execution_count": 30,
     "metadata": {},
     "output_type": "execute_result"
    }
   ],
   "source": [
    "df2[['costA']]"
   ]
  },
  {
   "cell_type": "code",
   "execution_count": 31,
   "id": "streaming-panama",
   "metadata": {},
   "outputs": [
    {
     "data": {
      "text/html": [
       "<div>\n",
       "<style scoped>\n",
       "    .dataframe tbody tr th:only-of-type {\n",
       "        vertical-align: middle;\n",
       "    }\n",
       "\n",
       "    .dataframe tbody tr th {\n",
       "        vertical-align: top;\n",
       "    }\n",
       "\n",
       "    .dataframe thead th {\n",
       "        text-align: right;\n",
       "    }\n",
       "</style>\n",
       "<table border=\"1\" class=\"dataframe\">\n",
       "  <thead>\n",
       "    <tr style=\"text-align: right;\">\n",
       "      <th></th>\n",
       "      <th>Club</th>\n",
       "      <th>Kicks TOT</th>\n",
       "      <th>Kicks AVG</th>\n",
       "      <th>Handballs TOT</th>\n",
       "      <th>Handballs AVG</th>\n",
       "      <th>Disposals TOT</th>\n",
       "      <th>Disposals AVG</th>\n",
       "      <th>Cont Poss TOT</th>\n",
       "      <th>Cont Poss AVG</th>\n",
       "      <th>Uncont Poss TOT</th>\n",
       "      <th>...</th>\n",
       "      <th>Goals TOT</th>\n",
       "      <th>Goals AVG</th>\n",
       "      <th>Behinds TOT</th>\n",
       "      <th>Behinds AVG</th>\n",
       "      <th>Goal assists TOT</th>\n",
       "      <th>Goal assists AVG</th>\n",
       "      <th>Goal acc %</th>\n",
       "      <th>Interchanges TOT</th>\n",
       "      <th>Interchanges AVG</th>\n",
       "      <th>Year</th>\n",
       "    </tr>\n",
       "  </thead>\n",
       "  <tbody>\n",
       "    <tr>\n",
       "      <th>0</th>\n",
       "      <td>Adelaide Crows</td>\n",
       "      <td>1052</td>\n",
       "      <td>131.5</td>\n",
       "      <td>458</td>\n",
       "      <td>57.3</td>\n",
       "      <td>1510</td>\n",
       "      <td>188.8</td>\n",
       "      <td>866</td>\n",
       "      <td>108.3</td>\n",
       "      <td>610</td>\n",
       "      <td>...</td>\n",
       "      <td>45</td>\n",
       "      <td>5.6</td>\n",
       "      <td>38</td>\n",
       "      <td>4.8</td>\n",
       "      <td>19</td>\n",
       "      <td>2.4</td>\n",
       "      <td>36.0</td>\n",
       "      <td>0</td>\n",
       "      <td>0</td>\n",
       "      <td>2017</td>\n",
       "    </tr>\n",
       "    <tr>\n",
       "      <th>1</th>\n",
       "      <td>Brisbane Lions</td>\n",
       "      <td>977</td>\n",
       "      <td>122.1</td>\n",
       "      <td>416</td>\n",
       "      <td>52.0</td>\n",
       "      <td>1393</td>\n",
       "      <td>174.1</td>\n",
       "      <td>745</td>\n",
       "      <td>93.1</td>\n",
       "      <td>637</td>\n",
       "      <td>...</td>\n",
       "      <td>35</td>\n",
       "      <td>4.4</td>\n",
       "      <td>26</td>\n",
       "      <td>3.3</td>\n",
       "      <td>19</td>\n",
       "      <td>2.4</td>\n",
       "      <td>40.2</td>\n",
       "      <td>57</td>\n",
       "      <td>57</td>\n",
       "      <td>2017</td>\n",
       "    </tr>\n",
       "    <tr>\n",
       "      <th>2</th>\n",
       "      <td>Carlton</td>\n",
       "      <td>780</td>\n",
       "      <td>111.4</td>\n",
       "      <td>424</td>\n",
       "      <td>60.6</td>\n",
       "      <td>1204</td>\n",
       "      <td>172.0</td>\n",
       "      <td>673</td>\n",
       "      <td>96.1</td>\n",
       "      <td>541</td>\n",
       "      <td>...</td>\n",
       "      <td>39</td>\n",
       "      <td>5.6</td>\n",
       "      <td>19</td>\n",
       "      <td>2.7</td>\n",
       "      <td>23</td>\n",
       "      <td>3.3</td>\n",
       "      <td>50.6</td>\n",
       "      <td>8</td>\n",
       "      <td>8</td>\n",
       "      <td>2017</td>\n",
       "    </tr>\n",
       "    <tr>\n",
       "      <th>3</th>\n",
       "      <td>Collingwood</td>\n",
       "      <td>838</td>\n",
       "      <td>119.7</td>\n",
       "      <td>335</td>\n",
       "      <td>47.9</td>\n",
       "      <td>1173</td>\n",
       "      <td>167.6</td>\n",
       "      <td>632</td>\n",
       "      <td>90.3</td>\n",
       "      <td>550</td>\n",
       "      <td>...</td>\n",
       "      <td>32</td>\n",
       "      <td>4.6</td>\n",
       "      <td>29</td>\n",
       "      <td>4.1</td>\n",
       "      <td>18</td>\n",
       "      <td>2.6</td>\n",
       "      <td>45.7</td>\n",
       "      <td>30</td>\n",
       "      <td>30</td>\n",
       "      <td>2017</td>\n",
       "    </tr>\n",
       "    <tr>\n",
       "      <th>4</th>\n",
       "      <td>Fremantle</td>\n",
       "      <td>818</td>\n",
       "      <td>116.9</td>\n",
       "      <td>409</td>\n",
       "      <td>58.4</td>\n",
       "      <td>1227</td>\n",
       "      <td>175.3</td>\n",
       "      <td>650</td>\n",
       "      <td>92.9</td>\n",
       "      <td>564</td>\n",
       "      <td>...</td>\n",
       "      <td>25</td>\n",
       "      <td>3.6</td>\n",
       "      <td>34</td>\n",
       "      <td>4.9</td>\n",
       "      <td>15</td>\n",
       "      <td>2.1</td>\n",
       "      <td>34.2</td>\n",
       "      <td>33</td>\n",
       "      <td>33</td>\n",
       "      <td>2017</td>\n",
       "    </tr>\n",
       "    <tr>\n",
       "      <th>5</th>\n",
       "      <td>GWS Giants</td>\n",
       "      <td>758</td>\n",
       "      <td>108.3</td>\n",
       "      <td>351</td>\n",
       "      <td>50.1</td>\n",
       "      <td>1109</td>\n",
       "      <td>158.4</td>\n",
       "      <td>598</td>\n",
       "      <td>85.4</td>\n",
       "      <td>480</td>\n",
       "      <td>...</td>\n",
       "      <td>23</td>\n",
       "      <td>3.3</td>\n",
       "      <td>15</td>\n",
       "      <td>2.1</td>\n",
       "      <td>15</td>\n",
       "      <td>2.1</td>\n",
       "      <td>43.4</td>\n",
       "      <td>54</td>\n",
       "      <td>54</td>\n",
       "      <td>2017</td>\n",
       "    </tr>\n",
       "    <tr>\n",
       "      <th>6</th>\n",
       "      <td>Melbourne</td>\n",
       "      <td>911</td>\n",
       "      <td>130.1</td>\n",
       "      <td>575</td>\n",
       "      <td>82.1</td>\n",
       "      <td>1486</td>\n",
       "      <td>212.3</td>\n",
       "      <td>728</td>\n",
       "      <td>104.0</td>\n",
       "      <td>758</td>\n",
       "      <td>...</td>\n",
       "      <td>37</td>\n",
       "      <td>5.3</td>\n",
       "      <td>31</td>\n",
       "      <td>4.4</td>\n",
       "      <td>20</td>\n",
       "      <td>2.9</td>\n",
       "      <td>37.4</td>\n",
       "      <td>37</td>\n",
       "      <td>37</td>\n",
       "      <td>2017</td>\n",
       "    </tr>\n",
       "    <tr>\n",
       "      <th>7</th>\n",
       "      <td>Western Bulldogs</td>\n",
       "      <td>706</td>\n",
       "      <td>100.9</td>\n",
       "      <td>510</td>\n",
       "      <td>72.9</td>\n",
       "      <td>1216</td>\n",
       "      <td>173.7</td>\n",
       "      <td>629</td>\n",
       "      <td>89.9</td>\n",
       "      <td>597</td>\n",
       "      <td>...</td>\n",
       "      <td>31</td>\n",
       "      <td>4.4</td>\n",
       "      <td>42</td>\n",
       "      <td>6.0</td>\n",
       "      <td>17</td>\n",
       "      <td>2.4</td>\n",
       "      <td>34.4</td>\n",
       "      <td>30</td>\n",
       "      <td>30</td>\n",
       "      <td>2017</td>\n",
       "    </tr>\n",
       "    <tr>\n",
       "      <th>8</th>\n",
       "      <td>Adelaide Crows</td>\n",
       "      <td>906</td>\n",
       "      <td>129.4</td>\n",
       "      <td>312</td>\n",
       "      <td>44.6</td>\n",
       "      <td>1218</td>\n",
       "      <td>174.0</td>\n",
       "      <td>684</td>\n",
       "      <td>97.7</td>\n",
       "      <td>495</td>\n",
       "      <td>...</td>\n",
       "      <td>33</td>\n",
       "      <td>4.7</td>\n",
       "      <td>32</td>\n",
       "      <td>32.0</td>\n",
       "      <td>14</td>\n",
       "      <td>2.0</td>\n",
       "      <td>42.3</td>\n",
       "      <td>0</td>\n",
       "      <td>0</td>\n",
       "      <td>2018</td>\n",
       "    </tr>\n",
       "    <tr>\n",
       "      <th>9</th>\n",
       "      <td>Brisbane Lions</td>\n",
       "      <td>1077</td>\n",
       "      <td>134.6</td>\n",
       "      <td>574</td>\n",
       "      <td>71.8</td>\n",
       "      <td>1651</td>\n",
       "      <td>206.4</td>\n",
       "      <td>824</td>\n",
       "      <td>103.0</td>\n",
       "      <td>789</td>\n",
       "      <td>...</td>\n",
       "      <td>38</td>\n",
       "      <td>4.8</td>\n",
       "      <td>41</td>\n",
       "      <td>41.0</td>\n",
       "      <td>18</td>\n",
       "      <td>2.3</td>\n",
       "      <td>38.8</td>\n",
       "      <td>0</td>\n",
       "      <td>0</td>\n",
       "      <td>2018</td>\n",
       "    </tr>\n",
       "    <tr>\n",
       "      <th>10</th>\n",
       "      <td>Carlton</td>\n",
       "      <td>757</td>\n",
       "      <td>108.1</td>\n",
       "      <td>360</td>\n",
       "      <td>51.4</td>\n",
       "      <td>1117</td>\n",
       "      <td>159.6</td>\n",
       "      <td>626</td>\n",
       "      <td>89.4</td>\n",
       "      <td>491</td>\n",
       "      <td>...</td>\n",
       "      <td>21</td>\n",
       "      <td>3.0</td>\n",
       "      <td>47</td>\n",
       "      <td>47.0</td>\n",
       "      <td>9</td>\n",
       "      <td>1.3</td>\n",
       "      <td>27.3</td>\n",
       "      <td>0</td>\n",
       "      <td>0</td>\n",
       "      <td>2018</td>\n",
       "    </tr>\n",
       "    <tr>\n",
       "      <th>11</th>\n",
       "      <td>Collingwood</td>\n",
       "      <td>959</td>\n",
       "      <td>137.0</td>\n",
       "      <td>422</td>\n",
       "      <td>60.3</td>\n",
       "      <td>1381</td>\n",
       "      <td>197.3</td>\n",
       "      <td>641</td>\n",
       "      <td>91.6</td>\n",
       "      <td>694</td>\n",
       "      <td>...</td>\n",
       "      <td>42</td>\n",
       "      <td>6.0</td>\n",
       "      <td>29</td>\n",
       "      <td>29.0</td>\n",
       "      <td>21</td>\n",
       "      <td>3.0</td>\n",
       "      <td>48.8</td>\n",
       "      <td>0</td>\n",
       "      <td>0</td>\n",
       "      <td>2018</td>\n",
       "    </tr>\n",
       "    <tr>\n",
       "      <th>12</th>\n",
       "      <td>Fremantle</td>\n",
       "      <td>850</td>\n",
       "      <td>121.4</td>\n",
       "      <td>422</td>\n",
       "      <td>60.3</td>\n",
       "      <td>1272</td>\n",
       "      <td>181.7</td>\n",
       "      <td>685</td>\n",
       "      <td>97.9</td>\n",
       "      <td>547</td>\n",
       "      <td>...</td>\n",
       "      <td>34</td>\n",
       "      <td>4.9</td>\n",
       "      <td>26</td>\n",
       "      <td>26.0</td>\n",
       "      <td>16</td>\n",
       "      <td>2.3</td>\n",
       "      <td>48.6</td>\n",
       "      <td>0</td>\n",
       "      <td>0</td>\n",
       "      <td>2018</td>\n",
       "    </tr>\n",
       "    <tr>\n",
       "      <th>13</th>\n",
       "      <td>GWS Giants</td>\n",
       "      <td>848</td>\n",
       "      <td>121.1</td>\n",
       "      <td>446</td>\n",
       "      <td>63.7</td>\n",
       "      <td>1294</td>\n",
       "      <td>184.9</td>\n",
       "      <td>708</td>\n",
       "      <td>101.1</td>\n",
       "      <td>537</td>\n",
       "      <td>...</td>\n",
       "      <td>32</td>\n",
       "      <td>4.6</td>\n",
       "      <td>32</td>\n",
       "      <td>32.0</td>\n",
       "      <td>14</td>\n",
       "      <td>2.0</td>\n",
       "      <td>41.0</td>\n",
       "      <td>0</td>\n",
       "      <td>0</td>\n",
       "      <td>2018</td>\n",
       "    </tr>\n",
       "    <tr>\n",
       "      <th>14</th>\n",
       "      <td>Melbourne</td>\n",
       "      <td>894</td>\n",
       "      <td>127.7</td>\n",
       "      <td>567</td>\n",
       "      <td>81.0</td>\n",
       "      <td>1461</td>\n",
       "      <td>208.7</td>\n",
       "      <td>776</td>\n",
       "      <td>110.9</td>\n",
       "      <td>687</td>\n",
       "      <td>...</td>\n",
       "      <td>38</td>\n",
       "      <td>5.4</td>\n",
       "      <td>50</td>\n",
       "      <td>50.0</td>\n",
       "      <td>21</td>\n",
       "      <td>3.0</td>\n",
       "      <td>37.3</td>\n",
       "      <td>0</td>\n",
       "      <td>0</td>\n",
       "      <td>2018</td>\n",
       "    </tr>\n",
       "    <tr>\n",
       "      <th>15</th>\n",
       "      <td>Western Bulldogs</td>\n",
       "      <td>1050</td>\n",
       "      <td>131.3</td>\n",
       "      <td>472</td>\n",
       "      <td>59.0</td>\n",
       "      <td>1522</td>\n",
       "      <td>190.3</td>\n",
       "      <td>745</td>\n",
       "      <td>93.1</td>\n",
       "      <td>760</td>\n",
       "      <td>...</td>\n",
       "      <td>49</td>\n",
       "      <td>6.1</td>\n",
       "      <td>45</td>\n",
       "      <td>45.0</td>\n",
       "      <td>25</td>\n",
       "      <td>3.1</td>\n",
       "      <td>42.2</td>\n",
       "      <td>0</td>\n",
       "      <td>0</td>\n",
       "      <td>2018</td>\n",
       "    </tr>\n",
       "  </tbody>\n",
       "</table>\n",
       "<p>16 rows × 52 columns</p>\n",
       "</div>"
      ],
      "text/plain": [
       "                Club  Kicks TOT  Kicks AVG  Handballs TOT  Handballs AVG  \\\n",
       "0     Adelaide Crows       1052      131.5            458           57.3   \n",
       "1     Brisbane Lions        977      122.1            416           52.0   \n",
       "2            Carlton        780      111.4            424           60.6   \n",
       "3        Collingwood        838      119.7            335           47.9   \n",
       "4          Fremantle        818      116.9            409           58.4   \n",
       "5         GWS Giants        758      108.3            351           50.1   \n",
       "6          Melbourne        911      130.1            575           82.1   \n",
       "7   Western Bulldogs        706      100.9            510           72.9   \n",
       "8     Adelaide Crows        906      129.4            312           44.6   \n",
       "9     Brisbane Lions       1077      134.6            574           71.8   \n",
       "10           Carlton        757      108.1            360           51.4   \n",
       "11       Collingwood        959      137.0            422           60.3   \n",
       "12         Fremantle        850      121.4            422           60.3   \n",
       "13        GWS Giants        848      121.1            446           63.7   \n",
       "14         Melbourne        894      127.7            567           81.0   \n",
       "15  Western Bulldogs       1050      131.3            472           59.0   \n",
       "\n",
       "    Disposals TOT  Disposals AVG  Cont Poss TOT  Cont Poss AVG  \\\n",
       "0            1510          188.8            866          108.3   \n",
       "1            1393          174.1            745           93.1   \n",
       "2            1204          172.0            673           96.1   \n",
       "3            1173          167.6            632           90.3   \n",
       "4            1227          175.3            650           92.9   \n",
       "5            1109          158.4            598           85.4   \n",
       "6            1486          212.3            728          104.0   \n",
       "7            1216          173.7            629           89.9   \n",
       "8            1218          174.0            684           97.7   \n",
       "9            1651          206.4            824          103.0   \n",
       "10           1117          159.6            626           89.4   \n",
       "11           1381          197.3            641           91.6   \n",
       "12           1272          181.7            685           97.9   \n",
       "13           1294          184.9            708          101.1   \n",
       "14           1461          208.7            776          110.9   \n",
       "15           1522          190.3            745           93.1   \n",
       "\n",
       "    Uncont Poss TOT  ...  Goals TOT  Goals AVG  Behinds TOT  Behinds AVG  \\\n",
       "0               610  ...         45        5.6           38          4.8   \n",
       "1               637  ...         35        4.4           26          3.3   \n",
       "2               541  ...         39        5.6           19          2.7   \n",
       "3               550  ...         32        4.6           29          4.1   \n",
       "4               564  ...         25        3.6           34          4.9   \n",
       "5               480  ...         23        3.3           15          2.1   \n",
       "6               758  ...         37        5.3           31          4.4   \n",
       "7               597  ...         31        4.4           42          6.0   \n",
       "8               495  ...         33        4.7           32         32.0   \n",
       "9               789  ...         38        4.8           41         41.0   \n",
       "10              491  ...         21        3.0           47         47.0   \n",
       "11              694  ...         42        6.0           29         29.0   \n",
       "12              547  ...         34        4.9           26         26.0   \n",
       "13              537  ...         32        4.6           32         32.0   \n",
       "14              687  ...         38        5.4           50         50.0   \n",
       "15              760  ...         49        6.1           45         45.0   \n",
       "\n",
       "    Goal assists TOT  Goal assists AVG  Goal acc %  Interchanges TOT  \\\n",
       "0                 19               2.4        36.0                 0   \n",
       "1                 19               2.4        40.2                57   \n",
       "2                 23               3.3        50.6                 8   \n",
       "3                 18               2.6        45.7                30   \n",
       "4                 15               2.1        34.2                33   \n",
       "5                 15               2.1        43.4                54   \n",
       "6                 20               2.9        37.4                37   \n",
       "7                 17               2.4        34.4                30   \n",
       "8                 14               2.0        42.3                 0   \n",
       "9                 18               2.3        38.8                 0   \n",
       "10                 9               1.3        27.3                 0   \n",
       "11                21               3.0        48.8                 0   \n",
       "12                16               2.3        48.6                 0   \n",
       "13                14               2.0        41.0                 0   \n",
       "14                21               3.0        37.3                 0   \n",
       "15                25               3.1        42.2                 0   \n",
       "\n",
       "    Interchanges AVG  Year  \n",
       "0                  0  2017  \n",
       "1                 57  2017  \n",
       "2                  8  2017  \n",
       "3                 30  2017  \n",
       "4                 33  2017  \n",
       "5                 54  2017  \n",
       "6                 37  2017  \n",
       "7                 30  2017  \n",
       "8                  0  2018  \n",
       "9                  0  2018  \n",
       "10                 0  2018  \n",
       "11                 0  2018  \n",
       "12                 0  2018  \n",
       "13                 0  2018  \n",
       "14                 0  2018  \n",
       "15                 0  2018  \n",
       "\n",
       "[16 rows x 52 columns]"
      ]
     },
     "execution_count": 31,
     "metadata": {},
     "output_type": "execute_result"
    }
   ],
   "source": [
    "data"
   ]
  },
  {
   "cell_type": "code",
   "execution_count": 32,
   "id": "progressive-luther",
   "metadata": {},
   "outputs": [
    {
     "data": {
      "text/plain": [
       "Index(['Club', 'Kicks TOT', 'Kicks AVG', 'Handballs TOT', 'Handballs AVG',\n",
       "       'Disposals TOT', 'Disposals AVG', 'Cont Poss TOT', 'Cont Poss AVG',\n",
       "       'Uncont Poss TOT', 'Uncont Poss AVG', 'Disp eff %', 'Clangers TOT',\n",
       "       'Clangers AVG', 'Marks TOT', 'Marks AVG', 'Cont marks TOT',\n",
       "       'Cont marks AVG', 'Marks50 TOT', 'Marks50 AVG', 'Hit-outs TOT',\n",
       "       'Hit-outs AVG', 'Clearances TOT', 'Clearances AVG', 'Centre clr TOT',\n",
       "       'Centre clr AVG', 'Stoppages TOT', 'Stoppages AVG', 'Rebound50 TOT',\n",
       "       'Rebound50 AVG', 'Frees For TOT', 'Frees For AVG', 'Frees Agst TOT',\n",
       "       'Frees Agst AVG', 'Tackles TOT', 'Tackles AVG', 'One %s TOT',\n",
       "       'One %s AVG', 'Bounces TOT', 'Bounces AVG', 'Inside50 TOT',\n",
       "       'Inside50 AVG', 'Goals TOT', 'Goals AVG', 'Behinds TOT', 'Behinds AVG',\n",
       "       'Goal assists TOT', 'Goal assists AVG', 'Goal acc %',\n",
       "       'Interchanges TOT', 'Interchanges AVG', 'Year'],\n",
       "      dtype='object')"
      ]
     },
     "execution_count": 32,
     "metadata": {},
     "output_type": "execute_result"
    }
   ],
   "source": [
    "data.columns"
   ]
  },
  {
   "cell_type": "code",
   "execution_count": 33,
   "id": "dressed-organizer",
   "metadata": {},
   "outputs": [],
   "source": [
    "df=data[['Club', 'Kicks TOT', 'Kicks AVG', 'Handballs TOT', 'Handballs AVG']]"
   ]
  },
  {
   "cell_type": "code",
   "execution_count": 34,
   "id": "surprised-begin",
   "metadata": {},
   "outputs": [
    {
     "data": {
      "text/html": [
       "<div>\n",
       "<style scoped>\n",
       "    .dataframe tbody tr th:only-of-type {\n",
       "        vertical-align: middle;\n",
       "    }\n",
       "\n",
       "    .dataframe tbody tr th {\n",
       "        vertical-align: top;\n",
       "    }\n",
       "\n",
       "    .dataframe thead th {\n",
       "        text-align: right;\n",
       "    }\n",
       "</style>\n",
       "<table border=\"1\" class=\"dataframe\">\n",
       "  <thead>\n",
       "    <tr style=\"text-align: right;\">\n",
       "      <th></th>\n",
       "      <th>Club</th>\n",
       "      <th>Kicks TOT</th>\n",
       "      <th>Kicks AVG</th>\n",
       "      <th>Handballs TOT</th>\n",
       "      <th>Handballs AVG</th>\n",
       "    </tr>\n",
       "  </thead>\n",
       "  <tbody>\n",
       "    <tr>\n",
       "      <th>0</th>\n",
       "      <td>Adelaide Crows</td>\n",
       "      <td>1052</td>\n",
       "      <td>131.5</td>\n",
       "      <td>458</td>\n",
       "      <td>57.3</td>\n",
       "    </tr>\n",
       "    <tr>\n",
       "      <th>1</th>\n",
       "      <td>Brisbane Lions</td>\n",
       "      <td>977</td>\n",
       "      <td>122.1</td>\n",
       "      <td>416</td>\n",
       "      <td>52.0</td>\n",
       "    </tr>\n",
       "    <tr>\n",
       "      <th>2</th>\n",
       "      <td>Carlton</td>\n",
       "      <td>780</td>\n",
       "      <td>111.4</td>\n",
       "      <td>424</td>\n",
       "      <td>60.6</td>\n",
       "    </tr>\n",
       "    <tr>\n",
       "      <th>3</th>\n",
       "      <td>Collingwood</td>\n",
       "      <td>838</td>\n",
       "      <td>119.7</td>\n",
       "      <td>335</td>\n",
       "      <td>47.9</td>\n",
       "    </tr>\n",
       "    <tr>\n",
       "      <th>4</th>\n",
       "      <td>Fremantle</td>\n",
       "      <td>818</td>\n",
       "      <td>116.9</td>\n",
       "      <td>409</td>\n",
       "      <td>58.4</td>\n",
       "    </tr>\n",
       "    <tr>\n",
       "      <th>5</th>\n",
       "      <td>GWS Giants</td>\n",
       "      <td>758</td>\n",
       "      <td>108.3</td>\n",
       "      <td>351</td>\n",
       "      <td>50.1</td>\n",
       "    </tr>\n",
       "    <tr>\n",
       "      <th>6</th>\n",
       "      <td>Melbourne</td>\n",
       "      <td>911</td>\n",
       "      <td>130.1</td>\n",
       "      <td>575</td>\n",
       "      <td>82.1</td>\n",
       "    </tr>\n",
       "    <tr>\n",
       "      <th>7</th>\n",
       "      <td>Western Bulldogs</td>\n",
       "      <td>706</td>\n",
       "      <td>100.9</td>\n",
       "      <td>510</td>\n",
       "      <td>72.9</td>\n",
       "    </tr>\n",
       "    <tr>\n",
       "      <th>8</th>\n",
       "      <td>Adelaide Crows</td>\n",
       "      <td>906</td>\n",
       "      <td>129.4</td>\n",
       "      <td>312</td>\n",
       "      <td>44.6</td>\n",
       "    </tr>\n",
       "    <tr>\n",
       "      <th>9</th>\n",
       "      <td>Brisbane Lions</td>\n",
       "      <td>1077</td>\n",
       "      <td>134.6</td>\n",
       "      <td>574</td>\n",
       "      <td>71.8</td>\n",
       "    </tr>\n",
       "    <tr>\n",
       "      <th>10</th>\n",
       "      <td>Carlton</td>\n",
       "      <td>757</td>\n",
       "      <td>108.1</td>\n",
       "      <td>360</td>\n",
       "      <td>51.4</td>\n",
       "    </tr>\n",
       "    <tr>\n",
       "      <th>11</th>\n",
       "      <td>Collingwood</td>\n",
       "      <td>959</td>\n",
       "      <td>137.0</td>\n",
       "      <td>422</td>\n",
       "      <td>60.3</td>\n",
       "    </tr>\n",
       "    <tr>\n",
       "      <th>12</th>\n",
       "      <td>Fremantle</td>\n",
       "      <td>850</td>\n",
       "      <td>121.4</td>\n",
       "      <td>422</td>\n",
       "      <td>60.3</td>\n",
       "    </tr>\n",
       "    <tr>\n",
       "      <th>13</th>\n",
       "      <td>GWS Giants</td>\n",
       "      <td>848</td>\n",
       "      <td>121.1</td>\n",
       "      <td>446</td>\n",
       "      <td>63.7</td>\n",
       "    </tr>\n",
       "    <tr>\n",
       "      <th>14</th>\n",
       "      <td>Melbourne</td>\n",
       "      <td>894</td>\n",
       "      <td>127.7</td>\n",
       "      <td>567</td>\n",
       "      <td>81.0</td>\n",
       "    </tr>\n",
       "    <tr>\n",
       "      <th>15</th>\n",
       "      <td>Western Bulldogs</td>\n",
       "      <td>1050</td>\n",
       "      <td>131.3</td>\n",
       "      <td>472</td>\n",
       "      <td>59.0</td>\n",
       "    </tr>\n",
       "  </tbody>\n",
       "</table>\n",
       "</div>"
      ],
      "text/plain": [
       "                Club  Kicks TOT  Kicks AVG  Handballs TOT  Handballs AVG\n",
       "0     Adelaide Crows       1052      131.5            458           57.3\n",
       "1     Brisbane Lions        977      122.1            416           52.0\n",
       "2            Carlton        780      111.4            424           60.6\n",
       "3        Collingwood        838      119.7            335           47.9\n",
       "4          Fremantle        818      116.9            409           58.4\n",
       "5         GWS Giants        758      108.3            351           50.1\n",
       "6          Melbourne        911      130.1            575           82.1\n",
       "7   Western Bulldogs        706      100.9            510           72.9\n",
       "8     Adelaide Crows        906      129.4            312           44.6\n",
       "9     Brisbane Lions       1077      134.6            574           71.8\n",
       "10           Carlton        757      108.1            360           51.4\n",
       "11       Collingwood        959      137.0            422           60.3\n",
       "12         Fremantle        850      121.4            422           60.3\n",
       "13        GWS Giants        848      121.1            446           63.7\n",
       "14         Melbourne        894      127.7            567           81.0\n",
       "15  Western Bulldogs       1050      131.3            472           59.0"
      ]
     },
     "execution_count": 34,
     "metadata": {},
     "output_type": "execute_result"
    }
   ],
   "source": [
    "df"
   ]
  },
  {
   "cell_type": "code",
   "execution_count": 35,
   "id": "partial-nickel",
   "metadata": {},
   "outputs": [
    {
     "data": {
      "text/plain": [
       "<AxesSubplot:ylabel='Frequency'>"
      ]
     },
     "execution_count": 35,
     "metadata": {},
     "output_type": "execute_result"
    },
    {
     "data": {
      "image/png": "[encoded data removed]",
      "text/plain": [
       "<Figure size 432x288 with 1 Axes>"
      ]
     },
     "metadata": {
      "needs_background": "light"
     },
     "output_type": "display_data"
    }
   ],
   "source": [
    "df[['Kicks TOT', 'Kicks AVG', 'Handballs TOT']].plot.hist(bins=20)"
   ]
  },
  {
   "cell_type": "code",
   "execution_count": 55,
   "id": "skilled-there",
   "metadata": {},
   "outputs": [
    {
     "data": {
      "text/plain": [
       "<AxesSubplot:ylabel='Frequency'>"
      ]
     },
     "execution_count": 55,
     "metadata": {},
     "output_type": "execute_result"
    },
    {
     "data": {
      "image/png": "[encoded data removed]",
      "text/plain": [
       "<Figure size 432x288 with 1 Axes>"
      ]
     },
     "metadata": {
      "needs_background": "light"
     },
     "output_type": "display_data"
    }
   ],
   "source": [
    "df[['Kicks TOT', 'Kicks AVG', 'Handballs TOT']].plot.hist()"
   ]
  },
  {
   "cell_type": "code",
   "execution_count": 60,
   "id": "external-facial",
   "metadata": {},
   "outputs": [
    {
     "data": {
      "text/html": [
       "<div>\n",
       "<style scoped>\n",
       "    .dataframe tbody tr th:only-of-type {\n",
       "        vertical-align: middle;\n",
       "    }\n",
       "\n",
       "    .dataframe tbody tr th {\n",
       "        vertical-align: top;\n",
       "    }\n",
       "\n",
       "    .dataframe thead th {\n",
       "        text-align: right;\n",
       "    }\n",
       "</style>\n",
       "<table border=\"1\" class=\"dataframe\">\n",
       "  <thead>\n",
       "    <tr style=\"text-align: right;\">\n",
       "      <th></th>\n",
       "      <th>Kicks TOT</th>\n",
       "      <th>Kicks AVG</th>\n",
       "      <th>Handballs TOT</th>\n",
       "    </tr>\n",
       "  </thead>\n",
       "  <tbody>\n",
       "    <tr>\n",
       "      <th>0</th>\n",
       "      <td>NaN</td>\n",
       "      <td>NaN</td>\n",
       "      <td>NaN</td>\n",
       "    </tr>\n",
       "    <tr>\n",
       "      <th>1</th>\n",
       "      <td>-75.0</td>\n",
       "      <td>-9.4</td>\n",
       "      <td>-42.0</td>\n",
       "    </tr>\n",
       "    <tr>\n",
       "      <th>2</th>\n",
       "      <td>-197.0</td>\n",
       "      <td>-10.7</td>\n",
       "      <td>8.0</td>\n",
       "    </tr>\n",
       "    <tr>\n",
       "      <th>3</th>\n",
       "      <td>58.0</td>\n",
       "      <td>8.3</td>\n",
       "      <td>-89.0</td>\n",
       "    </tr>\n",
       "    <tr>\n",
       "      <th>4</th>\n",
       "      <td>-20.0</td>\n",
       "      <td>-2.8</td>\n",
       "      <td>74.0</td>\n",
       "    </tr>\n",
       "    <tr>\n",
       "      <th>5</th>\n",
       "      <td>-60.0</td>\n",
       "      <td>-8.6</td>\n",
       "      <td>-58.0</td>\n",
       "    </tr>\n",
       "    <tr>\n",
       "      <th>6</th>\n",
       "      <td>153.0</td>\n",
       "      <td>21.8</td>\n",
       "      <td>224.0</td>\n",
       "    </tr>\n",
       "    <tr>\n",
       "      <th>7</th>\n",
       "      <td>-205.0</td>\n",
       "      <td>-29.2</td>\n",
       "      <td>-65.0</td>\n",
       "    </tr>\n",
       "    <tr>\n",
       "      <th>8</th>\n",
       "      <td>200.0</td>\n",
       "      <td>28.5</td>\n",
       "      <td>-198.0</td>\n",
       "    </tr>\n",
       "    <tr>\n",
       "      <th>9</th>\n",
       "      <td>171.0</td>\n",
       "      <td>5.2</td>\n",
       "      <td>262.0</td>\n",
       "    </tr>\n",
       "    <tr>\n",
       "      <th>10</th>\n",
       "      <td>-320.0</td>\n",
       "      <td>-26.5</td>\n",
       "      <td>-214.0</td>\n",
       "    </tr>\n",
       "    <tr>\n",
       "      <th>11</th>\n",
       "      <td>202.0</td>\n",
       "      <td>28.9</td>\n",
       "      <td>62.0</td>\n",
       "    </tr>\n",
       "    <tr>\n",
       "      <th>12</th>\n",
       "      <td>-109.0</td>\n",
       "      <td>-15.6</td>\n",
       "      <td>0.0</td>\n",
       "    </tr>\n",
       "    <tr>\n",
       "      <th>13</th>\n",
       "      <td>-2.0</td>\n",
       "      <td>-0.3</td>\n",
       "      <td>24.0</td>\n",
       "    </tr>\n",
       "    <tr>\n",
       "      <th>14</th>\n",
       "      <td>46.0</td>\n",
       "      <td>6.6</td>\n",
       "      <td>121.0</td>\n",
       "    </tr>\n",
       "    <tr>\n",
       "      <th>15</th>\n",
       "      <td>156.0</td>\n",
       "      <td>3.6</td>\n",
       "      <td>-95.0</td>\n",
       "    </tr>\n",
       "  </tbody>\n",
       "</table>\n",
       "</div>"
      ],
      "text/plain": [
       "    Kicks TOT  Kicks AVG  Handballs TOT\n",
       "0         NaN        NaN            NaN\n",
       "1       -75.0       -9.4          -42.0\n",
       "2      -197.0      -10.7            8.0\n",
       "3        58.0        8.3          -89.0\n",
       "4       -20.0       -2.8           74.0\n",
       "5       -60.0       -8.6          -58.0\n",
       "6       153.0       21.8          224.0\n",
       "7      -205.0      -29.2          -65.0\n",
       "8       200.0       28.5         -198.0\n",
       "9       171.0        5.2          262.0\n",
       "10     -320.0      -26.5         -214.0\n",
       "11      202.0       28.9           62.0\n",
       "12     -109.0      -15.6            0.0\n",
       "13       -2.0       -0.3           24.0\n",
       "14       46.0        6.6          121.0\n",
       "15      156.0        3.6          -95.0"
      ]
     },
     "execution_count": 60,
     "metadata": {},
     "output_type": "execute_result"
    }
   ],
   "source": [
    "teamdata.diff() #Difference with previous row\n"
   ]
  },
  {
   "cell_type": "code",
   "execution_count": 63,
   "id": "fleet-genius",
   "metadata": {},
   "outputs": [
    {
     "data": {
      "text/plain": [
       "array([[<AxesSubplot:title={'center':'Kicks TOT'}>,\n",
       "        <AxesSubplot:title={'center':'Kicks AVG'}>],\n",
       "       [<AxesSubplot:title={'center':'Handballs TOT'}>, <AxesSubplot:>]],\n",
       "      dtype=object)"
      ]
     },
     "execution_count": 63,
     "metadata": {},
     "output_type": "execute_result"
    },
    {
     "data": {
      "image/png": "[encoded data removed]",
      "text/plain": [
       "<Figure size 720x720 with 4 Axes>"
      ]
     },
     "metadata": {
      "needs_background": "light"
     },
     "output_type": "display_data"
    }
   ],
   "source": [
    "teamdata.diff().hist(color='b',alpha=0.1,figsize=(10,10))"
   ]
  },
  {
   "cell_type": "code",
   "execution_count": null,
   "id": "mysterious-interface",
   "metadata": {},
   "outputs": [],
   "source": []
  },
  {
   "cell_type": "code",
   "execution_count": 37,
   "id": "thorough-bailey",
   "metadata": {},
   "outputs": [
    {
     "data": {
      "text/plain": [
       "<AxesSubplot:>"
      ]
     },
     "execution_count": 37,
     "metadata": {},
     "output_type": "execute_result"
    },
    {
     "data": {
      "image/png": "[encoded data removed]",
      "text/plain": [
       "<Figure size 432x288 with 1 Axes>"
      ]
     },
     "metadata": {
      "needs_background": "light"
     },
     "output_type": "display_data"
    }
   ],
   "source": [
    "df[['Kicks TOT', 'Kicks AVG', 'Handballs TOT']].plot()"
   ]
  },
  {
   "cell_type": "code",
   "execution_count": 38,
   "id": "figured-contrary",
   "metadata": {},
   "outputs": [],
   "source": [
    "teamdata=df[['Kicks TOT', 'Kicks AVG', 'Handballs TOT']]"
   ]
  },
  {
   "cell_type": "code",
   "execution_count": 39,
   "id": "difficult-inclusion",
   "metadata": {},
   "outputs": [
    {
     "data": {
      "text/html": [
       "<div>\n",
       "<style scoped>\n",
       "    .dataframe tbody tr th:only-of-type {\n",
       "        vertical-align: middle;\n",
       "    }\n",
       "\n",
       "    .dataframe tbody tr th {\n",
       "        vertical-align: top;\n",
       "    }\n",
       "\n",
       "    .dataframe thead th {\n",
       "        text-align: right;\n",
       "    }\n",
       "</style>\n",
       "<table border=\"1\" class=\"dataframe\">\n",
       "  <thead>\n",
       "    <tr style=\"text-align: right;\">\n",
       "      <th></th>\n",
       "      <th>Kicks TOT</th>\n",
       "      <th>Kicks AVG</th>\n",
       "      <th>Handballs TOT</th>\n",
       "    </tr>\n",
       "  </thead>\n",
       "  <tbody>\n",
       "    <tr>\n",
       "      <th>0</th>\n",
       "      <td>1052</td>\n",
       "      <td>131.5</td>\n",
       "      <td>458</td>\n",
       "    </tr>\n",
       "    <tr>\n",
       "      <th>1</th>\n",
       "      <td>977</td>\n",
       "      <td>122.1</td>\n",
       "      <td>416</td>\n",
       "    </tr>\n",
       "    <tr>\n",
       "      <th>2</th>\n",
       "      <td>780</td>\n",
       "      <td>111.4</td>\n",
       "      <td>424</td>\n",
       "    </tr>\n",
       "    <tr>\n",
       "      <th>3</th>\n",
       "      <td>838</td>\n",
       "      <td>119.7</td>\n",
       "      <td>335</td>\n",
       "    </tr>\n",
       "    <tr>\n",
       "      <th>4</th>\n",
       "      <td>818</td>\n",
       "      <td>116.9</td>\n",
       "      <td>409</td>\n",
       "    </tr>\n",
       "    <tr>\n",
       "      <th>5</th>\n",
       "      <td>758</td>\n",
       "      <td>108.3</td>\n",
       "      <td>351</td>\n",
       "    </tr>\n",
       "    <tr>\n",
       "      <th>6</th>\n",
       "      <td>911</td>\n",
       "      <td>130.1</td>\n",
       "      <td>575</td>\n",
       "    </tr>\n",
       "    <tr>\n",
       "      <th>7</th>\n",
       "      <td>706</td>\n",
       "      <td>100.9</td>\n",
       "      <td>510</td>\n",
       "    </tr>\n",
       "    <tr>\n",
       "      <th>8</th>\n",
       "      <td>906</td>\n",
       "      <td>129.4</td>\n",
       "      <td>312</td>\n",
       "    </tr>\n",
       "    <tr>\n",
       "      <th>9</th>\n",
       "      <td>1077</td>\n",
       "      <td>134.6</td>\n",
       "      <td>574</td>\n",
       "    </tr>\n",
       "    <tr>\n",
       "      <th>10</th>\n",
       "      <td>757</td>\n",
       "      <td>108.1</td>\n",
       "      <td>360</td>\n",
       "    </tr>\n",
       "    <tr>\n",
       "      <th>11</th>\n",
       "      <td>959</td>\n",
       "      <td>137.0</td>\n",
       "      <td>422</td>\n",
       "    </tr>\n",
       "    <tr>\n",
       "      <th>12</th>\n",
       "      <td>850</td>\n",
       "      <td>121.4</td>\n",
       "      <td>422</td>\n",
       "    </tr>\n",
       "    <tr>\n",
       "      <th>13</th>\n",
       "      <td>848</td>\n",
       "      <td>121.1</td>\n",
       "      <td>446</td>\n",
       "    </tr>\n",
       "    <tr>\n",
       "      <th>14</th>\n",
       "      <td>894</td>\n",
       "      <td>127.7</td>\n",
       "      <td>567</td>\n",
       "    </tr>\n",
       "    <tr>\n",
       "      <th>15</th>\n",
       "      <td>1050</td>\n",
       "      <td>131.3</td>\n",
       "      <td>472</td>\n",
       "    </tr>\n",
       "  </tbody>\n",
       "</table>\n",
       "</div>"
      ],
      "text/plain": [
       "    Kicks TOT  Kicks AVG  Handballs TOT\n",
       "0        1052      131.5            458\n",
       "1         977      122.1            416\n",
       "2         780      111.4            424\n",
       "3         838      119.7            335\n",
       "4         818      116.9            409\n",
       "5         758      108.3            351\n",
       "6         911      130.1            575\n",
       "7         706      100.9            510\n",
       "8         906      129.4            312\n",
       "9        1077      134.6            574\n",
       "10        757      108.1            360\n",
       "11        959      137.0            422\n",
       "12        850      121.4            422\n",
       "13        848      121.1            446\n",
       "14        894      127.7            567\n",
       "15       1050      131.3            472"
      ]
     },
     "execution_count": 39,
     "metadata": {},
     "output_type": "execute_result"
    }
   ],
   "source": [
    "teamdata"
   ]
  },
  {
   "cell_type": "code",
   "execution_count": 40,
   "id": "qualified-humanity",
   "metadata": {},
   "outputs": [
    {
     "data": {
      "text/plain": [
       "<AxesSubplot:>"
      ]
     },
     "execution_count": 40,
     "metadata": {},
     "output_type": "execute_result"
    },
    {
     "data": {
      "image/png": "[encoded data removed]",
      "text/plain": [
       "<Figure size 432x288 with 1 Axes>"
      ]
     },
     "metadata": {
      "needs_background": "light"
     },
     "output_type": "display_data"
    }
   ],
   "source": [
    "#Boxplot = is showing quantile \n",
    "teamdata.plot.box()"
   ]
  },
  {
   "cell_type": "code",
   "execution_count": 41,
   "id": "vocational-terry",
   "metadata": {},
   "outputs": [
    {
     "data": {
      "text/plain": [
       "<AxesSubplot:>"
      ]
     },
     "execution_count": 41,
     "metadata": {},
     "output_type": "execute_result"
    },
    {
     "data": {
      "image/png": "[encoded data removed]",
      "text/plain": [
       "<Figure size 432x288 with 1 Axes>"
      ]
     },
     "metadata": {
      "needs_background": "light"
     },
     "output_type": "display_data"
    }
   ],
   "source": [
    "df[['Kicks TOT']].plot.box()"
   ]
  },
  {
   "cell_type": "code",
   "execution_count": 42,
   "id": "delayed-blogger",
   "metadata": {},
   "outputs": [
    {
     "data": {
      "text/plain": [
       "<AxesSubplot:>"
      ]
     },
     "execution_count": 42,
     "metadata": {},
     "output_type": "execute_result"
    },
    {
     "data": {
      "image/png": "[encoded data removed]",
      "text/plain": [
       "<Figure size 432x288 with 1 Axes>"
      ]
     },
     "metadata": {
      "needs_background": "light"
     },
     "output_type": "display_data"
    }
   ],
   "source": [
    "df[['Kicks TOT', 'Kicks AVG', 'Handballs TOT']].plot.area()"
   ]
  },
  {
   "cell_type": "code",
   "execution_count": 43,
   "id": "personalized-international",
   "metadata": {},
   "outputs": [
    {
     "data": {
      "text/html": [
       "<div>\n",
       "<style scoped>\n",
       "    .dataframe tbody tr th:only-of-type {\n",
       "        vertical-align: middle;\n",
       "    }\n",
       "\n",
       "    .dataframe tbody tr th {\n",
       "        vertical-align: top;\n",
       "    }\n",
       "\n",
       "    .dataframe thead th {\n",
       "        text-align: right;\n",
       "    }\n",
       "</style>\n",
       "<table border=\"1\" class=\"dataframe\">\n",
       "  <thead>\n",
       "    <tr style=\"text-align: right;\">\n",
       "      <th></th>\n",
       "      <th>Kicks TOT</th>\n",
       "      <th>Kicks AVG</th>\n",
       "      <th>Handballs TOT</th>\n",
       "    </tr>\n",
       "  </thead>\n",
       "  <tbody>\n",
       "    <tr>\n",
       "      <th>0</th>\n",
       "      <td>1052</td>\n",
       "      <td>131.5</td>\n",
       "      <td>458</td>\n",
       "    </tr>\n",
       "    <tr>\n",
       "      <th>1</th>\n",
       "      <td>977</td>\n",
       "      <td>122.1</td>\n",
       "      <td>416</td>\n",
       "    </tr>\n",
       "    <tr>\n",
       "      <th>2</th>\n",
       "      <td>780</td>\n",
       "      <td>111.4</td>\n",
       "      <td>424</td>\n",
       "    </tr>\n",
       "    <tr>\n",
       "      <th>3</th>\n",
       "      <td>838</td>\n",
       "      <td>119.7</td>\n",
       "      <td>335</td>\n",
       "    </tr>\n",
       "    <tr>\n",
       "      <th>4</th>\n",
       "      <td>818</td>\n",
       "      <td>116.9</td>\n",
       "      <td>409</td>\n",
       "    </tr>\n",
       "    <tr>\n",
       "      <th>5</th>\n",
       "      <td>758</td>\n",
       "      <td>108.3</td>\n",
       "      <td>351</td>\n",
       "    </tr>\n",
       "    <tr>\n",
       "      <th>6</th>\n",
       "      <td>911</td>\n",
       "      <td>130.1</td>\n",
       "      <td>575</td>\n",
       "    </tr>\n",
       "    <tr>\n",
       "      <th>7</th>\n",
       "      <td>706</td>\n",
       "      <td>100.9</td>\n",
       "      <td>510</td>\n",
       "    </tr>\n",
       "    <tr>\n",
       "      <th>8</th>\n",
       "      <td>906</td>\n",
       "      <td>129.4</td>\n",
       "      <td>312</td>\n",
       "    </tr>\n",
       "    <tr>\n",
       "      <th>9</th>\n",
       "      <td>1077</td>\n",
       "      <td>134.6</td>\n",
       "      <td>574</td>\n",
       "    </tr>\n",
       "    <tr>\n",
       "      <th>10</th>\n",
       "      <td>757</td>\n",
       "      <td>108.1</td>\n",
       "      <td>360</td>\n",
       "    </tr>\n",
       "    <tr>\n",
       "      <th>11</th>\n",
       "      <td>959</td>\n",
       "      <td>137.0</td>\n",
       "      <td>422</td>\n",
       "    </tr>\n",
       "    <tr>\n",
       "      <th>12</th>\n",
       "      <td>850</td>\n",
       "      <td>121.4</td>\n",
       "      <td>422</td>\n",
       "    </tr>\n",
       "    <tr>\n",
       "      <th>13</th>\n",
       "      <td>848</td>\n",
       "      <td>121.1</td>\n",
       "      <td>446</td>\n",
       "    </tr>\n",
       "    <tr>\n",
       "      <th>14</th>\n",
       "      <td>894</td>\n",
       "      <td>127.7</td>\n",
       "      <td>567</td>\n",
       "    </tr>\n",
       "    <tr>\n",
       "      <th>15</th>\n",
       "      <td>1050</td>\n",
       "      <td>131.3</td>\n",
       "      <td>472</td>\n",
       "    </tr>\n",
       "  </tbody>\n",
       "</table>\n",
       "</div>"
      ],
      "text/plain": [
       "    Kicks TOT  Kicks AVG  Handballs TOT\n",
       "0        1052      131.5            458\n",
       "1         977      122.1            416\n",
       "2         780      111.4            424\n",
       "3         838      119.7            335\n",
       "4         818      116.9            409\n",
       "5         758      108.3            351\n",
       "6         911      130.1            575\n",
       "7         706      100.9            510\n",
       "8         906      129.4            312\n",
       "9        1077      134.6            574\n",
       "10        757      108.1            360\n",
       "11        959      137.0            422\n",
       "12        850      121.4            422\n",
       "13        848      121.1            446\n",
       "14        894      127.7            567\n",
       "15       1050      131.3            472"
      ]
     },
     "execution_count": 43,
     "metadata": {},
     "output_type": "execute_result"
    }
   ],
   "source": [
    "teamdata"
   ]
  },
  {
   "cell_type": "code",
   "execution_count": 68,
   "id": "accessible-peninsula",
   "metadata": {},
   "outputs": [
    {
     "data": {
      "text/plain": [
       "<AxesSubplot:xlabel='Kicks TOT', ylabel='Kicks AVG'>"
      ]
     },
     "execution_count": 68,
     "metadata": {},
     "output_type": "execute_result"
    },
    {
     "data": {
      "image/png": "[encoded data removed]",
      "text/plain": [
       "<Figure size 432x288 with 1 Axes>"
      ]
     },
     "metadata": {
      "needs_background": "light"
     },
     "output_type": "display_data"
    }
   ],
   "source": [
    "#scatter plot is used in linear regression \n",
    "#parameter: c=color, s=size of point\n",
    "teamdata.plot.scatter('Kicks TOT', 'Kicks AVG',c='red',s=100) "
   ]
  },
  {
   "cell_type": "code",
   "execution_count": 75,
   "id": "forty-physiology",
   "metadata": {},
   "outputs": [
    {
     "data": {
      "text/plain": [
       "<AxesSubplot:xlabel='Kicks TOT', ylabel='Kicks AVG'>"
      ]
     },
     "execution_count": 75,
     "metadata": {},
     "output_type": "execute_result"
    },
    {
     "data": {
      "image/png": "[encoded data removed]",
      "text/plain": [
       "<Figure size 432x288 with 2 Axes>"
      ]
     },
     "metadata": {
      "needs_background": "light"
     },
     "output_type": "display_data"
    }
   ],
   "source": [
    "teamdata.plot.scatter('Kicks TOT', 'Kicks AVG',c='Handballs TOT',s=200)"
   ]
  },
  {
   "cell_type": "code",
   "execution_count": null,
   "id": "aboriginal-cardiff",
   "metadata": {},
   "outputs": [],
   "source": [
    "teamdata.plot.scatter('Kicks TOT', 'Kicks AVG')"
   ]
  },
  {
   "cell_type": "code",
   "execution_count": 45,
   "id": "authentic-swift",
   "metadata": {},
   "outputs": [],
   "source": [
    "df3=pd.DataFrame(np.random.rand(5,2),columns=['a','b'])"
   ]
  },
  {
   "cell_type": "code",
   "execution_count": 46,
   "id": "strange-adult",
   "metadata": {},
   "outputs": [
    {
     "data": {
      "text/html": [
       "<div>\n",
       "<style scoped>\n",
       "    .dataframe tbody tr th:only-of-type {\n",
       "        vertical-align: middle;\n",
       "    }\n",
       "\n",
       "    .dataframe tbody tr th {\n",
       "        vertical-align: top;\n",
       "    }\n",
       "\n",
       "    .dataframe thead th {\n",
       "        text-align: right;\n",
       "    }\n",
       "</style>\n",
       "<table border=\"1\" class=\"dataframe\">\n",
       "  <thead>\n",
       "    <tr style=\"text-align: right;\">\n",
       "      <th></th>\n",
       "      <th>a</th>\n",
       "      <th>b</th>\n",
       "    </tr>\n",
       "  </thead>\n",
       "  <tbody>\n",
       "    <tr>\n",
       "      <th>0</th>\n",
       "      <td>0.357553</td>\n",
       "      <td>0.464530</td>\n",
       "    </tr>\n",
       "    <tr>\n",
       "      <th>1</th>\n",
       "      <td>0.111018</td>\n",
       "      <td>0.531775</td>\n",
       "    </tr>\n",
       "    <tr>\n",
       "      <th>2</th>\n",
       "      <td>0.240893</td>\n",
       "      <td>0.900900</td>\n",
       "    </tr>\n",
       "    <tr>\n",
       "      <th>3</th>\n",
       "      <td>0.870190</td>\n",
       "      <td>0.033222</td>\n",
       "    </tr>\n",
       "    <tr>\n",
       "      <th>4</th>\n",
       "      <td>0.910756</td>\n",
       "      <td>0.979155</td>\n",
       "    </tr>\n",
       "  </tbody>\n",
       "</table>\n",
       "</div>"
      ],
      "text/plain": [
       "          a         b\n",
       "0  0.357553  0.464530\n",
       "1  0.111018  0.531775\n",
       "2  0.240893  0.900900\n",
       "3  0.870190  0.033222\n",
       "4  0.910756  0.979155"
      ]
     },
     "execution_count": 46,
     "metadata": {},
     "output_type": "execute_result"
    }
   ],
   "source": [
    "df3"
   ]
  },
  {
   "cell_type": "code",
   "execution_count": 47,
   "id": "cardiac-cemetery",
   "metadata": {},
   "outputs": [
    {
     "name": "stderr",
     "output_type": "stream",
     "text": [
      "C:\\Users\\SANU\\Miniconda3\\lib\\site-packages\\pandas\\plotting\\_matplotlib\\tools.py:331: MatplotlibDeprecationWarning: \n",
      "The is_first_col function was deprecated in Matplotlib 3.4 and will be removed two minor releases later. Use ax.get_subplotspec().is_first_col() instead.\n",
      "  if ax.is_first_col():\n"
     ]
    },
    {
     "data": {
      "text/plain": [
       "array([<AxesSubplot:ylabel='a'>, <AxesSubplot:ylabel='b'>], dtype=object)"
      ]
     },
     "execution_count": 47,
     "metadata": {},
     "output_type": "execute_result"
    },
    {
     "data": {
      "image/png": "[encoded data removed]",
      "text/plain": [
       "<Figure size 432x288 with 2 Axes>"
      ]
     },
     "metadata": {},
     "output_type": "display_data"
    }
   ],
   "source": [
    "df3.plot.pie(subplots=True)"
   ]
  },
  {
   "cell_type": "code",
   "execution_count": 76,
   "id": "tracked-implementation",
   "metadata": {
    "scrolled": false
   },
   "outputs": [
    {
     "data": {
      "text/plain": [
       "array([<AxesSubplot:ylabel='a'>], dtype=object)"
      ]
     },
     "execution_count": 76,
     "metadata": {},
     "output_type": "execute_result"
    },
    {
     "data": {
      "image/png": "[encoded data removed]",
      "text/plain": [
       "<Figure size 432x288 with 1 Axes>"
      ]
     },
     "metadata": {},
     "output_type": "display_data"
    }
   ],
   "source": [
    "df3['a'].plot.pie(subplots=True)"
   ]
  },
  {
   "cell_type": "code",
   "execution_count": 77,
   "id": "round-compilation",
   "metadata": {},
   "outputs": [],
   "source": [
    "#Draw a matrix of scatter plots.\n",
    "from pandas.plotting import scatter_matrix"
   ]
  },
  {
   "cell_type": "code",
   "execution_count": 79,
   "id": "documented-attachment",
   "metadata": {},
   "outputs": [
    {
     "name": "stderr",
     "output_type": "stream",
     "text": [
      "C:\\Users\\SANU\\Miniconda3\\lib\\site-packages\\pandas\\plotting\\_matplotlib\\tools.py:331: MatplotlibDeprecationWarning: \n",
      "The is_first_col function was deprecated in Matplotlib 3.4 and will be removed two minor releases later. Use ax.get_subplotspec().is_first_col() instead.\n",
      "  if ax.is_first_col():\n"
     ]
    },
    {
     "data": {
      "text/plain": [
       "array([[<AxesSubplot:xlabel='Kicks TOT', ylabel='Kicks TOT'>,\n",
       "        <AxesSubplot:xlabel='Kicks AVG', ylabel='Kicks TOT'>,\n",
       "        <AxesSubplot:xlabel='Handballs TOT', ylabel='Kicks TOT'>],\n",
       "       [<AxesSubplot:xlabel='Kicks TOT', ylabel='Kicks AVG'>,\n",
       "        <AxesSubplot:xlabel='Kicks AVG', ylabel='Kicks AVG'>,\n",
       "        <AxesSubplot:xlabel='Handballs TOT', ylabel='Kicks AVG'>],\n",
       "       [<AxesSubplot:xlabel='Kicks TOT', ylabel='Handballs TOT'>,\n",
       "        <AxesSubplot:xlabel='Kicks AVG', ylabel='Handballs TOT'>,\n",
       "        <AxesSubplot:xlabel='Handballs TOT', ylabel='Handballs TOT'>]],\n",
       "      dtype=object)"
      ]
     },
     "execution_count": 79,
     "metadata": {},
     "output_type": "execute_result"
    },
    {
     "data": {
      "image/png": "[encoded data removed]",
      "text/plain": [
       "<Figure size 576x576 with 9 Axes>"
      ]
     },
     "metadata": {
      "needs_background": "light"
     },
     "output_type": "display_data"
    }
   ],
   "source": [
    "scatter_matrix(teamdata,alpha=0.5,figsize=(8,8),diagonal='kde',color='blue')"
   ]
  },
  {
   "cell_type": "code",
   "execution_count": 81,
   "id": "second-frost",
   "metadata": {},
   "outputs": [
    {
     "name": "stderr",
     "output_type": "stream",
     "text": [
      "C:\\Users\\SANU\\Miniconda3\\lib\\site-packages\\pandas\\plotting\\_matplotlib\\tools.py:331: MatplotlibDeprecationWarning: \n",
      "The is_first_col function was deprecated in Matplotlib 3.4 and will be removed two minor releases later. Use ax.get_subplotspec().is_first_col() instead.\n",
      "  if ax.is_first_col():\n"
     ]
    },
    {
     "data": {
      "text/plain": [
       "array([[<AxesSubplot:xlabel='Kicks TOT', ylabel='Kicks TOT'>,\n",
       "        <AxesSubplot:xlabel='Kicks AVG', ylabel='Kicks TOT'>,\n",
       "        <AxesSubplot:xlabel='Handballs TOT', ylabel='Kicks TOT'>],\n",
       "       [<AxesSubplot:xlabel='Kicks TOT', ylabel='Kicks AVG'>,\n",
       "        <AxesSubplot:xlabel='Kicks AVG', ylabel='Kicks AVG'>,\n",
       "        <AxesSubplot:xlabel='Handballs TOT', ylabel='Kicks AVG'>],\n",
       "       [<AxesSubplot:xlabel='Kicks TOT', ylabel='Handballs TOT'>,\n",
       "        <AxesSubplot:xlabel='Kicks AVG', ylabel='Handballs TOT'>,\n",
       "        <AxesSubplot:xlabel='Handballs TOT', ylabel='Handballs TOT'>]],\n",
       "      dtype=object)"
      ]
     },
     "execution_count": 81,
     "metadata": {},
     "output_type": "execute_result"
    },
    {
     "data": {
      "image/png": "[encoded data removed]",
      "text/plain": [
       "<Figure size 576x576 with 9 Axes>"
      ]
     },
     "metadata": {
      "needs_background": "light"
     },
     "output_type": "display_data"
    }
   ],
   "source": [
    "scatter_matrix(teamdata,alpha=0.5,figsize=(8,8),diagonal='hist',color='blue')"
   ]
  },
  {
   "cell_type": "code",
   "execution_count": 87,
   "id": "sublime-walter",
   "metadata": {},
   "outputs": [
    {
     "data": {
      "text/plain": [
       "<AxesSubplot:xlabel='Kicks AVG', ylabel='Kicks TOT'>"
      ]
     },
     "execution_count": 87,
     "metadata": {},
     "output_type": "execute_result"
    },
    {
     "data": {
      "image/png": "[encoded data removed]",
      "text/plain": [
       "<Figure size 432x288 with 1 Axes>"
      ]
     },
     "metadata": {
      "needs_background": "light"
     },
     "output_type": "display_data"
    }
   ],
   "source": [
    "teamdata.plot.scatter('Kicks AVG','Kicks TOT',s=200)"
   ]
  },
  {
   "cell_type": "code",
   "execution_count": 89,
   "id": "nervous-millennium",
   "metadata": {},
   "outputs": [
    {
     "data": {
      "text/plain": [
       "<AxesSubplot:ylabel='Density'>"
      ]
     },
     "execution_count": 89,
     "metadata": {},
     "output_type": "execute_result"
    },
    {
     "data": {
      "image/png": "[encoded data removed]",
      "text/plain": [
       "<Figure size 432x288 with 1 Axes>"
      ]
     },
     "metadata": {
      "needs_background": "light"
     },
     "output_type": "display_data"
    }
   ],
   "source": [
    "teamdata.plot.kde()"
   ]
  },
  {
   "cell_type": "code",
   "execution_count": 92,
   "id": "medieval-islam",
   "metadata": {},
   "outputs": [],
   "source": [
    "from pandas.plotting import andrews_curves"
   ]
  },
  {
   "cell_type": "code",
   "execution_count": 99,
   "id": "planned-revelation",
   "metadata": {},
   "outputs": [],
   "source": [
    "df=pd.DataFrame(np.random.rand(10,2),columns=['a','b'])"
   ]
  },
  {
   "cell_type": "code",
   "execution_count": 100,
   "id": "rough-myanmar",
   "metadata": {},
   "outputs": [
    {
     "data": {
      "text/html": [
       "<div>\n",
       "<style scoped>\n",
       "    .dataframe tbody tr th:only-of-type {\n",
       "        vertical-align: middle;\n",
       "    }\n",
       "\n",
       "    .dataframe tbody tr th {\n",
       "        vertical-align: top;\n",
       "    }\n",
       "\n",
       "    .dataframe thead th {\n",
       "        text-align: right;\n",
       "    }\n",
       "</style>\n",
       "<table border=\"1\" class=\"dataframe\">\n",
       "  <thead>\n",
       "    <tr style=\"text-align: right;\">\n",
       "      <th></th>\n",
       "      <th>a</th>\n",
       "      <th>b</th>\n",
       "    </tr>\n",
       "  </thead>\n",
       "  <tbody>\n",
       "    <tr>\n",
       "      <th>0</th>\n",
       "      <td>0.068982</td>\n",
       "      <td>0.185386</td>\n",
       "    </tr>\n",
       "    <tr>\n",
       "      <th>1</th>\n",
       "      <td>0.772696</td>\n",
       "      <td>0.130501</td>\n",
       "    </tr>\n",
       "    <tr>\n",
       "      <th>2</th>\n",
       "      <td>0.867885</td>\n",
       "      <td>0.321259</td>\n",
       "    </tr>\n",
       "    <tr>\n",
       "      <th>3</th>\n",
       "      <td>0.224965</td>\n",
       "      <td>0.882786</td>\n",
       "    </tr>\n",
       "    <tr>\n",
       "      <th>4</th>\n",
       "      <td>0.331291</td>\n",
       "      <td>0.388314</td>\n",
       "    </tr>\n",
       "    <tr>\n",
       "      <th>5</th>\n",
       "      <td>0.916048</td>\n",
       "      <td>0.532765</td>\n",
       "    </tr>\n",
       "    <tr>\n",
       "      <th>6</th>\n",
       "      <td>0.248618</td>\n",
       "      <td>0.407598</td>\n",
       "    </tr>\n",
       "    <tr>\n",
       "      <th>7</th>\n",
       "      <td>0.332034</td>\n",
       "      <td>0.589569</td>\n",
       "    </tr>\n",
       "    <tr>\n",
       "      <th>8</th>\n",
       "      <td>0.346210</td>\n",
       "      <td>0.824514</td>\n",
       "    </tr>\n",
       "    <tr>\n",
       "      <th>9</th>\n",
       "      <td>0.471386</td>\n",
       "      <td>0.271409</td>\n",
       "    </tr>\n",
       "  </tbody>\n",
       "</table>\n",
       "</div>"
      ],
      "text/plain": [
       "          a         b\n",
       "0  0.068982  0.185386\n",
       "1  0.772696  0.130501\n",
       "2  0.867885  0.321259\n",
       "3  0.224965  0.882786\n",
       "4  0.331291  0.388314\n",
       "5  0.916048  0.532765\n",
       "6  0.248618  0.407598\n",
       "7  0.332034  0.589569\n",
       "8  0.346210  0.824514\n",
       "9  0.471386  0.271409"
      ]
     },
     "execution_count": 100,
     "metadata": {},
     "output_type": "execute_result"
    }
   ],
   "source": [
    "df"
   ]
  },
  {
   "cell_type": "code",
   "execution_count": 101,
   "id": "tamil-tours",
   "metadata": {},
   "outputs": [
    {
     "name": "stderr",
     "output_type": "stream",
     "text": [
      "C:\\Users\\SANU\\Miniconda3\\lib\\site-packages\\pandas\\plotting\\_matplotlib\\misc.py:241: MatplotlibDeprecationWarning: Calling gca() with keyword arguments was deprecated in Matplotlib 3.4. Starting two minor releases later, gca() will take no keyword arguments. The gca() function should only be used to get the current axes, or if no axes exist, create new axes with default keyword arguments. To create a new axes with non-default arguments, use plt.axes() or plt.subplot().\n",
      "  ax = plt.gca(xlim=(-np.pi, np.pi))\n"
     ]
    },
    {
     "data": {
      "text/plain": [
       "<AxesSubplot:>"
      ]
     },
     "execution_count": 101,
     "metadata": {},
     "output_type": "execute_result"
    },
    {
     "data": {
      "image/png": "[encoded data removed]",
      "text/plain": [
       "<Figure size 432x288 with 1 Axes>"
      ]
     },
     "metadata": {
      "needs_background": "light"
     },
     "output_type": "display_data"
    }
   ],
   "source": [
    "andrews_curves(df, 'a')"
   ]
  },
  {
   "cell_type": "code",
   "execution_count": 49,
   "id": "authorized-breakdown",
   "metadata": {},
   "outputs": [],
   "source": [
    "import pandas as pd\n",
    "import matplotlib.pyplot as plt\n",
    "import numpy as np"
   ]
  },
  {
   "cell_type": "code",
   "execution_count": 50,
   "id": "frank-withdrawal",
   "metadata": {},
   "outputs": [],
   "source": [
    "x=np.linspace(1,5,num=20)"
   ]
  },
  {
   "cell_type": "code",
   "execution_count": 51,
   "id": "adult-plate",
   "metadata": {},
   "outputs": [
    {
     "data": {
      "text/plain": [
       "array([1.        , 1.21052632, 1.42105263, 1.63157895, 1.84210526,\n",
       "       2.05263158, 2.26315789, 2.47368421, 2.68421053, 2.89473684,\n",
       "       3.10526316, 3.31578947, 3.52631579, 3.73684211, 3.94736842,\n",
       "       4.15789474, 4.36842105, 4.57894737, 4.78947368, 5.        ])"
      ]
     },
     "execution_count": 51,
     "metadata": {},
     "output_type": "execute_result"
    }
   ],
   "source": [
    "x"
   ]
  },
  {
   "cell_type": "code",
   "execution_count": 52,
   "id": "western-birmingham",
   "metadata": {},
   "outputs": [],
   "source": [
    "y=4+2*np.sin(2*x) #np.pi/2=90"
   ]
  },
  {
   "cell_type": "code",
   "execution_count": 53,
   "id": "ranking-luxembourg",
   "metadata": {},
   "outputs": [
    {
     "data": {
      "text/plain": [
       "[<matplotlib.lines.Line2D at 0x254c5201ba8>]"
      ]
     },
     "execution_count": 53,
     "metadata": {},
     "output_type": "execute_result"
    },
    {
     "data": {
      "image/png": "[encoded data removed]",
      "text/plain": [
       "<Figure size 432x288 with 1 Axes>"
      ]
     },
     "metadata": {
      "needs_background": "light"
     },
     "output_type": "display_data"
    }
   ],
   "source": [
    "plt.plot(x)"
   ]
  },
  {
   "cell_type": "code",
   "execution_count": 54,
   "id": "rural-chart",
   "metadata": {},
   "outputs": [
    {
     "data": {
      "text/plain": [
       "[<matplotlib.lines.Line2D at 0x254c5271b00>]"
      ]
     },
     "execution_count": 54,
     "metadata": {},
     "output_type": "execute_result"
    },
    {
     "data": {
      "image/png": "[encoded data removed]",
      "text/plain": [
       "<Figure size 432x288 with 1 Axes>"
      ]
     },
     "metadata": {
      "needs_background": "light"
     },
     "output_type": "display_data"
    }
   ],
   "source": [
    "plt.plot(y)"
   ]
  },
  {
   "cell_type": "code",
   "execution_count": null,
   "id": "listed-queens",
   "metadata": {},
   "outputs": [],
   "source": []
  },
  {
   "cell_type": "code",
   "execution_count": null,
   "id": "similar-blood",
   "metadata": {},
   "outputs": [],
   "source": []
  },
  {
   "cell_type": "code",
   "execution_count": null,
   "id": "buried-magazine",
   "metadata": {},
   "outputs": [],
   "source": []
  }
 ],
 "metadata": {
  "kernelspec": {
   "display_name": "Python 3",
   "language": "python",
   "name": "python3"
  },
  "language_info": {
   "codemirror_mode": {
    "name": "ipython",
    "version": 3
   },
   "file_extension": ".py",
   "mimetype": "text/x-python",
   "name": "python",
   "nbconvert_exporter": "python",
   "pygments_lexer": "ipython3",
   "version": "3.7.0"
  }
 },
 "nbformat": 4,
 "nbformat_minor": 5
}
