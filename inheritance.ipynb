{
 "cells": [
  {
   "cell_type": "code",
   "execution_count": 44,
   "id": "adjusted-canvas",
   "metadata": {},
   "outputs": [],
   "source": [
    "%config Completer.use_jedi = False #this is command used for enable autocompletion in jupyt notebook\n"
   ]
  },
  {
   "cell_type": "code",
   "execution_count": 3,
   "id": "developmental-guitar",
   "metadata": {},
   "outputs": [],
   "source": [
    "class p1:\n",
    "    def __init__(self,a,b):\n",
    "        self.a=a\n",
    "        self.b=b\n",
    "    def meth1(self):\n",
    "        return \"this is method 1\"\n",
    "    def meth2(self):\n",
    "        return \"this is method 2\"\n",
    "class p2(p1):\n",
    "    def __init__(self,c,d):\n",
    "        self.c=c\n",
    "        self.d=d\n",
    "    def meth2(self):\n",
    "        return \"this is method 3\"\n",
    "class child(p2):\n",
    "    def meth3(self):\n",
    "        return \"this is method 4\""
   ]
  },
  {
   "cell_type": "code",
   "execution_count": 5,
   "id": "specific-subscriber",
   "metadata": {},
   "outputs": [],
   "source": [
    "m=child(22,33)"
   ]
  },
  {
   "cell_type": "code",
   "execution_count": 6,
   "id": "supreme-examination",
   "metadata": {},
   "outputs": [
    {
     "data": {
      "text/plain": [
       "'this is method 1'"
      ]
     },
     "execution_count": 6,
     "metadata": {},
     "output_type": "execute_result"
    }
   ],
   "source": [
    "m.meth1()"
   ]
  },
  {
   "cell_type": "code",
   "execution_count": 7,
   "id": "monetary-democracy",
   "metadata": {},
   "outputs": [
    {
     "data": {
      "text/plain": [
       "'this is method 3'"
      ]
     },
     "execution_count": 7,
     "metadata": {},
     "output_type": "execute_result"
    }
   ],
   "source": [
    "m.meth2()"
   ]
  },
  {
   "cell_type": "code",
   "execution_count": 8,
   "id": "superb-spencer",
   "metadata": {},
   "outputs": [
    {
     "data": {
      "text/plain": [
       "'this is method 4'"
      ]
     },
     "execution_count": 8,
     "metadata": {},
     "output_type": "execute_result"
    }
   ],
   "source": [
    "m.meth3()"
   ]
  },
  {
   "cell_type": "code",
   "execution_count": 9,
   "id": "celtic-alpha",
   "metadata": {},
   "outputs": [
    {
     "ename": "AttributeError",
     "evalue": "'child' object has no attribute 'a'",
     "output_type": "error",
     "traceback": [
      "\u001b[1;31m---------------------------------------------------------------------------\u001b[0m",
      "\u001b[1;31mAttributeError\u001b[0m                            Traceback (most recent call last)",
      "\u001b[1;32m<ipython-input-9-f0b741c52f94>\u001b[0m in \u001b[0;36m<module>\u001b[1;34m\u001b[0m\n\u001b[1;32m----> 1\u001b[1;33m \u001b[0mm\u001b[0m\u001b[1;33m.\u001b[0m\u001b[0ma\u001b[0m\u001b[1;33m\u001b[0m\u001b[0m\n\u001b[0m",
      "\u001b[1;31mAttributeError\u001b[0m: 'child' object has no attribute 'a'"
     ]
    }
   ],
   "source": [
    "m.a"
   ]
  },
  {
   "cell_type": "code",
   "execution_count": 14,
   "id": "recorded-seller",
   "metadata": {},
   "outputs": [],
   "source": [
    "class person:\n",
    "    def __init__(self,name,surnam,year):\n",
    "        self.name=name\n",
    "        self.surnam=surnam\n",
    "        self.year=year\n",
    "    def age(self,current_year):\n",
    "        return current_year - self.year\n",
    "    def __str__(self):\n",
    "        return self.name\n",
    "    \n",
    "#The __str__ method in Python represents the class objects as a string – it can be used for classes."
   ]
  },
  {
   "cell_type": "code",
   "execution_count": 15,
   "id": "governing-rochester",
   "metadata": {},
   "outputs": [],
   "source": [
    "per=person('lalit','birla',345)"
   ]
  },
  {
   "cell_type": "code",
   "execution_count": 16,
   "id": "confused-bookmark",
   "metadata": {},
   "outputs": [
    {
     "name": "stdout",
     "output_type": "stream",
     "text": [
      "lalit\n"
     ]
    }
   ],
   "source": [
    "print(per)"
   ]
  },
  {
   "cell_type": "code",
   "execution_count": 36,
   "id": "finite-wiring",
   "metadata": {},
   "outputs": [],
   "source": [
    "class student(person):\n",
    "    def __init__(self,student_id,*args):\n",
    "        super(student,self).__init__(*args)\n",
    "        self.student_id=student_id\n",
    "    def __str__(self):\n",
    "        return self.name + str(self.student_id)\n",
    "        "
   ]
  },
  {
   "cell_type": "code",
   "execution_count": 37,
   "id": "signed-latter",
   "metadata": {},
   "outputs": [],
   "source": [
    "std=student(1223,'lalit','birla',1234)"
   ]
  },
  {
   "cell_type": "code",
   "execution_count": 38,
   "id": "determined-ocean",
   "metadata": {},
   "outputs": [
    {
     "name": "stdout",
     "output_type": "stream",
     "text": [
      "lalit1223\n"
     ]
    }
   ],
   "source": [
    "print(std)"
   ]
  },
  {
   "cell_type": "code",
   "execution_count": 52,
   "id": "stock-estonia",
   "metadata": {},
   "outputs": [],
   "source": [
    "# but above code we do not want to write code self.name in child we want override the __str__ method of person\n",
    "#for this remove self.name from student method with super(student,self).__str__() or with person.__str__(self)"
   ]
  },
  {
   "cell_type": "code",
   "execution_count": 56,
   "id": "employed-identifier",
   "metadata": {},
   "outputs": [],
   "source": [
    "class student1(person):\n",
    "    def __init__(self,student_id,*args):\n",
    "        super(student1,self).__init__(*args)\n",
    "        self.student_id=student_id\n",
    "    def __str__(self):\n",
    "        return super(student1,self).__str__() + str(self.student_id)\n",
    "        "
   ]
  },
  {
   "cell_type": "code",
   "execution_count": null,
   "id": "pending-tactics",
   "metadata": {},
   "outputs": [],
   "source": []
  },
  {
   "cell_type": "code",
   "execution_count": 54,
   "id": "legendary-thing",
   "metadata": {},
   "outputs": [],
   "source": [
    "stud=student1(123,'lalit','birla',234)"
   ]
  },
  {
   "cell_type": "code",
   "execution_count": 55,
   "id": "remarkable-genetics",
   "metadata": {},
   "outputs": [
    {
     "name": "stdout",
     "output_type": "stream",
     "text": [
      "lalit123\n"
     ]
    }
   ],
   "source": [
    "print(stud)"
   ]
  },
  {
   "cell_type": "code",
   "execution_count": null,
   "id": "simple-pointer",
   "metadata": {},
   "outputs": [],
   "source": []
  }
 ],
 "metadata": {
  "kernelspec": {
   "display_name": "Python 3",
   "language": "python",
   "name": "python3"
  },
  "language_info": {
   "codemirror_mode": {
    "name": "ipython",
    "version": 3
   },
   "file_extension": ".py",
   "mimetype": "text/x-python",
   "name": "python",
   "nbconvert_exporter": "python",
   "pygments_lexer": "ipython3",
   "version": "3.7.0"
  }
 },
 "nbformat": 4,
 "nbformat_minor": 5
}
